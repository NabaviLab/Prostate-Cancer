{
 "cells": [
  {
   "cell_type": "code",
   "execution_count": 1,
   "id": "85e38a34",
   "metadata": {},
   "outputs": [
    {
     "name": "stderr",
     "output_type": "stream",
     "text": [
      "C:\\Users\\moham\\anaconda3\\envs\\pytorch\\lib\\site-packages\\tqdm\\auto.py:22: TqdmWarning: IProgress not found. Please update jupyter and ipywidgets. See https://ipywidgets.readthedocs.io/en/stable/user_install.html\n",
      "  from .autonotebook import tqdm as notebook_tqdm\n"
     ]
    }
   ],
   "source": [
    "import os\n",
    "import math\n",
    "import torch\n",
    "import numpy as np\n",
    "import pandas as pd\n",
    "import torch.nn as nn\n",
    "from tqdm import tqdm\n",
    "from torch.utils.data import Dataset, DataLoader\n",
    "from torch.nn.parameter import Parameter\n",
    "from torch.autograd import Variable\n",
    "from sklearn import metrics\n",
    "from sklearn.model_selection import KFold, train_test_split\n",
    "from scipy.stats import pearsonr\n",
    "#from dataset import Dataset, collate_fn\n",
    "SEED = 2333"
   ]
  },
  {
   "cell_type": "code",
   "execution_count": 14,
   "id": "c41a8e34",
   "metadata": {},
   "outputs": [],
   "source": [
    "import os\n",
    "\n",
    "import pickle\n",
    "\n",
    "\n",
    "i = 0\n",
    "\n",
    "feature_dir = 'Feature_vector//Feature_vector//'\n",
    "label_dir = 'Label//Label//'\n",
    "\n",
    "\n",
    "\n",
    "folders = os.listdir(feature_dir)\n",
    "Atomic_wild = []\n",
    "labels = []\n",
    "for i in range(len(folders)):\n",
    "    Atomic_wild.append(pickle.load(open(feature_dir + folders[i] +  '//vectors.pkl'  , \"rb\")))\n",
    "    labels.append(pickle.load(open(label_dir + folders[i] +  '//label.pkl'  , \"rb\"))[0,-1])\n",
    "    \n",
    "\n",
    "#vectors = pickle.load(open(feature_dir + folders[i] +  '//vectors.pkl'  , \"rb\"))\n",
    "\n",
    "#labels = pickle.load(open(label_dir + folders[i] +  '//label.pkl'  , \"rb\"))[0,-1]"
   ]
  },
  {
   "cell_type": "code",
   "execution_count": 10,
   "id": "41341d24",
   "metadata": {},
   "outputs": [],
   "source": [
    "feature_dir = 'Feature_vector//Feature_vector'\n",
    "folders = os.listdir(feature_dir)"
   ]
  },
  {
   "cell_type": "code",
   "execution_count": 16,
   "id": "0b7c74c0",
   "metadata": {},
   "outputs": [
    {
     "data": {
      "text/plain": [
       "719"
      ]
     },
     "execution_count": 16,
     "metadata": {},
     "output_type": "execute_result"
    }
   ],
   "source": [
    "len(Atomic_wild)"
   ]
  },
  {
   "cell_type": "code",
   "execution_count": 17,
   "id": "6e33959e",
   "metadata": {},
   "outputs": [],
   "source": [
    "sequence_names= folders"
   ]
  },
  {
   "cell_type": "code",
   "execution_count": 18,
   "id": "e4bf1f04",
   "metadata": {},
   "outputs": [
    {
     "data": {
      "text/plain": [
       "['0096f71c-7777-417c-8d95-6fa1699879ec',\n",
       " '00be20a3-6ec8-44dd-afac-9085c6a03da9',\n",
       " '00ca6d3f-b495-4711-8ac3-d24175f5ee9f',\n",
       " '00f836a8-9b94-4413-95eb-fd127ee723b2',\n",
       " '01000de7-d0e8-4bb4-9918-4cbcd5bbfa3d',\n",
       " '0108fa63-6200-4896-8da9-0dbbd20998de',\n",
       " '011db747-84f4-4e3e-b446-1b667bef0ea9',\n",
       " '018aaaa8-78db-4341-8811-7356a871a2fe',\n",
       " '0222e12c-539f-4640-8007-fbd625fc0ea8',\n",
       " '024c0ec6-2e01-4640-a71c-6116e3a275ff',\n",
       " '029972c6-45c3-4a08-baf2-82a3b377fb71',\n",
       " '02b9de3a-c7ee-46ff-b0b7-e0561e6b3101',\n",
       " '0309db59-8d00-4c20-b816-015a3576f059',\n",
       " '039256d5-14c1-4057-b535-01416d2ba5ac',\n",
       " '0492d6eb-5192-45ca-949f-958e9f22c29d',\n",
       " '05042790-054b-43ea-a8bc-a8dd524c4627',\n",
       " '05792b42-0953-48ea-a4b1-3e9a1691677b',\n",
       " '0592845a-01d7-4d42-8149-72af28b83c53',\n",
       " '068e7a7f-7db9-4769-8052-33c03e1f7f32',\n",
       " '06a5cbd5-f9f4-466f-9f5a-a3fdea74f270',\n",
       " '07cee6c6-be65-47dd-b1d3-7a3311dec0a6',\n",
       " '07d54db2-b54b-4f87-a281-68f0de5328bb',\n",
       " '0834dfbb-1b2b-4125-a95b-d43a829c6fc7',\n",
       " '084893ca-b836-4824-a9b1-590980679155',\n",
       " '087647cd-4f1c-4ad5-9eea-255fbe9d155e',\n",
       " '08a9f43f-56af-4b9d-92ef-ab84d1da3c2d',\n",
       " '08bdb55b-1452-43d5-a0dd-17bf6ed1f20d',\n",
       " '08dcf6ba-93e5-4268-a640-e100d0ed809d',\n",
       " '08e47f17-7dbc-4ed9-acff-3f350425fcaf',\n",
       " '095967e5-f815-4f3e-8465-ff22f281fa45',\n",
       " '09f585aa-6b44-4de6-bbcc-6e00d464b097',\n",
       " '0b85c908-1b3a-4ba8-9b43-e8720d5a8153',\n",
       " '0c369370-92cc-4537-86aa-6f5b308e67a9',\n",
       " '0d3d6a5f-b438-40d5-981a-e8806b93d4f8',\n",
       " '0e0c4b88-12c2-49ed-985b-b72c73802435',\n",
       " '0eb16a1a-3188-4a91-b6d0-d5ceefe534bb',\n",
       " '0f7de070-ad59-4590-bd05-7ae424c7d288',\n",
       " '0f927cfe-0652-4407-a7b5-159d34683de0',\n",
       " '103aeb15-0017-4dd9-92e9-188b21d86ede',\n",
       " '10da09cf-c6f4-4218-9bf0-0fa8efff343b',\n",
       " '111ab160-35f3-4785-953e-069cf8bfb5fc',\n",
       " '11694a5b-1d87-4429-9f2b-d94de9e1945d',\n",
       " '12f60a5a-3e62-484e-b747-8f22bd54dc87',\n",
       " '131644de-7c52-4ebd-aba6-73876f3c9310',\n",
       " '13b3cd78-1dee-4bda-99e0-f85ca5b9c4d1',\n",
       " '13b4c3f8-e981-422c-a9b9-a5d74bf9abf8',\n",
       " '14a6108c-fa90-49f7-bcc9-0ce4e10c7e35',\n",
       " '14df42e7-338a-46c2-b2c6-fa0fd9434f32',\n",
       " '15b79f4c-24a4-47ce-8bdc-1e813a35f725',\n",
       " '15b9588c-c288-4fce-bc7f-c621214931e6',\n",
       " '15e26b08-d1e2-4c54-9175-32ecb6ff316c',\n",
       " '168506f0-8554-4d80-bb77-bf0d8f90048e',\n",
       " '17389e4d-435f-4a2c-b067-d4caa0be0310',\n",
       " '1827d7c3-3c52-43d9-a4f7-4100c2f4ef54',\n",
       " '18a04933-10fb-4fcd-afef-a8ccc55c0cd5',\n",
       " '18a31fce-4d6d-4cde-8967-eff674e53671',\n",
       " '18d80f57-3862-49b4-9707-b0fc3ab0d65e',\n",
       " '193de45b-ac36-4ae4-8bf2-6c7c67679113',\n",
       " '1944bc00-7a9d-4cb7-a079-0cf43b552358',\n",
       " '1974ab21-1abe-4779-b4b3-d59c31319ac1',\n",
       " '198ad4ee-7387-4ad3-8968-4462de1605be',\n",
       " '1a137762-d63a-4eea-bdbe-3fa70a4d4f78',\n",
       " '1a20fc9b-975e-4ba2-9d79-85ad55fcab5f',\n",
       " '1abf528d-33ff-4096-8122-6ea8b0e76016',\n",
       " '1b4d5fd1-87f5-461a-9634-5b8e8cf6feb0',\n",
       " '1ba53906-55fc-41ba-8356-f71835108305',\n",
       " '1bc2766c-7064-43c7-97cb-5962d3894671',\n",
       " '1bd2eefd-09a2-4706-bfaf-f52f0871a237',\n",
       " '1c919459-65bb-42df-b3b8-6dfeba7baf30',\n",
       " '1d29a715-400c-4bba-b9cc-fea0febd6111',\n",
       " '1d4cd3af-238b-4455-a623-96e4d0d2561f',\n",
       " '1d747cec-d7f8-4f39-9b95-319e5b4b1fe4',\n",
       " '1e410b30-4308-4274-ad9d-32ad1a3a1acd',\n",
       " '1e67507b-d832-4e69-bc0f-71596888f17e',\n",
       " '1e9e1458-3949-4353-b807-9db2d2fbef0a',\n",
       " '1efc27a1-5148-4fa3-bf35-b201c4bfbcaa',\n",
       " '1f7ce88c-64a9-40a1-b004-0d36db42f3d2',\n",
       " '203ea848-7529-46aa-8c39-74f7179331ae',\n",
       " '2084ac0d-2e3c-4752-aef0-1dcb5c21bf60',\n",
       " '2091c896-82af-4bb7-8f52-b4c2ad18247c',\n",
       " '20fee762-b432-4986-8f09-130f714f4410',\n",
       " '21955b93-20cc-4c34-b361-1307e9382911',\n",
       " '21a7767a-89fd-4721-a15d-d489d1f31660',\n",
       " '21f3c2e9-0702-4cd0-a09e-a77e391f2fcc',\n",
       " '226bc945-5ed6-4e55-baad-6bc14bbbc5b2',\n",
       " '22f13f09-3270-46dd-b049-7270efa0a6e9',\n",
       " '23d0aa4d-a72f-4bd0-ab2e-41880fae8c6b',\n",
       " '23dfb0c5-b1ce-4b41-bd10-77eda9168d5f',\n",
       " '2446e604-9e6e-4159-b152-bdce575fe341',\n",
       " '2494142f-9928-4bd3-a49f-3f048c872edf',\n",
       " '24aa0c4d-712b-4fba-931f-1374515f30c7',\n",
       " '25d439ee-e64f-4a87-b9a5-4072df378bbd',\n",
       " '25e12905-06be-418a-9af6-a7cb09662774',\n",
       " '25e1c4f7-7908-4e34-907e-02c87fdb07a8',\n",
       " '267f55dc-1b11-48fc-8a46-9e1a709d4d21',\n",
       " '273fe42d-968e-43d5-b910-a397d7dfa58e',\n",
       " '27466f8d-26d5-4912-8411-392f499f31be',\n",
       " '27bc8380-1dfe-4cfb-84cd-eb57c52ee0df',\n",
       " '29616b16-43b8-4413-b1d8-3fef02fa3b27',\n",
       " '29d9f50f-f2f5-44d1-8b18-fe23d06ce86b',\n",
       " '2a554fc1-c8bf-488a-9bc2-6cf46fec484d',\n",
       " '2a722e06-936a-45cf-9634-c301ec78f02a',\n",
       " '2b064962-e664-4c38-b277-06e61bebe700',\n",
       " '2b321b58-acc4-47ba-8b11-d5670c6a2982',\n",
       " '2b5ffc42-c933-436d-a0f1-5f158e6e2560',\n",
       " '2bcc9b80-a5ed-4769-b17d-3f3a30bae701',\n",
       " '2bd4fbe3-5dee-460c-9d80-ca2fde35d96c',\n",
       " '2c0da224-f199-499f-8c36-8c50f52b03c7',\n",
       " '2c0f6db9-c195-4aa8-b862-7d07f8b55520',\n",
       " '2cd2cd10-f34c-4687-bb76-b4102454e870',\n",
       " '2d5a698e-c9d4-42b0-a9ad-ca5f6ad4b9c8',\n",
       " '2d5c3f16-d3be-4580-a288-d61db7839607',\n",
       " '2d74619d-5660-435c-874e-7461f50a9c88',\n",
       " '2e1f0b99-4fec-4476-a334-e3a9aa8f6071',\n",
       " '2e731124-2cb6-4b1a-82f5-bb04f2730f1d',\n",
       " '2ebb9cac-fcc5-4faa-8bd9-cdda95a742de',\n",
       " '2ec7135c-0707-4a2d-b377-efdf0ba1167c',\n",
       " '2eca1396-71df-4698-a2e9-aa2586fde850',\n",
       " '2f751442-8364-491e-92b1-f575d61e81b7',\n",
       " '2fd6b939-1636-4615-b42c-a145280d5ecf',\n",
       " '2fde03f9-03fe-4b39-a408-a8a3d41a53f1',\n",
       " '303882d0-8104-4c89-9b76-e99ea8437df0',\n",
       " '30514029-105c-4a21-8b66-899a5945666f',\n",
       " '305e4f0c-e30c-4937-a4b1-9c2714c45f28',\n",
       " '30d69d48-4aab-4371-b75f-1c1a93690267',\n",
       " '312fe358-1806-4c32-bdb3-5e3bdc4b6432',\n",
       " '31d4d7d8-7171-466f-b5da-2630025665ad',\n",
       " '31fa2c04-531f-41de-b9cb-4752004c8feb',\n",
       " '32f1b7d4-7c0f-4bda-ad87-0a4cd58ec554',\n",
       " '3364b59e-05f6-4570-a4fc-31da5f1e7a70',\n",
       " '33d9d997-bf3c-4284-9f85-d43a3a422a9c',\n",
       " '33f374b9-6d0c-4af4-92d9-5cdc44ef0bfc',\n",
       " '3404c93c-6af5-4637-a19d-ba4d09774f45',\n",
       " '344c94f5-830b-46bf-a1f4-06f340ec8389',\n",
       " '3598284d-8dae-42d9-98fc-a4046fd81a25',\n",
       " '35ac77cc-3015-4786-a24c-e95a88b26b48',\n",
       " '35ebddcf-c9b4-44c7-9851-74aea1ecd9d6',\n",
       " '3602c7ae-9a0a-470a-8f47-475b51073f00',\n",
       " '360ee0e9-1081-4231-84ff-dc051bbdc681',\n",
       " '3644ede2-bb37-4465-b594-2f7d34e2c591',\n",
       " '3696b764-8743-4a91-a31d-5b8fe44468cc',\n",
       " '37191778-6d34-44bc-af59-60a4abaed6e3',\n",
       " '37386f57-b55e-435e-b900-de4368af9330',\n",
       " '37d6ad76-7ca1-4862-9243-84b2affc24d3',\n",
       " '37eb62a5-9e49-42dc-8d74-ffc4336efe96',\n",
       " '385434ed-b4bb-4c93-8bd0-b14ce5ccfe64',\n",
       " '3868f29a-cb36-4bd7-b6f9-0f4cb1b0081a',\n",
       " '38c7d66a-4990-4b0b-b9c8-b25bedb93ff5',\n",
       " '38d7a823-1ce0-44d9-8444-f9e047e13af9',\n",
       " '39f62761-c854-40d2-b444-6e4da270dc93',\n",
       " '3a485ed7-663b-490e-83e7-c9852794b654',\n",
       " '3a7e6ab1-b5a4-4c50-8f93-50d7129b079a',\n",
       " '3af1e455-cc6a-4a6a-9355-78a5325f1fa3',\n",
       " '3b2bd8a9-9952-40a3-ae4a-be957b21a8b8',\n",
       " '3b365e99-2ceb-4d07-b0ae-38bbde00fcf0',\n",
       " '3b3cf680-3168-4c2b-911c-5551767cbb65',\n",
       " '3bdec4b8-04e7-4d0a-a5d5-0c61fffcc2df',\n",
       " '3c2f95be-9f0a-4565-9543-33fe19ac51e3',\n",
       " '3c6ad57d-b81e-43cd-89bd-b85af70feadc',\n",
       " '3c78ad97-4677-4785-b4a7-421153a2437b',\n",
       " '3ce104f8-e37f-4818-9746-d2de0c1dcb52',\n",
       " '3d781d36-3402-4c13-8e3d-be40673ff335',\n",
       " '3dc6c7d6-6b89-4383-8d66-cad6397c0731',\n",
       " '3e54e24d-dbbc-4bc4-a929-63229b95df89',\n",
       " '3ea2e1a5-00dc-4e36-b347-44a495241cdf',\n",
       " '3ed6d0c8-a032-43f3-8bd6-ab5542401659',\n",
       " '3ee44b69-28af-4097-b74a-3dfc92380b34',\n",
       " '3f5379cf-f2dd-44ce-81d4-c8b0a9cb9498',\n",
       " '3f72edf6-f8ea-4cd1-b355-d671595c8e6d',\n",
       " '3f8d02df-7f3a-48d0-a107-8e30eb70a16d',\n",
       " '3f99f8d1-e352-4efd-b41f-595f8b734b54',\n",
       " '3fc559c2-43e5-4bb5-bd5a-748c5479d6c1',\n",
       " '4013f7ce-1b6d-4ab6-8ef3-340f7f97c8a4',\n",
       " '404a2e21-9a13-4a34-9fc7-19cee7d283e3',\n",
       " '406b7d78-6a78-4d0b-99a4-756fdf4430ad',\n",
       " '40fedaa3-e193-47bb-a7d7-c5debcfd27c4',\n",
       " '4112ee34-a251-4894-9e7c-9ff93f0189ec',\n",
       " '41bf40e9-f1fe-4650-88bd-c47ff442d62d',\n",
       " '42023af6-fa68-40d3-a834-82b91a791814',\n",
       " '442b562c-492a-40ca-be2d-bb5031f6d1b1',\n",
       " '44588f3f-1623-4f08-b076-a876efb85fb5',\n",
       " '45352720-2f67-407b-b34b-125d740cbe7d',\n",
       " '453644f8-e0c5-4971-85f3-f9c7f00d5eb1',\n",
       " '453f0342-5b92-434c-939d-f12d872d7821',\n",
       " '45c0fb01-9245-4dfe-ad74-d2dab064edc3',\n",
       " '46b7306b-a480-4527-9181-78652dba4f16',\n",
       " '46cff727-fedf-4441-9fe5-88e6c525c8dd',\n",
       " '46f14c3c-645b-4c5e-871f-b057c7622444',\n",
       " '470f351d-6b48-49a2-a939-18f46592e4db',\n",
       " '4722bcbd-0a36-475e-9e08-d61986c8dd96',\n",
       " '4792191a-0fee-4c70-b39a-b4c7a184bb31',\n",
       " '47e080ae-126f-4bf4-b321-2137dcec0c49',\n",
       " '47e9ea06-e3e5-45a6-a350-acaa5aa16f39',\n",
       " '480ae16f-a490-4c5f-aaa0-40dedd5fe76c',\n",
       " '4873068c-f041-4fe2-be4a-c54b5c490730',\n",
       " '491205dd-2463-47ee-a1cd-764cedf59f2f',\n",
       " '493fc11a-88dc-427f-a480-700fea867ba3',\n",
       " '4a119c17-bddb-4378-a725-cff5b678bd01',\n",
       " '4acd78a0-61c7-45ee-a6ab-08c7613a7dd4',\n",
       " '4ae5ab7e-d2cf-4136-85d9-7d7b92fc01b0',\n",
       " '4ae94cb2-d0f5-4f3a-b9c9-94e3fc07231c',\n",
       " '4b362200-59b6-4dc3-baa0-0cd1530c4d67',\n",
       " '4b7c0835-7552-4e64-a5e0-c7a7cf9f3a70',\n",
       " '4c8b6653-3ed7-4b32-a70e-beb371951ad0',\n",
       " '4cc92707-f27b-455d-8af1-b7f0837a39f0',\n",
       " '4dfdf0e8-20fc-4ad6-b143-238dd5203e33',\n",
       " '4e25087b-7098-4f5d-8e4f-2cca862a5b9f',\n",
       " '4e955ee5-3c29-4ae4-9b28-12eb490fb02b',\n",
       " '4ecb28e7-5ae2-42a8-ace8-272af13542c1',\n",
       " '4f19e5b7-7104-472d-b40c-08f03d581c8b',\n",
       " '4fb9364c-949e-499c-a7f2-ba1b036ce9e3',\n",
       " '4fc5230c-259b-413d-81e6-379ff6309037',\n",
       " '4ff5e741-3dff-4f1d-93c0-82c15174f4bd',\n",
       " '506c6353-4f87-49a1-8b5d-210ba1d0d845',\n",
       " '5124073a-d3bb-4a86-8e8e-1a7498f41afe',\n",
       " '51799792-9488-458e-9155-8dbe58715f6d',\n",
       " '518731c0-afee-489e-9bf5-d81d1bbe23f5',\n",
       " '51e02e02-ec7f-43e4-b792-8edce31e3bb5',\n",
       " '52355d14-b5b5-4b4e-8c2a-b421166565ee',\n",
       " '5267506d-9d4c-4f24-8600-0547c9bbb2fd',\n",
       " '52f67256-ed28-41ed-8bd6-fbce689ad508',\n",
       " '537780b9-6b50-401a-b820-b650ffbf98c3',\n",
       " '53936b8e-8aea-4f36-94a4-274c4c0064c0',\n",
       " '53ed7161-8d17-486d-b60e-acce5876376e',\n",
       " '5437e91e-1ef4-4d81-a90e-3e6fa9b76e64',\n",
       " '5493ee74-42bb-4aa9-9c7a-7aacb84fbac2',\n",
       " '54b4ac72-67d3-4844-8dd2-f0ed81896291',\n",
       " '55ff8b25-39e9-41df-90e4-15eb028fc768',\n",
       " '56c8b100-b9f0-416a-8056-1a32671a98cc',\n",
       " '56ef22c5-26c1-4f69-b1f6-1c0030dd1adc',\n",
       " '571bf9ae-b5f4-410d-a9da-91c5b6970fbc',\n",
       " '575289a9-644c-4558-9bf9-bae23887e3a5',\n",
       " '57633cf4-3549-4c37-a1fa-381a21d8b705',\n",
       " '5784c08e-e2c6-4422-89dd-9f86384153f5',\n",
       " '5799926c-3a38-476c-959f-f8802c0c4c5f',\n",
       " '57dc87b2-9bc9-4fcb-ba52-c3ac236b6836',\n",
       " '57f5bb58-88fc-4de2-b2f6-58677d097d05',\n",
       " '580ba4d7-654f-484b-8e07-7f1f793c2d13',\n",
       " '58176723-1797-48c5-bbef-fde17ae6e49d',\n",
       " '5840e180-ebe3-462c-8140-13767d1ae223',\n",
       " '584d841c-491a-40b1-9374-2acff391fd31',\n",
       " '58a6f101-2389-43ea-933d-8a85cd352b30',\n",
       " '592821eb-2e41-45d2-a1c8-8b0695c5800b',\n",
       " '5a292ecb-bd2c-4364-858f-27f6f6b25d4c',\n",
       " '5a64c131-01f2-4b87-b8de-084b7287ffc5',\n",
       " '5a8ce04a-0178-49e2-904c-30e21fb4e41e',\n",
       " '5ab550b5-6e91-4c4a-a788-8af633c7a182',\n",
       " '5af6523b-86d5-465b-8639-352b543fa8cf',\n",
       " '5b048d8c-ec88-4bf0-90ee-65743e726b6d',\n",
       " '5b0e4e42-c138-4115-8e5a-1c943c874007',\n",
       " '5b5a68e6-ee11-4310-b1dd-5041f3d5ddf0',\n",
       " '5b698086-a375-40ad-b3e7-4b922de232a2',\n",
       " '5bb98872-4936-488f-9089-6e23bc3b682e',\n",
       " '5bd26fd1-3798-4c31-a9eb-112158fd7bd3',\n",
       " '5bde3e02-2e71-4334-b4ae-d9af78fd2804',\n",
       " '5cb1333c-cba2-4408-98b2-e6dc4f7b2dd0',\n",
       " '5d512764-16db-4b91-8e15-33bb64fa4836',\n",
       " '5d88dfdb-cdea-4812-9214-c73e596c3844',\n",
       " '5db999e4-c084-4d26-9d96-26aa71b0fcce',\n",
       " '5e2f25f0-d4fb-4403-9af5-ca51b9b581a2',\n",
       " '5e425561-711c-4235-a4c9-2668877aacd8',\n",
       " '5e44da1e-8cc7-4aa3-940c-60dfa516e06b',\n",
       " '5f0bbf3d-5b6a-4f19-8c07-a317f34ce114',\n",
       " '5f234ce0-2241-4005-be93-cdc8c55fc100',\n",
       " '5f70570e-4246-4dfb-9eef-51ab0062b9c7',\n",
       " '6004c125-25be-47b8-a240-5c61c6babb8b',\n",
       " '6016b97a-6f5d-4770-aa2f-6811dfaa9d04',\n",
       " '60364f9a-233e-46af-9fcb-9dca99dfbc6a',\n",
       " '617333f1-fe8a-4fd8-b18f-7df60741883e',\n",
       " '61c6191d-2d38-48d5-b4aa-201e5c193d45',\n",
       " '6201da57-3142-4d34-b22f-62012142c7de',\n",
       " '625c143c-40c9-400e-8363-e268a60205b3',\n",
       " '6318e1f2-87b0-4b9f-9162-23fb837d419b',\n",
       " '640e11a8-ef7b-4fb2-a3fe-b91a592302ae',\n",
       " '6440c1d3-dd7f-4992-b0c9-9bb2c3bfcd53',\n",
       " '648172c2-dd11-48d5-a137-89a0fabe752c',\n",
       " '64f1d015-46e2-4ea8-8c6b-0dd7cd64f71a',\n",
       " '64fb0e37-942b-4573-8f11-4e08705fc502',\n",
       " '658b4e3f-5c3b-473a-8070-822aaa2db27e',\n",
       " '65f26a9a-43b7-4afd-98ae-e82b9d1af470',\n",
       " '666a2efe-6ba0-4a71-a97c-c8e5b6db6539',\n",
       " '66eb1877-56ad-49ab-9f63-5c410ae8ea36',\n",
       " '67fc5e5c-bddf-4f51-8675-19def7e901e2',\n",
       " '68129f6f-8538-429b-aeef-7540604dd0a5',\n",
       " '6882d29d-d067-4cf9-9f97-2cfc2f182f64',\n",
       " '695cea0d-de75-4be3-9793-31082612e83d',\n",
       " '69e918e0-b368-48a0-a6da-e19246f45a05',\n",
       " '6a43f45f-5359-4f92-8c5d-d3df50240949',\n",
       " '6c22a955-5df2-4675-856e-80f8385de454',\n",
       " '6d4a2e9d-166d-4289-aaf9-cb1e368a0138',\n",
       " '6db9a1ee-a11b-4ed4-b1d3-35150ac993a8',\n",
       " '6df9a90e-3a1d-4f69-99b1-58fd51540499',\n",
       " '6e5784a1-9352-4300-97ae-04ee9e94b26d',\n",
       " '6e63eb4f-3f90-49e5-8934-2f24a01edba0',\n",
       " '6edcfc22-f67d-4088-8b78-05a9f80f93ce',\n",
       " '6f30df6c-fedf-484e-8a10-e3b320856c57',\n",
       " '700fca9a-cf58-497d-afa9-5fcbe93a7072',\n",
       " '70296299-2188-43e3-a9d3-7b98f6577293',\n",
       " '7080e2db-3555-4ee0-9e81-223ede3eb3f4',\n",
       " '70a2e6d0-dc1e-4bfd-a811-1ccb1ef4ade8',\n",
       " '70b59902-29a0-457a-a317-b07594e64da8',\n",
       " '721b801b-bcae-4ab1-8a1d-a37786b8a0ab',\n",
       " '7243386e-049f-4e1f-8200-d6d03e5cd585',\n",
       " '724d587e-0a52-44a0-b99f-18c6de4ad490',\n",
       " '72c12ccf-b587-4f05-90a0-3d84fc97cebc',\n",
       " '72d8ca6a-8870-41ed-baec-7eb7f70414d4',\n",
       " '730e62c9-9848-4160-aff5-3afe6fc7879f',\n",
       " '734a729d-98fc-47e3-89c3-a8bfc0dbc5d8',\n",
       " '73a6de59-8dfe-4ff7-9faa-f15878c430b4',\n",
       " '748ab742-d96f-4e23-9735-4af1950dd11c',\n",
       " '74e949c2-5dc3-4f4f-bbaa-20bec3d31cca',\n",
       " '75072757-c819-4bf6-b0d0-c61fb015cd27',\n",
       " '755794e9-ea4c-406b-a824-ed394ca6bef9',\n",
       " '75808def-92fe-4ab4-b79f-6676971afef7',\n",
       " '75e5fb4a-c860-4e27-83ac-e6a890f26697',\n",
       " '75edca7a-6c4e-49b8-bd1f-b722a7c48a86',\n",
       " '762b82e2-c222-4f4d-88e8-a2cbbdd090bf',\n",
       " '764713f9-4951-4fb2-a16d-92f0bd3ecd90',\n",
       " '7710be26-5f8c-4774-80bd-65202d3981c4',\n",
       " '7776de6a-b69b-4b8a-82e1-2f522ed43321',\n",
       " '7792df0f-ea3f-458f-b6b0-8e981f23002e',\n",
       " '77e30592-8d6c-4a40-977f-b9ce19257be3',\n",
       " '77fcf91a-0d4a-48b2-a000-874c28342711',\n",
       " '78603e7a-0a09-4dc1-98e4-d7d985c9ca84',\n",
       " '78a96030-cff4-42fd-a3b0-4ff06b2c1eac',\n",
       " '796d9772-ed67-4735-8d3a-e694c1510b00',\n",
       " '797accfd-f67e-44dd-85b7-e0dfa0c74183',\n",
       " '79897401-15c9-4190-b32b-0daeefac19db',\n",
       " '79925de9-86ec-4780-abfd-3d479da56a3d',\n",
       " '79cc35ae-e087-43e4-bf29-fabc905801b5',\n",
       " '7a2f1cc7-aa5d-41b5-a0b5-75da10881eb4',\n",
       " '7a45f920-13c8-407b-891f-ab1fc45fac89',\n",
       " '7a7ac168-af14-4ee6-bcf9-d2aae8bedec5',\n",
       " '7b0c54ed-810a-4732-82e2-154b18b17ae3',\n",
       " '7b867216-1f86-4355-b1f0-026794b68b32',\n",
       " '7c02e4b8-412c-4c04-a1b3-137eeb922553',\n",
       " '7c4cfada-b44a-4b07-9a15-4dcd27b81b8e',\n",
       " '7d175ecf-11a3-46cf-9258-ce1b62ddc3e6',\n",
       " '7d3cc381-0eb8-4fc7-8c94-bcd391c26859',\n",
       " '7dc8ba73-6a13-4bc2-b842-d8ea22d59d7d',\n",
       " '7df1ea4e-a1d7-4af5-8435-e9dd2fad1ee7',\n",
       " '7df986bd-876b-4608-8612-30c04ca0005a',\n",
       " '7e8aeb48-c936-43ab-8d97-1f4254b79259',\n",
       " '7eb4380f-20a3-4861-a932-e7de88e9335e',\n",
       " '7efbd793-bca9-4656-908a-384e7678b47e',\n",
       " '7f5beb6c-d10b-4496-8cc0-21ff50842af3',\n",
       " '7fd228e0-cd62-45fa-933c-7aeaf1bba52e',\n",
       " '7fd6a737-d701-4a6e-801e-d07ae973bead',\n",
       " '7ff710e4-2651-40bb-a083-4f6709e1c0a3',\n",
       " '80a707aa-7c40-458e-8bf3-0e57adad469b',\n",
       " '80b4855e-6b5d-49c9-b14b-25d84dc10631',\n",
       " '80b5b517-a3b2-4d41-b6bc-9541631309b6',\n",
       " '80bcd951-c137-46a5-ba84-28ea26ee52c9',\n",
       " '80d32492-e5f4-4cef-9441-b8043beb54dd',\n",
       " '81037cf1-7fc7-4a10-a0b9-d67a63cf4e4f',\n",
       " '81360f65-80bb-45aa-b747-25b4eb218d47',\n",
       " '8181030a-7203-4ec0-9d01-c18a2f4f8788',\n",
       " '828608cd-3bad-489d-99b0-a4a24623654e',\n",
       " '82f4cbfa-1010-436c-a078-662274a61be4',\n",
       " '82fbb24f-2eb2-4448-8a1a-b93f5433a5a8',\n",
       " '830de919-e691-4f2d-8a75-48edc4e0ed22',\n",
       " '837770b0-e407-4993-b111-02ba5f5a80d1',\n",
       " '8387149a-7061-4321-8d19-ae9a81ba7438',\n",
       " '839ba623-1fbc-4966-8728-66af2838249e',\n",
       " '853ec5b1-da8a-4c36-80f9-e2c9a078477f',\n",
       " '85d6608d-3d5a-4e65-acf1-a2061c25ed6d',\n",
       " '86175210-b878-48e3-b72c-61ea5600e07f',\n",
       " '86c7c5c9-d6d6-4903-8328-94e06699d3b8',\n",
       " '86cee5e7-7e7f-4cc6-aff8-e462318f31eb',\n",
       " '8743cb7e-f73c-434d-956b-5b4dbe38042a',\n",
       " '87a523f0-89c6-4a00-bf7e-773fbc5635e0',\n",
       " '886ea3fa-1d17-4baf-83c2-96160778e9f4',\n",
       " '8879c006-58d6-448a-8c9e-80ee695bb99f',\n",
       " '88c4a214-66ea-4799-a401-39296fac72d9',\n",
       " '892bf401-10dc-4058-9507-4b698f5b44b6',\n",
       " '892ea73e-049d-43ef-93db-38655d10b6d5',\n",
       " '8a121643-3c86-4c58-8a4d-d3eb6efaf0c0',\n",
       " '8a24ff0d-6ba0-42cb-991a-290c09bba035',\n",
       " '8a4eecaf-da52-4183-b687-85a335ca8254',\n",
       " '8b83a8fd-961e-49de-9386-2ee425b1bf8f',\n",
       " '8bca2a22-9f6e-441c-8f2f-76f1dd96cf3e',\n",
       " '8c171c38-f8b3-4e6a-8614-a13eed669aed',\n",
       " '8c1ba26c-35ad-49a1-b870-90b6e94afcd7',\n",
       " '8c855a84-5df0-4d16-9b95-abf4c9c982b2',\n",
       " '8cb72a3e-f849-4f48-8e9f-6ab1bc724852',\n",
       " '8ce72e4c-4343-4652-b8b7-0993e7df653c',\n",
       " '8d28e4b5-e7b9-4ebf-a503-1a3230ab2b4c',\n",
       " '8dc140c3-7a27-4b8f-a02b-4f4d7b9b47f8',\n",
       " '8defcf26-d7f6-4f2a-a2e0-dcbfe9479bd9',\n",
       " '8e3c672a-057a-4377-a9df-ebad6c93a6b2',\n",
       " '8e478661-4668-4109-901b-21b599055ee0',\n",
       " '8e7eac46-ce9a-4c33-9222-d11e099037b5',\n",
       " '8ec70cbe-ac55-47d6-8921-f23ea4a0162c',\n",
       " '8eccc535-5112-4653-9f96-100826892d63',\n",
       " '8ece8d55-0a8d-4262-85d7-e9cfac67e345',\n",
       " '8f2f71d6-1192-4fa4-86e6-f9f1b9cb90cf',\n",
       " '8fbb82b1-fd3f-466e-81f6-70805f5f70f4',\n",
       " '8fc41210-057e-4df9-80e9-4f6852fad027',\n",
       " '90ef6cda-97c3-4862-ab63-273a2f79412f',\n",
       " '9136cefb-6c5c-47d8-95c3-4451170be628',\n",
       " '9147c3ab-9792-4386-a978-debcc3a7e031',\n",
       " '91833fba-48e5-45f6-aba5-2a46f3e626c7',\n",
       " '91d05e47-e105-4347-88b1-ae6879a4ce8e',\n",
       " '925a3b7b-5b2e-45e6-86fa-66f9e0b789d1',\n",
       " '934ab23d-45ed-4123-9661-2df1eb9e31ef',\n",
       " '9413caab-462f-481c-8fcb-73c6c826445e',\n",
       " '943c9cba-add1-46ff-ab67-04b638fee4e7',\n",
       " '944697d1-bcc6-4266-9358-ca11d0bcee93',\n",
       " '946890f8-7cf4-41ba-ac70-f6782c6aeb1d',\n",
       " '94cf4417-41d5-4787-9025-8e0ca9a9b9c2',\n",
       " '9577aed4-9d4e-434d-9cce-9fd4a7b35de3',\n",
       " '95f4308e-bcd6-4866-8ee6-36cd79f9c2a3',\n",
       " '95fca450-77a6-4c72-994a-ab3857354888',\n",
       " '961c3202-0867-4f12-9855-c799e9d4cb3e',\n",
       " '965ed086-9783-493f-a57c-3dfaa18a6530',\n",
       " '96d2b110-28e0-4c2c-b729-326b6f2cbe65',\n",
       " '96e5a5e8-4bd5-4e62-8184-e7f0d44cbbe3',\n",
       " '96f211c4-2a90-46a0-8c34-e025e212b229',\n",
       " '97b3bcf5-6a96-464a-a5ae-fe92872e48ef',\n",
       " '97bef2b6-d6b6-4b21-9a67-33e810959d71',\n",
       " '986b2072-19e6-435e-b0b0-760d5531ca75',\n",
       " '990ccd2c-c2c1-4bc2-8a69-4fc745ea6d26',\n",
       " '99733ebe-6632-49a8-98af-31c0ed37c5d2',\n",
       " '9987362b-02bb-4df7-a187-45ab9c1440ed',\n",
       " '9ad87dca-a98d-45e3-a45f-8ec43ee5539d',\n",
       " '9b0d517c-772c-467a-973f-5b30201e63f3',\n",
       " '9b95fef0-85ea-4cb8-8011-1eeb81e65394',\n",
       " '9c569052-fac0-4896-8198-96bc9d6ffc00',\n",
       " '9cc983a1-27b2-4857-8c3a-371ffc446d6c',\n",
       " '9d612323-0a8f-43a7-b109-2795d00eef1f',\n",
       " '9e3edde9-5675-4177-892e-9e58fd0ad029',\n",
       " '9f3c5cae-38ec-4344-883d-a1cbd7014939',\n",
       " '9f85229c-6cf7-41b0-9769-0bd608fcc5b4',\n",
       " '9fa3e820-f7cb-4602-b53c-956414de3b61',\n",
       " '9ffd72ed-83ed-440e-a6fd-8021a51fec5c',\n",
       " 'a009c8b0-79fc-43cf-838f-c3e9c97ac637',\n",
       " 'a07a55c2-60b6-4f5c-8a30-e4385f930e04',\n",
       " 'a0a42738-fa44-4fae-8db3-0112925690a7',\n",
       " 'a15d16dc-ec94-4f6b-af7b-4f2bd0a49f14',\n",
       " 'a1b49218-3789-497e-a5d0-f8a9d812e81f',\n",
       " 'a1ddeb33-8496-4bf4-b0e5-8e54365adaa2',\n",
       " 'a1f56025-91a6-4458-84ef-f265ba90d1ae',\n",
       " 'a25a44a9-26b3-472a-8ec4-a8aecbc09880',\n",
       " 'a25c9414-be17-43d0-900f-e49aae28b932',\n",
       " 'a27c4a3a-2980-4d22-bd2a-9d543b848b21',\n",
       " 'a2822d02-ed20-4ff7-845b-3d12d3ab22fe',\n",
       " 'a2aac1c3-4e3a-478e-9780-aa3de99498e6',\n",
       " 'a34d2caa-d90f-4d35-ac33-c49ab20cff86',\n",
       " 'a38b051b-48a5-4506-9581-d3bc7d7d4958',\n",
       " 'a3d6e55c-4791-43d8-91c7-99d1e9b360f8',\n",
       " 'a42b51f9-1d39-49ca-9eb7-cf5b75888991',\n",
       " 'a44caa21-57d9-48a9-96b3-5a7d85db5135',\n",
       " 'a46373ca-e3e5-4e7b-b9ad-8bfaac1078d6',\n",
       " 'a4c60c89-64e0-45b3-924b-2485a89a0385',\n",
       " 'a4d16daf-5f30-42bb-8ad7-5b3e02d0c7c4',\n",
       " 'a4e428e4-f6f0-4a3f-86aa-b08efa15b289',\n",
       " 'a50460be-ec11-4d86-aa14-491cc21fe0ab',\n",
       " 'a5a82371-2fc7-47fb-a594-6952ecec1e22',\n",
       " 'a6064f85-52df-4fa0-b709-718a3e7e0953',\n",
       " 'a635d33b-9d28-485d-a06f-690f55fe1262',\n",
       " 'a63ef3c0-3896-47ef-95a9-11bd58a11cf5',\n",
       " 'a6d98c7c-6081-466c-a7c2-442cf47e928c',\n",
       " 'a723abe7-aaf8-41e9-89d9-813221d3f1ce',\n",
       " 'a7b82bb0-f4b3-409c-a31c-23252d0e16f6',\n",
       " 'a880f578-b579-4473-8d14-67e6a1070e9a',\n",
       " 'a9985dc5-5a98-4d10-927e-f1566be70289',\n",
       " 'a9dfd503-aae2-4611-9517-0a5a166d4fc6',\n",
       " 'a9ff1479-62b1-44e9-90ce-098c9f6200c4',\n",
       " 'a9ffd66c-14b0-4b2e-97d2-f0ded9308c7b',\n",
       " 'aa1f93ea-8f6e-4dca-9ca0-96dc157968e0',\n",
       " 'aa548ee3-3bdf-4049-b70e-be4a55303cd1',\n",
       " 'aa7bc432-1eaf-4b59-8f5d-9753cce96849',\n",
       " 'aadf19fb-7ea5-4b6d-aa61-44f0516f4377',\n",
       " 'ab1324fa-c952-46b4-977c-4fe63e773375',\n",
       " 'ac1649cd-7172-4050-841d-e4f674edf0c0',\n",
       " 'ac2bd751-b99b-452f-a900-66c16977d572',\n",
       " 'ac450438-a304-4364-9407-e398ccdbcf66',\n",
       " 'ac9866df-ebc1-4bad-895a-d4c9647e4e05',\n",
       " 'ac9b4786-003d-479c-ae3e-d788c64afaff',\n",
       " 'ac9d66f3-d348-4e61-81af-4931f60dc28b',\n",
       " 'acb2d138-90ad-4c8a-adf4-9e699dcb466e',\n",
       " 'acf8a345-7e5a-416d-b40e-01054cea00d1',\n",
       " 'ad3ec441-ab39-4aa2-821a-a174f137f765',\n",
       " 'ad493d4a-bdcd-4de8-be37-b732c2b29b56',\n",
       " 'add0af8d-d3f5-417e-85c0-b94f66e56879',\n",
       " 'adeb68cb-44c3-4233-b3dc-dc6362f8ad05',\n",
       " 'adee7e6f-8137-477d-8c50-5c07099ef1bc',\n",
       " 'ae543e4c-bcd5-4465-b2f7-54045fe8c340',\n",
       " 'ae5ef389-c1ae-492e-aeea-ce7975490f32',\n",
       " 'ae631744-5862-4e72-b34a-e99f638b738a',\n",
       " 'ae8ac68a-1377-4e44-adfa-cdb3b3de6cdf',\n",
       " 'b0812e03-45e4-4b14-a36d-23da0d09036c',\n",
       " 'b0e5faa5-02bc-409c-ae4d-f945481a1d30',\n",
       " 'b2055d3b-e409-41f9-a04a-3939832e2a28',\n",
       " 'b2271203-813d-4ed9-b682-ab3449bb15ba',\n",
       " 'b28d73cf-1e38-4baa-973b-c3da2a4b33a8',\n",
       " 'b2bb0bd8-b864-4b88-937b-038266f80616',\n",
       " 'b2bd3e1d-11b6-4ec6-8dba-491faa4b094f',\n",
       " 'b2e4a8ec-aa7f-4843-8c43-1fbd5a91712c',\n",
       " 'b38c5cb7-a39f-4935-975a-84e7c66c148a',\n",
       " 'b3b66fd6-1901-472e-8d64-4a7a37dc2358',\n",
       " 'b42dc93d-9f35-40db-ad05-3e185db1ed38',\n",
       " 'b46c03d1-2a1b-4c26-9d6d-fa076e1faf43',\n",
       " 'b4a895b6-9283-4f05-86bd-691ac1392f40',\n",
       " 'b56bd518-abfd-4b16-80a9-ab25e24b4326',\n",
       " 'b5d6a002-2a77-4cda-8067-e709b0484b77',\n",
       " 'b6affdc7-2d6b-465a-841d-dc6bbb33b90d',\n",
       " 'b7ac3374-c548-4a00-9f7c-fed41d0f7476',\n",
       " 'b7dd2562-7653-466e-b007-ff90241d9d28',\n",
       " 'b7fa33a0-f97b-458c-b9c9-191ffbcd815b',\n",
       " 'b8725079-453e-47c9-b477-c5398cc27664',\n",
       " 'b8d43358-c861-44d1-85d1-d3f918e64675',\n",
       " 'b981660b-4ca7-412c-bad9-d248c975d5f7',\n",
       " 'b9e7a6c3-f75b-4843-a425-ed0c0e942155',\n",
       " 'ba2b63cf-fbb0-45d1-9da8-3196f190b354',\n",
       " 'ba48034b-aaa2-495c-9319-870827f4309d',\n",
       " 'bbe1a553-856c-4059-a00d-14a2f3815d69',\n",
       " 'bc00d7cd-c2fc-40ca-8dea-fdcfb02bbd3f',\n",
       " 'bc4df087-9856-42b1-a430-31520fb24b6e',\n",
       " 'bc528a08-9418-4c38-ae3b-26738f340bcf',\n",
       " 'bca88ece-5498-4f5a-b008-c9aa781b6b33',\n",
       " 'bcec85f8-54e0-4e67-8cfc-b63f29edd8de',\n",
       " 'bd38e626-4d65-4814-813e-354e6353d0e9',\n",
       " 'bd5ed28a-8702-4969-8540-4afa0b39ebcf',\n",
       " 'bdc28684-e4ce-4fdb-9833-632cb9bfb5aa',\n",
       " 'bddd7c91-ef7c-4d55-bf12-493e12eb20a2',\n",
       " 'bde7324f-dc3d-4982-b272-431e68cf5a31',\n",
       " 'be4e6971-c667-4210-909b-bf0fc46fc1a2',\n",
       " 'be533f3a-45ed-4d16-a548-9ac2f1524536',\n",
       " 'be8289aa-8e95-446a-830b-92324ef69317',\n",
       " 'bea87754-845a-4935-87e8-6c0764865877',\n",
       " 'c047c418-41ca-48f7-b284-2f9398139a6b',\n",
       " 'c06ead1c-9b7d-47d4-972e-0cbbb0c1e5f6',\n",
       " 'c18aa775-1663-4abf-b76d-286695cf3cfd',\n",
       " 'c1ca61ae-c98f-4422-8cf7-162aa4730304',\n",
       " 'c1d143e9-a5aa-4d22-baf7-2353600e56be',\n",
       " 'c1d25aef-6e59-4dbd-9c68-fe6e31863d81',\n",
       " 'c1d4ada2-478b-408e-bc34-3f9cef25445d',\n",
       " 'c1ec752b-8668-4422-b33e-68215896deb3',\n",
       " 'c2412543-6d12-4c30-823f-f38024d00582',\n",
       " 'c25e9aa8-8024-48cd-9d25-3eb730195bab',\n",
       " 'c2fc0a17-191b-41b8-9520-68543700f082',\n",
       " 'c3295860-6b75-4f0e-9ad4-8f7cc2cf9a84',\n",
       " 'c4199b28-fa39-47ac-916f-74be102b3ad1',\n",
       " 'c4809689-17fc-48b3-9c10-322f1e294803',\n",
       " 'c48c7852-f275-41ee-96fd-80880d43bfef',\n",
       " 'c4bc3b13-d507-4294-a1a8-3028a9ad79ab',\n",
       " 'c4c54d1a-b420-4a1f-837e-69850d62625e',\n",
       " 'c4f0f5d2-1b3c-4bbb-b5bf-1744bdb044d4',\n",
       " 'c551668c-4338-447c-9932-014f0e4a8eb3',\n",
       " 'c58466db-c494-46be-8ca3-ba78a591ec91',\n",
       " 'c5a7de12-8887-41fc-b0fb-4d2435dec8b9',\n",
       " 'c611b8b7-0079-4897-a281-0eccf04a03f4',\n",
       " 'c6f00f97-7949-42ba-bb66-170011047d67',\n",
       " 'c72c7876-faa9-431d-92eb-f5c3f764a038',\n",
       " 'c73d2e70-2641-4e77-9dba-fc1300b6ff4d',\n",
       " 'c75be01b-2007-405e-9cc4-aa6a3f1822bf',\n",
       " 'c7bec9a4-be7f-4d70-a377-8ab5e00fde89',\n",
       " 'c80ae5fd-d7a7-4353-895e-a725d98bf734',\n",
       " 'c8ef3f3f-0b8f-4c63-9149-f0764b84b767',\n",
       " 'c9063dd8-ed95-4e6f-b4f0-a77cc5e8233e',\n",
       " 'ca34bcea-f041-4f56-b851-15a605c26b28',\n",
       " 'ca3e23c8-cda3-4f0a-ad69-f0c98374e4a4',\n",
       " 'cb0a7105-c1b1-45af-9ee3-01c3a91282e1',\n",
       " 'cbc4929e-0e9f-4003-b078-8d7cd6457fad',\n",
       " 'cbf5cda5-b409-4dee-8af3-993c6e284b80',\n",
       " 'cc48fce5-4aa3-4e17-bc3b-6f0b81f03233',\n",
       " 'cc68786b-0f3b-4dcb-9bf2-10aa7cd95737',\n",
       " 'cce048c0-858a-403e-a9bd-5d941b937e41',\n",
       " 'cce34372-5ebe-4ec9-ad6f-b62576ccdf9d',\n",
       " 'cd19da97-bd62-4f3d-89d5-abdd948452d3',\n",
       " 'cd4d1b6d-78e3-41fd-93e1-8db7ea5c020d',\n",
       " 'cd62becc-5ee8-4e45-b83e-740d885d65b0',\n",
       " 'cdad13d3-b62a-4504-a7f8-2997e41eb79a',\n",
       " 'cdd9f52b-7fee-4224-a931-3b993dd59381',\n",
       " 'cedb4841-267a-45c9-b61e-b5cfdf624b13',\n",
       " 'cee835fd-51e7-4d6f-9aa6-904323a439a6',\n",
       " 'cf0c85c8-4eeb-4cae-9ebf-86db6efa4c1f',\n",
       " 'cf841286-0a2a-4bb8-89ff-58178ae88908',\n",
       " 'cfb427fe-fd59-48c1-a001-2bf8bca05f1d',\n",
       " 'd00c896d-60cc-410c-b855-662871d197a5',\n",
       " 'd02336bb-0065-47b4-91b2-1c07baaa992b',\n",
       " 'd024184b-9a14-42ed-9031-179814cbe3b4',\n",
       " 'd057ce40-e950-419d-b2d9-0aad6e0d3a90',\n",
       " 'd09519c1-0794-4838-8300-fcabf9b6b26d',\n",
       " 'd0b095f2-d6d5-4d25-86da-0d94c625f186',\n",
       " 'd1c34e6f-71a9-4674-989b-5d029bd100eb',\n",
       " 'd1ec2457-beae-4793-9256-b7ee45522140',\n",
       " 'd20227e2-228f-40d9-97da-1f7bef83db44',\n",
       " 'd313f1ce-dd7e-4102-867c-e3798989c7a7',\n",
       " 'd383e96e-4738-4d2e-91a0-13caa4e992a7',\n",
       " 'd39d571b-68a4-45c5-89e6-87e3d9c7902d',\n",
       " 'd3cb2af4-9402-4fbb-940e-1ccf578f91c3',\n",
       " 'd3cbf4dd-ae0c-456a-b104-77c7732159a1',\n",
       " 'd446edf4-be60-489d-8028-aff76948d64f',\n",
       " 'd497bcc6-8a1b-4357-b247-cab442823ed9',\n",
       " 'd49b71f8-ad39-4c21-a53e-8c25052cda3d',\n",
       " 'd55daa4d-1f50-4f31-9bc5-77779204f5c2',\n",
       " 'd58d40fd-ba42-463d-a758-ceef637e30b6',\n",
       " 'd6868861-681d-4ac4-a45f-e9a1e652600e',\n",
       " 'd6c2edea-eb80-4c67-9e3f-7342bd6da18a',\n",
       " 'd73e58a0-9617-4813-840f-03c06d4513e3',\n",
       " 'd7e327ae-e92e-40ad-b28c-3cd72512806a',\n",
       " 'd8440272-1e87-4301-b88c-01ff3fc74291',\n",
       " 'd8ac21d0-8b23-4b9b-ac24-e5ba593742d8',\n",
       " 'd9757f78-5083-4992-801f-2cb5b9037d8b',\n",
       " 'd986cfc5-8096-4aaf-b52d-f665e7ea996f',\n",
       " 'da95cba7-02ca-4141-9f31-ae77edb2c6ab',\n",
       " 'dae680cf-fc39-4da7-8326-ffbb82af9f35',\n",
       " 'daf1ea6d-f4cf-47ac-805c-1d54ac1cca5e',\n",
       " 'daf5ebc2-6cbf-4b60-b86c-dfe18c7d9fc3',\n",
       " 'db91dcdd-94e1-4290-946f-7de400ce2fa4',\n",
       " 'dbc5a01f-5676-4e8b-948f-ed6647f4f059',\n",
       " 'dc1f8ada-4177-4afe-bb4a-c4d8e834131d',\n",
       " 'dc3abb2f-f4ff-46a8-8b25-3b240dae328b',\n",
       " 'dc58c907-6ee9-4332-be3e-0f0ccddeae52',\n",
       " 'dd4c3d1c-4489-4602-ab48-d40e5dc470a8',\n",
       " 'dd5cd3d0-cb62-4b51-ba80-6344fd955be5',\n",
       " 'dd7aee43-98c3-4a5a-8da8-539c568f5beb',\n",
       " 'ddae048c-6af7-43bf-b21d-f7e1c3acb5a7',\n",
       " 'de41fabf-5657-4312-9a98-570abfb4091b',\n",
       " 'de6e5644-448d-4527-8898-8028282a3f76',\n",
       " 'de8977c7-45a2-4366-845b-58e49850a685',\n",
       " 'e022026e-0a33-49f0-ad64-b90922a70750',\n",
       " 'e0985343-0bfa-4be2-97a1-1b1166d68426',\n",
       " 'e09bbbd9-c9c0-41a3-93aa-9aa5d141ab6e',\n",
       " 'e0ce1ec7-d82a-4f31-9d32-e84d991131c3',\n",
       " 'e112bd64-a599-4bd0-8837-651f14a9c3f6',\n",
       " 'e120d713-a2ec-4d04-aa2b-e8a69bfa6391',\n",
       " 'e1c9ce50-b6a5-40bc-90cc-7d932ffc7cd6',\n",
       " 'e23e13b3-efae-42d1-be6e-aa88fc89ad0f',\n",
       " 'e246da47-7241-44f9-a700-d499728129a5',\n",
       " 'e28cd727-00ca-4598-98ae-a48fe9d8e4c6',\n",
       " 'e3181ef6-103a-4834-b695-fd3abd30c26c',\n",
       " 'e398f10b-b541-4e7b-84c2-775f02149dfc',\n",
       " 'e3fe4349-3a6d-4e75-8c69-6f9a74b0c4c5',\n",
       " 'e4361c64-690d-40e8-aef9-484c1f9ef820',\n",
       " 'e43a9df2-8c3e-4730-baf0-f2373f6b0849',\n",
       " 'e5b8521f-13f3-4faa-a920-1d2396ddda4d',\n",
       " 'e5be62ab-1842-4bb5-bef5-621e157e6a7f',\n",
       " 'e5f1235f-1d95-492f-84e5-2b4971c41446',\n",
       " 'e6438ae2-2b57-4905-8218-9af447c997a8',\n",
       " 'e67529d9-33e9-4baf-acb2-919a1de1a7c4',\n",
       " 'e693c8c1-c81e-45e9-ab46-6ede3f38e428',\n",
       " 'e6e4dcbe-5550-4000-a0f7-1581d8c97092',\n",
       " 'e738ed58-1025-4e5b-9c76-ddb2fa3556e2',\n",
       " 'e7a61b26-b169-4db4-8648-6364b95b172f',\n",
       " 'e7ac2bad-7075-48a7-a363-1b03d1e40078',\n",
       " 'e850376c-f9c1-4402-b386-19330587c3ce',\n",
       " 'e8c751a1-1612-49db-b1e8-3aacc1a04dbf',\n",
       " 'e9b7f8d4-0f73-4509-a707-ce39378337cf',\n",
       " 'ea0aca3b-7773-48f9-9590-e2924d0f8545',\n",
       " 'ea6be6bd-844f-4cec-8bbe-cdb01781cd8a',\n",
       " 'eaaf1f1f-aaa5-4329-b24f-54f1d51575d9',\n",
       " 'eace5e20-0b62-4c54-b4d6-58e3b8d37c1c',\n",
       " 'eb48f75e-8ae9-446a-a763-6c591924deb6',\n",
       " 'eb4f9c08-c640-4299-8d52-416a81f5c74f',\n",
       " 'eb7199e4-71a7-4c35-8b56-4cba372ce2e9',\n",
       " 'eba0493c-8beb-4b81-8769-5ccc204bd968',\n",
       " 'ebab3e8a-5267-4177-952f-0de47c7002e9',\n",
       " 'ebadd6f9-79b9-4dad-a892-f8546fe07c23',\n",
       " 'ec0650e6-1e9a-42b1-b6fa-6fc3e67eb291',\n",
       " 'ec550b9e-1f6e-4b1b-a703-caefb9b77bdd',\n",
       " 'ec7aebcc-b812-4c44-93d7-3368eba60914',\n",
       " 'ecb7bae8-5721-4507-80ce-5c0c4b68189a',\n",
       " 'ececedcf-77e3-4ad0-bb29-4e4e15896a2d',\n",
       " 'ed550131-0471-412d-bcb8-1e7bbc4ba145',\n",
       " 'edab5a26-b204-4d07-aea6-b1af4af20ac0',\n",
       " 'edb32ec3-59aa-4a23-b482-2e282d71f1cf',\n",
       " 'edbf2d25-142a-4fd9-ac08-6e99ecf03292',\n",
       " 'eecaab44-2aad-460b-81c2-39f282017f38',\n",
       " 'ef26d9d1-bd25-4e59-b3e7-a2fd418cba96',\n",
       " 'ef364848-449f-470e-a32c-cc365119c930',\n",
       " 'ef45bc15-b997-4bc7-8180-70fbd754de2b',\n",
       " 'f00d3aff-cd83-4f4d-911b-eb737c98de50',\n",
       " 'f0736756-fc5d-477c-80ae-120b448bf7e1',\n",
       " 'f0a834d2-5139-4768-8fe5-2a333895fe2c',\n",
       " 'f0c3012b-dedf-4ce0-8e53-8c7bf94017e5',\n",
       " 'f1ab3657-c34a-42ad-939a-51959d58fe60',\n",
       " 'f1c82c90-7fd8-4e14-b5b3-7066a37324cd',\n",
       " 'f1d8b2a6-3f69-4594-b4a3-b10fff1bd9b4',\n",
       " 'f1fa5467-ab8e-4fe3-93a3-fd6cbf3aef00',\n",
       " 'f2086605-6bce-4d77-8790-9a519dcfda89',\n",
       " 'f3923346-88b0-4a0a-af19-885be9918104',\n",
       " 'f3bc898a-39f6-4a23-bc15-6ecea90c9849',\n",
       " 'f3f80541-0bf8-4c9f-bee9-ee04215ecc21',\n",
       " 'f402610e-eede-40b1-91ff-ba46131c0539',\n",
       " 'f4180a6f-cdfc-4723-8478-ba251d90fefd',\n",
       " 'f42b26dd-969c-4db6-be2b-d53994f0dca7',\n",
       " 'f48b0929-54f4-4079-8106-0fc5235f8f19',\n",
       " 'f4bc643e-68c7-4ea4-b2c3-c07753905cb1',\n",
       " 'f4be59c7-9ecf-4784-aac5-b997f6dbf592',\n",
       " 'f4d5aa42-5b91-4fdd-9a9b-0e6372facff2',\n",
       " 'f528748a-fa00-4607-b740-bd13e9017239',\n",
       " 'f567e05e-e889-45ef-bdaa-cc27f1220572',\n",
       " 'f57abb39-eab2-45b2-90b5-4c591095ee78',\n",
       " 'f57b8be6-fcff-49de-89da-28ddac3f3f3a',\n",
       " 'f5a6a917-1f87-472b-861f-0df0d057c5c5',\n",
       " 'f5c69c96-ba5a-400d-9852-d6e9be5da318',\n",
       " 'f688f3fe-00de-424b-b2f6-7f388a76c916',\n",
       " 'f6b57281-b423-4e81-ab42-7d7a795771d1',\n",
       " 'f716f129-c3ae-47ed-93be-9034c160f7a1',\n",
       " 'f74194c0-7726-4eb6-95b1-782b7c3d47c8',\n",
       " 'f7683b8a-3bb0-4b47-a680-f331d65d2dfe',\n",
       " 'f95d9294-cb04-4aa7-9034-9b269b10e85c',\n",
       " 'f9e96ce9-7834-47a8-b1de-67ed62d595d0',\n",
       " 'fa588d5a-997a-4b8a-ad6d-cb22a00043cc',\n",
       " 'fa82e558-60ed-4c56-9a81-6a51b61990e6',\n",
       " 'faf9c156-16dc-48ab-bf39-a3c131cc9c93',\n",
       " 'fbef1dcf-33b1-4888-8592-a2ba18570b66',\n",
       " 'fc031b18-2cac-44b1-aff5-f5b56aecd6a9',\n",
       " 'fc2e10e8-4cae-4f93-a2de-65cd25d4f965',\n",
       " 'fc4df4a2-de21-41c3-825d-67e68316503e',\n",
       " 'fc4fd7cb-7866-48f7-95f0-0c229903570e',\n",
       " 'fd342488-d662-43a9-8fe5-61cbb07418cb',\n",
       " 'fd6c39ce-e25e-4099-b9fc-b69831c33ca8',\n",
       " 'fe6acd3f-6e1a-4f1e-8f31-1f27b0026aae',\n",
       " 'fefe556a-5ede-4d25-a4dd-a4d0cb03ed89',\n",
       " 'ff41ac15-5623-4bcc-b611-ac4df7e9890b']"
      ]
     },
     "execution_count": 18,
     "metadata": {},
     "output_type": "execute_result"
    }
   ],
   "source": [
    "sequence_names"
   ]
  },
  {
   "cell_type": "code",
   "execution_count": 2,
   "id": "e1990514",
   "metadata": {},
   "outputs": [],
   "source": [
    "import gzip\n",
    "import numpy as np\n",
    "\n",
    "f = gzip.GzipFile('my_vector.npy.gz', \"r\" )\n",
    "Atomic_wild = list(np.load(f,allow_pickle=True))\n",
    "labels = np.load('final_label.npy')"
   ]
  },
  {
   "cell_type": "code",
   "execution_count": 3,
   "id": "a25f179c",
   "metadata": {},
   "outputs": [],
   "source": [
    "nums1 = []\n",
    "for i in range (1,720) :\n",
    "      nums1 += [ i ]\n",
    "nums1.sort()\n",
    "#print (nums1)\n",
    "\n",
    "#c = str(nums1)"
   ]
  },
  {
   "cell_type": "code",
   "execution_count": 4,
   "id": "64f69130",
   "metadata": {},
   "outputs": [],
   "source": [
    "c = []\n",
    "for i in range(len(nums1)):\n",
    "    c.append(str(nums1[i]))"
   ]
  },
  {
   "cell_type": "code",
   "execution_count": 19,
   "id": "ff5124a3",
   "metadata": {},
   "outputs": [],
   "source": [
    "Model_Path = './Model/'\n",
    "Result_Path = './Result/'"
   ]
  },
  {
   "cell_type": "code",
   "execution_count": 20,
   "id": "27552afd",
   "metadata": {},
   "outputs": [],
   "source": [
    "WG = dict(zip(sequence_names, Atomic_wild))\n",
    "zipped = list(zip(sequence_names, labels))\n",
    "ds = pd.DataFrame(zipped, columns=['names', 'stability'])"
   ]
  },
  {
   "cell_type": "code",
   "execution_count": 21,
   "id": "afa6878f",
   "metadata": {},
   "outputs": [],
   "source": [
    "def NodeM(name):\n",
    "    return WG[name]"
   ]
  },
  {
   "cell_type": "code",
   "execution_count": 22,
   "id": "2471549c",
   "metadata": {},
   "outputs": [],
   "source": [
    "names = ds['names'].values.tolist()"
   ]
  },
  {
   "cell_type": "code",
   "execution_count": 23,
   "id": "e2f188a6",
   "metadata": {},
   "outputs": [],
   "source": [
    "from torch.utils.data.sampler import Sampler\n",
    "  \n",
    "class Dataset(Dataset):\n",
    "\n",
    "    def __init__(self, dataframe):\n",
    "        self.names = dataframe['names'].values.tolist()\n",
    "        self.labels = dataframe['stability'].values.tolist()\n",
    "\n",
    "    def __len__(self):\n",
    "        return len(self.labels)\n",
    "\n",
    "    def __getitem__(self, index):\n",
    "        \n",
    "        sequence_name = self.names[index]\n",
    "        label = self.labels[index]\n",
    "        \n",
    "        sequence_feature = NodeM(sequence_name)\n",
    "\n",
    "\n",
    "        sample = {'sequence_feature': sequence_feature,\\\n",
    "                  'label': label, \\\n",
    "                  'sequence_name': sequence_name, \\\n",
    "                  }\n",
    "        return sample\n",
    "def collate_fn(batch):\n",
    "    sequence_feature = []\n",
    "    sequence_names = [] \n",
    "    labels=[]   \n",
    "    for i in range(len(batch)):\n",
    "        sequence_feature.append(batch[i]['sequence_feature'])\n",
    "        sequence_feature=np.asarray(sequence_feature)\n",
    "        sequence_names.append(batch[i]['sequence_name'])\n",
    "        labels.append(batch[i]['label'])\n",
    "        labels= np.asarray(labels)\n",
    "\n",
    "    sequence_feature = torch.from_numpy(sequence_feature).float()\n",
    "    labels= torch.from_numpy(labels)\n",
    "\n",
    "    return sequence_feature, labels, sequence_names\n",
    "def collate_MIL(batch):\n",
    "\timg = torch.cat([item[0] for item in batch], dim = 0)\n",
    "\tlabel = torch.LongTensor([item[1] for item in batch])\n",
    "\treturn [img, label]\n",
    "\n",
    "\n",
    "def initialize_weights(module):\n",
    "\tfor m in module.modules():\n",
    "\t\tif isinstance(m, nn.Linear):\n",
    "\t\t\tnn.init.xavier_normal_(m.weight)\n",
    "\t\t\tm.bias.data.zero_()\n",
    "\t\t\n",
    "\t\telif isinstance(m, nn.BatchNorm1d):\n",
    "\t\t\tnn.init.constant_(m.weight, 1)\n",
    "\t\t\tnn.init.constant_(m.bias, 0)"
   ]
  },
  {
   "cell_type": "code",
   "execution_count": 69,
   "id": "8bb9fc59",
   "metadata": {},
   "outputs": [],
   "source": [
    "# Model parameters\n",
    "NUMBER_EPOCHS = 75\n",
    "LEARNING_RATE = 1E-5\n",
    "WEIGHT_DECAY = 1E-7\n",
    "BATCH_SIZE = 1\n",
    "\n",
    "DENSE_DIM = 16\n",
    "ATTENTION_HEADS = 4\n"
   ]
  },
  {
   "cell_type": "code",
   "execution_count": 25,
   "id": "d12ed3f0",
   "metadata": {},
   "outputs": [],
   "source": [
    "import torch\n",
    "import torch.nn as nn\n",
    "import torch.nn.functional as F\n",
    "import pdb\n",
    "#from utils.utils import initialize_weights\n",
    "import numpy as np\n"
   ]
  },
  {
   "cell_type": "code",
   "execution_count": 26,
   "id": "e42690fa",
   "metadata": {},
   "outputs": [],
   "source": [
    "class Attn_Net_Gated(nn.Module):\n",
    "\n",
    "    def __init__(self, L = 2560, D = 256, dropout = False, n_classes = 1):\n",
    "        super(Attn_Net_Gated, self).__init__()\n",
    "        self.attention_a = [\n",
    "            nn.Linear(L, D),\n",
    "            nn.Tanh()]\n",
    "        \n",
    "        self.attention_b = [nn.Linear(L, D),\n",
    "                            nn.Sigmoid()]\n",
    "        if dropout:\n",
    "            self.attention_a.append(nn.Dropout(0.25))\n",
    "            self.attention_b.append(nn.Dropout(0.25))\n",
    "\n",
    "        self.attention_a = nn.Sequential(*self.attention_a)\n",
    "        self.attention_b = nn.Sequential(*self.attention_b)\n",
    "        \n",
    "        self.attention_c = nn.Linear(D, n_classes)\n",
    "\n",
    "    def forward(self, x):\n",
    "        a = self.attention_a(x)\n",
    "        b = self.attention_b(x)\n",
    "        A = a.mul(b)\n",
    "        A = self.attention_c(A)  # N x n_classes\n",
    "        return A, x"
   ]
  },
  {
   "cell_type": "code",
   "execution_count": 27,
   "id": "bd90d2cc",
   "metadata": {},
   "outputs": [],
   "source": [
    "class Attn_Net(nn.Module):\n",
    "\n",
    "    def __init__(self, L = 1024, D = 256, dropout = False, n_classes = 1):\n",
    "        super(Attn_Net, self).__init__()\n",
    "        self.module = [\n",
    "            nn.Linear(L, D),\n",
    "            nn.Tanh()]\n",
    "\n",
    "        if dropout:\n",
    "            self.module.append(nn.Dropout(0.25))\n",
    "\n",
    "        self.module.append(nn.Linear(D, n_classes))\n",
    "        \n",
    "        self.module = nn.Sequential(*self.module)\n",
    "    \n",
    "    def forward(self, x):\n",
    "        return self.module(x), x # N x n_classes"
   ]
  },
  {
   "cell_type": "code",
   "execution_count": 28,
   "id": "b89f2926",
   "metadata": {},
   "outputs": [],
   "source": [
    "import torch.nn.functional as F\n",
    "class Model(nn.Module):\n",
    "   # def __init__(self):\n",
    "        #super(Model, self).__init__()\n",
    "    def __init__(self, gate = True, size_arg = \"small\", dropout = False, n_classes = 5):\n",
    "        super(Model, self).__init__()\n",
    "        self.size_dict = {\"small\": [2560, 512, 256], \"big\": [1024, 1, 384]}\n",
    "        size = self.size_dict[size_arg]\n",
    "\n",
    "        fc = [nn.Linear(size[0], size[1]), nn.ReLU()]\n",
    "        if dropout:\n",
    "            fc.append(nn.Dropout(0.25))\n",
    "\n",
    "        if gate:\n",
    "            attention_net = Attn_Net_Gated(L = size[1], D = size[2], dropout = dropout, n_classes = 1)\n",
    "\n",
    "        else:\n",
    "            attention_net = Attn_Net(L = size[1], D = size[2], dropout = dropout, n_classes = 1)\n",
    "        \n",
    "        fc.append(attention_net)\n",
    "        self.attention_net = nn.Sequential(*fc)\n",
    "        self.classifier = nn.Linear(size[1], n_classes)\n",
    "\n",
    "        initialize_weights(self)\n",
    "\n",
    "        self.criterion = nn.CrossEntropyLoss()\n",
    "        #self.criterion = nn.NLLLoss()\n",
    "\n",
    "        self.optimizer = torch.optim.Adam(self.parameters(),lr=LEARNING_RATE, weight_decay=WEIGHT_DECAY)\n",
    "\n",
    "    def forward(self, h, return_features=False, attention_only=False):\n",
    "        A, h = self.attention_net(h) \n",
    "        #print(A)\n",
    "        A = torch.transpose(A, 1, 0) \n",
    "        \n",
    "        if attention_only:\n",
    "            return A\n",
    "        A_raw = A \n",
    "        A = F.softmax(A, dim=1) \n",
    "        M = torch.mm(A, h)\n",
    "       # print(A)\n",
    "        logits  = self.classifier(M) \n",
    "        Y_hat = torch.topk(logits, 1, dim = 1)[1]\n",
    "        Y_prob = F.softmax(logits, dim = 1)\n",
    "\n",
    "        results_dict = {}\n",
    "        if return_features:\n",
    "            results_dict.update({'features': M})\n",
    "        \n",
    "        return logits, Y_prob, Y_hat, A_raw, results_dict"
   ]
  },
  {
   "cell_type": "code",
   "execution_count": 29,
   "id": "e52653d5",
   "metadata": {},
   "outputs": [],
   "source": [
    "class MIL_Attention_fc_surv(Model):\n",
    "    def __init__(self, gate = True, size_arg = \"small\", dropout = False, n_classes = 5):\n",
    "        super(MIL_Attention_fc_surv, self).__init__(gate = gate, size_arg = size_arg, dropout = dropout, n_classes = n_classes)\n",
    "\n",
    "    def forward(self, h, return_features=False, attention_only=False):\n",
    "        A, h = self.attention_net(h)  \n",
    "        A = torch.transpose(A, 1, 0) \n",
    "        if attention_only:\n",
    "            return A\n",
    "        A_raw = A \n",
    "        A = F.softmax(A, dim=1) \n",
    "        M = torch.mm(A, h) \n",
    "        logits  = self.classifier(M) \n",
    "        Y_hat = torch.topk(logits, 1, dim = 1)[1]\n",
    "        hazards = torch.sigmoid(logits)\n",
    "        S = torch.cumprod(1 - hazards, dim=1)\n",
    "        results_dict = {}\n",
    "        if return_features:\n",
    "            results_dict.update({'features': M})\n",
    "        \n",
    "        return hazards, S, Y_hat, A_raw, results_dict"
   ]
  },
  {
   "cell_type": "code",
   "execution_count": 30,
   "id": "92937142",
   "metadata": {},
   "outputs": [],
   "source": [
    "def train_one_epoch(model, data_loader, epoch):\n",
    "\n",
    "    epoch_loss_train = 0.0\n",
    "    n_batches = 0\n",
    "    for data in tqdm(data_loader):\n",
    "        model.optimizer.zero_grad()\n",
    "        sequence_feature, labels, sequence_names = data\n",
    "\n",
    "        sequence_feature = torch.squeeze(sequence_feature)\n",
    "       # labels = labels.unsqueeze(0)\n",
    "        \n",
    "        if torch.cuda.is_available():\n",
    "            features = Variable(sequence_feature.cuda())\n",
    "            y_true = Variable(labels.cuda())\n",
    "        else:\n",
    "            features = Variable(sequence_feature)\n",
    "            y_true = Variable(labels)\n",
    "        #logits, Y_prob, Y_hat, _, results_dict = model(data)\n",
    "        logits, y_pred, Y_hat, A, results_dict =  model(features)\n",
    "        y_true = y_true\n",
    "        y_pred = y_pred.mean(dim=0)\n",
    "        Y_hat = torch.argmax(y_pred)\n",
    "        #y_pred, dict_results = model(features)\n",
    "        #Y_hat = Y_hat\n",
    "        #print(logits)\n",
    "        # calculate loss\n",
    "        loss = model.criterion(logits, y_true.to(dtype=torch.long,non_blocking=False))\n",
    "        #l2_lambda = 0.001\n",
    "        #l2_norm = sum(p.pow(2.0).sum() for p in model.parameters())\n",
    "        #loss = loss + l2_lambda * l2_norm\n",
    "        #print(loss)\n",
    "\n",
    "        # backward gradient\n",
    "        loss.backward()\n",
    "\n",
    "        # update all parameters\n",
    "        model.optimizer.step()\n",
    "\n",
    "        epoch_loss_train += loss.item()\n",
    "        n_batches += 1\n",
    "\n",
    "    epoch_loss_train_avg = epoch_loss_train / n_batches\n",
    "    #print(epoch_loss_train_avg)\n",
    "    return epoch_loss_train_avg\n"
   ]
  },
  {
   "cell_type": "code",
   "execution_count": 31,
   "id": "02cfae2c",
   "metadata": {},
   "outputs": [],
   "source": [
    "def evaluate(model, data_loader):\n",
    "    model.eval()\n",
    "\n",
    "    epoch_loss = 0.0\n",
    "    n_batches = 0\n",
    "    valid_pred = []\n",
    "    valid_true = []\n",
    "    valid_name = []\n",
    "    valid_score =[]\n",
    "\n",
    "    for data in tqdm(data_loader):\n",
    "        with torch.no_grad():\n",
    "            sequence_feature, labels, sequence_names = data\n",
    "\n",
    "            sequence_feature = torch.squeeze(sequence_feature)\n",
    "            #labels = labels.unsqueeze(0)            \n",
    "             \n",
    "            if torch.cuda.is_available():\n",
    "                features = Variable(sequence_feature.cuda())\n",
    "               # labels = torch.squeeze(labels)\n",
    "\n",
    "                y_true = Variable(labels.cuda())\n",
    "            else:\n",
    "                features = Variable(sequence_feature)\n",
    "                y_true = Variable(labels)\n",
    "\n",
    "            #y_pred, dict_results = model(features)\n",
    "            logits, Y_prob, Y_hat, A, results_dict =  model(features)\n",
    "            y_true = y_true\n",
    "            Y_prob = Y_prob.mean(dim=0)\n",
    "            Y_hat = torch.argmax(Y_prob)\n",
    "        #y_pred, dict_results = model(features)\n",
    "            #Y_hat = Y_hat\n",
    "            #print(logits)\n",
    "\n",
    "        # calculate loss\n",
    "            #loss = model.criterion(Y_hat, y_true.long())\n",
    "            #y_true = y_true\n",
    "\n",
    "            loss = model.criterion(logits, y_true.to(dtype=torch.long,non_blocking=False))\n",
    "            #l2_lambda = 0.001\n",
    "            #l2_norm = sum(p.pow(2.0).sum() for p in model.parameters())\n",
    "            #loss = loss + l2_lambda * l2_norm\n",
    "            #print(loss)\n",
    "                \n",
    "            y_pred = Y_hat.cpu().detach().numpy().tolist()\n",
    "            y_true = y_true.cpu().detach().numpy().tolist()\n",
    "            valid_pred.append(y_pred)\n",
    "            valid_true.append(y_true)\n",
    "            valid_name.extend(sequence_names)\n",
    "            valid_score.append(A)\n",
    "\n",
    "            epoch_loss += loss.item()\n",
    "            n_batches += 1\n",
    "    epoch_loss_avg = epoch_loss / n_batches\n",
    "    print(epoch_loss_avg)\n",
    "\n",
    "    return epoch_loss_avg, valid_true, valid_pred, valid_name, valid_score\n"
   ]
  },
  {
   "cell_type": "code",
   "execution_count": 70,
   "id": "ccdf1695",
   "metadata": {},
   "outputs": [],
   "source": [
    "def train(model, dataframe,valid_dataframe,fold=0):\n",
    "    train_loader = DataLoader(dataset=Dataset(train_dataframe) ,batch_size=1, shuffle=True, num_workers=0,collate_fn=collate_fn)\n",
    "    valid_loader = DataLoader(dataset=Dataset(valid_dataframe) ,batch_size=1, shuffle=True, num_workers=0,collate_fn=collate_fn)\n",
    "\n",
    "    train_losses = []\n",
    "    train_binary_acc = []\n",
    "\n",
    "    valid_losses = []\n",
    "    valid_binary_acc = []\n",
    "\n",
    "    best_val_loss = 1000\n",
    "    best_epoch = 0\n",
    "\n",
    "    for epoch in range(NUMBER_EPOCHS):\n",
    "        print(\"\\n========== Train epoch \" + str(epoch + 1) + \" ==========\")\n",
    "        model.train()\n",
    "\n",
    "        epoch_loss_train_avg = train_one_epoch(model, train_loader, epoch + 1)\n",
    "        print(epoch_loss_train_avg)\n",
    "        #print(\"========== Evaluate Train set ==========\")\n",
    "        #_, train_true, train_pred, _, _ = evaluate(model, train_loader)\n",
    "        #print(len(train_pred), len(train_pred)\n",
    "        #result_train,binpt,bintt = analysis(train_true, train_pred)\n",
    "        #print(\"Train binary acc: \", result_train['binary_acc'])\n",
    "\n",
    "        #train_binary_acc.append(result_train['binary_acc'])\n",
    "        print(\"========== Evaluate Valid set ==========\")\n",
    "        epoch_loss_valid_avg, valid_true, valid_pred, valid_name, valid_score = evaluate(model, valid_loader)\n",
    "        result_valid, binp,bint = analysis(valid_true, valid_pred)\n",
    "        print(\"Valid binary acc: \", result_valid['binary_acc'])\n",
    "        valid_binary_acc.append(result_valid['binary_acc'])\n",
    "        if best_val_loss > epoch_loss_valid_avg:\n",
    "            best_val_loss = epoch_loss_valid_avg\n",
    "            best_epoch = epoch + 1\n",
    "            torch.save(model.state_dict(), os.path.join(Model_Path, 'Fold' + str(fold) + '_best_model.pkl'))\n",
    "            valid_detail_dataframe = pd.DataFrame({'names': valid_name, 'stability': valid_true, 'prediction': valid_pred})\n",
    "            valid_detail_dataframe.sort_values(by=['names'], inplace=True)\n",
    "            valid_detail_dataframe.to_csv(Result_Path + 'Fold' + str(fold) + \"_valid_detail.csv\", header=True, sep=',')\n",
    " \n",
    "    #result_all = {\n",
    "     #   'Train_binary_acc': train_binary_acc,\n",
    "     #   'Valid_binary_acc': valid_binary_acc,}\n",
    "    #result = pd.DataFrame(result_all)\n",
    "    #print(\"Fold\", str(fold), \"Best epoch at\", str(best_epoch))\n",
    "    #result.to_csv('result.csv')\n",
    "\n",
    "def analysis(y_true, y_pred):\n",
    "    #print(len(y_pred))\n",
    "    binary_pred = y_pred\n",
    "    #print(binary_pred, y_true)\n",
    "    binary_true= y_true\n",
    "\n",
    "   \n",
    "    binary_acc = metrics.accuracy_score(binary_true, binary_pred)\n",
    "    result = {\n",
    "\n",
    "        'binary_acc': binary_acc,\n",
    "\n",
    "    }\n",
    "    return result , binary_pred, binary_true\n",
    "\n",
    "def cross_validation(all_dataframe,fold_number=10):\n",
    "    print(\"split_seed: \", SEED)\n",
    "    sequence_names = all_dataframe['names'].values\n",
    "    sequence_labels = all_dataframe['stability'].values\n",
    "    kfold = KFold(n_splits=fold_number, shuffle=True)\n",
    "    fold = 0\n",
    "\n",
    "    for train_index, valid_index in kfold.split(sequence_names, sequence_labels):\n",
    "        print(\"\\n========== Fold \" + str(fold + 1) + \" ==========\")\n",
    "        train_dataframe = all_dataframe.iloc[train_index, :]\n",
    "        valid_dataframe = all_dataframe.iloc[valid_index, :]\n",
    "        print(\"Training on\", str(train_dataframe.shape[0]), \"examples, Validation on\", str(valid_dataframe.shape[0]),\n",
    "              \"examples\")\n",
    "        model = Model()\n",
    "        if torch.cuda.is_available():\n",
    "            model.cuda()\n",
    "\n",
    "        train(model, train_dataframe, valid_dataframe, fold + 1)\n",
    "        fold += 1"
   ]
  },
  {
   "cell_type": "code",
   "execution_count": 71,
   "id": "aa8eba60",
   "metadata": {},
   "outputs": [
    {
     "name": "stdout",
     "output_type": "stream",
     "text": [
      "split_seed:  2333\n",
      "\n",
      "========== Fold 1 ==========\n",
      "Training on 575 examples, Validation on 144 examples\n",
      "\n",
      "========== Train epoch 1 ==========\n"
     ]
    },
    {
     "name": "stderr",
     "output_type": "stream",
     "text": [
      "100%|████████████████████████████████████████████████████████████████████████████████| 719/719 [00:14<00:00, 48.76it/s]\n"
     ]
    },
    {
     "name": "stdout",
     "output_type": "stream",
     "text": [
      "1.5024624613627937\n",
      "========== Evaluate Valid set ==========\n"
     ]
    },
    {
     "name": "stderr",
     "output_type": "stream",
     "text": [
      "100%|████████████████████████████████████████████████████████████████████████████████| 144/144 [00:01<00:00, 80.31it/s]\n"
     ]
    },
    {
     "name": "stdout",
     "output_type": "stream",
     "text": [
      "1.4972864815758333\n",
      "Valid binary acc:  0.4027777777777778\n",
      "\n",
      "========== Train epoch 2 ==========\n"
     ]
    },
    {
     "name": "stderr",
     "output_type": "stream",
     "text": [
      "100%|████████████████████████████████████████████████████████████████████████████████| 719/719 [00:13<00:00, 54.71it/s]\n"
     ]
    },
    {
     "name": "stdout",
     "output_type": "stream",
     "text": [
      "1.4403542919351262\n",
      "========== Evaluate Valid set ==========\n"
     ]
    },
    {
     "name": "stderr",
     "output_type": "stream",
     "text": [
      "100%|████████████████████████████████████████████████████████████████████████████████| 144/144 [00:01<00:00, 82.16it/s]\n"
     ]
    },
    {
     "name": "stdout",
     "output_type": "stream",
     "text": [
      "1.4751222452355757\n",
      "Valid binary acc:  0.3958333333333333\n",
      "\n",
      "========== Train epoch 3 ==========\n"
     ]
    },
    {
     "name": "stderr",
     "output_type": "stream",
     "text": [
      "100%|████████████████████████████████████████████████████████████████████████████████| 719/719 [00:13<00:00, 54.11it/s]\n"
     ]
    },
    {
     "name": "stdout",
     "output_type": "stream",
     "text": [
      "1.4138786399812129\n",
      "========== Evaluate Valid set ==========\n"
     ]
    },
    {
     "name": "stderr",
     "output_type": "stream",
     "text": [
      "100%|████████████████████████████████████████████████████████████████████████████████| 144/144 [00:01<00:00, 82.33it/s]\n"
     ]
    },
    {
     "name": "stdout",
     "output_type": "stream",
     "text": [
      "1.4370434892674286\n",
      "Valid binary acc:  0.4305555555555556\n",
      "\n",
      "========== Train epoch 4 ==========\n"
     ]
    },
    {
     "name": "stderr",
     "output_type": "stream",
     "text": [
      "100%|████████████████████████████████████████████████████████████████████████████████| 719/719 [00:13<00:00, 53.52it/s]\n"
     ]
    },
    {
     "name": "stdout",
     "output_type": "stream",
     "text": [
      "1.3850247761304588\n",
      "========== Evaluate Valid set ==========\n"
     ]
    },
    {
     "name": "stderr",
     "output_type": "stream",
     "text": [
      "100%|████████████████████████████████████████████████████████████████████████████████| 144/144 [00:01<00:00, 85.07it/s]\n"
     ]
    },
    {
     "name": "stdout",
     "output_type": "stream",
     "text": [
      "1.42052031473981\n",
      "Valid binary acc:  0.4305555555555556\n",
      "\n",
      "========== Train epoch 5 ==========\n"
     ]
    },
    {
     "name": "stderr",
     "output_type": "stream",
     "text": [
      "100%|████████████████████████████████████████████████████████████████████████████████| 719/719 [00:13<00:00, 54.36it/s]\n"
     ]
    },
    {
     "name": "stdout",
     "output_type": "stream",
     "text": [
      "1.357501230791978\n",
      "========== Evaluate Valid set ==========\n"
     ]
    },
    {
     "name": "stderr",
     "output_type": "stream",
     "text": [
      "100%|████████████████████████████████████████████████████████████████████████████████| 144/144 [00:01<00:00, 81.98it/s]\n"
     ]
    },
    {
     "name": "stdout",
     "output_type": "stream",
     "text": [
      "1.39196286474665\n",
      "Valid binary acc:  0.4305555555555556\n",
      "\n",
      "========== Train epoch 6 ==========\n"
     ]
    },
    {
     "name": "stderr",
     "output_type": "stream",
     "text": [
      "100%|████████████████████████████████████████████████████████████████████████████████| 719/719 [00:13<00:00, 54.54it/s]\n"
     ]
    },
    {
     "name": "stdout",
     "output_type": "stream",
     "text": [
      "1.338386415854946\n",
      "========== Evaluate Valid set ==========\n"
     ]
    },
    {
     "name": "stderr",
     "output_type": "stream",
     "text": [
      "100%|████████████████████████████████████████████████████████████████████████████████| 144/144 [00:01<00:00, 83.80it/s]\n"
     ]
    },
    {
     "name": "stdout",
     "output_type": "stream",
     "text": [
      "1.3842708110395405\n",
      "Valid binary acc:  0.4236111111111111\n",
      "\n",
      "========== Train epoch 7 ==========\n"
     ]
    },
    {
     "name": "stderr",
     "output_type": "stream",
     "text": [
      "100%|████████████████████████████████████████████████████████████████████████████████| 719/719 [00:13<00:00, 54.20it/s]\n"
     ]
    },
    {
     "name": "stdout",
     "output_type": "stream",
     "text": [
      "1.3175715775914252\n",
      "========== Evaluate Valid set ==========\n"
     ]
    },
    {
     "name": "stderr",
     "output_type": "stream",
     "text": [
      "100%|████████████████████████████████████████████████████████████████████████████████| 144/144 [00:01<00:00, 81.51it/s]\n"
     ]
    },
    {
     "name": "stdout",
     "output_type": "stream",
     "text": [
      "1.3422287667377129\n",
      "Valid binary acc:  0.4583333333333333\n",
      "\n",
      "========== Train epoch 8 ==========\n"
     ]
    },
    {
     "name": "stderr",
     "output_type": "stream",
     "text": [
      "100%|████████████████████████████████████████████████████████████████████████████████| 719/719 [00:13<00:00, 54.74it/s]\n"
     ]
    },
    {
     "name": "stdout",
     "output_type": "stream",
     "text": [
      "1.3020740337514414\n",
      "========== Evaluate Valid set ==========\n"
     ]
    },
    {
     "name": "stderr",
     "output_type": "stream",
     "text": [
      "100%|████████████████████████████████████████████████████████████████████████████████| 144/144 [00:01<00:00, 83.09it/s]\n"
     ]
    },
    {
     "name": "stdout",
     "output_type": "stream",
     "text": [
      "1.3288010066996019\n",
      "Valid binary acc:  0.4583333333333333\n",
      "\n",
      "========== Train epoch 9 ==========\n"
     ]
    },
    {
     "name": "stderr",
     "output_type": "stream",
     "text": [
      "100%|████████████████████████████████████████████████████████████████████████████████| 719/719 [00:13<00:00, 53.36it/s]\n"
     ]
    },
    {
     "name": "stdout",
     "output_type": "stream",
     "text": [
      "1.2925446392017546\n",
      "========== Evaluate Valid set ==========\n"
     ]
    },
    {
     "name": "stderr",
     "output_type": "stream",
     "text": [
      "100%|████████████████████████████████████████████████████████████████████████████████| 144/144 [00:01<00:00, 80.52it/s]\n"
     ]
    },
    {
     "name": "stdout",
     "output_type": "stream",
     "text": [
      "1.3112249264700546\n",
      "Valid binary acc:  0.4791666666666667\n",
      "\n",
      "========== Train epoch 10 ==========\n"
     ]
    },
    {
     "name": "stderr",
     "output_type": "stream",
     "text": [
      "100%|████████████████████████████████████████████████████████████████████████████████| 719/719 [00:13<00:00, 53.31it/s]\n"
     ]
    },
    {
     "name": "stdout",
     "output_type": "stream",
     "text": [
      "1.2758663870984888\n",
      "========== Evaluate Valid set ==========\n"
     ]
    },
    {
     "name": "stderr",
     "output_type": "stream",
     "text": [
      "100%|████████████████████████████████████████████████████████████████████████████████| 144/144 [00:01<00:00, 82.48it/s]\n"
     ]
    },
    {
     "name": "stdout",
     "output_type": "stream",
     "text": [
      "1.288996751109759\n",
      "Valid binary acc:  0.5\n",
      "\n",
      "========== Train epoch 11 ==========\n"
     ]
    },
    {
     "name": "stderr",
     "output_type": "stream",
     "text": [
      "100%|████████████████████████████████████████████████████████████████████████████████| 719/719 [00:13<00:00, 53.54it/s]\n"
     ]
    },
    {
     "name": "stdout",
     "output_type": "stream",
     "text": [
      "1.265189276927867\n",
      "========== Evaluate Valid set ==========\n"
     ]
    },
    {
     "name": "stderr",
     "output_type": "stream",
     "text": [
      "100%|████████████████████████████████████████████████████████████████████████████████| 144/144 [00:01<00:00, 83.73it/s]\n"
     ]
    },
    {
     "name": "stdout",
     "output_type": "stream",
     "text": [
      "1.2786000077095296\n",
      "Valid binary acc:  0.4930555555555556\n",
      "\n",
      "========== Train epoch 12 ==========\n"
     ]
    },
    {
     "name": "stderr",
     "output_type": "stream",
     "text": [
      "100%|████████████████████████████████████████████████████████████████████████████████| 719/719 [00:13<00:00, 54.30it/s]\n"
     ]
    },
    {
     "name": "stdout",
     "output_type": "stream",
     "text": [
      "1.254210084593843\n",
      "========== Evaluate Valid set ==========\n"
     ]
    },
    {
     "name": "stderr",
     "output_type": "stream",
     "text": [
      "100%|████████████████████████████████████████████████████████████████████████████████| 144/144 [00:01<00:00, 83.52it/s]\n"
     ]
    },
    {
     "name": "stdout",
     "output_type": "stream",
     "text": [
      "1.2733103862653177\n",
      "Valid binary acc:  0.5069444444444444\n",
      "\n",
      "========== Train epoch 13 ==========\n"
     ]
    },
    {
     "name": "stderr",
     "output_type": "stream",
     "text": [
      "100%|████████████████████████████████████████████████████████████████████████████████| 719/719 [00:13<00:00, 53.71it/s]\n"
     ]
    },
    {
     "name": "stdout",
     "output_type": "stream",
     "text": [
      "1.245853675008649\n",
      "========== Evaluate Valid set ==========\n"
     ]
    },
    {
     "name": "stderr",
     "output_type": "stream",
     "text": [
      "100%|████████████████████████████████████████████████████████████████████████████████| 144/144 [00:01<00:00, 85.96it/s]\n"
     ]
    },
    {
     "name": "stdout",
     "output_type": "stream",
     "text": [
      "1.276275523731278\n",
      "Valid binary acc:  0.4791666666666667\n",
      "\n",
      "========== Train epoch 14 ==========\n"
     ]
    },
    {
     "name": "stderr",
     "output_type": "stream",
     "text": [
      "100%|████████████████████████████████████████████████████████████████████████████████| 719/719 [00:13<00:00, 54.10it/s]\n"
     ]
    },
    {
     "name": "stdout",
     "output_type": "stream",
     "text": [
      "1.243728952795806\n",
      "========== Evaluate Valid set ==========\n"
     ]
    },
    {
     "name": "stderr",
     "output_type": "stream",
     "text": [
      "100%|████████████████████████████████████████████████████████████████████████████████| 144/144 [00:01<00:00, 81.18it/s]\n"
     ]
    },
    {
     "name": "stdout",
     "output_type": "stream",
     "text": [
      "1.2505582397182782\n",
      "Valid binary acc:  0.5069444444444444\n",
      "\n",
      "========== Train epoch 15 ==========\n"
     ]
    },
    {
     "name": "stderr",
     "output_type": "stream",
     "text": [
      "100%|████████████████████████████████████████████████████████████████████████████████| 719/719 [00:13<00:00, 54.44it/s]\n"
     ]
    },
    {
     "name": "stdout",
     "output_type": "stream",
     "text": [
      "1.2318585480204545\n",
      "========== Evaluate Valid set ==========\n"
     ]
    },
    {
     "name": "stderr",
     "output_type": "stream",
     "text": [
      "100%|████████████████████████████████████████████████████████████████████████████████| 144/144 [00:01<00:00, 84.50it/s]\n"
     ]
    },
    {
     "name": "stdout",
     "output_type": "stream",
     "text": [
      "1.2485207510698173\n",
      "Valid binary acc:  0.5277777777777778\n",
      "\n",
      "========== Train epoch 16 ==========\n"
     ]
    },
    {
     "name": "stderr",
     "output_type": "stream",
     "text": [
      "100%|████████████████████████████████████████████████████████████████████████████████| 719/719 [00:13<00:00, 53.74it/s]\n"
     ]
    },
    {
     "name": "stdout",
     "output_type": "stream",
     "text": [
      "1.2234695429016056\n",
      "========== Evaluate Valid set ==========\n"
     ]
    },
    {
     "name": "stderr",
     "output_type": "stream",
     "text": [
      "100%|████████████████████████████████████████████████████████████████████████████████| 144/144 [00:02<00:00, 70.35it/s]\n"
     ]
    },
    {
     "name": "stdout",
     "output_type": "stream",
     "text": [
      "1.2385040845514999\n",
      "Valid binary acc:  0.5416666666666666\n",
      "\n",
      "========== Train epoch 17 ==========\n"
     ]
    },
    {
     "name": "stderr",
     "output_type": "stream",
     "text": [
      "100%|████████████████████████████████████████████████████████████████████████████████| 719/719 [00:13<00:00, 52.75it/s]\n"
     ]
    },
    {
     "name": "stdout",
     "output_type": "stream",
     "text": [
      "1.219920725645873\n",
      "========== Evaluate Valid set ==========\n"
     ]
    },
    {
     "name": "stderr",
     "output_type": "stream",
     "text": [
      "100%|████████████████████████████████████████████████████████████████████████████████| 144/144 [00:01<00:00, 78.93it/s]\n"
     ]
    },
    {
     "name": "stdout",
     "output_type": "stream",
     "text": [
      "1.229449768964615\n",
      "Valid binary acc:  0.5347222222222222\n",
      "\n",
      "========== Train epoch 18 ==========\n"
     ]
    },
    {
     "name": "stderr",
     "output_type": "stream",
     "text": [
      "100%|████████████████████████████████████████████████████████████████████████████████| 719/719 [00:13<00:00, 53.67it/s]\n"
     ]
    },
    {
     "name": "stdout",
     "output_type": "stream",
     "text": [
      "1.209050265396006\n",
      "========== Evaluate Valid set ==========\n"
     ]
    },
    {
     "name": "stderr",
     "output_type": "stream",
     "text": [
      "100%|████████████████████████████████████████████████████████████████████████████████| 144/144 [00:01<00:00, 75.95it/s]\n"
     ]
    },
    {
     "name": "stdout",
     "output_type": "stream",
     "text": [
      "1.24557107159247\n",
      "Valid binary acc:  0.4861111111111111\n",
      "\n",
      "========== Train epoch 19 ==========\n"
     ]
    },
    {
     "name": "stderr",
     "output_type": "stream",
     "text": [
      "100%|████████████████████████████████████████████████████████████████████████████████| 719/719 [00:13<00:00, 54.22it/s]\n"
     ]
    },
    {
     "name": "stdout",
     "output_type": "stream",
     "text": [
      "1.2051834396406573\n",
      "========== Evaluate Valid set ==========\n"
     ]
    },
    {
     "name": "stderr",
     "output_type": "stream",
     "text": [
      "100%|████████████████████████████████████████████████████████████████████████████████| 144/144 [00:01<00:00, 77.28it/s]\n"
     ]
    },
    {
     "name": "stdout",
     "output_type": "stream",
     "text": [
      "1.2110483274898596\n",
      "Valid binary acc:  0.5277777777777778\n",
      "\n",
      "========== Train epoch 20 ==========\n"
     ]
    },
    {
     "name": "stderr",
     "output_type": "stream",
     "text": [
      "100%|████████████████████████████████████████████████████████████████████████████████| 719/719 [00:13<00:00, 53.25it/s]\n"
     ]
    },
    {
     "name": "stdout",
     "output_type": "stream",
     "text": [
      "1.196126883722562\n",
      "========== Evaluate Valid set ==========\n"
     ]
    },
    {
     "name": "stderr",
     "output_type": "stream",
     "text": [
      "100%|████████████████████████████████████████████████████████████████████████████████| 144/144 [00:01<00:00, 78.89it/s]\n"
     ]
    },
    {
     "name": "stdout",
     "output_type": "stream",
     "text": [
      "1.2097004170839984\n",
      "Valid binary acc:  0.5069444444444444\n",
      "\n",
      "========== Train epoch 21 ==========\n"
     ]
    },
    {
     "name": "stderr",
     "output_type": "stream",
     "text": [
      "100%|████████████████████████████████████████████████████████████████████████████████| 719/719 [00:13<00:00, 54.32it/s]\n"
     ]
    },
    {
     "name": "stdout",
     "output_type": "stream",
     "text": [
      "1.1918011647396525\n",
      "========== Evaluate Valid set ==========\n"
     ]
    },
    {
     "name": "stderr",
     "output_type": "stream",
     "text": [
      "100%|████████████████████████████████████████████████████████████████████████████████| 144/144 [00:01<00:00, 72.07it/s]\n"
     ]
    },
    {
     "name": "stdout",
     "output_type": "stream",
     "text": [
      "1.2010778946181138\n",
      "Valid binary acc:  0.5138888888888888\n",
      "\n",
      "========== Train epoch 22 ==========\n"
     ]
    },
    {
     "name": "stderr",
     "output_type": "stream",
     "text": [
      "100%|████████████████████████████████████████████████████████████████████████████████| 719/719 [00:13<00:00, 54.27it/s]\n"
     ]
    },
    {
     "name": "stdout",
     "output_type": "stream",
     "text": [
      "1.1825339040914564\n",
      "========== Evaluate Valid set ==========\n"
     ]
    },
    {
     "name": "stderr",
     "output_type": "stream",
     "text": [
      "100%|████████████████████████████████████████████████████████████████████████████████| 144/144 [00:01<00:00, 75.65it/s]\n"
     ]
    },
    {
     "name": "stdout",
     "output_type": "stream",
     "text": [
      "1.1910260247273579\n",
      "Valid binary acc:  0.5416666666666666\n",
      "\n",
      "========== Train epoch 23 ==========\n"
     ]
    },
    {
     "name": "stderr",
     "output_type": "stream",
     "text": [
      "100%|████████████████████████████████████████████████████████████████████████████████| 719/719 [00:13<00:00, 53.09it/s]\n"
     ]
    },
    {
     "name": "stdout",
     "output_type": "stream",
     "text": [
      "1.1700725064344797\n",
      "========== Evaluate Valid set ==========\n"
     ]
    },
    {
     "name": "stderr",
     "output_type": "stream",
     "text": [
      "100%|████████████████████████████████████████████████████████████████████████████████| 144/144 [00:01<00:00, 78.63it/s]\n"
     ]
    },
    {
     "name": "stdout",
     "output_type": "stream",
     "text": [
      "1.1926706490210361\n",
      "Valid binary acc:  0.5625\n",
      "\n",
      "========== Train epoch 24 ==========\n"
     ]
    },
    {
     "name": "stderr",
     "output_type": "stream",
     "text": [
      "100%|████████████████████████████████████████████████████████████████████████████████| 719/719 [00:13<00:00, 53.24it/s]\n"
     ]
    },
    {
     "name": "stdout",
     "output_type": "stream",
     "text": [
      "1.1710764339429447\n",
      "========== Evaluate Valid set ==========\n"
     ]
    },
    {
     "name": "stderr",
     "output_type": "stream",
     "text": [
      "100%|████████████████████████████████████████████████████████████████████████████████| 144/144 [00:01<00:00, 76.23it/s]\n"
     ]
    },
    {
     "name": "stdout",
     "output_type": "stream",
     "text": [
      "1.1756946715629764\n",
      "Valid binary acc:  0.5902777777777778\n",
      "\n",
      "========== Train epoch 25 ==========\n"
     ]
    },
    {
     "name": "stderr",
     "output_type": "stream",
     "text": [
      "100%|████████████████████████████████████████████████████████████████████████████████| 719/719 [00:13<00:00, 53.27it/s]\n"
     ]
    },
    {
     "name": "stdout",
     "output_type": "stream",
     "text": [
      "1.1606130550028717\n",
      "========== Evaluate Valid set ==========\n"
     ]
    },
    {
     "name": "stderr",
     "output_type": "stream",
     "text": [
      "100%|████████████████████████████████████████████████████████████████████████████████| 144/144 [00:01<00:00, 76.96it/s]\n"
     ]
    },
    {
     "name": "stdout",
     "output_type": "stream",
     "text": [
      "1.1796501754886575\n",
      "Valid binary acc:  0.5277777777777778\n",
      "\n",
      "========== Train epoch 26 ==========\n"
     ]
    },
    {
     "name": "stderr",
     "output_type": "stream",
     "text": [
      "100%|████████████████████████████████████████████████████████████████████████████████| 719/719 [00:13<00:00, 51.53it/s]\n"
     ]
    },
    {
     "name": "stdout",
     "output_type": "stream",
     "text": [
      "1.1541597103759627\n",
      "========== Evaluate Valid set ==========\n"
     ]
    },
    {
     "name": "stderr",
     "output_type": "stream",
     "text": [
      "100%|████████████████████████████████████████████████████████████████████████████████| 144/144 [00:01<00:00, 74.55it/s]\n"
     ]
    },
    {
     "name": "stdout",
     "output_type": "stream",
     "text": [
      "1.1666415685580835\n",
      "Valid binary acc:  0.5694444444444444\n",
      "\n",
      "========== Train epoch 27 ==========\n"
     ]
    },
    {
     "name": "stderr",
     "output_type": "stream",
     "text": [
      "100%|████████████████████████████████████████████████████████████████████████████████| 719/719 [00:14<00:00, 50.33it/s]\n"
     ]
    },
    {
     "name": "stdout",
     "output_type": "stream",
     "text": [
      "1.1460933493338887\n",
      "========== Evaluate Valid set ==========\n"
     ]
    },
    {
     "name": "stderr",
     "output_type": "stream",
     "text": [
      "100%|████████████████████████████████████████████████████████████████████████████████| 144/144 [00:01<00:00, 78.14it/s]\n"
     ]
    },
    {
     "name": "stdout",
     "output_type": "stream",
     "text": [
      "1.1565894269280963\n",
      "Valid binary acc:  0.5416666666666666\n",
      "\n",
      "========== Train epoch 28 ==========\n"
     ]
    },
    {
     "name": "stderr",
     "output_type": "stream",
     "text": [
      "100%|████████████████████████████████████████████████████████████████████████████████| 719/719 [00:14<00:00, 50.99it/s]\n"
     ]
    },
    {
     "name": "stdout",
     "output_type": "stream",
     "text": [
      "1.1409133847321025\n",
      "========== Evaluate Valid set ==========\n"
     ]
    },
    {
     "name": "stderr",
     "output_type": "stream",
     "text": [
      "100%|████████████████████████████████████████████████████████████████████████████████| 144/144 [00:01<00:00, 74.15it/s]\n"
     ]
    },
    {
     "name": "stdout",
     "output_type": "stream",
     "text": [
      "1.1378943279592528\n",
      "Valid binary acc:  0.5625\n",
      "\n",
      "========== Train epoch 29 ==========\n"
     ]
    },
    {
     "name": "stderr",
     "output_type": "stream",
     "text": [
      "100%|████████████████████████████████████████████████████████████████████████████████| 719/719 [00:13<00:00, 52.27it/s]\n"
     ]
    },
    {
     "name": "stdout",
     "output_type": "stream",
     "text": [
      "1.1321224829749372\n",
      "========== Evaluate Valid set ==========\n"
     ]
    },
    {
     "name": "stderr",
     "output_type": "stream",
     "text": [
      "100%|████████████████████████████████████████████████████████████████████████████████| 144/144 [00:01<00:00, 78.40it/s]\n"
     ]
    },
    {
     "name": "stdout",
     "output_type": "stream",
     "text": [
      "1.1393151201514735\n",
      "Valid binary acc:  0.5208333333333334\n",
      "\n",
      "========== Train epoch 30 ==========\n"
     ]
    },
    {
     "name": "stderr",
     "output_type": "stream",
     "text": [
      "100%|████████████████████████████████████████████████████████████████████████████████| 719/719 [00:13<00:00, 51.83it/s]\n"
     ]
    },
    {
     "name": "stdout",
     "output_type": "stream",
     "text": [
      "1.1267423406813257\n",
      "========== Evaluate Valid set ==========\n"
     ]
    },
    {
     "name": "stderr",
     "output_type": "stream",
     "text": [
      "100%|████████████████████████████████████████████████████████████████████████████████| 144/144 [00:01<00:00, 78.49it/s]\n"
     ]
    },
    {
     "name": "stdout",
     "output_type": "stream",
     "text": [
      "1.118485885879232\n",
      "Valid binary acc:  0.5694444444444444\n",
      "\n",
      "========== Train epoch 31 ==========\n"
     ]
    },
    {
     "name": "stderr",
     "output_type": "stream",
     "text": [
      "100%|████████████████████████████████████████████████████████████████████████████████| 719/719 [00:14<00:00, 50.50it/s]\n"
     ]
    },
    {
     "name": "stdout",
     "output_type": "stream",
     "text": [
      "1.1168982399749325\n",
      "========== Evaluate Valid set ==========\n"
     ]
    },
    {
     "name": "stderr",
     "output_type": "stream",
     "text": [
      "100%|████████████████████████████████████████████████████████████████████████████████| 144/144 [00:04<00:00, 35.57it/s]\n"
     ]
    },
    {
     "name": "stdout",
     "output_type": "stream",
     "text": [
      "1.1103363663682506\n",
      "Valid binary acc:  0.5694444444444444\n",
      "\n",
      "========== Train epoch 32 ==========\n"
     ]
    },
    {
     "name": "stderr",
     "output_type": "stream",
     "text": [
      "100%|████████████████████████████████████████████████████████████████████████████████| 719/719 [00:19<00:00, 36.93it/s]\n"
     ]
    },
    {
     "name": "stdout",
     "output_type": "stream",
     "text": [
      "1.111104806866989\n",
      "========== Evaluate Valid set ==========\n"
     ]
    },
    {
     "name": "stderr",
     "output_type": "stream",
     "text": [
      "100%|████████████████████████████████████████████████████████████████████████████████| 144/144 [00:02<00:00, 49.24it/s]\n"
     ]
    },
    {
     "name": "stdout",
     "output_type": "stream",
     "text": [
      "1.0835557841799326\n",
      "Valid binary acc:  0.5972222222222222\n",
      "\n",
      "========== Train epoch 33 ==========\n"
     ]
    },
    {
     "name": "stderr",
     "output_type": "stream",
     "text": [
      "100%|████████████████████████████████████████████████████████████████████████████████| 719/719 [00:14<00:00, 48.48it/s]\n"
     ]
    },
    {
     "name": "stdout",
     "output_type": "stream",
     "text": [
      "1.0976518841152065\n",
      "========== Evaluate Valid set ==========\n"
     ]
    },
    {
     "name": "stderr",
     "output_type": "stream",
     "text": [
      "100%|████████████████████████████████████████████████████████████████████████████████| 144/144 [00:01<00:00, 74.84it/s]\n"
     ]
    },
    {
     "name": "stdout",
     "output_type": "stream",
     "text": [
      "1.0734008439402614\n",
      "Valid binary acc:  0.5972222222222222\n",
      "\n",
      "========== Train epoch 34 ==========\n"
     ]
    },
    {
     "name": "stderr",
     "output_type": "stream",
     "text": [
      "100%|████████████████████████████████████████████████████████████████████████████████| 719/719 [00:19<00:00, 36.20it/s]\n"
     ]
    },
    {
     "name": "stdout",
     "output_type": "stream",
     "text": [
      "1.0922757974814141\n",
      "========== Evaluate Valid set ==========\n"
     ]
    },
    {
     "name": "stderr",
     "output_type": "stream",
     "text": [
      "100%|████████████████████████████████████████████████████████████████████████████████| 144/144 [00:03<00:00, 42.93it/s]\n"
     ]
    },
    {
     "name": "stdout",
     "output_type": "stream",
     "text": [
      "1.0604482459732227\n",
      "Valid binary acc:  0.6041666666666666\n",
      "\n",
      "========== Train epoch 35 ==========\n"
     ]
    },
    {
     "name": "stderr",
     "output_type": "stream",
     "text": [
      "100%|████████████████████████████████████████████████████████████████████████████████| 719/719 [00:14<00:00, 51.06it/s]\n"
     ]
    },
    {
     "name": "stdout",
     "output_type": "stream",
     "text": [
      "1.0808253818514117\n",
      "========== Evaluate Valid set ==========\n"
     ]
    },
    {
     "name": "stderr",
     "output_type": "stream",
     "text": [
      "100%|████████████████████████████████████████████████████████████████████████████████| 144/144 [00:01<00:00, 79.13it/s]\n"
     ]
    },
    {
     "name": "stdout",
     "output_type": "stream",
     "text": [
      "1.0462953107845452\n",
      "Valid binary acc:  0.5833333333333334\n",
      "\n",
      "========== Train epoch 36 ==========\n"
     ]
    },
    {
     "name": "stderr",
     "output_type": "stream",
     "text": [
      "100%|████████████████████████████████████████████████████████████████████████████████| 719/719 [00:15<00:00, 45.62it/s]\n"
     ]
    },
    {
     "name": "stdout",
     "output_type": "stream",
     "text": [
      "1.0776262439435065\n",
      "========== Evaluate Valid set ==========\n"
     ]
    },
    {
     "name": "stderr",
     "output_type": "stream",
     "text": [
      "100%|████████████████████████████████████████████████████████████████████████████████| 144/144 [00:02<00:00, 50.64it/s]\n"
     ]
    },
    {
     "name": "stdout",
     "output_type": "stream",
     "text": [
      "1.0264065496416555\n",
      "Valid binary acc:  0.6388888888888888\n",
      "\n",
      "========== Train epoch 37 ==========\n"
     ]
    },
    {
     "name": "stderr",
     "output_type": "stream",
     "text": [
      "100%|████████████████████████████████████████████████████████████████████████████████| 719/719 [00:15<00:00, 47.56it/s]\n"
     ]
    },
    {
     "name": "stdout",
     "output_type": "stream",
     "text": [
      "1.065384030564894\n",
      "========== Evaluate Valid set ==========\n"
     ]
    },
    {
     "name": "stderr",
     "output_type": "stream",
     "text": [
      "100%|████████████████████████████████████████████████████████████████████████████████| 144/144 [00:02<00:00, 64.51it/s]\n"
     ]
    },
    {
     "name": "stdout",
     "output_type": "stream",
     "text": [
      "1.0230564604409866\n",
      "Valid binary acc:  0.6597222222222222\n",
      "\n",
      "========== Train epoch 38 ==========\n"
     ]
    },
    {
     "name": "stderr",
     "output_type": "stream",
     "text": [
      "100%|████████████████████████████████████████████████████████████████████████████████| 719/719 [00:15<00:00, 46.49it/s]\n"
     ]
    },
    {
     "name": "stdout",
     "output_type": "stream",
     "text": [
      "1.0565379762371823\n",
      "========== Evaluate Valid set ==========\n"
     ]
    },
    {
     "name": "stderr",
     "output_type": "stream",
     "text": [
      "100%|████████████████████████████████████████████████████████████████████████████████| 144/144 [00:01<00:00, 73.29it/s]\n"
     ]
    },
    {
     "name": "stdout",
     "output_type": "stream",
     "text": [
      "1.030708119066225\n",
      "Valid binary acc:  0.625\n",
      "\n",
      "========== Train epoch 39 ==========\n"
     ]
    },
    {
     "name": "stderr",
     "output_type": "stream",
     "text": [
      "100%|████████████████████████████████████████████████████████████████████████████████| 719/719 [00:15<00:00, 46.67it/s]\n"
     ]
    },
    {
     "name": "stdout",
     "output_type": "stream",
     "text": [
      "1.050248445639897\n",
      "========== Evaluate Valid set ==========\n"
     ]
    },
    {
     "name": "stderr",
     "output_type": "stream",
     "text": [
      "100%|████████████████████████████████████████████████████████████████████████████████| 144/144 [00:02<00:00, 60.18it/s]\n"
     ]
    },
    {
     "name": "stdout",
     "output_type": "stream",
     "text": [
      "1.0052277771756053\n",
      "Valid binary acc:  0.6388888888888888\n",
      "\n",
      "========== Train epoch 40 ==========\n"
     ]
    },
    {
     "name": "stderr",
     "output_type": "stream",
     "text": [
      "100%|████████████████████████████████████████████████████████████████████████████████| 719/719 [00:16<00:00, 42.77it/s]\n"
     ]
    },
    {
     "name": "stdout",
     "output_type": "stream",
     "text": [
      "1.0424452035588125\n",
      "========== Evaluate Valid set ==========\n"
     ]
    },
    {
     "name": "stderr",
     "output_type": "stream",
     "text": [
      "100%|████████████████████████████████████████████████████████████████████████████████| 144/144 [00:01<00:00, 73.99it/s]\n"
     ]
    },
    {
     "name": "stdout",
     "output_type": "stream",
     "text": [
      "0.9869204057484038\n",
      "Valid binary acc:  0.6319444444444444\n",
      "\n",
      "========== Train epoch 41 ==========\n"
     ]
    },
    {
     "name": "stderr",
     "output_type": "stream",
     "text": [
      "100%|████████████████████████████████████████████████████████████████████████████████| 719/719 [00:14<00:00, 49.03it/s]\n"
     ]
    },
    {
     "name": "stdout",
     "output_type": "stream",
     "text": [
      "1.0322034615137314\n",
      "========== Evaluate Valid set ==========\n"
     ]
    },
    {
     "name": "stderr",
     "output_type": "stream",
     "text": [
      "100%|████████████████████████████████████████████████████████████████████████████████| 144/144 [00:01<00:00, 72.11it/s]\n"
     ]
    },
    {
     "name": "stdout",
     "output_type": "stream",
     "text": [
      "0.9816641595938967\n",
      "Valid binary acc:  0.6458333333333334\n",
      "\n",
      "========== Train epoch 42 ==========\n"
     ]
    },
    {
     "name": "stderr",
     "output_type": "stream",
     "text": [
      "100%|████████████████████████████████████████████████████████████████████████████████| 719/719 [00:14<00:00, 49.53it/s]\n"
     ]
    },
    {
     "name": "stdout",
     "output_type": "stream",
     "text": [
      "1.0239525830583007\n",
      "========== Evaluate Valid set ==========\n"
     ]
    },
    {
     "name": "stderr",
     "output_type": "stream",
     "text": [
      "100%|████████████████████████████████████████████████████████████████████████████████| 144/144 [00:01<00:00, 74.29it/s]\n"
     ]
    },
    {
     "name": "stdout",
     "output_type": "stream",
     "text": [
      "0.9639587033953931\n",
      "Valid binary acc:  0.6527777777777778\n",
      "\n",
      "========== Train epoch 43 ==========\n"
     ]
    },
    {
     "name": "stderr",
     "output_type": "stream",
     "text": [
      "100%|████████████████████████████████████████████████████████████████████████████████| 719/719 [00:14<00:00, 50.72it/s]\n"
     ]
    },
    {
     "name": "stdout",
     "output_type": "stream",
     "text": [
      "1.0133425339393225\n",
      "========== Evaluate Valid set ==========\n"
     ]
    },
    {
     "name": "stderr",
     "output_type": "stream",
     "text": [
      "100%|████████████████████████████████████████████████████████████████████████████████| 144/144 [00:01<00:00, 74.49it/s]\n"
     ]
    },
    {
     "name": "stdout",
     "output_type": "stream",
     "text": [
      "0.9572269340149231\n",
      "Valid binary acc:  0.6319444444444444\n",
      "\n",
      "========== Train epoch 44 ==========\n"
     ]
    },
    {
     "name": "stderr",
     "output_type": "stream",
     "text": [
      "100%|████████████████████████████████████████████████████████████████████████████████| 719/719 [00:14<00:00, 51.04it/s]\n"
     ]
    },
    {
     "name": "stdout",
     "output_type": "stream",
     "text": [
      "1.0042014339671927\n",
      "========== Evaluate Valid set ==========\n"
     ]
    },
    {
     "name": "stderr",
     "output_type": "stream",
     "text": [
      "100%|████████████████████████████████████████████████████████████████████████████████| 144/144 [00:01<00:00, 79.50it/s]\n"
     ]
    },
    {
     "name": "stdout",
     "output_type": "stream",
     "text": [
      "0.9561998824485474\n",
      "Valid binary acc:  0.6805555555555556\n",
      "\n",
      "========== Train epoch 45 ==========\n"
     ]
    },
    {
     "name": "stderr",
     "output_type": "stream",
     "text": [
      "100%|████████████████████████████████████████████████████████████████████████████████| 719/719 [00:14<00:00, 50.97it/s]\n"
     ]
    },
    {
     "name": "stdout",
     "output_type": "stream",
     "text": [
      "0.9953283344774982\n",
      "========== Evaluate Valid set ==========\n"
     ]
    },
    {
     "name": "stderr",
     "output_type": "stream",
     "text": [
      "100%|████████████████████████████████████████████████████████████████████████████████| 144/144 [00:01<00:00, 78.06it/s]\n"
     ]
    },
    {
     "name": "stdout",
     "output_type": "stream",
     "text": [
      "0.9277787605921427\n",
      "Valid binary acc:  0.6736111111111112\n",
      "\n",
      "========== Train epoch 46 ==========\n"
     ]
    },
    {
     "name": "stderr",
     "output_type": "stream",
     "text": [
      "100%|████████████████████████████████████████████████████████████████████████████████| 719/719 [00:13<00:00, 53.38it/s]\n"
     ]
    },
    {
     "name": "stdout",
     "output_type": "stream",
     "text": [
      "0.9850573512118035\n",
      "========== Evaluate Valid set ==========\n"
     ]
    },
    {
     "name": "stderr",
     "output_type": "stream",
     "text": [
      "100%|████████████████████████████████████████████████████████████████████████████████| 144/144 [00:01<00:00, 79.37it/s]\n"
     ]
    },
    {
     "name": "stdout",
     "output_type": "stream",
     "text": [
      "0.9102954332613282\n",
      "Valid binary acc:  0.6944444444444444\n",
      "\n",
      "========== Train epoch 47 ==========\n"
     ]
    },
    {
     "name": "stderr",
     "output_type": "stream",
     "text": [
      "100%|████████████████████████████████████████████████████████████████████████████████| 719/719 [00:13<00:00, 53.17it/s]\n"
     ]
    },
    {
     "name": "stdout",
     "output_type": "stream",
     "text": [
      "0.9732281547272902\n",
      "========== Evaluate Valid set ==========\n"
     ]
    },
    {
     "name": "stderr",
     "output_type": "stream",
     "text": [
      "100%|████████████████████████████████████████████████████████████████████████████████| 144/144 [00:01<00:00, 78.90it/s]\n"
     ]
    },
    {
     "name": "stdout",
     "output_type": "stream",
     "text": [
      "0.9005614717284011\n",
      "Valid binary acc:  0.7013888888888888\n",
      "\n",
      "========== Train epoch 48 ==========\n"
     ]
    },
    {
     "name": "stderr",
     "output_type": "stream",
     "text": [
      "100%|████████████████████████████████████████████████████████████████████████████████| 719/719 [00:13<00:00, 53.03it/s]\n"
     ]
    },
    {
     "name": "stdout",
     "output_type": "stream",
     "text": [
      "0.9597820162783495\n",
      "========== Evaluate Valid set ==========\n"
     ]
    },
    {
     "name": "stderr",
     "output_type": "stream",
     "text": [
      "100%|████████████████████████████████████████████████████████████████████████████████| 144/144 [00:01<00:00, 76.25it/s]\n"
     ]
    },
    {
     "name": "stdout",
     "output_type": "stream",
     "text": [
      "0.8984790644349737\n",
      "Valid binary acc:  0.6875\n",
      "\n",
      "========== Train epoch 49 ==========\n"
     ]
    },
    {
     "name": "stderr",
     "output_type": "stream",
     "text": [
      "100%|████████████████████████████████████████████████████████████████████████████████| 719/719 [00:13<00:00, 53.26it/s]\n"
     ]
    },
    {
     "name": "stdout",
     "output_type": "stream",
     "text": [
      "0.9530386682211193\n",
      "========== Evaluate Valid set ==========\n"
     ]
    },
    {
     "name": "stderr",
     "output_type": "stream",
     "text": [
      "100%|████████████████████████████████████████████████████████████████████████████████| 144/144 [00:01<00:00, 78.50it/s]\n"
     ]
    },
    {
     "name": "stdout",
     "output_type": "stream",
     "text": [
      "0.8839512509035153\n",
      "Valid binary acc:  0.7222222222222222\n",
      "\n",
      "========== Train epoch 50 ==========\n"
     ]
    },
    {
     "name": "stderr",
     "output_type": "stream",
     "text": [
      "100%|████████████████████████████████████████████████████████████████████████████████| 719/719 [00:13<00:00, 53.33it/s]\n"
     ]
    },
    {
     "name": "stdout",
     "output_type": "stream",
     "text": [
      "0.9408239824269925\n",
      "========== Evaluate Valid set ==========\n"
     ]
    },
    {
     "name": "stderr",
     "output_type": "stream",
     "text": [
      "100%|████████████████████████████████████████████████████████████████████████████████| 144/144 [00:01<00:00, 79.00it/s]\n"
     ]
    },
    {
     "name": "stdout",
     "output_type": "stream",
     "text": [
      "0.8587735912555622\n",
      "Valid binary acc:  0.7291666666666666\n",
      "\n",
      "========== Train epoch 51 ==========\n"
     ]
    },
    {
     "name": "stderr",
     "output_type": "stream",
     "text": [
      "100%|████████████████████████████████████████████████████████████████████████████████| 719/719 [00:13<00:00, 53.29it/s]\n"
     ]
    },
    {
     "name": "stdout",
     "output_type": "stream",
     "text": [
      "0.9283658363966476\n",
      "========== Evaluate Valid set ==========\n"
     ]
    },
    {
     "name": "stderr",
     "output_type": "stream",
     "text": [
      "100%|████████████████████████████████████████████████████████████████████████████████| 144/144 [00:01<00:00, 79.43it/s]\n"
     ]
    },
    {
     "name": "stdout",
     "output_type": "stream",
     "text": [
      "0.8426442836773478\n",
      "Valid binary acc:  0.7291666666666666\n",
      "\n",
      "========== Train epoch 52 ==========\n"
     ]
    },
    {
     "name": "stderr",
     "output_type": "stream",
     "text": [
      "100%|████████████████████████████████████████████████████████████████████████████████| 719/719 [00:13<00:00, 52.64it/s]\n"
     ]
    },
    {
     "name": "stdout",
     "output_type": "stream",
     "text": [
      "0.9138313947823183\n",
      "========== Evaluate Valid set ==========\n"
     ]
    },
    {
     "name": "stderr",
     "output_type": "stream",
     "text": [
      "100%|████████████████████████████████████████████████████████████████████████████████| 144/144 [00:01<00:00, 78.45it/s]\n"
     ]
    },
    {
     "name": "stdout",
     "output_type": "stream",
     "text": [
      "0.8488703013216663\n",
      "Valid binary acc:  0.7152777777777778\n",
      "\n",
      "========== Train epoch 53 ==========\n"
     ]
    },
    {
     "name": "stderr",
     "output_type": "stream",
     "text": [
      "100%|████████████████████████████████████████████████████████████████████████████████| 719/719 [00:13<00:00, 52.85it/s]\n"
     ]
    },
    {
     "name": "stdout",
     "output_type": "stream",
     "text": [
      "0.9018805352906193\n",
      "========== Evaluate Valid set ==========\n"
     ]
    },
    {
     "name": "stderr",
     "output_type": "stream",
     "text": [
      "100%|████████████████████████████████████████████████████████████████████████████████| 144/144 [00:01<00:00, 80.46it/s]\n"
     ]
    },
    {
     "name": "stdout",
     "output_type": "stream",
     "text": [
      "0.8414283593495687\n",
      "Valid binary acc:  0.7222222222222222\n",
      "\n",
      "========== Train epoch 54 ==========\n"
     ]
    },
    {
     "name": "stderr",
     "output_type": "stream",
     "text": [
      "100%|████████████████████████████████████████████████████████████████████████████████| 719/719 [00:13<00:00, 52.35it/s]\n"
     ]
    },
    {
     "name": "stdout",
     "output_type": "stream",
     "text": [
      "0.8965731974618616\n",
      "========== Evaluate Valid set ==========\n"
     ]
    },
    {
     "name": "stderr",
     "output_type": "stream",
     "text": [
      "100%|████████████████████████████████████████████████████████████████████████████████| 144/144 [00:01<00:00, 79.17it/s]\n"
     ]
    },
    {
     "name": "stdout",
     "output_type": "stream",
     "text": [
      "0.8128406882493032\n",
      "Valid binary acc:  0.7152777777777778\n",
      "\n",
      "========== Train epoch 55 ==========\n"
     ]
    },
    {
     "name": "stderr",
     "output_type": "stream",
     "text": [
      "100%|████████████████████████████████████████████████████████████████████████████████| 719/719 [00:13<00:00, 52.83it/s]\n"
     ]
    },
    {
     "name": "stdout",
     "output_type": "stream",
     "text": [
      "0.8758236194814404\n",
      "========== Evaluate Valid set ==========\n"
     ]
    },
    {
     "name": "stderr",
     "output_type": "stream",
     "text": [
      "100%|████████████████████████████████████████████████████████████████████████████████| 144/144 [00:01<00:00, 80.01it/s]\n"
     ]
    },
    {
     "name": "stdout",
     "output_type": "stream",
     "text": [
      "0.811771815125313\n",
      "Valid binary acc:  0.7361111111111112\n",
      "\n",
      "========== Train epoch 56 ==========\n"
     ]
    },
    {
     "name": "stderr",
     "output_type": "stream",
     "text": [
      "100%|████████████████████████████████████████████████████████████████████████████████| 719/719 [00:13<00:00, 52.15it/s]\n"
     ]
    },
    {
     "name": "stdout",
     "output_type": "stream",
     "text": [
      "0.8677258670785994\n",
      "========== Evaluate Valid set ==========\n"
     ]
    },
    {
     "name": "stderr",
     "output_type": "stream",
     "text": [
      "100%|████████████████████████████████████████████████████████████████████████████████| 144/144 [00:01<00:00, 79.08it/s]\n"
     ]
    },
    {
     "name": "stdout",
     "output_type": "stream",
     "text": [
      "0.7908755904580984\n",
      "Valid binary acc:  0.7083333333333334\n",
      "\n",
      "========== Train epoch 57 ==========\n"
     ]
    },
    {
     "name": "stderr",
     "output_type": "stream",
     "text": [
      "100%|████████████████████████████████████████████████████████████████████████████████| 719/719 [00:13<00:00, 52.36it/s]\n"
     ]
    },
    {
     "name": "stdout",
     "output_type": "stream",
     "text": [
      "0.8547417554105419\n",
      "========== Evaluate Valid set ==========\n"
     ]
    },
    {
     "name": "stderr",
     "output_type": "stream",
     "text": [
      "100%|████████████████████████████████████████████████████████████████████████████████| 144/144 [00:01<00:00, 78.13it/s]\n"
     ]
    },
    {
     "name": "stdout",
     "output_type": "stream",
     "text": [
      "0.758488705692192\n",
      "Valid binary acc:  0.7638888888888888\n",
      "\n",
      "========== Train epoch 58 ==========\n"
     ]
    },
    {
     "name": "stderr",
     "output_type": "stream",
     "text": [
      "100%|████████████████████████████████████████████████████████████████████████████████| 719/719 [00:14<00:00, 50.78it/s]\n"
     ]
    },
    {
     "name": "stdout",
     "output_type": "stream",
     "text": [
      "0.842145347300663\n",
      "========== Evaluate Valid set ==========\n"
     ]
    },
    {
     "name": "stderr",
     "output_type": "stream",
     "text": [
      "100%|████████████████████████████████████████████████████████████████████████████████| 144/144 [00:01<00:00, 75.09it/s]\n"
     ]
    },
    {
     "name": "stdout",
     "output_type": "stream",
     "text": [
      "0.7619507410563529\n",
      "Valid binary acc:  0.75\n",
      "\n",
      "========== Train epoch 59 ==========\n"
     ]
    },
    {
     "name": "stderr",
     "output_type": "stream",
     "text": [
      "100%|████████████████████████████████████████████████████████████████████████████████| 719/719 [00:15<00:00, 45.40it/s]\n"
     ]
    },
    {
     "name": "stdout",
     "output_type": "stream",
     "text": [
      "0.8266073622325013\n",
      "========== Evaluate Valid set ==========\n"
     ]
    },
    {
     "name": "stderr",
     "output_type": "stream",
     "text": [
      "100%|████████████████████████████████████████████████████████████████████████████████| 144/144 [00:02<00:00, 70.28it/s]\n"
     ]
    },
    {
     "name": "stdout",
     "output_type": "stream",
     "text": [
      "0.7459302655641094\n",
      "Valid binary acc:  0.75\n",
      "\n",
      "========== Train epoch 60 ==========\n"
     ]
    },
    {
     "name": "stderr",
     "output_type": "stream",
     "text": [
      "100%|████████████████████████████████████████████████████████████████████████████████| 719/719 [00:14<00:00, 50.32it/s]\n"
     ]
    },
    {
     "name": "stdout",
     "output_type": "stream",
     "text": [
      "0.8157454618059814\n",
      "========== Evaluate Valid set ==========\n"
     ]
    },
    {
     "name": "stderr",
     "output_type": "stream",
     "text": [
      "100%|████████████████████████████████████████████████████████████████████████████████| 144/144 [00:01<00:00, 77.15it/s]\n"
     ]
    },
    {
     "name": "stdout",
     "output_type": "stream",
     "text": [
      "0.7241923850572979\n",
      "Valid binary acc:  0.7638888888888888\n",
      "\n",
      "========== Train epoch 61 ==========\n"
     ]
    },
    {
     "name": "stderr",
     "output_type": "stream",
     "text": [
      "100%|████████████████████████████████████████████████████████████████████████████████| 719/719 [00:13<00:00, 51.68it/s]\n"
     ]
    },
    {
     "name": "stdout",
     "output_type": "stream",
     "text": [
      "0.8022227693693673\n",
      "========== Evaluate Valid set ==========\n"
     ]
    },
    {
     "name": "stderr",
     "output_type": "stream",
     "text": [
      "100%|████████████████████████████████████████████████████████████████████████████████| 144/144 [00:02<00:00, 70.94it/s]\n"
     ]
    },
    {
     "name": "stdout",
     "output_type": "stream",
     "text": [
      "0.7228736358940497\n",
      "Valid binary acc:  0.7638888888888888\n",
      "\n",
      "========== Train epoch 62 ==========\n"
     ]
    },
    {
     "name": "stderr",
     "output_type": "stream",
     "text": [
      "100%|████████████████████████████████████████████████████████████████████████████████| 719/719 [00:13<00:00, 51.67it/s]\n"
     ]
    },
    {
     "name": "stdout",
     "output_type": "stream",
     "text": [
      "0.7889088927981895\n",
      "========== Evaluate Valid set ==========\n"
     ]
    },
    {
     "name": "stderr",
     "output_type": "stream",
     "text": [
      "100%|████████████████████████████████████████████████████████████████████████████████| 144/144 [00:01<00:00, 76.47it/s]\n"
     ]
    },
    {
     "name": "stdout",
     "output_type": "stream",
     "text": [
      "0.7021908658918821\n",
      "Valid binary acc:  0.7569444444444444\n",
      "\n",
      "========== Train epoch 63 ==========\n"
     ]
    },
    {
     "name": "stderr",
     "output_type": "stream",
     "text": [
      "100%|████████████████████████████████████████████████████████████████████████████████| 719/719 [00:13<00:00, 51.58it/s]\n"
     ]
    },
    {
     "name": "stdout",
     "output_type": "stream",
     "text": [
      "0.7754600043026458\n",
      "========== Evaluate Valid set ==========\n"
     ]
    },
    {
     "name": "stderr",
     "output_type": "stream",
     "text": [
      "100%|████████████████████████████████████████████████████████████████████████████████| 144/144 [00:01<00:00, 77.86it/s]\n"
     ]
    },
    {
     "name": "stdout",
     "output_type": "stream",
     "text": [
      "0.6906299251487427\n",
      "Valid binary acc:  0.7708333333333334\n",
      "\n",
      "========== Train epoch 64 ==========\n"
     ]
    },
    {
     "name": "stderr",
     "output_type": "stream",
     "text": [
      "100%|████████████████████████████████████████████████████████████████████████████████| 719/719 [00:13<00:00, 51.96it/s]\n"
     ]
    },
    {
     "name": "stdout",
     "output_type": "stream",
     "text": [
      "0.7604515327513736\n",
      "========== Evaluate Valid set ==========\n"
     ]
    },
    {
     "name": "stderr",
     "output_type": "stream",
     "text": [
      "100%|████████████████████████████████████████████████████████████████████████████████| 144/144 [00:02<00:00, 70.29it/s]\n"
     ]
    },
    {
     "name": "stdout",
     "output_type": "stream",
     "text": [
      "0.6883340117249949\n",
      "Valid binary acc:  0.7847222222222222\n",
      "\n",
      "========== Train epoch 65 ==========\n"
     ]
    },
    {
     "name": "stderr",
     "output_type": "stream",
     "text": [
      "100%|████████████████████████████████████████████████████████████████████████████████| 719/719 [00:13<00:00, 52.01it/s]\n"
     ]
    },
    {
     "name": "stdout",
     "output_type": "stream",
     "text": [
      "0.7480662302994875\n",
      "========== Evaluate Valid set ==========\n"
     ]
    },
    {
     "name": "stderr",
     "output_type": "stream",
     "text": [
      "100%|████████████████████████████████████████████████████████████████████████████████| 144/144 [00:01<00:00, 79.61it/s]\n"
     ]
    },
    {
     "name": "stdout",
     "output_type": "stream",
     "text": [
      "0.6792319236168017\n",
      "Valid binary acc:  0.7847222222222222\n",
      "\n",
      "========== Train epoch 66 ==========\n"
     ]
    },
    {
     "name": "stderr",
     "output_type": "stream",
     "text": [
      "100%|████████████████████████████████████████████████████████████████████████████████| 719/719 [00:13<00:00, 53.13it/s]\n"
     ]
    },
    {
     "name": "stdout",
     "output_type": "stream",
     "text": [
      "0.7358917636584402\n",
      "========== Evaluate Valid set ==========\n"
     ]
    },
    {
     "name": "stderr",
     "output_type": "stream",
     "text": [
      "100%|████████████████████████████████████████████████████████████████████████████████| 144/144 [00:01<00:00, 78.07it/s]\n"
     ]
    },
    {
     "name": "stdout",
     "output_type": "stream",
     "text": [
      "0.6506935147562116\n",
      "Valid binary acc:  0.7777777777777778\n",
      "\n",
      "========== Train epoch 67 ==========\n"
     ]
    },
    {
     "name": "stderr",
     "output_type": "stream",
     "text": [
      "100%|████████████████████████████████████████████████████████████████████████████████| 719/719 [00:13<00:00, 52.58it/s]\n"
     ]
    },
    {
     "name": "stdout",
     "output_type": "stream",
     "text": [
      "0.7210855815739025\n",
      "========== Evaluate Valid set ==========\n"
     ]
    },
    {
     "name": "stderr",
     "output_type": "stream",
     "text": [
      "100%|████████████████████████████████████████████████████████████████████████████████| 144/144 [00:01<00:00, 78.22it/s]\n"
     ]
    },
    {
     "name": "stdout",
     "output_type": "stream",
     "text": [
      "0.6405964086491925\n",
      "Valid binary acc:  0.7847222222222222\n",
      "\n",
      "========== Train epoch 68 ==========\n"
     ]
    },
    {
     "name": "stderr",
     "output_type": "stream",
     "text": [
      "100%|████████████████████████████████████████████████████████████████████████████████| 719/719 [00:13<00:00, 53.55it/s]\n"
     ]
    },
    {
     "name": "stdout",
     "output_type": "stream",
     "text": [
      "0.7009284954931929\n",
      "========== Evaluate Valid set ==========\n"
     ]
    },
    {
     "name": "stderr",
     "output_type": "stream",
     "text": [
      "100%|████████████████████████████████████████████████████████████████████████████████| 144/144 [00:01<00:00, 79.20it/s]\n"
     ]
    },
    {
     "name": "stdout",
     "output_type": "stream",
     "text": [
      "0.6275541562014647\n",
      "Valid binary acc:  0.7847222222222222\n",
      "\n",
      "========== Train epoch 69 ==========\n"
     ]
    },
    {
     "name": "stderr",
     "output_type": "stream",
     "text": [
      "100%|████████████████████████████████████████████████████████████████████████████████| 719/719 [00:13<00:00, 53.39it/s]\n"
     ]
    },
    {
     "name": "stdout",
     "output_type": "stream",
     "text": [
      "0.7003081183574876\n",
      "========== Evaluate Valid set ==========\n"
     ]
    },
    {
     "name": "stderr",
     "output_type": "stream",
     "text": [
      "100%|████████████████████████████████████████████████████████████████████████████████| 144/144 [00:01<00:00, 79.06it/s]\n"
     ]
    },
    {
     "name": "stdout",
     "output_type": "stream",
     "text": [
      "0.6207793589629647\n",
      "Valid binary acc:  0.8055555555555556\n",
      "\n",
      "========== Train epoch 70 ==========\n"
     ]
    },
    {
     "name": "stderr",
     "output_type": "stream",
     "text": [
      "100%|████████████████████████████████████████████████████████████████████████████████| 719/719 [00:13<00:00, 53.24it/s]\n"
     ]
    },
    {
     "name": "stdout",
     "output_type": "stream",
     "text": [
      "0.6741537480114445\n",
      "========== Evaluate Valid set ==========\n"
     ]
    },
    {
     "name": "stderr",
     "output_type": "stream",
     "text": [
      "100%|████████████████████████████████████████████████████████████████████████████████| 144/144 [00:01<00:00, 78.37it/s]\n"
     ]
    },
    {
     "name": "stdout",
     "output_type": "stream",
     "text": [
      "0.6217879057609631\n",
      "Valid binary acc:  0.8194444444444444\n",
      "\n",
      "========== Train epoch 71 ==========\n"
     ]
    },
    {
     "name": "stderr",
     "output_type": "stream",
     "text": [
      "100%|████████████████████████████████████████████████████████████████████████████████| 719/719 [00:13<00:00, 53.00it/s]\n"
     ]
    },
    {
     "name": "stdout",
     "output_type": "stream",
     "text": [
      "0.6652411814803006\n",
      "========== Evaluate Valid set ==========\n"
     ]
    },
    {
     "name": "stderr",
     "output_type": "stream",
     "text": [
      "100%|████████████████████████████████████████████████████████████████████████████████| 144/144 [00:01<00:00, 77.54it/s]\n"
     ]
    },
    {
     "name": "stdout",
     "output_type": "stream",
     "text": [
      "0.6084912380061319\n",
      "Valid binary acc:  0.8125\n",
      "\n",
      "========== Train epoch 72 ==========\n"
     ]
    },
    {
     "name": "stderr",
     "output_type": "stream",
     "text": [
      "100%|████████████████████████████████████████████████████████████████████████████████| 719/719 [00:13<00:00, 52.84it/s]\n"
     ]
    },
    {
     "name": "stdout",
     "output_type": "stream",
     "text": [
      "0.6530488569082845\n",
      "========== Evaluate Valid set ==========\n"
     ]
    },
    {
     "name": "stderr",
     "output_type": "stream",
     "text": [
      "100%|████████████████████████████████████████████████████████████████████████████████| 144/144 [00:01<00:00, 78.71it/s]\n"
     ]
    },
    {
     "name": "stdout",
     "output_type": "stream",
     "text": [
      "0.6000280554128241\n",
      "Valid binary acc:  0.8125\n",
      "\n",
      "========== Train epoch 73 ==========\n"
     ]
    },
    {
     "name": "stderr",
     "output_type": "stream",
     "text": [
      "100%|████████████████████████████████████████████████████████████████████████████████| 719/719 [00:13<00:00, 52.79it/s]\n"
     ]
    },
    {
     "name": "stdout",
     "output_type": "stream",
     "text": [
      "0.640378407657798\n",
      "========== Evaluate Valid set ==========\n"
     ]
    },
    {
     "name": "stderr",
     "output_type": "stream",
     "text": [
      "100%|████████████████████████████████████████████████████████████████████████████████| 144/144 [00:01<00:00, 78.27it/s]\n"
     ]
    },
    {
     "name": "stdout",
     "output_type": "stream",
     "text": [
      "0.5754615474110728\n",
      "Valid binary acc:  0.8055555555555556\n",
      "\n",
      "========== Train epoch 74 ==========\n"
     ]
    },
    {
     "name": "stderr",
     "output_type": "stream",
     "text": [
      "100%|████████████████████████████████████████████████████████████████████████████████| 719/719 [00:13<00:00, 52.69it/s]\n"
     ]
    },
    {
     "name": "stdout",
     "output_type": "stream",
     "text": [
      "0.6310668691671525\n",
      "========== Evaluate Valid set ==========\n"
     ]
    },
    {
     "name": "stderr",
     "output_type": "stream",
     "text": [
      "100%|████████████████████████████████████████████████████████████████████████████████| 144/144 [00:01<00:00, 79.79it/s]\n"
     ]
    },
    {
     "name": "stdout",
     "output_type": "stream",
     "text": [
      "0.578116995057725\n",
      "Valid binary acc:  0.8125\n",
      "\n",
      "========== Train epoch 75 ==========\n"
     ]
    },
    {
     "name": "stderr",
     "output_type": "stream",
     "text": [
      "100%|████████████████████████████████████████████████████████████████████████████████| 719/719 [00:14<00:00, 50.48it/s]\n"
     ]
    },
    {
     "name": "stdout",
     "output_type": "stream",
     "text": [
      "0.6172292024463543\n",
      "========== Evaluate Valid set ==========\n"
     ]
    },
    {
     "name": "stderr",
     "output_type": "stream",
     "text": [
      "100%|████████████████████████████████████████████████████████████████████████████████| 144/144 [00:01<00:00, 73.02it/s]\n"
     ]
    },
    {
     "name": "stdout",
     "output_type": "stream",
     "text": [
      "0.5673049017746558\n",
      "Valid binary acc:  0.8263888888888888\n",
      "\n",
      "========== Fold 2 ==========\n",
      "Training on 575 examples, Validation on 144 examples\n",
      "\n",
      "========== Train epoch 1 ==========\n"
     ]
    },
    {
     "name": "stderr",
     "output_type": "stream",
     "text": [
      "100%|████████████████████████████████████████████████████████████████████████████████| 719/719 [00:13<00:00, 52.36it/s]\n"
     ]
    },
    {
     "name": "stdout",
     "output_type": "stream",
     "text": [
      "1.4982599085494772\n",
      "========== Evaluate Valid set ==========\n"
     ]
    },
    {
     "name": "stderr",
     "output_type": "stream",
     "text": [
      "100%|████████████████████████████████████████████████████████████████████████████████| 144/144 [00:02<00:00, 65.79it/s]\n"
     ]
    },
    {
     "name": "stdout",
     "output_type": "stream",
     "text": [
      "1.455783148192697\n",
      "Valid binary acc:  0.3611111111111111\n",
      "\n",
      "========== Train epoch 2 ==========\n"
     ]
    },
    {
     "name": "stderr",
     "output_type": "stream",
     "text": [
      "100%|████████████████████████████████████████████████████████████████████████████████| 719/719 [00:13<00:00, 53.28it/s]\n"
     ]
    },
    {
     "name": "stdout",
     "output_type": "stream",
     "text": [
      "1.447800649638302\n",
      "========== Evaluate Valid set ==========\n"
     ]
    },
    {
     "name": "stderr",
     "output_type": "stream",
     "text": [
      "100%|████████████████████████████████████████████████████████████████████████████████| 144/144 [00:02<00:00, 65.32it/s]\n"
     ]
    },
    {
     "name": "stdout",
     "output_type": "stream",
     "text": [
      "1.414887050787608\n",
      "Valid binary acc:  0.4305555555555556\n",
      "\n",
      "========== Train epoch 3 ==========\n"
     ]
    },
    {
     "name": "stderr",
     "output_type": "stream",
     "text": [
      "100%|████████████████████████████████████████████████████████████████████████████████| 719/719 [00:13<00:00, 52.95it/s]\n"
     ]
    },
    {
     "name": "stdout",
     "output_type": "stream",
     "text": [
      "1.4191396317661058\n",
      "========== Evaluate Valid set ==========\n"
     ]
    },
    {
     "name": "stderr",
     "output_type": "stream",
     "text": [
      "100%|████████████████████████████████████████████████████████████████████████████████| 144/144 [00:02<00:00, 65.86it/s]\n"
     ]
    },
    {
     "name": "stdout",
     "output_type": "stream",
     "text": [
      "1.3775779571798112\n",
      "Valid binary acc:  0.4513888888888889\n",
      "\n",
      "========== Train epoch 4 ==========\n"
     ]
    },
    {
     "name": "stderr",
     "output_type": "stream",
     "text": [
      "100%|████████████████████████████████████████████████████████████████████████████████| 719/719 [00:14<00:00, 50.56it/s]\n"
     ]
    },
    {
     "name": "stdout",
     "output_type": "stream",
     "text": [
      "1.3926919379552647\n",
      "========== Evaluate Valid set ==========\n"
     ]
    },
    {
     "name": "stderr",
     "output_type": "stream",
     "text": [
      "100%|████████████████████████████████████████████████████████████████████████████████| 144/144 [00:02<00:00, 62.52it/s]\n"
     ]
    },
    {
     "name": "stdout",
     "output_type": "stream",
     "text": [
      "1.3460519831213686\n",
      "Valid binary acc:  0.4444444444444444\n",
      "\n",
      "========== Train epoch 5 ==========\n"
     ]
    },
    {
     "name": "stderr",
     "output_type": "stream",
     "text": [
      "100%|████████████████████████████████████████████████████████████████████████████████| 719/719 [00:13<00:00, 51.70it/s]\n"
     ]
    },
    {
     "name": "stdout",
     "output_type": "stream",
     "text": [
      "1.3683040231590642\n",
      "========== Evaluate Valid set ==========\n"
     ]
    },
    {
     "name": "stderr",
     "output_type": "stream",
     "text": [
      "100%|████████████████████████████████████████████████████████████████████████████████| 144/144 [00:02<00:00, 52.75it/s]\n"
     ]
    },
    {
     "name": "stdout",
     "output_type": "stream",
     "text": [
      "1.312250517308712\n",
      "Valid binary acc:  0.4791666666666667\n",
      "\n",
      "========== Train epoch 6 ==========\n"
     ]
    },
    {
     "name": "stderr",
     "output_type": "stream",
     "text": [
      "100%|████████████████████████████████████████████████████████████████████████████████| 719/719 [00:18<00:00, 38.95it/s]\n"
     ]
    },
    {
     "name": "stdout",
     "output_type": "stream",
     "text": [
      "1.3398906678085698\n",
      "========== Evaluate Valid set ==========\n"
     ]
    },
    {
     "name": "stderr",
     "output_type": "stream",
     "text": [
      "100%|████████████████████████████████████████████████████████████████████████████████| 144/144 [00:03<00:00, 46.94it/s]\n"
     ]
    },
    {
     "name": "stdout",
     "output_type": "stream",
     "text": [
      "1.2853966117319133\n",
      "Valid binary acc:  0.4722222222222222\n",
      "\n",
      "========== Train epoch 7 ==========\n"
     ]
    },
    {
     "name": "stderr",
     "output_type": "stream",
     "text": [
      "100%|████████████████████████████████████████████████████████████████████████████████| 719/719 [00:18<00:00, 39.39it/s]\n"
     ]
    },
    {
     "name": "stdout",
     "output_type": "stream",
     "text": [
      "1.3210310301379469\n",
      "========== Evaluate Valid set ==========\n"
     ]
    },
    {
     "name": "stderr",
     "output_type": "stream",
     "text": [
      "100%|████████████████████████████████████████████████████████████████████████████████| 144/144 [00:02<00:00, 54.66it/s]\n"
     ]
    },
    {
     "name": "stdout",
     "output_type": "stream",
     "text": [
      "1.2766004583487909\n",
      "Valid binary acc:  0.4791666666666667\n",
      "\n",
      "========== Train epoch 8 ==========\n"
     ]
    },
    {
     "name": "stderr",
     "output_type": "stream",
     "text": [
      "100%|████████████████████████████████████████████████████████████████████████████████| 719/719 [00:15<00:00, 45.96it/s]\n"
     ]
    },
    {
     "name": "stdout",
     "output_type": "stream",
     "text": [
      "1.305401541924775\n",
      "========== Evaluate Valid set ==========\n"
     ]
    },
    {
     "name": "stderr",
     "output_type": "stream",
     "text": [
      "100%|████████████████████████████████████████████████████████████████████████████████| 144/144 [00:02<00:00, 54.92it/s]\n"
     ]
    },
    {
     "name": "stdout",
     "output_type": "stream",
     "text": [
      "1.2696523053778543\n",
      "Valid binary acc:  0.5\n",
      "\n",
      "========== Train epoch 9 ==========\n"
     ]
    },
    {
     "name": "stderr",
     "output_type": "stream",
     "text": [
      "100%|████████████████████████████████████████████████████████████████████████████████| 719/719 [00:15<00:00, 46.24it/s]\n"
     ]
    },
    {
     "name": "stdout",
     "output_type": "stream",
     "text": [
      "1.2885502941170721\n",
      "========== Evaluate Valid set ==========\n"
     ]
    },
    {
     "name": "stderr",
     "output_type": "stream",
     "text": [
      "100%|████████████████████████████████████████████████████████████████████████████████| 144/144 [00:02<00:00, 54.16it/s]\n"
     ]
    },
    {
     "name": "stdout",
     "output_type": "stream",
     "text": [
      "1.2449083005388577\n",
      "Valid binary acc:  0.5416666666666666\n",
      "\n",
      "========== Train epoch 10 ==========\n"
     ]
    },
    {
     "name": "stderr",
     "output_type": "stream",
     "text": [
      "100%|████████████████████████████████████████████████████████████████████████████████| 719/719 [00:15<00:00, 45.80it/s]\n"
     ]
    },
    {
     "name": "stdout",
     "output_type": "stream",
     "text": [
      "1.2809815214472786\n",
      "========== Evaluate Valid set ==========\n"
     ]
    },
    {
     "name": "stderr",
     "output_type": "stream",
     "text": [
      "100%|████████████████████████████████████████████████████████████████████████████████| 144/144 [00:02<00:00, 54.20it/s]\n"
     ]
    },
    {
     "name": "stdout",
     "output_type": "stream",
     "text": [
      "1.2315232792041368\n",
      "Valid binary acc:  0.5138888888888888\n",
      "\n",
      "========== Train epoch 11 ==========\n"
     ]
    },
    {
     "name": "stderr",
     "output_type": "stream",
     "text": [
      "100%|████████████████████████████████████████████████████████████████████████████████| 719/719 [00:15<00:00, 46.14it/s]\n"
     ]
    },
    {
     "name": "stdout",
     "output_type": "stream",
     "text": [
      "1.2654865208562458\n",
      "========== Evaluate Valid set ==========\n"
     ]
    },
    {
     "name": "stderr",
     "output_type": "stream",
     "text": [
      "100%|████████████████████████████████████████████████████████████████████████████████| 144/144 [00:02<00:00, 55.11it/s]\n"
     ]
    },
    {
     "name": "stdout",
     "output_type": "stream",
     "text": [
      "1.2303681907554467\n",
      "Valid binary acc:  0.5069444444444444\n",
      "\n",
      "========== Train epoch 12 ==========\n"
     ]
    },
    {
     "name": "stderr",
     "output_type": "stream",
     "text": [
      "100%|████████████████████████████████████████████████████████████████████████████████| 719/719 [00:15<00:00, 45.72it/s]\n"
     ]
    },
    {
     "name": "stdout",
     "output_type": "stream",
     "text": [
      "1.2571918220364169\n",
      "========== Evaluate Valid set ==========\n"
     ]
    },
    {
     "name": "stderr",
     "output_type": "stream",
     "text": [
      "100%|████████████████████████████████████████████████████████████████████████████████| 144/144 [00:02<00:00, 55.41it/s]\n"
     ]
    },
    {
     "name": "stdout",
     "output_type": "stream",
     "text": [
      "1.2183741246246629\n",
      "Valid binary acc:  0.5277777777777778\n",
      "\n",
      "========== Train epoch 13 ==========\n"
     ]
    },
    {
     "name": "stderr",
     "output_type": "stream",
     "text": [
      "100%|████████████████████████████████████████████████████████████████████████████████| 719/719 [00:15<00:00, 46.28it/s]\n"
     ]
    },
    {
     "name": "stdout",
     "output_type": "stream",
     "text": [
      "1.2466649749887504\n",
      "========== Evaluate Valid set ==========\n"
     ]
    },
    {
     "name": "stderr",
     "output_type": "stream",
     "text": [
      "100%|████████████████████████████████████████████████████████████████████████████████| 144/144 [00:02<00:00, 56.06it/s]\n"
     ]
    },
    {
     "name": "stdout",
     "output_type": "stream",
     "text": [
      "1.197641725031038\n",
      "Valid binary acc:  0.5277777777777778\n",
      "\n",
      "========== Train epoch 14 ==========\n"
     ]
    },
    {
     "name": "stderr",
     "output_type": "stream",
     "text": [
      "100%|████████████████████████████████████████████████████████████████████████████████| 719/719 [00:15<00:00, 45.76it/s]\n"
     ]
    },
    {
     "name": "stdout",
     "output_type": "stream",
     "text": [
      "1.2401559837628804\n",
      "========== Evaluate Valid set ==========\n"
     ]
    },
    {
     "name": "stderr",
     "output_type": "stream",
     "text": [
      "100%|████████████████████████████████████████████████████████████████████████████████| 144/144 [00:02<00:00, 54.87it/s]\n"
     ]
    },
    {
     "name": "stdout",
     "output_type": "stream",
     "text": [
      "1.1910169248779614\n",
      "Valid binary acc:  0.5277777777777778\n",
      "\n",
      "========== Train epoch 15 ==========\n"
     ]
    },
    {
     "name": "stderr",
     "output_type": "stream",
     "text": [
      "100%|████████████████████████████████████████████████████████████████████████████████| 719/719 [00:15<00:00, 45.36it/s]\n"
     ]
    },
    {
     "name": "stdout",
     "output_type": "stream",
     "text": [
      "1.2283740982475466\n",
      "========== Evaluate Valid set ==========\n"
     ]
    },
    {
     "name": "stderr",
     "output_type": "stream",
     "text": [
      "100%|████████████████████████████████████████████████████████████████████████████████| 144/144 [00:02<00:00, 56.02it/s]\n"
     ]
    },
    {
     "name": "stdout",
     "output_type": "stream",
     "text": [
      "1.1938731340277526\n",
      "Valid binary acc:  0.5347222222222222\n",
      "\n",
      "========== Train epoch 16 ==========\n"
     ]
    },
    {
     "name": "stderr",
     "output_type": "stream",
     "text": [
      "100%|████████████████████████████████████████████████████████████████████████████████| 719/719 [00:15<00:00, 45.82it/s]\n"
     ]
    },
    {
     "name": "stdout",
     "output_type": "stream",
     "text": [
      "1.2236082046623025\n",
      "========== Evaluate Valid set ==========\n"
     ]
    },
    {
     "name": "stderr",
     "output_type": "stream",
     "text": [
      "100%|████████████████████████████████████████████████████████████████████████████████| 144/144 [00:02<00:00, 54.65it/s]\n"
     ]
    },
    {
     "name": "stdout",
     "output_type": "stream",
     "text": [
      "1.190274638382511\n",
      "Valid binary acc:  0.5555555555555556\n",
      "\n",
      "========== Train epoch 17 ==========\n"
     ]
    },
    {
     "name": "stderr",
     "output_type": "stream",
     "text": [
      "100%|████████████████████████████████████████████████████████████████████████████████| 719/719 [00:15<00:00, 45.46it/s]\n"
     ]
    },
    {
     "name": "stdout",
     "output_type": "stream",
     "text": [
      "1.2147118010880718\n",
      "========== Evaluate Valid set ==========\n"
     ]
    },
    {
     "name": "stderr",
     "output_type": "stream",
     "text": [
      "100%|████████████████████████████████████████████████████████████████████████████████| 144/144 [00:02<00:00, 54.52it/s]\n"
     ]
    },
    {
     "name": "stdout",
     "output_type": "stream",
     "text": [
      "1.1740221470180485\n",
      "Valid binary acc:  0.5486111111111112\n",
      "\n",
      "========== Train epoch 18 ==========\n"
     ]
    },
    {
     "name": "stderr",
     "output_type": "stream",
     "text": [
      "100%|████████████████████████████████████████████████████████████████████████████████| 719/719 [00:15<00:00, 45.35it/s]\n"
     ]
    },
    {
     "name": "stdout",
     "output_type": "stream",
     "text": [
      "1.2020855934381154\n",
      "========== Evaluate Valid set ==========\n"
     ]
    },
    {
     "name": "stderr",
     "output_type": "stream",
     "text": [
      "100%|████████████████████████████████████████████████████████████████████████████████| 144/144 [00:02<00:00, 55.23it/s]\n"
     ]
    },
    {
     "name": "stdout",
     "output_type": "stream",
     "text": [
      "1.1554361259978678\n",
      "Valid binary acc:  0.5555555555555556\n",
      "\n",
      "========== Train epoch 19 ==========\n"
     ]
    },
    {
     "name": "stderr",
     "output_type": "stream",
     "text": [
      "100%|████████████████████████████████████████████████████████████████████████████████| 719/719 [00:15<00:00, 45.98it/s]\n"
     ]
    },
    {
     "name": "stdout",
     "output_type": "stream",
     "text": [
      "1.1976858280982527\n",
      "========== Evaluate Valid set ==========\n"
     ]
    },
    {
     "name": "stderr",
     "output_type": "stream",
     "text": [
      "100%|████████████████████████████████████████████████████████████████████████████████| 144/144 [00:02<00:00, 54.70it/s]\n"
     ]
    },
    {
     "name": "stdout",
     "output_type": "stream",
     "text": [
      "1.1437962140060134\n",
      "Valid binary acc:  0.5694444444444444\n",
      "\n",
      "========== Train epoch 20 ==========\n"
     ]
    },
    {
     "name": "stderr",
     "output_type": "stream",
     "text": [
      "100%|████████████████████████████████████████████████████████████████████████████████| 719/719 [00:15<00:00, 45.89it/s]\n"
     ]
    },
    {
     "name": "stdout",
     "output_type": "stream",
     "text": [
      "1.1894091529478947\n",
      "========== Evaluate Valid set ==========\n"
     ]
    },
    {
     "name": "stderr",
     "output_type": "stream",
     "text": [
      "100%|████████████████████████████████████████████████████████████████████████████████| 144/144 [00:02<00:00, 54.70it/s]\n"
     ]
    },
    {
     "name": "stdout",
     "output_type": "stream",
     "text": [
      "1.1568007063017123\n",
      "Valid binary acc:  0.5486111111111112\n",
      "\n",
      "========== Train epoch 21 ==========\n"
     ]
    },
    {
     "name": "stderr",
     "output_type": "stream",
     "text": [
      "100%|████████████████████████████████████████████████████████████████████████████████| 719/719 [00:15<00:00, 46.15it/s]\n"
     ]
    },
    {
     "name": "stdout",
     "output_type": "stream",
     "text": [
      "1.183582190284311\n",
      "========== Evaluate Valid set ==========\n"
     ]
    },
    {
     "name": "stderr",
     "output_type": "stream",
     "text": [
      "100%|████████████████████████████████████████████████████████████████████████████████| 144/144 [00:02<00:00, 56.67it/s]\n"
     ]
    },
    {
     "name": "stdout",
     "output_type": "stream",
     "text": [
      "1.1189532632318635\n",
      "Valid binary acc:  0.5486111111111112\n",
      "\n",
      "========== Train epoch 22 ==========\n"
     ]
    },
    {
     "name": "stderr",
     "output_type": "stream",
     "text": [
      "100%|████████████████████████████████████████████████████████████████████████████████| 719/719 [00:15<00:00, 46.06it/s]\n"
     ]
    },
    {
     "name": "stdout",
     "output_type": "stream",
     "text": [
      "1.1768583187079562\n",
      "========== Evaluate Valid set ==========\n"
     ]
    },
    {
     "name": "stderr",
     "output_type": "stream",
     "text": [
      "100%|████████████████████████████████████████████████████████████████████████████████| 144/144 [00:02<00:00, 54.94it/s]\n"
     ]
    },
    {
     "name": "stdout",
     "output_type": "stream",
     "text": [
      "1.115545180470993\n",
      "Valid binary acc:  0.5625\n",
      "\n",
      "========== Train epoch 23 ==========\n"
     ]
    },
    {
     "name": "stderr",
     "output_type": "stream",
     "text": [
      "100%|████████████████████████████████████████████████████████████████████████████████| 719/719 [00:15<00:00, 45.84it/s]\n"
     ]
    },
    {
     "name": "stdout",
     "output_type": "stream",
     "text": [
      "1.1664354719314853\n",
      "========== Evaluate Valid set ==========\n"
     ]
    },
    {
     "name": "stderr",
     "output_type": "stream",
     "text": [
      "100%|████████████████████████████████████████████████████████████████████████████████| 144/144 [00:02<00:00, 54.41it/s]\n"
     ]
    },
    {
     "name": "stdout",
     "output_type": "stream",
     "text": [
      "1.1203617280245655\n",
      "Valid binary acc:  0.5902777777777778\n",
      "\n",
      "========== Train epoch 24 ==========\n"
     ]
    },
    {
     "name": "stderr",
     "output_type": "stream",
     "text": [
      "100%|████████████████████████████████████████████████████████████████████████████████| 719/719 [00:15<00:00, 45.49it/s]\n"
     ]
    },
    {
     "name": "stdout",
     "output_type": "stream",
     "text": [
      "1.1632106658667118\n",
      "========== Evaluate Valid set ==========\n"
     ]
    },
    {
     "name": "stderr",
     "output_type": "stream",
     "text": [
      "100%|████████████████████████████████████████████████████████████████████████████████| 144/144 [00:02<00:00, 55.15it/s]\n"
     ]
    },
    {
     "name": "stdout",
     "output_type": "stream",
     "text": [
      "1.0993265393707488\n",
      "Valid binary acc:  0.5902777777777778\n",
      "\n",
      "========== Train epoch 25 ==========\n"
     ]
    },
    {
     "name": "stderr",
     "output_type": "stream",
     "text": [
      "100%|████████████████████████████████████████████████████████████████████████████████| 719/719 [00:15<00:00, 46.22it/s]\n"
     ]
    },
    {
     "name": "stdout",
     "output_type": "stream",
     "text": [
      "1.1567621496149827\n",
      "========== Evaluate Valid set ==========\n"
     ]
    },
    {
     "name": "stderr",
     "output_type": "stream",
     "text": [
      "100%|████████████████████████████████████████████████████████████████████████████████| 144/144 [00:02<00:00, 54.48it/s]\n"
     ]
    },
    {
     "name": "stdout",
     "output_type": "stream",
     "text": [
      "1.0927177310610812\n",
      "Valid binary acc:  0.5763888888888888\n",
      "\n",
      "========== Train epoch 26 ==========\n"
     ]
    },
    {
     "name": "stderr",
     "output_type": "stream",
     "text": [
      "100%|████████████████████████████████████████████████████████████████████████████████| 719/719 [00:15<00:00, 46.09it/s]\n"
     ]
    },
    {
     "name": "stdout",
     "output_type": "stream",
     "text": [
      "1.142509763353143\n",
      "========== Evaluate Valid set ==========\n"
     ]
    },
    {
     "name": "stderr",
     "output_type": "stream",
     "text": [
      "100%|████████████████████████████████████████████████████████████████████████████████| 144/144 [00:02<00:00, 55.08it/s]\n"
     ]
    },
    {
     "name": "stdout",
     "output_type": "stream",
     "text": [
      "1.1011589608258672\n",
      "Valid binary acc:  0.5763888888888888\n",
      "\n",
      "========== Train epoch 27 ==========\n"
     ]
    },
    {
     "name": "stderr",
     "output_type": "stream",
     "text": [
      "100%|████████████████████████████████████████████████████████████████████████████████| 719/719 [00:15<00:00, 46.09it/s]\n"
     ]
    },
    {
     "name": "stdout",
     "output_type": "stream",
     "text": [
      "1.1406059944393405\n",
      "========== Evaluate Valid set ==========\n"
     ]
    },
    {
     "name": "stderr",
     "output_type": "stream",
     "text": [
      "100%|████████████████████████████████████████████████████████████████████████████████| 144/144 [00:02<00:00, 56.69it/s]\n"
     ]
    },
    {
     "name": "stdout",
     "output_type": "stream",
     "text": [
      "1.072755341262867\n",
      "Valid binary acc:  0.5972222222222222\n",
      "\n",
      "========== Train epoch 28 ==========\n"
     ]
    },
    {
     "name": "stderr",
     "output_type": "stream",
     "text": [
      "100%|████████████████████████████████████████████████████████████████████████████████| 719/719 [00:15<00:00, 46.29it/s]\n"
     ]
    },
    {
     "name": "stdout",
     "output_type": "stream",
     "text": [
      "1.1296509877676262\n",
      "========== Evaluate Valid set ==========\n"
     ]
    },
    {
     "name": "stderr",
     "output_type": "stream",
     "text": [
      "100%|████████████████████████████████████████████████████████████████████████████████| 144/144 [00:02<00:00, 54.81it/s]\n"
     ]
    },
    {
     "name": "stdout",
     "output_type": "stream",
     "text": [
      "1.0599443001620885\n",
      "Valid binary acc:  0.5833333333333334\n",
      "\n",
      "========== Train epoch 29 ==========\n"
     ]
    },
    {
     "name": "stderr",
     "output_type": "stream",
     "text": [
      "100%|████████████████████████████████████████████████████████████████████████████████| 719/719 [00:15<00:00, 45.70it/s]\n"
     ]
    },
    {
     "name": "stdout",
     "output_type": "stream",
     "text": [
      "1.1273729800089924\n",
      "========== Evaluate Valid set ==========\n"
     ]
    },
    {
     "name": "stderr",
     "output_type": "stream",
     "text": [
      "100%|████████████████████████████████████████████████████████████████████████████████| 144/144 [00:02<00:00, 55.17it/s]\n"
     ]
    },
    {
     "name": "stdout",
     "output_type": "stream",
     "text": [
      "1.0638804972275264\n",
      "Valid binary acc:  0.5833333333333334\n",
      "\n",
      "========== Train epoch 30 ==========\n"
     ]
    },
    {
     "name": "stderr",
     "output_type": "stream",
     "text": [
      "100%|████████████████████████████████████████████████████████████████████████████████| 719/719 [00:15<00:00, 45.99it/s]\n"
     ]
    },
    {
     "name": "stdout",
     "output_type": "stream",
     "text": [
      "1.1188737814041354\n",
      "========== Evaluate Valid set ==========\n"
     ]
    },
    {
     "name": "stderr",
     "output_type": "stream",
     "text": [
      "100%|████████████████████████████████████████████████████████████████████████████████| 144/144 [00:02<00:00, 56.71it/s]\n"
     ]
    },
    {
     "name": "stdout",
     "output_type": "stream",
     "text": [
      "1.037744667251698\n",
      "Valid binary acc:  0.5972222222222222\n",
      "\n",
      "========== Train epoch 31 ==========\n"
     ]
    },
    {
     "name": "stderr",
     "output_type": "stream",
     "text": [
      "100%|████████████████████████████████████████████████████████████████████████████████| 719/719 [00:15<00:00, 46.75it/s]\n"
     ]
    },
    {
     "name": "stdout",
     "output_type": "stream",
     "text": [
      "1.1036144420297322\n",
      "========== Evaluate Valid set ==========\n"
     ]
    },
    {
     "name": "stderr",
     "output_type": "stream",
     "text": [
      "100%|████████████████████████████████████████████████████████████████████████████████| 144/144 [00:02<00:00, 54.62it/s]\n"
     ]
    },
    {
     "name": "stdout",
     "output_type": "stream",
     "text": [
      "1.0437950258557167\n",
      "Valid binary acc:  0.6319444444444444\n",
      "\n",
      "========== Train epoch 32 ==========\n"
     ]
    },
    {
     "name": "stderr",
     "output_type": "stream",
     "text": [
      "100%|████████████████████████████████████████████████████████████████████████████████| 719/719 [00:15<00:00, 46.95it/s]\n"
     ]
    },
    {
     "name": "stdout",
     "output_type": "stream",
     "text": [
      "1.100233343063293\n",
      "========== Evaluate Valid set ==========\n"
     ]
    },
    {
     "name": "stderr",
     "output_type": "stream",
     "text": [
      "100%|████████████████████████████████████████████████████████████████████████████████| 144/144 [00:02<00:00, 55.76it/s]\n"
     ]
    },
    {
     "name": "stdout",
     "output_type": "stream",
     "text": [
      "1.0412297000487645\n",
      "Valid binary acc:  0.5833333333333334\n",
      "\n",
      "========== Train epoch 33 ==========\n"
     ]
    },
    {
     "name": "stderr",
     "output_type": "stream",
     "text": [
      "100%|████████████████████████████████████████████████████████████████████████████████| 719/719 [00:15<00:00, 46.93it/s]\n"
     ]
    },
    {
     "name": "stdout",
     "output_type": "stream",
     "text": [
      "1.0875001816863974\n",
      "========== Evaluate Valid set ==========\n"
     ]
    },
    {
     "name": "stderr",
     "output_type": "stream",
     "text": [
      "100%|████████████████████████████████████████████████████████████████████████████████| 144/144 [00:02<00:00, 56.62it/s]\n"
     ]
    },
    {
     "name": "stdout",
     "output_type": "stream",
     "text": [
      "1.018835828277386\n",
      "Valid binary acc:  0.6041666666666666\n",
      "\n",
      "========== Train epoch 34 ==========\n"
     ]
    },
    {
     "name": "stderr",
     "output_type": "stream",
     "text": [
      "100%|████████████████████████████████████████████████████████████████████████████████| 719/719 [00:15<00:00, 46.95it/s]\n"
     ]
    },
    {
     "name": "stdout",
     "output_type": "stream",
     "text": [
      "1.0827368812814293\n",
      "========== Evaluate Valid set ==========\n"
     ]
    },
    {
     "name": "stderr",
     "output_type": "stream",
     "text": [
      "100%|████████████████████████████████████████████████████████████████████████████████| 144/144 [00:02<00:00, 56.28it/s]\n"
     ]
    },
    {
     "name": "stdout",
     "output_type": "stream",
     "text": [
      "1.0310212851553742\n",
      "Valid binary acc:  0.5972222222222222\n",
      "\n",
      "========== Train epoch 35 ==========\n"
     ]
    },
    {
     "name": "stderr",
     "output_type": "stream",
     "text": [
      "100%|████████████████████████████████████████████████████████████████████████████████| 719/719 [00:15<00:00, 47.09it/s]\n"
     ]
    },
    {
     "name": "stdout",
     "output_type": "stream",
     "text": [
      "1.0695458947783218\n",
      "========== Evaluate Valid set ==========\n"
     ]
    },
    {
     "name": "stderr",
     "output_type": "stream",
     "text": [
      "100%|████████████████████████████████████████████████████████████████████████████████| 144/144 [00:02<00:00, 56.88it/s]\n"
     ]
    },
    {
     "name": "stdout",
     "output_type": "stream",
     "text": [
      "1.0131900830504794\n",
      "Valid binary acc:  0.5972222222222222\n",
      "\n",
      "========== Train epoch 36 ==========\n"
     ]
    },
    {
     "name": "stderr",
     "output_type": "stream",
     "text": [
      "100%|████████████████████████████████████████████████████████████████████████████████| 719/719 [00:15<00:00, 46.85it/s]\n"
     ]
    },
    {
     "name": "stdout",
     "output_type": "stream",
     "text": [
      "1.062890819402124\n",
      "========== Evaluate Valid set ==========\n"
     ]
    },
    {
     "name": "stderr",
     "output_type": "stream",
     "text": [
      "100%|████████████████████████████████████████████████████████████████████████████████| 144/144 [00:02<00:00, 56.36it/s]\n"
     ]
    },
    {
     "name": "stdout",
     "output_type": "stream",
     "text": [
      "0.9824689199837545\n",
      "Valid binary acc:  0.6111111111111112\n",
      "\n",
      "========== Train epoch 37 ==========\n"
     ]
    },
    {
     "name": "stderr",
     "output_type": "stream",
     "text": [
      "100%|████████████████████████████████████████████████████████████████████████████████| 719/719 [00:15<00:00, 46.94it/s]\n"
     ]
    },
    {
     "name": "stdout",
     "output_type": "stream",
     "text": [
      "1.0521518062535928\n",
      "========== Evaluate Valid set ==========\n"
     ]
    },
    {
     "name": "stderr",
     "output_type": "stream",
     "text": [
      "100%|████████████████████████████████████████████████████████████████████████████████| 144/144 [00:02<00:00, 57.66it/s]\n"
     ]
    },
    {
     "name": "stdout",
     "output_type": "stream",
     "text": [
      "0.9893578661657456\n",
      "Valid binary acc:  0.6180555555555556\n",
      "\n",
      "========== Train epoch 38 ==========\n"
     ]
    },
    {
     "name": "stderr",
     "output_type": "stream",
     "text": [
      "100%|████████████████████████████████████████████████████████████████████████████████| 719/719 [00:16<00:00, 43.89it/s]\n"
     ]
    },
    {
     "name": "stdout",
     "output_type": "stream",
     "text": [
      "1.04182689257163\n",
      "========== Evaluate Valid set ==========\n"
     ]
    },
    {
     "name": "stderr",
     "output_type": "stream",
     "text": [
      "100%|████████████████████████████████████████████████████████████████████████████████| 144/144 [00:03<00:00, 36.86it/s]\n"
     ]
    },
    {
     "name": "stdout",
     "output_type": "stream",
     "text": [
      "0.9901881870141046\n",
      "Valid binary acc:  0.6041666666666666\n",
      "\n",
      "========== Train epoch 39 ==========\n"
     ]
    },
    {
     "name": "stderr",
     "output_type": "stream",
     "text": [
      "100%|████████████████████████████████████████████████████████████████████████████████| 719/719 [00:16<00:00, 44.82it/s]\n"
     ]
    },
    {
     "name": "stdout",
     "output_type": "stream",
     "text": [
      "1.0353409716022695\n",
      "========== Evaluate Valid set ==========\n"
     ]
    },
    {
     "name": "stderr",
     "output_type": "stream",
     "text": [
      "100%|████████████████████████████████████████████████████████████████████████████████| 144/144 [00:02<00:00, 56.70it/s]\n"
     ]
    },
    {
     "name": "stdout",
     "output_type": "stream",
     "text": [
      "0.9941997641128384\n",
      "Valid binary acc:  0.6458333333333334\n",
      "\n",
      "========== Train epoch 40 ==========\n"
     ]
    },
    {
     "name": "stderr",
     "output_type": "stream",
     "text": [
      "100%|████████████████████████████████████████████████████████████████████████████████| 719/719 [00:15<00:00, 46.58it/s]\n"
     ]
    },
    {
     "name": "stdout",
     "output_type": "stream",
     "text": [
      "1.0223844775487054\n",
      "========== Evaluate Valid set ==========\n"
     ]
    },
    {
     "name": "stderr",
     "output_type": "stream",
     "text": [
      "100%|████████████████████████████████████████████████████████████████████████████████| 144/144 [00:02<00:00, 55.83it/s]\n"
     ]
    },
    {
     "name": "stdout",
     "output_type": "stream",
     "text": [
      "1.0012200441107981\n",
      "Valid binary acc:  0.6458333333333334\n",
      "\n",
      "========== Train epoch 41 ==========\n"
     ]
    },
    {
     "name": "stderr",
     "output_type": "stream",
     "text": [
      "100%|████████████████████████████████████████████████████████████████████████████████| 719/719 [00:15<00:00, 46.44it/s]\n"
     ]
    },
    {
     "name": "stdout",
     "output_type": "stream",
     "text": [
      "1.0190635654137512\n",
      "========== Evaluate Valid set ==========\n"
     ]
    },
    {
     "name": "stderr",
     "output_type": "stream",
     "text": [
      "100%|████████████████████████████████████████████████████████████████████████████████| 144/144 [00:02<00:00, 56.49it/s]\n"
     ]
    },
    {
     "name": "stdout",
     "output_type": "stream",
     "text": [
      "0.9618823485604177\n",
      "Valid binary acc:  0.6666666666666666\n",
      "\n",
      "========== Train epoch 42 ==========\n"
     ]
    },
    {
     "name": "stderr",
     "output_type": "stream",
     "text": [
      "100%|████████████████████████████████████████████████████████████████████████████████| 719/719 [00:15<00:00, 46.41it/s]\n"
     ]
    },
    {
     "name": "stdout",
     "output_type": "stream",
     "text": [
      "0.9999576574567088\n",
      "========== Evaluate Valid set ==========\n"
     ]
    },
    {
     "name": "stderr",
     "output_type": "stream",
     "text": [
      "100%|████████████████████████████████████████████████████████████████████████████████| 144/144 [00:02<00:00, 55.78it/s]\n"
     ]
    },
    {
     "name": "stdout",
     "output_type": "stream",
     "text": [
      "0.9547365420084033\n",
      "Valid binary acc:  0.6319444444444444\n",
      "\n",
      "========== Train epoch 43 ==========\n"
     ]
    },
    {
     "name": "stderr",
     "output_type": "stream",
     "text": [
      "100%|████████████████████████████████████████████████████████████████████████████████| 719/719 [00:15<00:00, 46.80it/s]\n"
     ]
    },
    {
     "name": "stdout",
     "output_type": "stream",
     "text": [
      "0.9938619975492835\n",
      "========== Evaluate Valid set ==========\n"
     ]
    },
    {
     "name": "stderr",
     "output_type": "stream",
     "text": [
      "100%|████████████████████████████████████████████████████████████████████████████████| 144/144 [00:02<00:00, 56.42it/s]\n"
     ]
    },
    {
     "name": "stdout",
     "output_type": "stream",
     "text": [
      "0.94330301707507\n",
      "Valid binary acc:  0.6736111111111112\n",
      "\n",
      "========== Train epoch 44 ==========\n"
     ]
    },
    {
     "name": "stderr",
     "output_type": "stream",
     "text": [
      "100%|████████████████████████████████████████████████████████████████████████████████| 719/719 [00:15<00:00, 46.60it/s]\n"
     ]
    },
    {
     "name": "stdout",
     "output_type": "stream",
     "text": [
      "0.9820922312581903\n",
      "========== Evaluate Valid set ==========\n"
     ]
    },
    {
     "name": "stderr",
     "output_type": "stream",
     "text": [
      "100%|████████████████████████████████████████████████████████████████████████████████| 144/144 [00:02<00:00, 56.32it/s]\n"
     ]
    },
    {
     "name": "stdout",
     "output_type": "stream",
     "text": [
      "0.9333522284093002\n",
      "Valid binary acc:  0.6736111111111112\n",
      "\n",
      "========== Train epoch 45 ==========\n"
     ]
    },
    {
     "name": "stderr",
     "output_type": "stream",
     "text": [
      "100%|████████████████████████████████████████████████████████████████████████████████| 719/719 [00:15<00:00, 46.43it/s]\n"
     ]
    },
    {
     "name": "stdout",
     "output_type": "stream",
     "text": [
      "0.960170519402217\n",
      "========== Evaluate Valid set ==========\n"
     ]
    },
    {
     "name": "stderr",
     "output_type": "stream",
     "text": [
      "100%|████████████████████████████████████████████████████████████████████████████████| 144/144 [00:02<00:00, 55.13it/s]\n"
     ]
    },
    {
     "name": "stdout",
     "output_type": "stream",
     "text": [
      "0.9355787542493393\n",
      "Valid binary acc:  0.6527777777777778\n",
      "\n",
      "========== Train epoch 46 ==========\n"
     ]
    },
    {
     "name": "stderr",
     "output_type": "stream",
     "text": [
      "100%|████████████████████████████████████████████████████████████████████████████████| 719/719 [00:15<00:00, 46.65it/s]\n"
     ]
    },
    {
     "name": "stdout",
     "output_type": "stream",
     "text": [
      "0.9572043108037558\n",
      "========== Evaluate Valid set ==========\n"
     ]
    },
    {
     "name": "stderr",
     "output_type": "stream",
     "text": [
      "100%|████████████████████████████████████████████████████████████████████████████████| 144/144 [00:02<00:00, 57.21it/s]\n"
     ]
    },
    {
     "name": "stdout",
     "output_type": "stream",
     "text": [
      "0.9235765403654013\n",
      "Valid binary acc:  0.6736111111111112\n",
      "\n",
      "========== Train epoch 47 ==========\n"
     ]
    },
    {
     "name": "stderr",
     "output_type": "stream",
     "text": [
      "100%|████████████████████████████████████████████████████████████████████████████████| 719/719 [00:15<00:00, 46.85it/s]\n"
     ]
    },
    {
     "name": "stdout",
     "output_type": "stream",
     "text": [
      "0.9444093991703093\n",
      "========== Evaluate Valid set ==========\n"
     ]
    },
    {
     "name": "stderr",
     "output_type": "stream",
     "text": [
      "100%|████████████████████████████████████████████████████████████████████████████████| 144/144 [00:02<00:00, 55.48it/s]\n"
     ]
    },
    {
     "name": "stdout",
     "output_type": "stream",
     "text": [
      "0.9135868032204194\n",
      "Valid binary acc:  0.6944444444444444\n",
      "\n",
      "========== Train epoch 48 ==========\n"
     ]
    },
    {
     "name": "stderr",
     "output_type": "stream",
     "text": [
      "100%|████████████████████████████████████████████████████████████████████████████████| 719/719 [00:15<00:00, 46.75it/s]\n"
     ]
    },
    {
     "name": "stdout",
     "output_type": "stream",
     "text": [
      "0.931841263861003\n",
      "========== Evaluate Valid set ==========\n"
     ]
    },
    {
     "name": "stderr",
     "output_type": "stream",
     "text": [
      "100%|████████████████████████████████████████████████████████████████████████████████| 144/144 [00:02<00:00, 56.09it/s]\n"
     ]
    },
    {
     "name": "stdout",
     "output_type": "stream",
     "text": [
      "0.9023653510311205\n",
      "Valid binary acc:  0.6944444444444444\n",
      "\n",
      "========== Train epoch 49 ==========\n"
     ]
    },
    {
     "name": "stderr",
     "output_type": "stream",
     "text": [
      "100%|████████████████████████████████████████████████████████████████████████████████| 719/719 [00:15<00:00, 46.75it/s]\n"
     ]
    },
    {
     "name": "stdout",
     "output_type": "stream",
     "text": [
      "0.917458402754555\n",
      "========== Evaluate Valid set ==========\n"
     ]
    },
    {
     "name": "stderr",
     "output_type": "stream",
     "text": [
      "100%|████████████████████████████████████████████████████████████████████████████████| 144/144 [00:02<00:00, 56.23it/s]\n"
     ]
    },
    {
     "name": "stdout",
     "output_type": "stream",
     "text": [
      "0.8808706463443943\n",
      "Valid binary acc:  0.6805555555555556\n",
      "\n",
      "========== Train epoch 50 ==========\n"
     ]
    },
    {
     "name": "stderr",
     "output_type": "stream",
     "text": [
      "100%|████████████████████████████████████████████████████████████████████████████████| 719/719 [00:15<00:00, 46.85it/s]\n"
     ]
    },
    {
     "name": "stdout",
     "output_type": "stream",
     "text": [
      "0.9084266682941678\n",
      "========== Evaluate Valid set ==========\n"
     ]
    },
    {
     "name": "stderr",
     "output_type": "stream",
     "text": [
      "100%|████████████████████████████████████████████████████████████████████████████████| 144/144 [00:02<00:00, 55.35it/s]\n"
     ]
    },
    {
     "name": "stdout",
     "output_type": "stream",
     "text": [
      "0.8725308404148867\n",
      "Valid binary acc:  0.7083333333333334\n",
      "\n",
      "========== Train epoch 51 ==========\n"
     ]
    },
    {
     "name": "stderr",
     "output_type": "stream",
     "text": [
      "100%|████████████████████████████████████████████████████████████████████████████████| 719/719 [00:15<00:00, 46.33it/s]\n"
     ]
    },
    {
     "name": "stdout",
     "output_type": "stream",
     "text": [
      "0.8910324843496769\n",
      "========== Evaluate Valid set ==========\n"
     ]
    },
    {
     "name": "stderr",
     "output_type": "stream",
     "text": [
      "100%|████████████████████████████████████████████████████████████████████████████████| 144/144 [00:02<00:00, 55.83it/s]\n"
     ]
    },
    {
     "name": "stdout",
     "output_type": "stream",
     "text": [
      "0.8596390329120267\n",
      "Valid binary acc:  0.7013888888888888\n",
      "\n",
      "========== Train epoch 52 ==========\n"
     ]
    },
    {
     "name": "stderr",
     "output_type": "stream",
     "text": [
      "100%|████████████████████████████████████████████████████████████████████████████████| 719/719 [00:15<00:00, 46.18it/s]\n"
     ]
    },
    {
     "name": "stdout",
     "output_type": "stream",
     "text": [
      "0.8761174362735701\n",
      "========== Evaluate Valid set ==========\n"
     ]
    },
    {
     "name": "stderr",
     "output_type": "stream",
     "text": [
      "100%|████████████████████████████████████████████████████████████████████████████████| 144/144 [00:02<00:00, 55.36it/s]\n"
     ]
    },
    {
     "name": "stdout",
     "output_type": "stream",
     "text": [
      "0.8411387188179005\n",
      "Valid binary acc:  0.7083333333333334\n",
      "\n",
      "========== Train epoch 53 ==========\n"
     ]
    },
    {
     "name": "stderr",
     "output_type": "stream",
     "text": [
      "100%|████████████████████████████████████████████████████████████████████████████████| 719/719 [00:15<00:00, 46.30it/s]\n"
     ]
    },
    {
     "name": "stdout",
     "output_type": "stream",
     "text": [
      "0.8621132994363387\n",
      "========== Evaluate Valid set ==========\n"
     ]
    },
    {
     "name": "stderr",
     "output_type": "stream",
     "text": [
      "100%|████████████████████████████████████████████████████████████████████████████████| 144/144 [00:02<00:00, 55.92it/s]\n"
     ]
    },
    {
     "name": "stdout",
     "output_type": "stream",
     "text": [
      "0.8301949712654783\n",
      "Valid binary acc:  0.7152777777777778\n",
      "\n",
      "========== Train epoch 54 ==========\n"
     ]
    },
    {
     "name": "stderr",
     "output_type": "stream",
     "text": [
      "100%|████████████████████████████████████████████████████████████████████████████████| 719/719 [00:15<00:00, 46.88it/s]\n"
     ]
    },
    {
     "name": "stdout",
     "output_type": "stream",
     "text": [
      "0.8482343839612299\n",
      "========== Evaluate Valid set ==========\n"
     ]
    },
    {
     "name": "stderr",
     "output_type": "stream",
     "text": [
      "100%|████████████████████████████████████████████████████████████████████████████████| 144/144 [00:02<00:00, 57.22it/s]\n"
     ]
    },
    {
     "name": "stdout",
     "output_type": "stream",
     "text": [
      "0.8421107390636785\n",
      "Valid binary acc:  0.7083333333333334\n",
      "\n",
      "========== Train epoch 55 ==========\n"
     ]
    },
    {
     "name": "stderr",
     "output_type": "stream",
     "text": [
      "100%|████████████████████████████████████████████████████████████████████████████████| 719/719 [00:15<00:00, 46.27it/s]\n"
     ]
    },
    {
     "name": "stdout",
     "output_type": "stream",
     "text": [
      "0.8411384168157409\n",
      "========== Evaluate Valid set ==========\n"
     ]
    },
    {
     "name": "stderr",
     "output_type": "stream",
     "text": [
      "100%|████████████████████████████████████████████████████████████████████████████████| 144/144 [00:02<00:00, 52.60it/s]\n"
     ]
    },
    {
     "name": "stdout",
     "output_type": "stream",
     "text": [
      "0.7954605707200244\n",
      "Valid binary acc:  0.7361111111111112\n",
      "\n",
      "========== Train epoch 56 ==========\n"
     ]
    },
    {
     "name": "stderr",
     "output_type": "stream",
     "text": [
      "100%|████████████████████████████████████████████████████████████████████████████████| 719/719 [00:15<00:00, 46.23it/s]\n"
     ]
    },
    {
     "name": "stdout",
     "output_type": "stream",
     "text": [
      "0.8215118414450046\n",
      "========== Evaluate Valid set ==========\n"
     ]
    },
    {
     "name": "stderr",
     "output_type": "stream",
     "text": [
      "100%|████████████████████████████████████████████████████████████████████████████████| 144/144 [00:02<00:00, 54.82it/s]\n"
     ]
    },
    {
     "name": "stdout",
     "output_type": "stream",
     "text": [
      "0.7930675929981388\n",
      "Valid binary acc:  0.75\n",
      "\n",
      "========== Train epoch 57 ==========\n"
     ]
    },
    {
     "name": "stderr",
     "output_type": "stream",
     "text": [
      "100%|████████████████████████████████████████████████████████████████████████████████| 719/719 [00:15<00:00, 45.81it/s]\n"
     ]
    },
    {
     "name": "stdout",
     "output_type": "stream",
     "text": [
      "0.8129174801819247\n",
      "========== Evaluate Valid set ==========\n"
     ]
    },
    {
     "name": "stderr",
     "output_type": "stream",
     "text": [
      "100%|████████████████████████████████████████████████████████████████████████████████| 144/144 [00:02<00:00, 52.89it/s]\n"
     ]
    },
    {
     "name": "stdout",
     "output_type": "stream",
     "text": [
      "0.7743736228569307\n",
      "Valid binary acc:  0.7361111111111112\n",
      "\n",
      "========== Train epoch 58 ==========\n"
     ]
    },
    {
     "name": "stderr",
     "output_type": "stream",
     "text": [
      "100%|████████████████████████████████████████████████████████████████████████████████| 719/719 [00:15<00:00, 46.15it/s]\n"
     ]
    },
    {
     "name": "stdout",
     "output_type": "stream",
     "text": [
      "0.7955226659511996\n",
      "========== Evaluate Valid set ==========\n"
     ]
    },
    {
     "name": "stderr",
     "output_type": "stream",
     "text": [
      "100%|████████████████████████████████████████████████████████████████████████████████| 144/144 [00:02<00:00, 55.76it/s]\n"
     ]
    },
    {
     "name": "stdout",
     "output_type": "stream",
     "text": [
      "0.7739150274945941\n",
      "Valid binary acc:  0.7361111111111112\n",
      "\n",
      "========== Train epoch 59 ==========\n"
     ]
    },
    {
     "name": "stderr",
     "output_type": "stream",
     "text": [
      "100%|████████████████████████████████████████████████████████████████████████████████| 719/719 [00:15<00:00, 46.61it/s]\n"
     ]
    },
    {
     "name": "stdout",
     "output_type": "stream",
     "text": [
      "0.7781306541126846\n",
      "========== Evaluate Valid set ==========\n"
     ]
    },
    {
     "name": "stderr",
     "output_type": "stream",
     "text": [
      "100%|████████████████████████████████████████████████████████████████████████████████| 144/144 [00:02<00:00, 55.45it/s]\n"
     ]
    },
    {
     "name": "stdout",
     "output_type": "stream",
     "text": [
      "0.7515974657015048\n",
      "Valid binary acc:  0.7152777777777778\n",
      "\n",
      "========== Train epoch 60 ==========\n"
     ]
    },
    {
     "name": "stderr",
     "output_type": "stream",
     "text": [
      "100%|████████████████████████████████████████████████████████████████████████████████| 719/719 [00:15<00:00, 47.07it/s]\n"
     ]
    },
    {
     "name": "stdout",
     "output_type": "stream",
     "text": [
      "0.7705279374211801\n",
      "========== Evaluate Valid set ==========\n"
     ]
    },
    {
     "name": "stderr",
     "output_type": "stream",
     "text": [
      "100%|████████████████████████████████████████████████████████████████████████████████| 144/144 [00:02<00:00, 56.31it/s]\n"
     ]
    },
    {
     "name": "stdout",
     "output_type": "stream",
     "text": [
      "0.7392521012839602\n",
      "Valid binary acc:  0.7569444444444444\n",
      "\n",
      "========== Train epoch 61 ==========\n"
     ]
    },
    {
     "name": "stderr",
     "output_type": "stream",
     "text": [
      "100%|████████████████████████████████████████████████████████████████████████████████| 719/719 [00:15<00:00, 46.27it/s]\n"
     ]
    },
    {
     "name": "stdout",
     "output_type": "stream",
     "text": [
      "0.7577036828816556\n",
      "========== Evaluate Valid set ==========\n"
     ]
    },
    {
     "name": "stderr",
     "output_type": "stream",
     "text": [
      "100%|████████████████████████████████████████████████████████████████████████████████| 144/144 [00:02<00:00, 55.87it/s]\n"
     ]
    },
    {
     "name": "stdout",
     "output_type": "stream",
     "text": [
      "0.7205671838795146\n",
      "Valid binary acc:  0.7430555555555556\n",
      "\n",
      "========== Train epoch 62 ==========\n"
     ]
    },
    {
     "name": "stderr",
     "output_type": "stream",
     "text": [
      "100%|████████████████████████████████████████████████████████████████████████████████| 719/719 [00:15<00:00, 45.53it/s]\n"
     ]
    },
    {
     "name": "stdout",
     "output_type": "stream",
     "text": [
      "0.7453158920733546\n",
      "========== Evaluate Valid set ==========\n"
     ]
    },
    {
     "name": "stderr",
     "output_type": "stream",
     "text": [
      "100%|████████████████████████████████████████████████████████████████████████████████| 144/144 [00:02<00:00, 56.56it/s]\n"
     ]
    },
    {
     "name": "stdout",
     "output_type": "stream",
     "text": [
      "0.7227759980111538\n",
      "Valid binary acc:  0.75\n",
      "\n",
      "========== Train epoch 63 ==========\n"
     ]
    },
    {
     "name": "stderr",
     "output_type": "stream",
     "text": [
      "100%|████████████████████████████████████████████████████████████████████████████████| 719/719 [00:15<00:00, 46.31it/s]\n"
     ]
    },
    {
     "name": "stdout",
     "output_type": "stream",
     "text": [
      "0.7335118007951339\n",
      "========== Evaluate Valid set ==========\n"
     ]
    },
    {
     "name": "stderr",
     "output_type": "stream",
     "text": [
      "100%|████████████████████████████████████████████████████████████████████████████████| 144/144 [00:02<00:00, 54.92it/s]\n"
     ]
    },
    {
     "name": "stdout",
     "output_type": "stream",
     "text": [
      "0.6950559017455412\n",
      "Valid binary acc:  0.7777777777777778\n",
      "\n",
      "========== Train epoch 64 ==========\n"
     ]
    },
    {
     "name": "stderr",
     "output_type": "stream",
     "text": [
      "100%|████████████████████████████████████████████████████████████████████████████████| 719/719 [00:15<00:00, 45.89it/s]\n"
     ]
    },
    {
     "name": "stdout",
     "output_type": "stream",
     "text": [
      "0.7219103964870832\n",
      "========== Evaluate Valid set ==========\n"
     ]
    },
    {
     "name": "stderr",
     "output_type": "stream",
     "text": [
      "100%|████████████████████████████████████████████████████████████████████████████████| 144/144 [00:02<00:00, 50.69it/s]\n"
     ]
    },
    {
     "name": "stdout",
     "output_type": "stream",
     "text": [
      "0.6869280991603672\n",
      "Valid binary acc:  0.7638888888888888\n",
      "\n",
      "========== Train epoch 65 ==========\n"
     ]
    },
    {
     "name": "stderr",
     "output_type": "stream",
     "text": [
      "100%|████████████████████████████████████████████████████████████████████████████████| 719/719 [00:15<00:00, 45.67it/s]\n"
     ]
    },
    {
     "name": "stdout",
     "output_type": "stream",
     "text": [
      "0.7068185719037403\n",
      "========== Evaluate Valid set ==========\n"
     ]
    },
    {
     "name": "stderr",
     "output_type": "stream",
     "text": [
      "100%|████████████████████████████████████████████████████████████████████████████████| 144/144 [00:02<00:00, 56.12it/s]\n"
     ]
    },
    {
     "name": "stdout",
     "output_type": "stream",
     "text": [
      "0.6915194433661074\n",
      "Valid binary acc:  0.7638888888888888\n",
      "\n",
      "========== Train epoch 66 ==========\n"
     ]
    },
    {
     "name": "stderr",
     "output_type": "stream",
     "text": [
      "100%|████████████████████████████████████████████████████████████████████████████████| 719/719 [00:15<00:00, 46.66it/s]\n"
     ]
    },
    {
     "name": "stdout",
     "output_type": "stream",
     "text": [
      "0.6972900117946922\n",
      "========== Evaluate Valid set ==========\n"
     ]
    },
    {
     "name": "stderr",
     "output_type": "stream",
     "text": [
      "100%|████████████████████████████████████████████████████████████████████████████████| 144/144 [00:02<00:00, 55.84it/s]\n"
     ]
    },
    {
     "name": "stdout",
     "output_type": "stream",
     "text": [
      "0.6697755641265152\n",
      "Valid binary acc:  0.7847222222222222\n",
      "\n",
      "========== Train epoch 67 ==========\n"
     ]
    },
    {
     "name": "stderr",
     "output_type": "stream",
     "text": [
      "100%|████████████████████████████████████████████████████████████████████████████████| 719/719 [00:15<00:00, 46.86it/s]\n"
     ]
    },
    {
     "name": "stdout",
     "output_type": "stream",
     "text": [
      "0.6874583358461708\n",
      "========== Evaluate Valid set ==========\n"
     ]
    },
    {
     "name": "stderr",
     "output_type": "stream",
     "text": [
      "100%|████████████████████████████████████████████████████████████████████████████████| 144/144 [00:02<00:00, 55.95it/s]\n"
     ]
    },
    {
     "name": "stdout",
     "output_type": "stream",
     "text": [
      "0.666821693202817\n",
      "Valid binary acc:  0.7847222222222222\n",
      "\n",
      "========== Train epoch 68 ==========\n"
     ]
    },
    {
     "name": "stderr",
     "output_type": "stream",
     "text": [
      "100%|████████████████████████████████████████████████████████████████████████████████| 719/719 [00:15<00:00, 46.40it/s]\n"
     ]
    },
    {
     "name": "stdout",
     "output_type": "stream",
     "text": [
      "0.6761368315204895\n",
      "========== Evaluate Valid set ==========\n"
     ]
    },
    {
     "name": "stderr",
     "output_type": "stream",
     "text": [
      "100%|████████████████████████████████████████████████████████████████████████████████| 144/144 [00:02<00:00, 55.68it/s]\n"
     ]
    },
    {
     "name": "stdout",
     "output_type": "stream",
     "text": [
      "0.6593041754030209\n",
      "Valid binary acc:  0.7986111111111112\n",
      "\n",
      "========== Train epoch 69 ==========\n"
     ]
    },
    {
     "name": "stderr",
     "output_type": "stream",
     "text": [
      "100%|████████████████████████████████████████████████████████████████████████████████| 719/719 [00:15<00:00, 46.15it/s]\n"
     ]
    },
    {
     "name": "stdout",
     "output_type": "stream",
     "text": [
      "0.6638739345444581\n",
      "========== Evaluate Valid set ==========\n"
     ]
    },
    {
     "name": "stderr",
     "output_type": "stream",
     "text": [
      "100%|████████████████████████████████████████████████████████████████████████████████| 144/144 [00:02<00:00, 55.32it/s]\n"
     ]
    },
    {
     "name": "stdout",
     "output_type": "stream",
     "text": [
      "0.6492464789658293\n",
      "Valid binary acc:  0.7777777777777778\n",
      "\n",
      "========== Train epoch 70 ==========\n"
     ]
    },
    {
     "name": "stderr",
     "output_type": "stream",
     "text": [
      "100%|████████████████████████████████████████████████████████████████████████████████| 719/719 [00:15<00:00, 45.87it/s]\n"
     ]
    },
    {
     "name": "stdout",
     "output_type": "stream",
     "text": [
      "0.6536503682207983\n",
      "========== Evaluate Valid set ==========\n"
     ]
    },
    {
     "name": "stderr",
     "output_type": "stream",
     "text": [
      "100%|████████████████████████████████████████████████████████████████████████████████| 144/144 [00:02<00:00, 55.38it/s]\n"
     ]
    },
    {
     "name": "stdout",
     "output_type": "stream",
     "text": [
      "0.6319247361890221\n",
      "Valid binary acc:  0.7916666666666666\n",
      "\n",
      "========== Train epoch 71 ==========\n"
     ]
    },
    {
     "name": "stderr",
     "output_type": "stream",
     "text": [
      "100%|████████████████████████████████████████████████████████████████████████████████| 719/719 [00:15<00:00, 46.65it/s]\n"
     ]
    },
    {
     "name": "stdout",
     "output_type": "stream",
     "text": [
      "0.645482573494696\n",
      "========== Evaluate Valid set ==========\n"
     ]
    },
    {
     "name": "stderr",
     "output_type": "stream",
     "text": [
      "100%|████████████████████████████████████████████████████████████████████████████████| 144/144 [00:02<00:00, 57.15it/s]\n"
     ]
    },
    {
     "name": "stdout",
     "output_type": "stream",
     "text": [
      "0.619068251864519\n",
      "Valid binary acc:  0.8055555555555556\n",
      "\n",
      "========== Train epoch 72 ==========\n"
     ]
    },
    {
     "name": "stderr",
     "output_type": "stream",
     "text": [
      "100%|████████████████████████████████████████████████████████████████████████████████| 719/719 [00:15<00:00, 46.70it/s]\n"
     ]
    },
    {
     "name": "stdout",
     "output_type": "stream",
     "text": [
      "0.6357256213642828\n",
      "========== Evaluate Valid set ==========\n"
     ]
    },
    {
     "name": "stderr",
     "output_type": "stream",
     "text": [
      "100%|████████████████████████████████████████████████████████████████████████████████| 144/144 [00:02<00:00, 55.03it/s]\n"
     ]
    },
    {
     "name": "stdout",
     "output_type": "stream",
     "text": [
      "0.6285217948962882\n",
      "Valid binary acc:  0.7916666666666666\n",
      "\n",
      "========== Train epoch 73 ==========\n"
     ]
    },
    {
     "name": "stderr",
     "output_type": "stream",
     "text": [
      "100%|████████████████████████████████████████████████████████████████████████████████| 719/719 [00:15<00:00, 46.67it/s]\n"
     ]
    },
    {
     "name": "stdout",
     "output_type": "stream",
     "text": [
      "0.6280316968303306\n",
      "========== Evaluate Valid set ==========\n"
     ]
    },
    {
     "name": "stderr",
     "output_type": "stream",
     "text": [
      "100%|████████████████████████████████████████████████████████████████████████████████| 144/144 [00:02<00:00, 53.79it/s]\n"
     ]
    },
    {
     "name": "stdout",
     "output_type": "stream",
     "text": [
      "0.6178143315482885\n",
      "Valid binary acc:  0.8055555555555556\n",
      "\n",
      "========== Train epoch 74 ==========\n"
     ]
    },
    {
     "name": "stderr",
     "output_type": "stream",
     "text": [
      "100%|████████████████████████████████████████████████████████████████████████████████| 719/719 [00:17<00:00, 42.13it/s]\n"
     ]
    },
    {
     "name": "stdout",
     "output_type": "stream",
     "text": [
      "0.6165892433025024\n",
      "========== Evaluate Valid set ==========\n"
     ]
    },
    {
     "name": "stderr",
     "output_type": "stream",
     "text": [
      "100%|████████████████████████████████████████████████████████████████████████████████| 144/144 [00:03<00:00, 40.25it/s]\n"
     ]
    },
    {
     "name": "stdout",
     "output_type": "stream",
     "text": [
      "0.6166337277067618\n",
      "Valid binary acc:  0.7847222222222222\n",
      "\n",
      "========== Train epoch 75 ==========\n"
     ]
    },
    {
     "name": "stderr",
     "output_type": "stream",
     "text": [
      "100%|████████████████████████████████████████████████████████████████████████████████| 719/719 [00:15<00:00, 45.62it/s]\n"
     ]
    },
    {
     "name": "stdout",
     "output_type": "stream",
     "text": [
      "0.6118244828095855\n",
      "========== Evaluate Valid set ==========\n"
     ]
    },
    {
     "name": "stderr",
     "output_type": "stream",
     "text": [
      "100%|████████████████████████████████████████████████████████████████████████████████| 144/144 [00:02<00:00, 54.85it/s]\n"
     ]
    },
    {
     "name": "stdout",
     "output_type": "stream",
     "text": [
      "0.5850209001978833\n",
      "Valid binary acc:  0.8055555555555556\n",
      "\n",
      "========== Fold 3 ==========\n",
      "Training on 575 examples, Validation on 144 examples\n",
      "\n",
      "========== Train epoch 1 ==========\n"
     ]
    },
    {
     "name": "stderr",
     "output_type": "stream",
     "text": [
      "100%|████████████████████████████████████████████████████████████████████████████████| 719/719 [00:15<00:00, 46.06it/s]\n"
     ]
    },
    {
     "name": "stdout",
     "output_type": "stream",
     "text": [
      "1.5024943720647788\n",
      "========== Evaluate Valid set ==========\n"
     ]
    },
    {
     "name": "stderr",
     "output_type": "stream",
     "text": [
      "100%|████████████████████████████████████████████████████████████████████████████████| 144/144 [00:02<00:00, 62.00it/s]\n"
     ]
    },
    {
     "name": "stdout",
     "output_type": "stream",
     "text": [
      "1.3836330220931106\n",
      "Valid binary acc:  0.5\n",
      "\n",
      "========== Train epoch 2 ==========\n"
     ]
    },
    {
     "name": "stderr",
     "output_type": "stream",
     "text": [
      "100%|████████████████████████████████████████████████████████████████████████████████| 719/719 [00:15<00:00, 46.03it/s]\n"
     ]
    },
    {
     "name": "stdout",
     "output_type": "stream",
     "text": [
      "1.4458078959223624\n",
      "========== Evaluate Valid set ==========\n"
     ]
    },
    {
     "name": "stderr",
     "output_type": "stream",
     "text": [
      "100%|████████████████████████████████████████████████████████████████████████████████| 144/144 [00:02<00:00, 63.73it/s]\n"
     ]
    },
    {
     "name": "stdout",
     "output_type": "stream",
     "text": [
      "1.3618035701413949\n",
      "Valid binary acc:  0.5486111111111112\n",
      "\n",
      "========== Train epoch 3 ==========\n"
     ]
    },
    {
     "name": "stderr",
     "output_type": "stream",
     "text": [
      "100%|████████████████████████████████████████████████████████████████████████████████| 719/719 [00:15<00:00, 46.96it/s]\n"
     ]
    },
    {
     "name": "stdout",
     "output_type": "stream",
     "text": [
      "1.4148194379534609\n",
      "========== Evaluate Valid set ==========\n"
     ]
    },
    {
     "name": "stderr",
     "output_type": "stream",
     "text": [
      "100%|████████████████████████████████████████████████████████████████████████████████| 144/144 [00:02<00:00, 63.00it/s]\n"
     ]
    },
    {
     "name": "stdout",
     "output_type": "stream",
     "text": [
      "1.3136970061394904\n",
      "Valid binary acc:  0.5277777777777778\n",
      "\n",
      "========== Train epoch 4 ==========\n"
     ]
    },
    {
     "name": "stderr",
     "output_type": "stream",
     "text": [
      "100%|████████████████████████████████████████████████████████████████████████████████| 719/719 [00:15<00:00, 46.30it/s]\n"
     ]
    },
    {
     "name": "stdout",
     "output_type": "stream",
     "text": [
      "1.3902496453452342\n",
      "========== Evaluate Valid set ==========\n"
     ]
    },
    {
     "name": "stderr",
     "output_type": "stream",
     "text": [
      "100%|████████████████████████████████████████████████████████████████████████████████| 144/144 [00:02<00:00, 63.27it/s]\n"
     ]
    },
    {
     "name": "stdout",
     "output_type": "stream",
     "text": [
      "1.2756261461310916\n",
      "Valid binary acc:  0.5486111111111112\n",
      "\n",
      "========== Train epoch 5 ==========\n"
     ]
    },
    {
     "name": "stderr",
     "output_type": "stream",
     "text": [
      "100%|████████████████████████████████████████████████████████████████████████████████| 719/719 [00:15<00:00, 46.82it/s]\n"
     ]
    },
    {
     "name": "stdout",
     "output_type": "stream",
     "text": [
      "1.3654614727172136\n",
      "========== Evaluate Valid set ==========\n"
     ]
    },
    {
     "name": "stderr",
     "output_type": "stream",
     "text": [
      "100%|████████████████████████████████████████████████████████████████████████████████| 144/144 [00:02<00:00, 63.64it/s]\n"
     ]
    },
    {
     "name": "stdout",
     "output_type": "stream",
     "text": [
      "1.2709308883382215\n",
      "Valid binary acc:  0.5694444444444444\n",
      "\n",
      "========== Train epoch 6 ==========\n"
     ]
    },
    {
     "name": "stderr",
     "output_type": "stream",
     "text": [
      "100%|████████████████████████████████████████████████████████████████████████████████| 719/719 [00:15<00:00, 46.64it/s]\n"
     ]
    },
    {
     "name": "stdout",
     "output_type": "stream",
     "text": [
      "1.3433648603184665\n",
      "========== Evaluate Valid set ==========\n"
     ]
    },
    {
     "name": "stderr",
     "output_type": "stream",
     "text": [
      "100%|████████████████████████████████████████████████████████████████████████████████| 144/144 [00:02<00:00, 63.68it/s]\n"
     ]
    },
    {
     "name": "stdout",
     "output_type": "stream",
     "text": [
      "1.2222565441495843\n",
      "Valid binary acc:  0.5625\n",
      "\n",
      "========== Train epoch 7 ==========\n"
     ]
    },
    {
     "name": "stderr",
     "output_type": "stream",
     "text": [
      "100%|████████████████████████████████████████████████████████████████████████████████| 719/719 [00:15<00:00, 46.29it/s]\n"
     ]
    },
    {
     "name": "stdout",
     "output_type": "stream",
     "text": [
      "1.3222385508128764\n",
      "========== Evaluate Valid set ==========\n"
     ]
    },
    {
     "name": "stderr",
     "output_type": "stream",
     "text": [
      "100%|████████████████████████████████████████████████████████████████████████████████| 144/144 [00:02<00:00, 62.62it/s]\n"
     ]
    },
    {
     "name": "stdout",
     "output_type": "stream",
     "text": [
      "1.1918357461690903\n",
      "Valid binary acc:  0.5625\n",
      "\n",
      "========== Train epoch 8 ==========\n"
     ]
    },
    {
     "name": "stderr",
     "output_type": "stream",
     "text": [
      "100%|████████████████████████████████████████████████████████████████████████████████| 719/719 [00:15<00:00, 46.51it/s]\n"
     ]
    },
    {
     "name": "stdout",
     "output_type": "stream",
     "text": [
      "1.3032525027992\n",
      "========== Evaluate Valid set ==========\n"
     ]
    },
    {
     "name": "stderr",
     "output_type": "stream",
     "text": [
      "100%|████████████████████████████████████████████████████████████████████████████████| 144/144 [00:02<00:00, 61.35it/s]\n"
     ]
    },
    {
     "name": "stdout",
     "output_type": "stream",
     "text": [
      "1.1937883088572159\n",
      "Valid binary acc:  0.5694444444444444\n",
      "\n",
      "========== Train epoch 9 ==========\n"
     ]
    },
    {
     "name": "stderr",
     "output_type": "stream",
     "text": [
      "100%|████████████████████████████████████████████████████████████████████████████████| 719/719 [00:15<00:00, 45.82it/s]\n"
     ]
    },
    {
     "name": "stdout",
     "output_type": "stream",
     "text": [
      "1.2880550459213813\n",
      "========== Evaluate Valid set ==========\n"
     ]
    },
    {
     "name": "stderr",
     "output_type": "stream",
     "text": [
      "100%|████████████████████████████████████████████████████████████████████████████████| 144/144 [00:02<00:00, 61.52it/s]\n"
     ]
    },
    {
     "name": "stdout",
     "output_type": "stream",
     "text": [
      "1.170898022957974\n",
      "Valid binary acc:  0.5902777777777778\n",
      "\n",
      "========== Train epoch 10 ==========\n"
     ]
    },
    {
     "name": "stderr",
     "output_type": "stream",
     "text": [
      "100%|████████████████████████████████████████████████████████████████████████████████| 719/719 [00:15<00:00, 46.16it/s]\n"
     ]
    },
    {
     "name": "stdout",
     "output_type": "stream",
     "text": [
      "1.2806034055804012\n",
      "========== Evaluate Valid set ==========\n"
     ]
    },
    {
     "name": "stderr",
     "output_type": "stream",
     "text": [
      "100%|████████████████████████████████████████████████████████████████████████████████| 144/144 [00:02<00:00, 61.18it/s]\n"
     ]
    },
    {
     "name": "stdout",
     "output_type": "stream",
     "text": [
      "1.1583845404287179\n",
      "Valid binary acc:  0.5972222222222222\n",
      "\n",
      "========== Train epoch 11 ==========\n"
     ]
    },
    {
     "name": "stderr",
     "output_type": "stream",
     "text": [
      "100%|████████████████████████████████████████████████████████████████████████████████| 719/719 [00:15<00:00, 46.14it/s]\n"
     ]
    },
    {
     "name": "stdout",
     "output_type": "stream",
     "text": [
      "1.268391173389923\n",
      "========== Evaluate Valid set ==========\n"
     ]
    },
    {
     "name": "stderr",
     "output_type": "stream",
     "text": [
      "100%|████████████████████████████████████████████████████████████████████████████████| 144/144 [00:02<00:00, 63.44it/s]\n"
     ]
    },
    {
     "name": "stdout",
     "output_type": "stream",
     "text": [
      "1.136703822761774\n",
      "Valid binary acc:  0.5972222222222222\n",
      "\n",
      "========== Train epoch 12 ==========\n"
     ]
    },
    {
     "name": "stderr",
     "output_type": "stream",
     "text": [
      "100%|████████████████████████████████████████████████████████████████████████████████| 719/719 [00:15<00:00, 46.26it/s]\n"
     ]
    },
    {
     "name": "stdout",
     "output_type": "stream",
     "text": [
      "1.2552850556265827\n",
      "========== Evaluate Valid set ==========\n"
     ]
    },
    {
     "name": "stderr",
     "output_type": "stream",
     "text": [
      "100%|████████████████████████████████████████████████████████████████████████████████| 144/144 [00:02<00:00, 60.06it/s]\n"
     ]
    },
    {
     "name": "stdout",
     "output_type": "stream",
     "text": [
      "1.1356793540633388\n",
      "Valid binary acc:  0.6111111111111112\n",
      "\n",
      "========== Train epoch 13 ==========\n"
     ]
    },
    {
     "name": "stderr",
     "output_type": "stream",
     "text": [
      "100%|████████████████████████████████████████████████████████████████████████████████| 719/719 [00:15<00:00, 46.30it/s]\n"
     ]
    },
    {
     "name": "stdout",
     "output_type": "stream",
     "text": [
      "1.2489172239296957\n",
      "========== Evaluate Valid set ==========\n"
     ]
    },
    {
     "name": "stderr",
     "output_type": "stream",
     "text": [
      "100%|████████████████████████████████████████████████████████████████████████████████| 144/144 [00:02<00:00, 62.72it/s]\n"
     ]
    },
    {
     "name": "stdout",
     "output_type": "stream",
     "text": [
      "1.1056346322099369\n",
      "Valid binary acc:  0.5972222222222222\n",
      "\n",
      "========== Train epoch 14 ==========\n"
     ]
    },
    {
     "name": "stderr",
     "output_type": "stream",
     "text": [
      "100%|████████████████████████████████████████████████████████████████████████████████| 719/719 [00:15<00:00, 46.56it/s]\n"
     ]
    },
    {
     "name": "stdout",
     "output_type": "stream",
     "text": [
      "1.2378979268715677\n",
      "========== Evaluate Valid set ==========\n"
     ]
    },
    {
     "name": "stderr",
     "output_type": "stream",
     "text": [
      "100%|████████████████████████████████████████████████████████████████████████████████| 144/144 [00:02<00:00, 62.62it/s]\n"
     ]
    },
    {
     "name": "stdout",
     "output_type": "stream",
     "text": [
      "1.1255448717210028\n",
      "Valid binary acc:  0.5694444444444444\n",
      "\n",
      "========== Train epoch 15 ==========\n"
     ]
    },
    {
     "name": "stderr",
     "output_type": "stream",
     "text": [
      "100%|████████████████████████████████████████████████████████████████████████████████| 719/719 [00:15<00:00, 46.77it/s]\n"
     ]
    },
    {
     "name": "stdout",
     "output_type": "stream",
     "text": [
      "1.2306313572117284\n",
      "========== Evaluate Valid set ==========\n"
     ]
    },
    {
     "name": "stderr",
     "output_type": "stream",
     "text": [
      "100%|████████████████████████████████████████████████████████████████████████████████| 144/144 [00:02<00:00, 63.19it/s]\n"
     ]
    },
    {
     "name": "stdout",
     "output_type": "stream",
     "text": [
      "1.1072405560149088\n",
      "Valid binary acc:  0.5902777777777778\n",
      "\n",
      "========== Train epoch 16 ==========\n"
     ]
    },
    {
     "name": "stderr",
     "output_type": "stream",
     "text": [
      "100%|████████████████████████████████████████████████████████████████████████████████| 719/719 [00:15<00:00, 45.87it/s]\n"
     ]
    },
    {
     "name": "stdout",
     "output_type": "stream",
     "text": [
      "1.2240679064695625\n",
      "========== Evaluate Valid set ==========\n"
     ]
    },
    {
     "name": "stderr",
     "output_type": "stream",
     "text": [
      "100%|████████████████████████████████████████████████████████████████████████████████| 144/144 [00:02<00:00, 62.35it/s]\n"
     ]
    },
    {
     "name": "stdout",
     "output_type": "stream",
     "text": [
      "1.0917922620558076\n",
      "Valid binary acc:  0.6180555555555556\n",
      "\n",
      "========== Train epoch 17 ==========\n"
     ]
    },
    {
     "name": "stderr",
     "output_type": "stream",
     "text": [
      "100%|████████████████████████████████████████████████████████████████████████████████| 719/719 [00:15<00:00, 45.94it/s]\n"
     ]
    },
    {
     "name": "stdout",
     "output_type": "stream",
     "text": [
      "1.2132946324219955\n",
      "========== Evaluate Valid set ==========\n"
     ]
    },
    {
     "name": "stderr",
     "output_type": "stream",
     "text": [
      "100%|████████████████████████████████████████████████████████████████████████████████| 144/144 [00:02<00:00, 59.52it/s]\n"
     ]
    },
    {
     "name": "stdout",
     "output_type": "stream",
     "text": [
      "1.09810688574281\n",
      "Valid binary acc:  0.6041666666666666\n",
      "\n",
      "========== Train epoch 18 ==========\n"
     ]
    },
    {
     "name": "stderr",
     "output_type": "stream",
     "text": [
      "100%|████████████████████████████████████████████████████████████████████████████████| 719/719 [00:15<00:00, 45.76it/s]\n"
     ]
    },
    {
     "name": "stdout",
     "output_type": "stream",
     "text": [
      "1.2096179138055596\n",
      "========== Evaluate Valid set ==========\n"
     ]
    },
    {
     "name": "stderr",
     "output_type": "stream",
     "text": [
      "100%|████████████████████████████████████████████████████████████████████████████████| 144/144 [00:02<00:00, 61.03it/s]\n"
     ]
    },
    {
     "name": "stdout",
     "output_type": "stream",
     "text": [
      "1.0670000477176573\n",
      "Valid binary acc:  0.6180555555555556\n",
      "\n",
      "========== Train epoch 19 ==========\n"
     ]
    },
    {
     "name": "stderr",
     "output_type": "stream",
     "text": [
      "100%|████████████████████████████████████████████████████████████████████████████████| 719/719 [00:15<00:00, 45.90it/s]\n"
     ]
    },
    {
     "name": "stdout",
     "output_type": "stream",
     "text": [
      "1.2052403531958231\n",
      "========== Evaluate Valid set ==========\n"
     ]
    },
    {
     "name": "stderr",
     "output_type": "stream",
     "text": [
      "100%|████████████████████████████████████████████████████████████████████████████████| 144/144 [00:02<00:00, 62.18it/s]\n"
     ]
    },
    {
     "name": "stdout",
     "output_type": "stream",
     "text": [
      "1.0651176505618625\n",
      "Valid binary acc:  0.6041666666666666\n",
      "\n",
      "========== Train epoch 20 ==========\n"
     ]
    },
    {
     "name": "stderr",
     "output_type": "stream",
     "text": [
      "100%|████████████████████████████████████████████████████████████████████████████████| 719/719 [00:15<00:00, 45.96it/s]\n"
     ]
    },
    {
     "name": "stdout",
     "output_type": "stream",
     "text": [
      "1.198033315809612\n",
      "========== Evaluate Valid set ==========\n"
     ]
    },
    {
     "name": "stderr",
     "output_type": "stream",
     "text": [
      "100%|████████████████████████████████████████████████████████████████████████████████| 144/144 [00:02<00:00, 61.30it/s]\n"
     ]
    },
    {
     "name": "stdout",
     "output_type": "stream",
     "text": [
      "1.064345068505241\n",
      "Valid binary acc:  0.5972222222222222\n",
      "\n",
      "========== Train epoch 21 ==========\n"
     ]
    },
    {
     "name": "stderr",
     "output_type": "stream",
     "text": [
      "100%|████████████████████████████████████████████████████████████████████████████████| 719/719 [00:15<00:00, 45.75it/s]\n"
     ]
    },
    {
     "name": "stdout",
     "output_type": "stream",
     "text": [
      "1.1898858165562733\n",
      "========== Evaluate Valid set ==========\n"
     ]
    },
    {
     "name": "stderr",
     "output_type": "stream",
     "text": [
      "100%|████████████████████████████████████████████████████████████████████████████████| 144/144 [00:02<00:00, 63.20it/s]\n"
     ]
    },
    {
     "name": "stdout",
     "output_type": "stream",
     "text": [
      "1.05899099032912\n",
      "Valid binary acc:  0.6111111111111112\n",
      "\n",
      "========== Train epoch 22 ==========\n"
     ]
    },
    {
     "name": "stderr",
     "output_type": "stream",
     "text": [
      "100%|████████████████████████████████████████████████████████████████████████████████| 719/719 [00:15<00:00, 46.03it/s]\n"
     ]
    },
    {
     "name": "stdout",
     "output_type": "stream",
     "text": [
      "1.183605728616552\n",
      "========== Evaluate Valid set ==========\n"
     ]
    },
    {
     "name": "stderr",
     "output_type": "stream",
     "text": [
      "100%|████████████████████████████████████████████████████████████████████████████████| 144/144 [00:02<00:00, 60.75it/s]\n"
     ]
    },
    {
     "name": "stdout",
     "output_type": "stream",
     "text": [
      "1.0418229980601206\n",
      "Valid binary acc:  0.6111111111111112\n",
      "\n",
      "========== Train epoch 23 ==========\n"
     ]
    },
    {
     "name": "stderr",
     "output_type": "stream",
     "text": [
      "100%|████████████████████████████████████████████████████████████████████████████████| 719/719 [00:15<00:00, 45.49it/s]\n"
     ]
    },
    {
     "name": "stdout",
     "output_type": "stream",
     "text": [
      "1.1771277342514965\n",
      "========== Evaluate Valid set ==========\n"
     ]
    },
    {
     "name": "stderr",
     "output_type": "stream",
     "text": [
      "100%|████████████████████████████████████████████████████████████████████████████████| 144/144 [00:02<00:00, 61.47it/s]\n"
     ]
    },
    {
     "name": "stdout",
     "output_type": "stream",
     "text": [
      "1.034361462884893\n",
      "Valid binary acc:  0.6041666666666666\n",
      "\n",
      "========== Train epoch 24 ==========\n"
     ]
    },
    {
     "name": "stderr",
     "output_type": "stream",
     "text": [
      "100%|████████████████████████████████████████████████████████████████████████████████| 719/719 [00:15<00:00, 45.98it/s]\n"
     ]
    },
    {
     "name": "stdout",
     "output_type": "stream",
     "text": [
      "1.1733590819470077\n",
      "========== Evaluate Valid set ==========\n"
     ]
    },
    {
     "name": "stderr",
     "output_type": "stream",
     "text": [
      "100%|████████████████████████████████████████████████████████████████████████████████| 144/144 [00:02<00:00, 61.50it/s]\n"
     ]
    },
    {
     "name": "stdout",
     "output_type": "stream",
     "text": [
      "1.0199650616074603\n",
      "Valid binary acc:  0.6319444444444444\n",
      "\n",
      "========== Train epoch 25 ==========\n"
     ]
    },
    {
     "name": "stderr",
     "output_type": "stream",
     "text": [
      "100%|████████████████████████████████████████████████████████████████████████████████| 719/719 [00:15<00:00, 46.76it/s]\n"
     ]
    },
    {
     "name": "stdout",
     "output_type": "stream",
     "text": [
      "1.1639169819539048\n",
      "========== Evaluate Valid set ==========\n"
     ]
    },
    {
     "name": "stderr",
     "output_type": "stream",
     "text": [
      "100%|████████████████████████████████████████████████████████████████████████████████| 144/144 [00:02<00:00, 63.18it/s]\n"
     ]
    },
    {
     "name": "stdout",
     "output_type": "stream",
     "text": [
      "1.0237603737041354\n",
      "Valid binary acc:  0.6180555555555556\n",
      "\n",
      "========== Train epoch 26 ==========\n"
     ]
    },
    {
     "name": "stderr",
     "output_type": "stream",
     "text": [
      "100%|████████████████████████████████████████████████████████████████████████████████| 719/719 [00:15<00:00, 46.41it/s]\n"
     ]
    },
    {
     "name": "stdout",
     "output_type": "stream",
     "text": [
      "1.1530473310298317\n",
      "========== Evaluate Valid set ==========\n"
     ]
    },
    {
     "name": "stderr",
     "output_type": "stream",
     "text": [
      "100%|████████████████████████████████████████████████████████████████████████████████| 144/144 [00:02<00:00, 63.61it/s]\n"
     ]
    },
    {
     "name": "stdout",
     "output_type": "stream",
     "text": [
      "1.022383233273609\n",
      "Valid binary acc:  0.6458333333333334\n",
      "\n",
      "========== Train epoch 27 ==========\n"
     ]
    },
    {
     "name": "stderr",
     "output_type": "stream",
     "text": [
      "100%|████████████████████████████████████████████████████████████████████████████████| 719/719 [00:15<00:00, 46.41it/s]\n"
     ]
    },
    {
     "name": "stdout",
     "output_type": "stream",
     "text": [
      "1.1499024761817385\n",
      "========== Evaluate Valid set ==========\n"
     ]
    },
    {
     "name": "stderr",
     "output_type": "stream",
     "text": [
      "100%|████████████████████████████████████████████████████████████████████████████████| 144/144 [00:02<00:00, 63.18it/s]\n"
     ]
    },
    {
     "name": "stdout",
     "output_type": "stream",
     "text": [
      "1.0107354609192245\n",
      "Valid binary acc:  0.6319444444444444\n",
      "\n",
      "========== Train epoch 28 ==========\n"
     ]
    },
    {
     "name": "stderr",
     "output_type": "stream",
     "text": [
      "100%|████████████████████████████████████████████████████████████████████████████████| 719/719 [00:15<00:00, 46.06it/s]\n"
     ]
    },
    {
     "name": "stdout",
     "output_type": "stream",
     "text": [
      "1.1414400369177606\n",
      "========== Evaluate Valid set ==========\n"
     ]
    },
    {
     "name": "stderr",
     "output_type": "stream",
     "text": [
      "100%|████████████████████████████████████████████████████████████████████████████████| 144/144 [00:02<00:00, 63.71it/s]\n"
     ]
    },
    {
     "name": "stdout",
     "output_type": "stream",
     "text": [
      "0.9969301443650491\n",
      "Valid binary acc:  0.6180555555555556\n",
      "\n",
      "========== Train epoch 29 ==========\n"
     ]
    },
    {
     "name": "stderr",
     "output_type": "stream",
     "text": [
      "100%|████████████████████████████████████████████████████████████████████████████████| 719/719 [00:15<00:00, 46.28it/s]\n"
     ]
    },
    {
     "name": "stdout",
     "output_type": "stream",
     "text": [
      "1.1371904443871743\n",
      "========== Evaluate Valid set ==========\n"
     ]
    },
    {
     "name": "stderr",
     "output_type": "stream",
     "text": [
      "100%|████████████████████████████████████████████████████████████████████████████████| 144/144 [00:02<00:00, 61.23it/s]\n"
     ]
    },
    {
     "name": "stdout",
     "output_type": "stream",
     "text": [
      "0.9940036571998563\n",
      "Valid binary acc:  0.6388888888888888\n",
      "\n",
      "========== Train epoch 30 ==========\n"
     ]
    },
    {
     "name": "stderr",
     "output_type": "stream",
     "text": [
      "100%|████████████████████████████████████████████████████████████████████████████████| 719/719 [00:15<00:00, 46.35it/s]\n"
     ]
    },
    {
     "name": "stdout",
     "output_type": "stream",
     "text": [
      "1.1245614146925147\n",
      "========== Evaluate Valid set ==========\n"
     ]
    },
    {
     "name": "stderr",
     "output_type": "stream",
     "text": [
      "100%|████████████████████████████████████████████████████████████████████████████████| 144/144 [00:02<00:00, 63.90it/s]\n"
     ]
    },
    {
     "name": "stdout",
     "output_type": "stream",
     "text": [
      "0.9728383340665864\n",
      "Valid binary acc:  0.6458333333333334\n",
      "\n",
      "========== Train epoch 31 ==========\n"
     ]
    },
    {
     "name": "stderr",
     "output_type": "stream",
     "text": [
      "100%|████████████████████████████████████████████████████████████████████████████████| 719/719 [00:17<00:00, 40.41it/s]\n"
     ]
    },
    {
     "name": "stdout",
     "output_type": "stream",
     "text": [
      "1.1226003960096207\n",
      "========== Evaluate Valid set ==========\n"
     ]
    },
    {
     "name": "stderr",
     "output_type": "stream",
     "text": [
      "100%|████████████████████████████████████████████████████████████████████████████████| 144/144 [00:02<00:00, 59.41it/s]\n"
     ]
    },
    {
     "name": "stdout",
     "output_type": "stream",
     "text": [
      "0.9817734703214632\n",
      "Valid binary acc:  0.6597222222222222\n",
      "\n",
      "========== Train epoch 32 ==========\n"
     ]
    },
    {
     "name": "stderr",
     "output_type": "stream",
     "text": [
      "100%|████████████████████████████████████████████████████████████████████████████████| 719/719 [00:15<00:00, 45.11it/s]\n"
     ]
    },
    {
     "name": "stdout",
     "output_type": "stream",
     "text": [
      "1.1124442046681764\n",
      "========== Evaluate Valid set ==========\n"
     ]
    },
    {
     "name": "stderr",
     "output_type": "stream",
     "text": [
      "100%|████████████████████████████████████████████████████████████████████████████████| 144/144 [00:02<00:00, 60.65it/s]\n"
     ]
    },
    {
     "name": "stdout",
     "output_type": "stream",
     "text": [
      "0.9498757541490098\n",
      "Valid binary acc:  0.6458333333333334\n",
      "\n",
      "========== Train epoch 33 ==========\n"
     ]
    },
    {
     "name": "stderr",
     "output_type": "stream",
     "text": [
      "100%|████████████████████████████████████████████████████████████████████████████████| 719/719 [00:15<00:00, 45.11it/s]\n"
     ]
    },
    {
     "name": "stdout",
     "output_type": "stream",
     "text": [
      "1.1098660599746029\n",
      "========== Evaluate Valid set ==========\n"
     ]
    },
    {
     "name": "stderr",
     "output_type": "stream",
     "text": [
      "100%|████████████████████████████████████████████████████████████████████████████████| 144/144 [00:02<00:00, 61.07it/s]\n"
     ]
    },
    {
     "name": "stdout",
     "output_type": "stream",
     "text": [
      "0.9763479773989983\n",
      "Valid binary acc:  0.6805555555555556\n",
      "\n",
      "========== Train epoch 34 ==========\n"
     ]
    },
    {
     "name": "stderr",
     "output_type": "stream",
     "text": [
      "100%|████████████████████████████████████████████████████████████████████████████████| 719/719 [00:15<00:00, 45.75it/s]\n"
     ]
    },
    {
     "name": "stdout",
     "output_type": "stream",
     "text": [
      "1.1073243701480775\n",
      "========== Evaluate Valid set ==========\n"
     ]
    },
    {
     "name": "stderr",
     "output_type": "stream",
     "text": [
      "100%|████████████████████████████████████████████████████████████████████████████████| 144/144 [00:02<00:00, 62.11it/s]\n"
     ]
    },
    {
     "name": "stdout",
     "output_type": "stream",
     "text": [
      "0.9557336579697827\n",
      "Valid binary acc:  0.6527777777777778\n",
      "\n",
      "========== Train epoch 35 ==========\n"
     ]
    },
    {
     "name": "stderr",
     "output_type": "stream",
     "text": [
      "100%|████████████████████████████████████████████████████████████████████████████████| 719/719 [00:15<00:00, 46.01it/s]\n"
     ]
    },
    {
     "name": "stdout",
     "output_type": "stream",
     "text": [
      "1.094224420812639\n",
      "========== Evaluate Valid set ==========\n"
     ]
    },
    {
     "name": "stderr",
     "output_type": "stream",
     "text": [
      "100%|████████████████████████████████████████████████████████████████████████████████| 144/144 [00:02<00:00, 62.49it/s]\n"
     ]
    },
    {
     "name": "stdout",
     "output_type": "stream",
     "text": [
      "0.9511686438798077\n",
      "Valid binary acc:  0.6736111111111112\n",
      "\n",
      "========== Train epoch 36 ==========\n"
     ]
    },
    {
     "name": "stderr",
     "output_type": "stream",
     "text": [
      "100%|████████████████████████████████████████████████████████████████████████████████| 719/719 [00:15<00:00, 46.25it/s]\n"
     ]
    },
    {
     "name": "stdout",
     "output_type": "stream",
     "text": [
      "1.0833621170781087\n",
      "========== Evaluate Valid set ==========\n"
     ]
    },
    {
     "name": "stderr",
     "output_type": "stream",
     "text": [
      "100%|████████████████████████████████████████████████████████████████████████████████| 144/144 [00:02<00:00, 61.05it/s]\n"
     ]
    },
    {
     "name": "stdout",
     "output_type": "stream",
     "text": [
      "0.9470395316990713\n",
      "Valid binary acc:  0.6597222222222222\n",
      "\n",
      "========== Train epoch 37 ==========\n"
     ]
    },
    {
     "name": "stderr",
     "output_type": "stream",
     "text": [
      "100%|████████████████████████████████████████████████████████████████████████████████| 719/719 [00:15<00:00, 46.22it/s]\n"
     ]
    },
    {
     "name": "stdout",
     "output_type": "stream",
     "text": [
      "1.0747173239835777\n",
      "========== Evaluate Valid set ==========\n"
     ]
    },
    {
     "name": "stderr",
     "output_type": "stream",
     "text": [
      "100%|████████████████████████████████████████████████████████████████████████████████| 144/144 [00:02<00:00, 62.22it/s]\n"
     ]
    },
    {
     "name": "stdout",
     "output_type": "stream",
     "text": [
      "0.9786194287137024\n",
      "Valid binary acc:  0.6388888888888888\n",
      "\n",
      "========== Train epoch 38 ==========\n"
     ]
    },
    {
     "name": "stderr",
     "output_type": "stream",
     "text": [
      "100%|████████████████████████████████████████████████████████████████████████████████| 719/719 [00:15<00:00, 46.59it/s]\n"
     ]
    },
    {
     "name": "stdout",
     "output_type": "stream",
     "text": [
      "1.0727303614308838\n",
      "========== Evaluate Valid set ==========\n"
     ]
    },
    {
     "name": "stderr",
     "output_type": "stream",
     "text": [
      "100%|████████████████████████████████████████████████████████████████████████████████| 144/144 [00:02<00:00, 61.87it/s]\n"
     ]
    },
    {
     "name": "stdout",
     "output_type": "stream",
     "text": [
      "0.9343340452243056\n",
      "Valid binary acc:  0.6597222222222222\n",
      "\n",
      "========== Train epoch 39 ==========\n"
     ]
    },
    {
     "name": "stderr",
     "output_type": "stream",
     "text": [
      "100%|████████████████████████████████████████████████████████████████████████████████| 719/719 [00:15<00:00, 46.06it/s]\n"
     ]
    },
    {
     "name": "stdout",
     "output_type": "stream",
     "text": [
      "1.0660963846430163\n",
      "========== Evaluate Valid set ==========\n"
     ]
    },
    {
     "name": "stderr",
     "output_type": "stream",
     "text": [
      "100%|████████████████████████████████████████████████████████████████████████████████| 144/144 [00:02<00:00, 61.89it/s]\n"
     ]
    },
    {
     "name": "stdout",
     "output_type": "stream",
     "text": [
      "0.9370296094566584\n",
      "Valid binary acc:  0.6527777777777778\n",
      "\n",
      "========== Train epoch 40 ==========\n"
     ]
    },
    {
     "name": "stderr",
     "output_type": "stream",
     "text": [
      "100%|████████████████████████████████████████████████████████████████████████████████| 719/719 [00:15<00:00, 46.20it/s]\n"
     ]
    },
    {
     "name": "stdout",
     "output_type": "stream",
     "text": [
      "1.0536296747350269\n",
      "========== Evaluate Valid set ==========\n"
     ]
    },
    {
     "name": "stderr",
     "output_type": "stream",
     "text": [
      "100%|████████████████████████████████████████████████████████████████████████████████| 144/144 [00:02<00:00, 63.03it/s]\n"
     ]
    },
    {
     "name": "stdout",
     "output_type": "stream",
     "text": [
      "0.9168915193424456\n",
      "Valid binary acc:  0.6805555555555556\n",
      "\n",
      "========== Train epoch 41 ==========\n"
     ]
    },
    {
     "name": "stderr",
     "output_type": "stream",
     "text": [
      "100%|████████████████████████████████████████████████████████████████████████████████| 719/719 [00:15<00:00, 46.34it/s]\n"
     ]
    },
    {
     "name": "stdout",
     "output_type": "stream",
     "text": [
      "1.052232364500887\n",
      "========== Evaluate Valid set ==========\n"
     ]
    },
    {
     "name": "stderr",
     "output_type": "stream",
     "text": [
      "100%|████████████████████████████████████████████████████████████████████████████████| 144/144 [00:02<00:00, 63.29it/s]\n"
     ]
    },
    {
     "name": "stdout",
     "output_type": "stream",
     "text": [
      "0.9191928084732758\n",
      "Valid binary acc:  0.6597222222222222\n",
      "\n",
      "========== Train epoch 42 ==========\n"
     ]
    },
    {
     "name": "stderr",
     "output_type": "stream",
     "text": [
      "100%|████████████████████████████████████████████████████████████████████████████████| 719/719 [00:15<00:00, 46.17it/s]\n"
     ]
    },
    {
     "name": "stdout",
     "output_type": "stream",
     "text": [
      "1.0338316490518782\n",
      "========== Evaluate Valid set ==========\n"
     ]
    },
    {
     "name": "stderr",
     "output_type": "stream",
     "text": [
      "100%|████████████████████████████████████████████████████████████████████████████████| 144/144 [00:02<00:00, 60.56it/s]\n"
     ]
    },
    {
     "name": "stdout",
     "output_type": "stream",
     "text": [
      "0.9325052508825643\n",
      "Valid binary acc:  0.6944444444444444\n",
      "\n",
      "========== Train epoch 43 ==========\n"
     ]
    },
    {
     "name": "stderr",
     "output_type": "stream",
     "text": [
      "100%|████████████████████████████████████████████████████████████████████████████████| 719/719 [00:15<00:00, 45.98it/s]\n"
     ]
    },
    {
     "name": "stdout",
     "output_type": "stream",
     "text": [
      "1.0318403893483281\n",
      "========== Evaluate Valid set ==========\n"
     ]
    },
    {
     "name": "stderr",
     "output_type": "stream",
     "text": [
      "100%|████████████████████████████████████████████████████████████████████████████████| 144/144 [00:02<00:00, 61.91it/s]\n"
     ]
    },
    {
     "name": "stdout",
     "output_type": "stream",
     "text": [
      "0.8939787714431683\n",
      "Valid binary acc:  0.6736111111111112\n",
      "\n",
      "========== Train epoch 44 ==========\n"
     ]
    },
    {
     "name": "stderr",
     "output_type": "stream",
     "text": [
      "100%|████████████████████████████████████████████████████████████████████████████████| 719/719 [00:15<00:00, 46.23it/s]\n"
     ]
    },
    {
     "name": "stdout",
     "output_type": "stream",
     "text": [
      "1.0255431017484802\n",
      "========== Evaluate Valid set ==========\n"
     ]
    },
    {
     "name": "stderr",
     "output_type": "stream",
     "text": [
      "100%|████████████████████████████████████████████████████████████████████████████████| 144/144 [00:02<00:00, 60.41it/s]\n"
     ]
    },
    {
     "name": "stdout",
     "output_type": "stream",
     "text": [
      "0.8963439315040078\n",
      "Valid binary acc:  0.6666666666666666\n",
      "\n",
      "========== Train epoch 45 ==========\n"
     ]
    },
    {
     "name": "stderr",
     "output_type": "stream",
     "text": [
      "100%|████████████████████████████████████████████████████████████████████████████████| 719/719 [00:15<00:00, 45.64it/s]\n"
     ]
    },
    {
     "name": "stdout",
     "output_type": "stream",
     "text": [
      "1.0157105379863558\n",
      "========== Evaluate Valid set ==========\n"
     ]
    },
    {
     "name": "stderr",
     "output_type": "stream",
     "text": [
      "100%|████████████████████████████████████████████████████████████████████████████████| 144/144 [00:02<00:00, 58.62it/s]\n"
     ]
    },
    {
     "name": "stdout",
     "output_type": "stream",
     "text": [
      "0.8963211407471035\n",
      "Valid binary acc:  0.7013888888888888\n",
      "\n",
      "========== Train epoch 46 ==========\n"
     ]
    },
    {
     "name": "stderr",
     "output_type": "stream",
     "text": [
      "100%|████████████████████████████████████████████████████████████████████████████████| 719/719 [00:15<00:00, 45.76it/s]\n"
     ]
    },
    {
     "name": "stdout",
     "output_type": "stream",
     "text": [
      "1.0055624178904776\n",
      "========== Evaluate Valid set ==========\n"
     ]
    },
    {
     "name": "stderr",
     "output_type": "stream",
     "text": [
      "100%|████████████████████████████████████████████████████████████████████████████████| 144/144 [00:02<00:00, 62.36it/s]\n"
     ]
    },
    {
     "name": "stdout",
     "output_type": "stream",
     "text": [
      "0.878214965807274\n",
      "Valid binary acc:  0.6805555555555556\n",
      "\n",
      "========== Train epoch 47 ==========\n"
     ]
    },
    {
     "name": "stderr",
     "output_type": "stream",
     "text": [
      "100%|████████████████████████████████████████████████████████████████████████████████| 719/719 [00:15<00:00, 45.90it/s]\n"
     ]
    },
    {
     "name": "stdout",
     "output_type": "stream",
     "text": [
      "0.9917047899734535\n",
      "========== Evaluate Valid set ==========\n"
     ]
    },
    {
     "name": "stderr",
     "output_type": "stream",
     "text": [
      "100%|████████████████████████████████████████████████████████████████████████████████| 144/144 [00:02<00:00, 61.48it/s]\n"
     ]
    },
    {
     "name": "stdout",
     "output_type": "stream",
     "text": [
      "0.875024365571638\n",
      "Valid binary acc:  0.6805555555555556\n",
      "\n",
      "========== Train epoch 48 ==========\n"
     ]
    },
    {
     "name": "stderr",
     "output_type": "stream",
     "text": [
      "100%|████████████████████████████████████████████████████████████████████████████████| 719/719 [00:15<00:00, 45.97it/s]\n"
     ]
    },
    {
     "name": "stdout",
     "output_type": "stream",
     "text": [
      "0.9871962000078344\n",
      "========== Evaluate Valid set ==========\n"
     ]
    },
    {
     "name": "stderr",
     "output_type": "stream",
     "text": [
      "100%|████████████████████████████████████████████████████████████████████████████████| 144/144 [00:02<00:00, 62.26it/s]\n"
     ]
    },
    {
     "name": "stdout",
     "output_type": "stream",
     "text": [
      "0.8681200761865411\n",
      "Valid binary acc:  0.6805555555555556\n",
      "\n",
      "========== Train epoch 49 ==========\n"
     ]
    },
    {
     "name": "stderr",
     "output_type": "stream",
     "text": [
      "100%|████████████████████████████████████████████████████████████████████████████████| 719/719 [00:16<00:00, 44.87it/s]\n"
     ]
    },
    {
     "name": "stdout",
     "output_type": "stream",
     "text": [
      "0.9782730422872579\n",
      "========== Evaluate Valid set ==========\n"
     ]
    },
    {
     "name": "stderr",
     "output_type": "stream",
     "text": [
      "100%|████████████████████████████████████████████████████████████████████████████████| 144/144 [00:02<00:00, 61.08it/s]\n"
     ]
    },
    {
     "name": "stdout",
     "output_type": "stream",
     "text": [
      "0.8579731427857445\n",
      "Valid binary acc:  0.6875\n",
      "\n",
      "========== Train epoch 50 ==========\n"
     ]
    },
    {
     "name": "stderr",
     "output_type": "stream",
     "text": [
      "100%|████████████████████████████████████████████████████████████████████████████████| 719/719 [00:15<00:00, 46.09it/s]\n"
     ]
    },
    {
     "name": "stdout",
     "output_type": "stream",
     "text": [
      "0.9629466729821515\n",
      "========== Evaluate Valid set ==========\n"
     ]
    },
    {
     "name": "stderr",
     "output_type": "stream",
     "text": [
      "100%|████████████████████████████████████████████████████████████████████████████████| 144/144 [00:02<00:00, 63.02it/s]\n"
     ]
    },
    {
     "name": "stdout",
     "output_type": "stream",
     "text": [
      "0.8830964470075237\n",
      "Valid binary acc:  0.6875\n",
      "\n",
      "========== Train epoch 51 ==========\n"
     ]
    },
    {
     "name": "stderr",
     "output_type": "stream",
     "text": [
      "100%|████████████████████████████████████████████████████████████████████████████████| 719/719 [00:15<00:00, 46.36it/s]\n"
     ]
    },
    {
     "name": "stdout",
     "output_type": "stream",
     "text": [
      "0.9592780200673866\n",
      "========== Evaluate Valid set ==========\n"
     ]
    },
    {
     "name": "stderr",
     "output_type": "stream",
     "text": [
      "100%|████████████████████████████████████████████████████████████████████████████████| 144/144 [00:02<00:00, 63.17it/s]\n"
     ]
    },
    {
     "name": "stdout",
     "output_type": "stream",
     "text": [
      "0.8620845509641286\n",
      "Valid binary acc:  0.7222222222222222\n",
      "\n",
      "========== Train epoch 52 ==========\n"
     ]
    },
    {
     "name": "stderr",
     "output_type": "stream",
     "text": [
      "100%|████████████████████████████████████████████████████████████████████████████████| 719/719 [00:15<00:00, 46.45it/s]\n"
     ]
    },
    {
     "name": "stdout",
     "output_type": "stream",
     "text": [
      "0.9422617715929786\n",
      "========== Evaluate Valid set ==========\n"
     ]
    },
    {
     "name": "stderr",
     "output_type": "stream",
     "text": [
      "100%|████████████████████████████████████████████████████████████████████████████████| 144/144 [00:02<00:00, 63.11it/s]\n"
     ]
    },
    {
     "name": "stdout",
     "output_type": "stream",
     "text": [
      "0.8486687869557904\n",
      "Valid binary acc:  0.6805555555555556\n",
      "\n",
      "========== Train epoch 53 ==========\n"
     ]
    },
    {
     "name": "stderr",
     "output_type": "stream",
     "text": [
      "100%|████████████████████████████████████████████████████████████████████████████████| 719/719 [00:15<00:00, 46.63it/s]\n"
     ]
    },
    {
     "name": "stdout",
     "output_type": "stream",
     "text": [
      "0.9338417175576941\n",
      "========== Evaluate Valid set ==========\n"
     ]
    },
    {
     "name": "stderr",
     "output_type": "stream",
     "text": [
      "100%|████████████████████████████████████████████████████████████████████████████████| 144/144 [00:02<00:00, 62.89it/s]\n"
     ]
    },
    {
     "name": "stdout",
     "output_type": "stream",
     "text": [
      "0.8423546908888966\n",
      "Valid binary acc:  0.7152777777777778\n",
      "\n",
      "========== Train epoch 54 ==========\n"
     ]
    },
    {
     "name": "stderr",
     "output_type": "stream",
     "text": [
      "100%|████████████████████████████████████████████████████████████████████████████████| 719/719 [00:15<00:00, 46.93it/s]\n"
     ]
    },
    {
     "name": "stdout",
     "output_type": "stream",
     "text": [
      "0.9204518300181925\n",
      "========== Evaluate Valid set ==========\n"
     ]
    },
    {
     "name": "stderr",
     "output_type": "stream",
     "text": [
      "100%|████████████████████████████████████████████████████████████████████████████████| 144/144 [00:02<00:00, 63.18it/s]\n"
     ]
    },
    {
     "name": "stdout",
     "output_type": "stream",
     "text": [
      "0.8219497339903481\n",
      "Valid binary acc:  0.7083333333333334\n",
      "\n",
      "========== Train epoch 55 ==========\n"
     ]
    },
    {
     "name": "stderr",
     "output_type": "stream",
     "text": [
      "100%|████████████████████████████████████████████████████████████████████████████████| 719/719 [00:15<00:00, 46.62it/s]\n"
     ]
    },
    {
     "name": "stdout",
     "output_type": "stream",
     "text": [
      "0.9092678784033975\n",
      "========== Evaluate Valid set ==========\n"
     ]
    },
    {
     "name": "stderr",
     "output_type": "stream",
     "text": [
      "100%|████████████████████████████████████████████████████████████████████████████████| 144/144 [00:02<00:00, 62.05it/s]\n"
     ]
    },
    {
     "name": "stdout",
     "output_type": "stream",
     "text": [
      "0.8614842379206998\n",
      "Valid binary acc:  0.7152777777777778\n",
      "\n",
      "========== Train epoch 56 ==========\n"
     ]
    },
    {
     "name": "stderr",
     "output_type": "stream",
     "text": [
      "100%|████████████████████████████████████████████████████████████████████████████████| 719/719 [00:15<00:00, 46.47it/s]\n"
     ]
    },
    {
     "name": "stdout",
     "output_type": "stream",
     "text": [
      "0.896759250026419\n",
      "========== Evaluate Valid set ==========\n"
     ]
    },
    {
     "name": "stderr",
     "output_type": "stream",
     "text": [
      "100%|████████████████████████████████████████████████████████████████████████████████| 144/144 [00:02<00:00, 64.22it/s]\n"
     ]
    },
    {
     "name": "stdout",
     "output_type": "stream",
     "text": [
      "0.8147045023377157\n",
      "Valid binary acc:  0.6944444444444444\n",
      "\n",
      "========== Train epoch 57 ==========\n"
     ]
    },
    {
     "name": "stderr",
     "output_type": "stream",
     "text": [
      "100%|████████████████████████████████████████████████████████████████████████████████| 719/719 [00:17<00:00, 40.40it/s]\n"
     ]
    },
    {
     "name": "stdout",
     "output_type": "stream",
     "text": [
      "0.8831632733966777\n",
      "========== Evaluate Valid set ==========\n"
     ]
    },
    {
     "name": "stderr",
     "output_type": "stream",
     "text": [
      "100%|████████████████████████████████████████████████████████████████████████████████| 144/144 [00:02<00:00, 62.37it/s]\n"
     ]
    },
    {
     "name": "stdout",
     "output_type": "stream",
     "text": [
      "0.8431127124672962\n",
      "Valid binary acc:  0.6875\n",
      "\n",
      "========== Train epoch 58 ==========\n"
     ]
    },
    {
     "name": "stderr",
     "output_type": "stream",
     "text": [
      "100%|████████████████████████████████████████████████████████████████████████████████| 719/719 [00:15<00:00, 45.22it/s]\n"
     ]
    },
    {
     "name": "stdout",
     "output_type": "stream",
     "text": [
      "0.8740076102699789\n",
      "========== Evaluate Valid set ==========\n"
     ]
    },
    {
     "name": "stderr",
     "output_type": "stream",
     "text": [
      "100%|████████████████████████████████████████████████████████████████████████████████| 144/144 [00:02<00:00, 62.90it/s]\n"
     ]
    },
    {
     "name": "stdout",
     "output_type": "stream",
     "text": [
      "0.7936483402219083\n",
      "Valid binary acc:  0.7291666666666666\n",
      "\n",
      "========== Train epoch 59 ==========\n"
     ]
    },
    {
     "name": "stderr",
     "output_type": "stream",
     "text": [
      "100%|████████████████████████████████████████████████████████████████████████████████| 719/719 [00:15<00:00, 46.82it/s]\n"
     ]
    },
    {
     "name": "stdout",
     "output_type": "stream",
     "text": [
      "0.8644952575918364\n",
      "========== Evaluate Valid set ==========\n"
     ]
    },
    {
     "name": "stderr",
     "output_type": "stream",
     "text": [
      "100%|████████████████████████████████████████████████████████████████████████████████| 144/144 [00:02<00:00, 63.50it/s]\n"
     ]
    },
    {
     "name": "stdout",
     "output_type": "stream",
     "text": [
      "0.7969248621310625\n",
      "Valid binary acc:  0.7430555555555556\n",
      "\n",
      "========== Train epoch 60 ==========\n"
     ]
    },
    {
     "name": "stderr",
     "output_type": "stream",
     "text": [
      "100%|████████████████████████████████████████████████████████████████████████████████| 719/719 [00:15<00:00, 46.74it/s]\n"
     ]
    },
    {
     "name": "stdout",
     "output_type": "stream",
     "text": [
      "0.8537952984645651\n",
      "========== Evaluate Valid set ==========\n"
     ]
    },
    {
     "name": "stderr",
     "output_type": "stream",
     "text": [
      "100%|████████████████████████████████████████████████████████████████████████████████| 144/144 [00:02<00:00, 62.75it/s]\n"
     ]
    },
    {
     "name": "stdout",
     "output_type": "stream",
     "text": [
      "0.7815129191149026\n",
      "Valid binary acc:  0.7361111111111112\n",
      "\n",
      "========== Train epoch 61 ==========\n"
     ]
    },
    {
     "name": "stderr",
     "output_type": "stream",
     "text": [
      "100%|████████████████████████████████████████████████████████████████████████████████| 719/719 [00:15<00:00, 46.62it/s]\n"
     ]
    },
    {
     "name": "stdout",
     "output_type": "stream",
     "text": [
      "0.8410445585126712\n",
      "========== Evaluate Valid set ==========\n"
     ]
    },
    {
     "name": "stderr",
     "output_type": "stream",
     "text": [
      "100%|████████████████████████████████████████████████████████████████████████████████| 144/144 [00:02<00:00, 64.26it/s]\n"
     ]
    },
    {
     "name": "stdout",
     "output_type": "stream",
     "text": [
      "0.7618727119536035\n",
      "Valid binary acc:  0.7222222222222222\n",
      "\n",
      "========== Train epoch 62 ==========\n"
     ]
    },
    {
     "name": "stderr",
     "output_type": "stream",
     "text": [
      "100%|████████████████████████████████████████████████████████████████████████████████| 719/719 [00:15<00:00, 45.92it/s]\n"
     ]
    },
    {
     "name": "stdout",
     "output_type": "stream",
     "text": [
      "0.8268260526599075\n",
      "========== Evaluate Valid set ==========\n"
     ]
    },
    {
     "name": "stderr",
     "output_type": "stream",
     "text": [
      "100%|████████████████████████████████████████████████████████████████████████████████| 144/144 [00:02<00:00, 63.13it/s]\n"
     ]
    },
    {
     "name": "stdout",
     "output_type": "stream",
     "text": [
      "0.7513073565334909\n",
      "Valid binary acc:  0.7430555555555556\n",
      "\n",
      "========== Train epoch 63 ==========\n"
     ]
    },
    {
     "name": "stderr",
     "output_type": "stream",
     "text": [
      "100%|████████████████████████████████████████████████████████████████████████████████| 719/719 [00:15<00:00, 46.54it/s]\n"
     ]
    },
    {
     "name": "stdout",
     "output_type": "stream",
     "text": [
      "0.8178867884083898\n",
      "========== Evaluate Valid set ==========\n"
     ]
    },
    {
     "name": "stderr",
     "output_type": "stream",
     "text": [
      "100%|████████████████████████████████████████████████████████████████████████████████| 144/144 [00:02<00:00, 62.46it/s]\n"
     ]
    },
    {
     "name": "stdout",
     "output_type": "stream",
     "text": [
      "0.735122355296173\n",
      "Valid binary acc:  0.75\n",
      "\n",
      "========== Train epoch 64 ==========\n"
     ]
    },
    {
     "name": "stderr",
     "output_type": "stream",
     "text": [
      "100%|████████████████████████████████████████████████████████████████████████████████| 719/719 [00:15<00:00, 46.47it/s]\n"
     ]
    },
    {
     "name": "stdout",
     "output_type": "stream",
     "text": [
      "0.8064943453107905\n",
      "========== Evaluate Valid set ==========\n"
     ]
    },
    {
     "name": "stderr",
     "output_type": "stream",
     "text": [
      "100%|████████████████████████████████████████████████████████████████████████████████| 144/144 [00:02<00:00, 63.65it/s]\n"
     ]
    },
    {
     "name": "stdout",
     "output_type": "stream",
     "text": [
      "0.7355896242402701\n",
      "Valid binary acc:  0.7430555555555556\n",
      "\n",
      "========== Train epoch 65 ==========\n"
     ]
    },
    {
     "name": "stderr",
     "output_type": "stream",
     "text": [
      "100%|████████████████████████████████████████████████████████████████████████████████| 719/719 [00:15<00:00, 45.04it/s]\n"
     ]
    },
    {
     "name": "stdout",
     "output_type": "stream",
     "text": [
      "0.7910909709858712\n",
      "========== Evaluate Valid set ==========\n"
     ]
    },
    {
     "name": "stderr",
     "output_type": "stream",
     "text": [
      "100%|████████████████████████████████████████████████████████████████████████████████| 144/144 [00:02<00:00, 61.44it/s]\n"
     ]
    },
    {
     "name": "stdout",
     "output_type": "stream",
     "text": [
      "0.7339096619398333\n",
      "Valid binary acc:  0.75\n",
      "\n",
      "========== Train epoch 66 ==========\n"
     ]
    },
    {
     "name": "stderr",
     "output_type": "stream",
     "text": [
      "100%|████████████████████████████████████████████████████████████████████████████████| 719/719 [00:15<00:00, 46.36it/s]\n"
     ]
    },
    {
     "name": "stdout",
     "output_type": "stream",
     "text": [
      "0.7806003932453827\n",
      "========== Evaluate Valid set ==========\n"
     ]
    },
    {
     "name": "stderr",
     "output_type": "stream",
     "text": [
      "100%|████████████████████████████████████████████████████████████████████████████████| 144/144 [00:02<00:00, 63.64it/s]\n"
     ]
    },
    {
     "name": "stdout",
     "output_type": "stream",
     "text": [
      "0.7148605834485756\n",
      "Valid binary acc:  0.75\n",
      "\n",
      "========== Train epoch 67 ==========\n"
     ]
    },
    {
     "name": "stderr",
     "output_type": "stream",
     "text": [
      "100%|████████████████████████████████████████████████████████████████████████████████| 719/719 [00:15<00:00, 45.67it/s]\n"
     ]
    },
    {
     "name": "stdout",
     "output_type": "stream",
     "text": [
      "0.7711315338793878\n",
      "========== Evaluate Valid set ==========\n"
     ]
    },
    {
     "name": "stderr",
     "output_type": "stream",
     "text": [
      "100%|████████████████████████████████████████████████████████████████████████████████| 144/144 [00:02<00:00, 61.45it/s]\n"
     ]
    },
    {
     "name": "stdout",
     "output_type": "stream",
     "text": [
      "0.7043856477959909\n",
      "Valid binary acc:  0.7847222222222222\n",
      "\n",
      "========== Train epoch 68 ==========\n"
     ]
    },
    {
     "name": "stderr",
     "output_type": "stream",
     "text": [
      "100%|████████████████████████████████████████████████████████████████████████████████| 719/719 [00:15<00:00, 45.90it/s]\n"
     ]
    },
    {
     "name": "stdout",
     "output_type": "stream",
     "text": [
      "0.757938322798972\n",
      "========== Evaluate Valid set ==========\n"
     ]
    },
    {
     "name": "stderr",
     "output_type": "stream",
     "text": [
      "100%|████████████████████████████████████████████████████████████████████████████████| 144/144 [00:02<00:00, 60.98it/s]\n"
     ]
    },
    {
     "name": "stdout",
     "output_type": "stream",
     "text": [
      "0.6783460800975768\n",
      "Valid binary acc:  0.7847222222222222\n",
      "\n",
      "========== Train epoch 69 ==========\n"
     ]
    },
    {
     "name": "stderr",
     "output_type": "stream",
     "text": [
      "100%|████████████████████████████████████████████████████████████████████████████████| 719/719 [00:15<00:00, 45.61it/s]\n"
     ]
    },
    {
     "name": "stdout",
     "output_type": "stream",
     "text": [
      "0.7415688350467693\n",
      "========== Evaluate Valid set ==========\n"
     ]
    },
    {
     "name": "stderr",
     "output_type": "stream",
     "text": [
      "100%|████████████████████████████████████████████████████████████████████████████████| 144/144 [00:02<00:00, 62.37it/s]\n"
     ]
    },
    {
     "name": "stdout",
     "output_type": "stream",
     "text": [
      "0.692309633970985\n",
      "Valid binary acc:  0.7986111111111112\n",
      "\n",
      "========== Train epoch 70 ==========\n"
     ]
    },
    {
     "name": "stderr",
     "output_type": "stream",
     "text": [
      "100%|████████████████████████████████████████████████████████████████████████████████| 719/719 [00:15<00:00, 45.38it/s]\n"
     ]
    },
    {
     "name": "stdout",
     "output_type": "stream",
     "text": [
      "0.7353782293934671\n",
      "========== Evaluate Valid set ==========\n"
     ]
    },
    {
     "name": "stderr",
     "output_type": "stream",
     "text": [
      "100%|████████████████████████████████████████████████████████████████████████████████| 144/144 [00:02<00:00, 61.66it/s]\n"
     ]
    },
    {
     "name": "stdout",
     "output_type": "stream",
     "text": [
      "0.6607748447568156\n",
      "Valid binary acc:  0.7777777777777778\n",
      "\n",
      "========== Train epoch 71 ==========\n"
     ]
    },
    {
     "name": "stderr",
     "output_type": "stream",
     "text": [
      "100%|████████████████████████████████████████████████████████████████████████████████| 719/719 [00:16<00:00, 42.50it/s]\n"
     ]
    },
    {
     "name": "stdout",
     "output_type": "stream",
     "text": [
      "0.7230064910039907\n",
      "========== Evaluate Valid set ==========\n"
     ]
    },
    {
     "name": "stderr",
     "output_type": "stream",
     "text": [
      "100%|████████████████████████████████████████████████████████████████████████████████| 144/144 [00:02<00:00, 57.19it/s]\n"
     ]
    },
    {
     "name": "stdout",
     "output_type": "stream",
     "text": [
      "0.6643899214945527\n",
      "Valid binary acc:  0.7986111111111112\n",
      "\n",
      "========== Train epoch 72 ==========\n"
     ]
    },
    {
     "name": "stderr",
     "output_type": "stream",
     "text": [
      "100%|████████████████████████████████████████████████████████████████████████████████| 719/719 [00:16<00:00, 44.15it/s]\n"
     ]
    },
    {
     "name": "stdout",
     "output_type": "stream",
     "text": [
      "0.7120691705132435\n",
      "========== Evaluate Valid set ==========\n"
     ]
    },
    {
     "name": "stderr",
     "output_type": "stream",
     "text": [
      "100%|████████████████████████████████████████████████████████████████████████████████| 144/144 [00:02<00:00, 63.25it/s]\n"
     ]
    },
    {
     "name": "stdout",
     "output_type": "stream",
     "text": [
      "0.6767031112362424\n",
      "Valid binary acc:  0.8194444444444444\n",
      "\n",
      "========== Train epoch 73 ==========\n"
     ]
    },
    {
     "name": "stderr",
     "output_type": "stream",
     "text": [
      "100%|████████████████████████████████████████████████████████████████████████████████| 719/719 [00:15<00:00, 47.65it/s]\n"
     ]
    },
    {
     "name": "stdout",
     "output_type": "stream",
     "text": [
      "0.7053590222314954\n",
      "========== Evaluate Valid set ==========\n"
     ]
    },
    {
     "name": "stderr",
     "output_type": "stream",
     "text": [
      "100%|████████████████████████████████████████████████████████████████████████████████| 144/144 [00:02<00:00, 62.20it/s]\n"
     ]
    },
    {
     "name": "stdout",
     "output_type": "stream",
     "text": [
      "0.6358305328823108\n",
      "Valid binary acc:  0.8055555555555556\n",
      "\n",
      "========== Train epoch 74 ==========\n"
     ]
    },
    {
     "name": "stderr",
     "output_type": "stream",
     "text": [
      "100%|████████████████████████████████████████████████████████████████████████████████| 719/719 [00:17<00:00, 41.11it/s]\n"
     ]
    },
    {
     "name": "stdout",
     "output_type": "stream",
     "text": [
      "0.690030394057887\n",
      "========== Evaluate Valid set ==========\n"
     ]
    },
    {
     "name": "stderr",
     "output_type": "stream",
     "text": [
      "100%|████████████████████████████████████████████████████████████████████████████████| 144/144 [00:02<00:00, 59.95it/s]\n"
     ]
    },
    {
     "name": "stdout",
     "output_type": "stream",
     "text": [
      "0.6269894316275086\n",
      "Valid binary acc:  0.8125\n",
      "\n",
      "========== Train epoch 75 ==========\n"
     ]
    },
    {
     "name": "stderr",
     "output_type": "stream",
     "text": [
      "100%|████████████████████████████████████████████████████████████████████████████████| 719/719 [00:17<00:00, 41.12it/s]\n"
     ]
    },
    {
     "name": "stdout",
     "output_type": "stream",
     "text": [
      "0.6784601207849763\n",
      "========== Evaluate Valid set ==========\n"
     ]
    },
    {
     "name": "stderr",
     "output_type": "stream",
     "text": [
      "100%|████████████████████████████████████████████████████████████████████████████████| 144/144 [00:02<00:00, 49.17it/s]\n"
     ]
    },
    {
     "name": "stdout",
     "output_type": "stream",
     "text": [
      "0.6274937454080727\n",
      "Valid binary acc:  0.8125\n",
      "\n",
      "========== Fold 4 ==========\n",
      "Training on 575 examples, Validation on 144 examples\n",
      "\n",
      "========== Train epoch 1 ==========\n"
     ]
    },
    {
     "name": "stderr",
     "output_type": "stream",
     "text": [
      "100%|████████████████████████████████████████████████████████████████████████████████| 719/719 [00:18<00:00, 39.43it/s]\n"
     ]
    },
    {
     "name": "stdout",
     "output_type": "stream",
     "text": [
      "1.5052536852833955\n",
      "========== Evaluate Valid set ==========\n"
     ]
    },
    {
     "name": "stderr",
     "output_type": "stream",
     "text": [
      "100%|████████████████████████████████████████████████████████████████████████████████| 144/144 [00:02<00:00, 49.61it/s]\n"
     ]
    },
    {
     "name": "stdout",
     "output_type": "stream",
     "text": [
      "1.4925093729462888\n",
      "Valid binary acc:  0.2986111111111111\n",
      "\n",
      "========== Train epoch 2 ==========\n"
     ]
    },
    {
     "name": "stderr",
     "output_type": "stream",
     "text": [
      "100%|████████████████████████████████████████████████████████████████████████████████| 719/719 [00:18<00:00, 39.86it/s]\n"
     ]
    },
    {
     "name": "stdout",
     "output_type": "stream",
     "text": [
      "1.4486339337636764\n",
      "========== Evaluate Valid set ==========\n"
     ]
    },
    {
     "name": "stderr",
     "output_type": "stream",
     "text": [
      "100%|████████████████████████████████████████████████████████████████████████████████| 144/144 [00:02<00:00, 49.96it/s]\n"
     ]
    },
    {
     "name": "stdout",
     "output_type": "stream",
     "text": [
      "1.4544529173937109\n",
      "Valid binary acc:  0.3472222222222222\n",
      "\n",
      "========== Train epoch 3 ==========\n"
     ]
    },
    {
     "name": "stderr",
     "output_type": "stream",
     "text": [
      "100%|████████████████████████████████████████████████████████████████████████████████| 719/719 [00:18<00:00, 39.26it/s]\n"
     ]
    },
    {
     "name": "stdout",
     "output_type": "stream",
     "text": [
      "1.4175114135085625\n",
      "========== Evaluate Valid set ==========\n"
     ]
    },
    {
     "name": "stderr",
     "output_type": "stream",
     "text": [
      "100%|████████████████████████████████████████████████████████████████████████████████| 144/144 [00:02<00:00, 49.74it/s]\n"
     ]
    },
    {
     "name": "stdout",
     "output_type": "stream",
     "text": [
      "1.4380560103389952\n",
      "Valid binary acc:  0.3263888888888889\n",
      "\n",
      "========== Train epoch 4 ==========\n"
     ]
    },
    {
     "name": "stderr",
     "output_type": "stream",
     "text": [
      "100%|████████████████████████████████████████████████████████████████████████████████| 719/719 [00:19<00:00, 37.45it/s]\n"
     ]
    },
    {
     "name": "stdout",
     "output_type": "stream",
     "text": [
      "1.3923191495332996\n",
      "========== Evaluate Valid set ==========\n"
     ]
    },
    {
     "name": "stderr",
     "output_type": "stream",
     "text": [
      "100%|████████████████████████████████████████████████████████████████████████████████| 144/144 [00:03<00:00, 39.56it/s]\n"
     ]
    },
    {
     "name": "stdout",
     "output_type": "stream",
     "text": [
      "1.427465123227901\n",
      "Valid binary acc:  0.3472222222222222\n",
      "\n",
      "========== Train epoch 5 ==========\n"
     ]
    },
    {
     "name": "stderr",
     "output_type": "stream",
     "text": [
      "100%|████████████████████████████████████████████████████████████████████████████████| 719/719 [00:18<00:00, 39.25it/s]\n"
     ]
    },
    {
     "name": "stdout",
     "output_type": "stream",
     "text": [
      "1.3634162519919855\n",
      "========== Evaluate Valid set ==========\n"
     ]
    },
    {
     "name": "stderr",
     "output_type": "stream",
     "text": [
      "100%|████████████████████████████████████████████████████████████████████████████████| 144/144 [00:02<00:00, 48.57it/s]\n"
     ]
    },
    {
     "name": "stdout",
     "output_type": "stream",
     "text": [
      "1.3957196097407076\n",
      "Valid binary acc:  0.3888888888888889\n",
      "\n",
      "========== Train epoch 6 ==========\n"
     ]
    },
    {
     "name": "stderr",
     "output_type": "stream",
     "text": [
      "100%|████████████████████████████████████████████████████████████████████████████████| 719/719 [00:18<00:00, 39.02it/s]\n"
     ]
    },
    {
     "name": "stdout",
     "output_type": "stream",
     "text": [
      "1.3389831169175506\n",
      "========== Evaluate Valid set ==========\n"
     ]
    },
    {
     "name": "stderr",
     "output_type": "stream",
     "text": [
      "100%|████████████████████████████████████████████████████████████████████████████████| 144/144 [00:02<00:00, 49.73it/s]\n"
     ]
    },
    {
     "name": "stdout",
     "output_type": "stream",
     "text": [
      "1.402768154318134\n",
      "Valid binary acc:  0.375\n",
      "\n",
      "========== Train epoch 7 ==========\n"
     ]
    },
    {
     "name": "stderr",
     "output_type": "stream",
     "text": [
      "100%|████████████████████████████████████████████████████████████████████████████████| 719/719 [00:18<00:00, 39.67it/s]\n"
     ]
    },
    {
     "name": "stdout",
     "output_type": "stream",
     "text": [
      "1.3185544285472477\n",
      "========== Evaluate Valid set ==========\n"
     ]
    },
    {
     "name": "stderr",
     "output_type": "stream",
     "text": [
      "100%|████████████████████████████████████████████████████████████████████████████████| 144/144 [00:02<00:00, 49.06it/s]\n"
     ]
    },
    {
     "name": "stdout",
     "output_type": "stream",
     "text": [
      "1.3454521269434028\n",
      "Valid binary acc:  0.3888888888888889\n",
      "\n",
      "========== Train epoch 8 ==========\n"
     ]
    },
    {
     "name": "stderr",
     "output_type": "stream",
     "text": [
      "100%|████████████████████████████████████████████████████████████████████████████████| 719/719 [00:17<00:00, 40.07it/s]\n"
     ]
    },
    {
     "name": "stdout",
     "output_type": "stream",
     "text": [
      "1.2996505828411091\n",
      "========== Evaluate Valid set ==========\n"
     ]
    },
    {
     "name": "stderr",
     "output_type": "stream",
     "text": [
      "100%|████████████████████████████████████████████████████████████████████████████████| 144/144 [00:02<00:00, 50.20it/s]\n"
     ]
    },
    {
     "name": "stdout",
     "output_type": "stream",
     "text": [
      "1.3747047972348\n",
      "Valid binary acc:  0.4166666666666667\n",
      "\n",
      "========== Train epoch 9 ==========\n"
     ]
    },
    {
     "name": "stderr",
     "output_type": "stream",
     "text": [
      "100%|████████████████████████████████████████████████████████████████████████████████| 719/719 [00:18<00:00, 39.35it/s]\n"
     ]
    },
    {
     "name": "stdout",
     "output_type": "stream",
     "text": [
      "1.286092224348238\n",
      "========== Evaluate Valid set ==========\n"
     ]
    },
    {
     "name": "stderr",
     "output_type": "stream",
     "text": [
      "100%|████████████████████████████████████████████████████████████████████████████████| 144/144 [00:02<00:00, 50.19it/s]\n"
     ]
    },
    {
     "name": "stdout",
     "output_type": "stream",
     "text": [
      "1.368973804016908\n",
      "Valid binary acc:  0.375\n",
      "\n",
      "========== Train epoch 10 ==========\n"
     ]
    },
    {
     "name": "stderr",
     "output_type": "stream",
     "text": [
      "100%|████████████████████████████████████████████████████████████████████████████████| 719/719 [00:18<00:00, 39.40it/s]\n"
     ]
    },
    {
     "name": "stdout",
     "output_type": "stream",
     "text": [
      "1.2756050367307266\n",
      "========== Evaluate Valid set ==========\n"
     ]
    },
    {
     "name": "stderr",
     "output_type": "stream",
     "text": [
      "100%|████████████████████████████████████████████████████████████████████████████████| 144/144 [00:02<00:00, 49.07it/s]\n"
     ]
    },
    {
     "name": "stdout",
     "output_type": "stream",
     "text": [
      "1.330825547584229\n",
      "Valid binary acc:  0.4027777777777778\n",
      "\n",
      "========== Train epoch 11 ==========\n"
     ]
    },
    {
     "name": "stderr",
     "output_type": "stream",
     "text": [
      "100%|████████████████████████████████████████████████████████████████████████████████| 719/719 [00:18<00:00, 39.68it/s]\n"
     ]
    },
    {
     "name": "stdout",
     "output_type": "stream",
     "text": [
      "1.2646200703729011\n",
      "========== Evaluate Valid set ==========\n"
     ]
    },
    {
     "name": "stderr",
     "output_type": "stream",
     "text": [
      "100%|████████████████████████████████████████████████████████████████████████████████| 144/144 [00:03<00:00, 47.97it/s]\n"
     ]
    },
    {
     "name": "stdout",
     "output_type": "stream",
     "text": [
      "1.3429101233681042\n",
      "Valid binary acc:  0.3888888888888889\n",
      "\n",
      "========== Train epoch 12 ==========\n"
     ]
    },
    {
     "name": "stderr",
     "output_type": "stream",
     "text": [
      "100%|████████████████████████████████████████████████████████████████████████████████| 719/719 [00:18<00:00, 39.68it/s]\n"
     ]
    },
    {
     "name": "stdout",
     "output_type": "stream",
     "text": [
      "1.2554767674589025\n",
      "========== Evaluate Valid set ==========\n"
     ]
    },
    {
     "name": "stderr",
     "output_type": "stream",
     "text": [
      "100%|████████████████████████████████████████████████████████████████████████████████| 144/144 [00:02<00:00, 48.28it/s]\n"
     ]
    },
    {
     "name": "stdout",
     "output_type": "stream",
     "text": [
      "1.3242329820576642\n",
      "Valid binary acc:  0.4027777777777778\n",
      "\n",
      "========== Train epoch 13 ==========\n"
     ]
    },
    {
     "name": "stderr",
     "output_type": "stream",
     "text": [
      "100%|████████████████████████████████████████████████████████████████████████████████| 719/719 [00:18<00:00, 39.22it/s]\n"
     ]
    },
    {
     "name": "stdout",
     "output_type": "stream",
     "text": [
      "1.2426055921798622\n",
      "========== Evaluate Valid set ==========\n"
     ]
    },
    {
     "name": "stderr",
     "output_type": "stream",
     "text": [
      "100%|████████████████████████████████████████████████████████████████████████████████| 144/144 [00:02<00:00, 49.33it/s]\n"
     ]
    },
    {
     "name": "stdout",
     "output_type": "stream",
     "text": [
      "1.304169774055481\n",
      "Valid binary acc:  0.4027777777777778\n",
      "\n",
      "========== Train epoch 14 ==========\n"
     ]
    },
    {
     "name": "stderr",
     "output_type": "stream",
     "text": [
      "100%|████████████████████████████████████████████████████████████████████████████████| 719/719 [00:18<00:00, 39.24it/s]\n"
     ]
    },
    {
     "name": "stdout",
     "output_type": "stream",
     "text": [
      "1.234191083920516\n",
      "========== Evaluate Valid set ==========\n"
     ]
    },
    {
     "name": "stderr",
     "output_type": "stream",
     "text": [
      "100%|████████████████████████████████████████████████████████████████████████████████| 144/144 [00:02<00:00, 48.42it/s]\n"
     ]
    },
    {
     "name": "stdout",
     "output_type": "stream",
     "text": [
      "1.3015451808977458\n",
      "Valid binary acc:  0.4027777777777778\n",
      "\n",
      "========== Train epoch 15 ==========\n"
     ]
    },
    {
     "name": "stderr",
     "output_type": "stream",
     "text": [
      "100%|████████████████████████████████████████████████████████████████████████████████| 719/719 [00:17<00:00, 40.03it/s]\n"
     ]
    },
    {
     "name": "stdout",
     "output_type": "stream",
     "text": [
      "1.2274214247544717\n",
      "========== Evaluate Valid set ==========\n"
     ]
    },
    {
     "name": "stderr",
     "output_type": "stream",
     "text": [
      "100%|████████████████████████████████████████████████████████████████████████████████| 144/144 [00:02<00:00, 49.57it/s]\n"
     ]
    },
    {
     "name": "stdout",
     "output_type": "stream",
     "text": [
      "1.3249956263850133\n",
      "Valid binary acc:  0.4097222222222222\n",
      "\n",
      "========== Train epoch 16 ==========\n"
     ]
    },
    {
     "name": "stderr",
     "output_type": "stream",
     "text": [
      "100%|████████████████████████████████████████████████████████████████████████████████| 719/719 [00:18<00:00, 39.61it/s]\n"
     ]
    },
    {
     "name": "stdout",
     "output_type": "stream",
     "text": [
      "1.215836870612289\n",
      "========== Evaluate Valid set ==========\n"
     ]
    },
    {
     "name": "stderr",
     "output_type": "stream",
     "text": [
      "100%|████████████████████████████████████████████████████████████████████████████████| 144/144 [00:02<00:00, 49.31it/s]\n"
     ]
    },
    {
     "name": "stdout",
     "output_type": "stream",
     "text": [
      "1.2907382796208065\n",
      "Valid binary acc:  0.4027777777777778\n",
      "\n",
      "========== Train epoch 17 ==========\n"
     ]
    },
    {
     "name": "stderr",
     "output_type": "stream",
     "text": [
      "100%|████████████████████████████████████████████████████████████████████████████████| 719/719 [00:18<00:00, 38.46it/s]\n"
     ]
    },
    {
     "name": "stdout",
     "output_type": "stream",
     "text": [
      "1.2118277014628238\n",
      "========== Evaluate Valid set ==========\n"
     ]
    },
    {
     "name": "stderr",
     "output_type": "stream",
     "text": [
      "100%|████████████████████████████████████████████████████████████████████████████████| 144/144 [00:02<00:00, 48.53it/s]\n"
     ]
    },
    {
     "name": "stdout",
     "output_type": "stream",
     "text": [
      "1.2935448496912916\n",
      "Valid binary acc:  0.4305555555555556\n",
      "\n",
      "========== Train epoch 18 ==========\n"
     ]
    },
    {
     "name": "stderr",
     "output_type": "stream",
     "text": [
      "100%|████████████████████████████████████████████████████████████████████████████████| 719/719 [00:18<00:00, 39.32it/s]\n"
     ]
    },
    {
     "name": "stdout",
     "output_type": "stream",
     "text": [
      "1.2062375411204735\n",
      "========== Evaluate Valid set ==========\n"
     ]
    },
    {
     "name": "stderr",
     "output_type": "stream",
     "text": [
      "100%|████████████████████████████████████████████████████████████████████████████████| 144/144 [00:02<00:00, 48.03it/s]\n"
     ]
    },
    {
     "name": "stdout",
     "output_type": "stream",
     "text": [
      "1.2701348394362464\n",
      "Valid binary acc:  0.4444444444444444\n",
      "\n",
      "========== Train epoch 19 ==========\n"
     ]
    },
    {
     "name": "stderr",
     "output_type": "stream",
     "text": [
      "100%|████████████████████████████████████████████████████████████████████████████████| 719/719 [00:18<00:00, 39.25it/s]\n"
     ]
    },
    {
     "name": "stdout",
     "output_type": "stream",
     "text": [
      "1.199971256857953\n",
      "========== Evaluate Valid set ==========\n"
     ]
    },
    {
     "name": "stderr",
     "output_type": "stream",
     "text": [
      "100%|████████████████████████████████████████████████████████████████████████████████| 144/144 [00:02<00:00, 49.25it/s]\n"
     ]
    },
    {
     "name": "stdout",
     "output_type": "stream",
     "text": [
      "1.2745425378282864\n",
      "Valid binary acc:  0.4166666666666667\n",
      "\n",
      "========== Train epoch 20 ==========\n"
     ]
    },
    {
     "name": "stderr",
     "output_type": "stream",
     "text": [
      "100%|████████████████████████████████████████████████████████████████████████████████| 719/719 [00:18<00:00, 39.82it/s]\n"
     ]
    },
    {
     "name": "stdout",
     "output_type": "stream",
     "text": [
      "1.1880243239154902\n",
      "========== Evaluate Valid set ==========\n"
     ]
    },
    {
     "name": "stderr",
     "output_type": "stream",
     "text": [
      "100%|████████████████████████████████████████████████████████████████████████████████| 144/144 [00:02<00:00, 49.53it/s]\n"
     ]
    },
    {
     "name": "stdout",
     "output_type": "stream",
     "text": [
      "1.2896211001401146\n",
      "Valid binary acc:  0.4027777777777778\n",
      "\n",
      "========== Train epoch 21 ==========\n"
     ]
    },
    {
     "name": "stderr",
     "output_type": "stream",
     "text": [
      "100%|████████████████████████████████████████████████████████████████████████████████| 719/719 [00:18<00:00, 39.38it/s]\n"
     ]
    },
    {
     "name": "stdout",
     "output_type": "stream",
     "text": [
      "1.178679707557253\n",
      "========== Evaluate Valid set ==========\n"
     ]
    },
    {
     "name": "stderr",
     "output_type": "stream",
     "text": [
      "100%|████████████████████████████████████████████████████████████████████████████████| 144/144 [00:02<00:00, 50.05it/s]\n"
     ]
    },
    {
     "name": "stdout",
     "output_type": "stream",
     "text": [
      "1.2599870389741328\n",
      "Valid binary acc:  0.4236111111111111\n",
      "\n",
      "========== Train epoch 22 ==========\n"
     ]
    },
    {
     "name": "stderr",
     "output_type": "stream",
     "text": [
      "100%|████████████████████████████████████████████████████████████████████████████████| 719/719 [00:17<00:00, 40.22it/s]\n"
     ]
    },
    {
     "name": "stdout",
     "output_type": "stream",
     "text": [
      "1.1830052966057674\n",
      "========== Evaluate Valid set ==========\n"
     ]
    },
    {
     "name": "stderr",
     "output_type": "stream",
     "text": [
      "100%|████████████████████████████████████████████████████████████████████████████████| 144/144 [00:02<00:00, 49.69it/s]\n"
     ]
    },
    {
     "name": "stdout",
     "output_type": "stream",
     "text": [
      "1.256016122384204\n",
      "Valid binary acc:  0.4722222222222222\n",
      "\n",
      "========== Train epoch 23 ==========\n"
     ]
    },
    {
     "name": "stderr",
     "output_type": "stream",
     "text": [
      "100%|████████████████████████████████████████████████████████████████████████████████| 719/719 [00:18<00:00, 39.78it/s]\n"
     ]
    },
    {
     "name": "stdout",
     "output_type": "stream",
     "text": [
      "1.1726588598958971\n",
      "========== Evaluate Valid set ==========\n"
     ]
    },
    {
     "name": "stderr",
     "output_type": "stream",
     "text": [
      "100%|████████████████████████████████████████████████████████████████████████████████| 144/144 [00:02<00:00, 48.02it/s]\n"
     ]
    },
    {
     "name": "stdout",
     "output_type": "stream",
     "text": [
      "1.2758174093647137\n",
      "Valid binary acc:  0.4305555555555556\n",
      "\n",
      "========== Train epoch 24 ==========\n"
     ]
    },
    {
     "name": "stderr",
     "output_type": "stream",
     "text": [
      "100%|████████████████████████████████████████████████████████████████████████████████| 719/719 [00:18<00:00, 39.77it/s]\n"
     ]
    },
    {
     "name": "stdout",
     "output_type": "stream",
     "text": [
      "1.1656286198029266\n",
      "========== Evaluate Valid set ==========\n"
     ]
    },
    {
     "name": "stderr",
     "output_type": "stream",
     "text": [
      "100%|████████████████████████████████████████████████████████████████████████████████| 144/144 [00:02<00:00, 48.68it/s]\n"
     ]
    },
    {
     "name": "stdout",
     "output_type": "stream",
     "text": [
      "1.2655673981126812\n",
      "Valid binary acc:  0.4583333333333333\n",
      "\n",
      "========== Train epoch 25 ==========\n"
     ]
    },
    {
     "name": "stderr",
     "output_type": "stream",
     "text": [
      "100%|████████████████████████████████████████████████████████████████████████████████| 719/719 [00:18<00:00, 39.57it/s]\n"
     ]
    },
    {
     "name": "stdout",
     "output_type": "stream",
     "text": [
      "1.1594066783910169\n",
      "========== Evaluate Valid set ==========\n"
     ]
    },
    {
     "name": "stderr",
     "output_type": "stream",
     "text": [
      "100%|████████████████████████████████████████████████████████████████████████████████| 144/144 [00:02<00:00, 48.60it/s]\n"
     ]
    },
    {
     "name": "stdout",
     "output_type": "stream",
     "text": [
      "1.2390372783669994\n",
      "Valid binary acc:  0.4513888888888889\n",
      "\n",
      "========== Train epoch 26 ==========\n"
     ]
    },
    {
     "name": "stderr",
     "output_type": "stream",
     "text": [
      "100%|████████████████████████████████████████████████████████████████████████████████| 719/719 [00:18<00:00, 39.79it/s]\n"
     ]
    },
    {
     "name": "stdout",
     "output_type": "stream",
     "text": [
      "1.1535229988561966\n",
      "========== Evaluate Valid set ==========\n"
     ]
    },
    {
     "name": "stderr",
     "output_type": "stream",
     "text": [
      "100%|████████████████████████████████████████████████████████████████████████████████| 144/144 [00:02<00:00, 49.44it/s]\n"
     ]
    },
    {
     "name": "stdout",
     "output_type": "stream",
     "text": [
      "1.2384761101048853\n",
      "Valid binary acc:  0.4791666666666667\n",
      "\n",
      "========== Train epoch 27 ==========\n"
     ]
    },
    {
     "name": "stderr",
     "output_type": "stream",
     "text": [
      "100%|████████████████████████████████████████████████████████████████████████████████| 719/719 [00:18<00:00, 39.48it/s]\n"
     ]
    },
    {
     "name": "stdout",
     "output_type": "stream",
     "text": [
      "1.1464899941211533\n",
      "========== Evaluate Valid set ==========\n"
     ]
    },
    {
     "name": "stderr",
     "output_type": "stream",
     "text": [
      "100%|████████████████████████████████████████████████████████████████████████████████| 144/144 [00:03<00:00, 47.65it/s]\n"
     ]
    },
    {
     "name": "stdout",
     "output_type": "stream",
     "text": [
      "1.2399508972755737\n",
      "Valid binary acc:  0.4236111111111111\n",
      "\n",
      "========== Train epoch 28 ==========\n"
     ]
    },
    {
     "name": "stderr",
     "output_type": "stream",
     "text": [
      "100%|████████████████████████████████████████████████████████████████████████████████| 719/719 [00:17<00:00, 40.03it/s]\n"
     ]
    },
    {
     "name": "stdout",
     "output_type": "stream",
     "text": [
      "1.1371792930544915\n",
      "========== Evaluate Valid set ==========\n"
     ]
    },
    {
     "name": "stderr",
     "output_type": "stream",
     "text": [
      "100%|████████████████████████████████████████████████████████████████████████████████| 144/144 [00:03<00:00, 47.20it/s]\n"
     ]
    },
    {
     "name": "stdout",
     "output_type": "stream",
     "text": [
      "1.2242443731261625\n",
      "Valid binary acc:  0.5069444444444444\n",
      "\n",
      "========== Train epoch 29 ==========\n"
     ]
    },
    {
     "name": "stderr",
     "output_type": "stream",
     "text": [
      "100%|████████████████████████████████████████████████████████████████████████████████| 719/719 [00:18<00:00, 38.96it/s]\n"
     ]
    },
    {
     "name": "stdout",
     "output_type": "stream",
     "text": [
      "1.1297472051820188\n",
      "========== Evaluate Valid set ==========\n"
     ]
    },
    {
     "name": "stderr",
     "output_type": "stream",
     "text": [
      "100%|████████████████████████████████████████████████████████████████████████████████| 144/144 [00:02<00:00, 48.68it/s]\n"
     ]
    },
    {
     "name": "stdout",
     "output_type": "stream",
     "text": [
      "1.2282755919214752\n",
      "Valid binary acc:  0.4861111111111111\n",
      "\n",
      "========== Train epoch 30 ==========\n"
     ]
    },
    {
     "name": "stderr",
     "output_type": "stream",
     "text": [
      "100%|████████████████████████████████████████████████████████████████████████████████| 719/719 [00:18<00:00, 39.03it/s]\n"
     ]
    },
    {
     "name": "stdout",
     "output_type": "stream",
     "text": [
      "1.1187390434310898\n",
      "========== Evaluate Valid set ==========\n"
     ]
    },
    {
     "name": "stderr",
     "output_type": "stream",
     "text": [
      "100%|████████████████████████████████████████████████████████████████████████████████| 144/144 [00:02<00:00, 48.87it/s]\n"
     ]
    },
    {
     "name": "stdout",
     "output_type": "stream",
     "text": [
      "1.2354346247803834\n",
      "Valid binary acc:  0.4791666666666667\n",
      "\n",
      "========== Train epoch 31 ==========\n"
     ]
    },
    {
     "name": "stderr",
     "output_type": "stream",
     "text": [
      "100%|████████████████████████████████████████████████████████████████████████████████| 719/719 [00:18<00:00, 39.60it/s]\n"
     ]
    },
    {
     "name": "stdout",
     "output_type": "stream",
     "text": [
      "1.1168287043072418\n",
      "========== Evaluate Valid set ==========\n"
     ]
    },
    {
     "name": "stderr",
     "output_type": "stream",
     "text": [
      "100%|████████████████████████████████████████████████████████████████████████████████| 144/144 [00:02<00:00, 48.97it/s]\n"
     ]
    },
    {
     "name": "stdout",
     "output_type": "stream",
     "text": [
      "1.2116062009914055\n",
      "Valid binary acc:  0.4930555555555556\n",
      "\n",
      "========== Train epoch 32 ==========\n"
     ]
    },
    {
     "name": "stderr",
     "output_type": "stream",
     "text": [
      "100%|████████████████████████████████████████████████████████████████████████████████| 719/719 [00:18<00:00, 39.11it/s]\n"
     ]
    },
    {
     "name": "stdout",
     "output_type": "stream",
     "text": [
      "1.1085549660690222\n",
      "========== Evaluate Valid set ==========\n"
     ]
    },
    {
     "name": "stderr",
     "output_type": "stream",
     "text": [
      "100%|████████████████████████████████████████████████████████████████████████████████| 144/144 [00:03<00:00, 47.89it/s]\n"
     ]
    },
    {
     "name": "stdout",
     "output_type": "stream",
     "text": [
      "1.2391829086571104\n",
      "Valid binary acc:  0.4513888888888889\n",
      "\n",
      "========== Train epoch 33 ==========\n"
     ]
    },
    {
     "name": "stderr",
     "output_type": "stream",
     "text": [
      "100%|████████████████████████████████████████████████████████████████████████████████| 719/719 [00:18<00:00, 39.45it/s]\n"
     ]
    },
    {
     "name": "stdout",
     "output_type": "stream",
     "text": [
      "1.103886805272691\n",
      "========== Evaluate Valid set ==========\n"
     ]
    },
    {
     "name": "stderr",
     "output_type": "stream",
     "text": [
      "100%|████████████████████████████████████████████████████████████████████████████████| 144/144 [00:02<00:00, 49.87it/s]\n"
     ]
    },
    {
     "name": "stdout",
     "output_type": "stream",
     "text": [
      "1.1853437959733937\n",
      "Valid binary acc:  0.5138888888888888\n",
      "\n",
      "========== Train epoch 34 ==========\n"
     ]
    },
    {
     "name": "stderr",
     "output_type": "stream",
     "text": [
      "100%|████████████████████████████████████████████████████████████████████████████████| 719/719 [00:18<00:00, 38.95it/s]\n"
     ]
    },
    {
     "name": "stdout",
     "output_type": "stream",
     "text": [
      "1.0942355961239636\n",
      "========== Evaluate Valid set ==========\n"
     ]
    },
    {
     "name": "stderr",
     "output_type": "stream",
     "text": [
      "100%|████████████████████████████████████████████████████████████████████████████████| 144/144 [00:02<00:00, 49.41it/s]\n"
     ]
    },
    {
     "name": "stdout",
     "output_type": "stream",
     "text": [
      "1.1909954301599\n",
      "Valid binary acc:  0.5069444444444444\n",
      "\n",
      "========== Train epoch 35 ==========\n"
     ]
    },
    {
     "name": "stderr",
     "output_type": "stream",
     "text": [
      "100%|████████████████████████████████████████████████████████████████████████████████| 719/719 [00:18<00:00, 39.13it/s]\n"
     ]
    },
    {
     "name": "stdout",
     "output_type": "stream",
     "text": [
      "1.0828455434969635\n",
      "========== Evaluate Valid set ==========\n"
     ]
    },
    {
     "name": "stderr",
     "output_type": "stream",
     "text": [
      "100%|████████████████████████████████████████████████████████████████████████████████| 144/144 [00:03<00:00, 44.62it/s]\n"
     ]
    },
    {
     "name": "stdout",
     "output_type": "stream",
     "text": [
      "1.1944552404909499\n",
      "Valid binary acc:  0.5\n",
      "\n",
      "========== Train epoch 36 ==========\n"
     ]
    },
    {
     "name": "stderr",
     "output_type": "stream",
     "text": [
      "100%|████████████████████████████████████████████████████████████████████████████████| 719/719 [00:19<00:00, 37.66it/s]\n"
     ]
    },
    {
     "name": "stdout",
     "output_type": "stream",
     "text": [
      "1.078177099661469\n",
      "========== Evaluate Valid set ==========\n"
     ]
    },
    {
     "name": "stderr",
     "output_type": "stream",
     "text": [
      "100%|████████████████████████████████████████████████████████████████████████████████| 144/144 [00:02<00:00, 50.53it/s]\n"
     ]
    },
    {
     "name": "stdout",
     "output_type": "stream",
     "text": [
      "1.1630485203220613\n",
      "Valid binary acc:  0.4791666666666667\n",
      "\n",
      "========== Train epoch 37 ==========\n"
     ]
    },
    {
     "name": "stderr",
     "output_type": "stream",
     "text": [
      "100%|████████████████████████████████████████████████████████████████████████████████| 719/719 [00:21<00:00, 34.11it/s]\n"
     ]
    },
    {
     "name": "stdout",
     "output_type": "stream",
     "text": [
      "1.061321691134543\n",
      "========== Evaluate Valid set ==========\n"
     ]
    },
    {
     "name": "stderr",
     "output_type": "stream",
     "text": [
      "100%|████████████████████████████████████████████████████████████████████████████████| 144/144 [00:03<00:00, 39.26it/s]\n"
     ]
    },
    {
     "name": "stdout",
     "output_type": "stream",
     "text": [
      "1.212739700658454\n",
      "Valid binary acc:  0.4722222222222222\n",
      "\n",
      "========== Train epoch 38 ==========\n"
     ]
    },
    {
     "name": "stderr",
     "output_type": "stream",
     "text": [
      "100%|████████████████████████████████████████████████████████████████████████████████| 719/719 [00:17<00:00, 40.39it/s]\n"
     ]
    },
    {
     "name": "stdout",
     "output_type": "stream",
     "text": [
      "1.0539381874308136\n",
      "========== Evaluate Valid set ==========\n"
     ]
    },
    {
     "name": "stderr",
     "output_type": "stream",
     "text": [
      "100%|████████████████████████████████████████████████████████████████████████████████| 144/144 [00:02<00:00, 62.43it/s]\n"
     ]
    },
    {
     "name": "stdout",
     "output_type": "stream",
     "text": [
      "1.1559174043229885\n",
      "Valid binary acc:  0.4930555555555556\n",
      "\n",
      "========== Train epoch 39 ==========\n"
     ]
    },
    {
     "name": "stderr",
     "output_type": "stream",
     "text": [
      "100%|████████████████████████████████████████████████████████████████████████████████| 719/719 [00:15<00:00, 47.44it/s]\n"
     ]
    },
    {
     "name": "stdout",
     "output_type": "stream",
     "text": [
      "1.056618814150672\n",
      "========== Evaluate Valid set ==========\n"
     ]
    },
    {
     "name": "stderr",
     "output_type": "stream",
     "text": [
      "100%|████████████████████████████████████████████████████████████████████████████████| 144/144 [00:02<00:00, 60.44it/s]\n"
     ]
    },
    {
     "name": "stdout",
     "output_type": "stream",
     "text": [
      "1.1341447885562148\n",
      "Valid binary acc:  0.5138888888888888\n",
      "\n",
      "========== Train epoch 40 ==========\n"
     ]
    },
    {
     "name": "stderr",
     "output_type": "stream",
     "text": [
      "100%|████████████████████████████████████████████████████████████████████████████████| 719/719 [00:14<00:00, 48.01it/s]\n"
     ]
    },
    {
     "name": "stdout",
     "output_type": "stream",
     "text": [
      "1.0425542757661186\n",
      "========== Evaluate Valid set ==========\n"
     ]
    },
    {
     "name": "stderr",
     "output_type": "stream",
     "text": [
      "100%|████████████████████████████████████████████████████████████████████████████████| 144/144 [00:02<00:00, 60.79it/s]\n"
     ]
    },
    {
     "name": "stdout",
     "output_type": "stream",
     "text": [
      "1.1226637234600882\n",
      "Valid binary acc:  0.5694444444444444\n",
      "\n",
      "========== Train epoch 41 ==========\n"
     ]
    },
    {
     "name": "stderr",
     "output_type": "stream",
     "text": [
      "100%|████████████████████████████████████████████████████████████████████████████████| 719/719 [00:15<00:00, 47.80it/s]\n"
     ]
    },
    {
     "name": "stdout",
     "output_type": "stream",
     "text": [
      "1.0363904588826012\n",
      "========== Evaluate Valid set ==========\n"
     ]
    },
    {
     "name": "stderr",
     "output_type": "stream",
     "text": [
      "100%|████████████████████████████████████████████████████████████████████████████████| 144/144 [00:02<00:00, 60.40it/s]\n"
     ]
    },
    {
     "name": "stdout",
     "output_type": "stream",
     "text": [
      "1.1337275818611185\n",
      "Valid binary acc:  0.5069444444444444\n",
      "\n",
      "========== Train epoch 42 ==========\n"
     ]
    },
    {
     "name": "stderr",
     "output_type": "stream",
     "text": [
      "100%|████████████████████████████████████████████████████████████████████████████████| 719/719 [00:15<00:00, 47.48it/s]\n"
     ]
    },
    {
     "name": "stdout",
     "output_type": "stream",
     "text": [
      "1.0239044316890176\n",
      "========== Evaluate Valid set ==========\n"
     ]
    },
    {
     "name": "stderr",
     "output_type": "stream",
     "text": [
      "100%|████████████████████████████████████████████████████████████████████████████████| 144/144 [00:02<00:00, 62.65it/s]\n"
     ]
    },
    {
     "name": "stdout",
     "output_type": "stream",
     "text": [
      "1.0929819820966158\n",
      "Valid binary acc:  0.5625\n",
      "\n",
      "========== Train epoch 43 ==========\n"
     ]
    },
    {
     "name": "stderr",
     "output_type": "stream",
     "text": [
      "100%|████████████████████████████████████████████████████████████████████████████████| 719/719 [00:15<00:00, 47.30it/s]\n"
     ]
    },
    {
     "name": "stdout",
     "output_type": "stream",
     "text": [
      "1.0110399535441348\n",
      "========== Evaluate Valid set ==========\n"
     ]
    },
    {
     "name": "stderr",
     "output_type": "stream",
     "text": [
      "100%|████████████████████████████████████████████████████████████████████████████████| 144/144 [00:02<00:00, 61.13it/s]\n"
     ]
    },
    {
     "name": "stdout",
     "output_type": "stream",
     "text": [
      "1.1422549834888842\n",
      "Valid binary acc:  0.4861111111111111\n",
      "\n",
      "========== Train epoch 44 ==========\n"
     ]
    },
    {
     "name": "stderr",
     "output_type": "stream",
     "text": [
      "100%|████████████████████████████████████████████████████████████████████████████████| 719/719 [00:15<00:00, 47.31it/s]\n"
     ]
    },
    {
     "name": "stdout",
     "output_type": "stream",
     "text": [
      "1.0094415818254292\n",
      "========== Evaluate Valid set ==========\n"
     ]
    },
    {
     "name": "stderr",
     "output_type": "stream",
     "text": [
      "100%|████████████████████████████████████████████████████████████████████████████████| 144/144 [00:02<00:00, 61.46it/s]\n"
     ]
    },
    {
     "name": "stdout",
     "output_type": "stream",
     "text": [
      "1.0700736672410534\n",
      "Valid binary acc:  0.5694444444444444\n",
      "\n",
      "========== Train epoch 45 ==========\n"
     ]
    },
    {
     "name": "stderr",
     "output_type": "stream",
     "text": [
      "100%|████████████████████████████████████████████████████████████████████████████████| 719/719 [00:15<00:00, 47.39it/s]\n"
     ]
    },
    {
     "name": "stdout",
     "output_type": "stream",
     "text": [
      "1.0030968983881745\n",
      "========== Evaluate Valid set ==========\n"
     ]
    },
    {
     "name": "stderr",
     "output_type": "stream",
     "text": [
      "100%|████████████████████████████████████████████████████████████████████████████████| 144/144 [00:02<00:00, 60.70it/s]\n"
     ]
    },
    {
     "name": "stdout",
     "output_type": "stream",
     "text": [
      "1.066918303931339\n",
      "Valid binary acc:  0.5486111111111112\n",
      "\n",
      "========== Train epoch 46 ==========\n"
     ]
    },
    {
     "name": "stderr",
     "output_type": "stream",
     "text": [
      "100%|████████████████████████████████████████████████████████████████████████████████| 719/719 [00:15<00:00, 47.13it/s]\n"
     ]
    },
    {
     "name": "stdout",
     "output_type": "stream",
     "text": [
      "0.9883794530433433\n",
      "========== Evaluate Valid set ==========\n"
     ]
    },
    {
     "name": "stderr",
     "output_type": "stream",
     "text": [
      "100%|████████████████████████████████████████████████████████████████████████████████| 144/144 [00:02<00:00, 62.09it/s]\n"
     ]
    },
    {
     "name": "stdout",
     "output_type": "stream",
     "text": [
      "1.069061755306191\n",
      "Valid binary acc:  0.5972222222222222\n",
      "\n",
      "========== Train epoch 47 ==========\n"
     ]
    },
    {
     "name": "stderr",
     "output_type": "stream",
     "text": [
      "100%|████████████████████████████████████████████████████████████████████████████████| 719/719 [00:15<00:00, 47.35it/s]\n"
     ]
    },
    {
     "name": "stdout",
     "output_type": "stream",
     "text": [
      "0.9788529094158359\n",
      "========== Evaluate Valid set ==========\n"
     ]
    },
    {
     "name": "stderr",
     "output_type": "stream",
     "text": [
      "100%|████████████████████████████████████████████████████████████████████████████████| 144/144 [00:02<00:00, 60.32it/s]\n"
     ]
    },
    {
     "name": "stdout",
     "output_type": "stream",
     "text": [
      "1.049091721057064\n",
      "Valid binary acc:  0.5486111111111112\n",
      "\n",
      "========== Train epoch 48 ==========\n"
     ]
    },
    {
     "name": "stderr",
     "output_type": "stream",
     "text": [
      "100%|████████████████████████████████████████████████████████████████████████████████| 719/719 [00:15<00:00, 47.54it/s]\n"
     ]
    },
    {
     "name": "stdout",
     "output_type": "stream",
     "text": [
      "0.971725086374558\n",
      "========== Evaluate Valid set ==========\n"
     ]
    },
    {
     "name": "stderr",
     "output_type": "stream",
     "text": [
      "100%|████████████████████████████████████████████████████████████████████████████████| 144/144 [00:02<00:00, 60.92it/s]\n"
     ]
    },
    {
     "name": "stdout",
     "output_type": "stream",
     "text": [
      "1.0260759461412414\n",
      "Valid binary acc:  0.5763888888888888\n",
      "\n",
      "========== Train epoch 49 ==========\n"
     ]
    },
    {
     "name": "stderr",
     "output_type": "stream",
     "text": [
      "100%|████████████████████████████████████████████████████████████████████████████████| 719/719 [00:15<00:00, 46.99it/s]\n"
     ]
    },
    {
     "name": "stdout",
     "output_type": "stream",
     "text": [
      "0.9589635477775659\n",
      "========== Evaluate Valid set ==========\n"
     ]
    },
    {
     "name": "stderr",
     "output_type": "stream",
     "text": [
      "100%|████████████████████████████████████████████████████████████████████████████████| 144/144 [00:02<00:00, 59.71it/s]\n"
     ]
    },
    {
     "name": "stdout",
     "output_type": "stream",
     "text": [
      "1.0399146168751434\n",
      "Valid binary acc:  0.5277777777777778\n",
      "\n",
      "========== Train epoch 50 ==========\n"
     ]
    },
    {
     "name": "stderr",
     "output_type": "stream",
     "text": [
      "100%|████████████████████████████████████████████████████████████████████████████████| 719/719 [00:15<00:00, 47.53it/s]\n"
     ]
    },
    {
     "name": "stdout",
     "output_type": "stream",
     "text": [
      "0.9464718534900018\n",
      "========== Evaluate Valid set ==========\n"
     ]
    },
    {
     "name": "stderr",
     "output_type": "stream",
     "text": [
      "100%|████████████████████████████████████████████████████████████████████████████████| 144/144 [00:02<00:00, 62.46it/s]\n"
     ]
    },
    {
     "name": "stdout",
     "output_type": "stream",
     "text": [
      "1.0350458637759503\n",
      "Valid binary acc:  0.5625\n",
      "\n",
      "========== Train epoch 51 ==========\n"
     ]
    },
    {
     "name": "stderr",
     "output_type": "stream",
     "text": [
      "100%|████████████████████████████████████████████████████████████████████████████████| 719/719 [00:15<00:00, 47.34it/s]\n"
     ]
    },
    {
     "name": "stdout",
     "output_type": "stream",
     "text": [
      "0.9381587288791886\n",
      "========== Evaluate Valid set ==========\n"
     ]
    },
    {
     "name": "stderr",
     "output_type": "stream",
     "text": [
      "100%|████████████████████████████████████████████████████████████████████████████████| 144/144 [00:02<00:00, 60.23it/s]\n"
     ]
    },
    {
     "name": "stdout",
     "output_type": "stream",
     "text": [
      "0.9872220786961002\n",
      "Valid binary acc:  0.6180555555555556\n",
      "\n",
      "========== Train epoch 52 ==========\n"
     ]
    },
    {
     "name": "stderr",
     "output_type": "stream",
     "text": [
      "100%|████████████████████████████████████████████████████████████████████████████████| 719/719 [00:15<00:00, 47.01it/s]\n"
     ]
    },
    {
     "name": "stdout",
     "output_type": "stream",
     "text": [
      "0.9240246069888288\n",
      "========== Evaluate Valid set ==========\n"
     ]
    },
    {
     "name": "stderr",
     "output_type": "stream",
     "text": [
      "100%|████████████████████████████████████████████████████████████████████████████████| 144/144 [00:02<00:00, 60.05it/s]\n"
     ]
    },
    {
     "name": "stdout",
     "output_type": "stream",
     "text": [
      "0.9997555948017786\n",
      "Valid binary acc:  0.6111111111111112\n",
      "\n",
      "========== Train epoch 53 ==========\n"
     ]
    },
    {
     "name": "stderr",
     "output_type": "stream",
     "text": [
      "100%|████████████████████████████████████████████████████████████████████████████████| 719/719 [00:15<00:00, 46.95it/s]\n"
     ]
    },
    {
     "name": "stdout",
     "output_type": "stream",
     "text": [
      "0.9131243718381302\n",
      "========== Evaluate Valid set ==========\n"
     ]
    },
    {
     "name": "stderr",
     "output_type": "stream",
     "text": [
      "100%|████████████████████████████████████████████████████████████████████████████████| 144/144 [00:02<00:00, 60.25it/s]\n"
     ]
    },
    {
     "name": "stdout",
     "output_type": "stream",
     "text": [
      "0.9701158833276067\n",
      "Valid binary acc:  0.625\n",
      "\n",
      "========== Train epoch 54 ==========\n"
     ]
    },
    {
     "name": "stderr",
     "output_type": "stream",
     "text": [
      "100%|████████████████████████████████████████████████████████████████████████████████| 719/719 [00:15<00:00, 46.71it/s]\n"
     ]
    },
    {
     "name": "stdout",
     "output_type": "stream",
     "text": [
      "0.9034356743496258\n",
      "========== Evaluate Valid set ==========\n"
     ]
    },
    {
     "name": "stderr",
     "output_type": "stream",
     "text": [
      "100%|████████████████████████████████████████████████████████████████████████████████| 144/144 [00:02<00:00, 60.86it/s]\n"
     ]
    },
    {
     "name": "stdout",
     "output_type": "stream",
     "text": [
      "0.9543759927619249\n",
      "Valid binary acc:  0.6180555555555556\n",
      "\n",
      "========== Train epoch 55 ==========\n"
     ]
    },
    {
     "name": "stderr",
     "output_type": "stream",
     "text": [
      "100%|████████████████████████████████████████████████████████████████████████████████| 719/719 [00:15<00:00, 47.06it/s]\n"
     ]
    },
    {
     "name": "stdout",
     "output_type": "stream",
     "text": [
      "0.8931709556621454\n",
      "========== Evaluate Valid set ==========\n"
     ]
    },
    {
     "name": "stderr",
     "output_type": "stream",
     "text": [
      "100%|████████████████████████████████████████████████████████████████████████████████| 144/144 [00:02<00:00, 60.10it/s]\n"
     ]
    },
    {
     "name": "stdout",
     "output_type": "stream",
     "text": [
      "0.9342346065936403\n",
      "Valid binary acc:  0.6458333333333334\n",
      "\n",
      "========== Train epoch 56 ==========\n"
     ]
    },
    {
     "name": "stderr",
     "output_type": "stream",
     "text": [
      "100%|████████████████████████████████████████████████████████████████████████████████| 719/719 [00:15<00:00, 47.33it/s]\n"
     ]
    },
    {
     "name": "stdout",
     "output_type": "stream",
     "text": [
      "0.8754638688916001\n",
      "========== Evaluate Valid set ==========\n"
     ]
    },
    {
     "name": "stderr",
     "output_type": "stream",
     "text": [
      "100%|████████████████████████████████████████████████████████████████████████████████| 144/144 [00:02<00:00, 60.86it/s]\n"
     ]
    },
    {
     "name": "stdout",
     "output_type": "stream",
     "text": [
      "0.9424293684100525\n",
      "Valid binary acc:  0.6388888888888888\n",
      "\n",
      "========== Train epoch 57 ==========\n"
     ]
    },
    {
     "name": "stderr",
     "output_type": "stream",
     "text": [
      "100%|████████████████████████████████████████████████████████████████████████████████| 719/719 [00:15<00:00, 47.23it/s]\n"
     ]
    },
    {
     "name": "stdout",
     "output_type": "stream",
     "text": [
      "0.8687246327647248\n",
      "========== Evaluate Valid set ==========\n"
     ]
    },
    {
     "name": "stderr",
     "output_type": "stream",
     "text": [
      "100%|████████████████████████████████████████████████████████████████████████████████| 144/144 [00:02<00:00, 59.09it/s]\n"
     ]
    },
    {
     "name": "stdout",
     "output_type": "stream",
     "text": [
      "0.9215478258492011\n",
      "Valid binary acc:  0.625\n",
      "\n",
      "========== Train epoch 58 ==========\n"
     ]
    },
    {
     "name": "stderr",
     "output_type": "stream",
     "text": [
      "100%|████████████████████████████████████████████████████████████████████████████████| 719/719 [00:15<00:00, 47.03it/s]\n"
     ]
    },
    {
     "name": "stdout",
     "output_type": "stream",
     "text": [
      "0.8544278652491424\n",
      "========== Evaluate Valid set ==========\n"
     ]
    },
    {
     "name": "stderr",
     "output_type": "stream",
     "text": [
      "100%|████████████████████████████████████████████████████████████████████████████████| 144/144 [00:02<00:00, 62.02it/s]\n"
     ]
    },
    {
     "name": "stdout",
     "output_type": "stream",
     "text": [
      "0.8766982666372011\n",
      "Valid binary acc:  0.6666666666666666\n",
      "\n",
      "========== Train epoch 59 ==========\n"
     ]
    },
    {
     "name": "stderr",
     "output_type": "stream",
     "text": [
      "100%|████████████████████████████████████████████████████████████████████████████████| 719/719 [00:15<00:00, 46.97it/s]\n"
     ]
    },
    {
     "name": "stdout",
     "output_type": "stream",
     "text": [
      "0.8397371523595196\n",
      "========== Evaluate Valid set ==========\n"
     ]
    },
    {
     "name": "stderr",
     "output_type": "stream",
     "text": [
      "100%|████████████████████████████████████████████████████████████████████████████████| 144/144 [00:02<00:00, 61.40it/s]\n"
     ]
    },
    {
     "name": "stdout",
     "output_type": "stream",
     "text": [
      "0.8899927521900585\n",
      "Valid binary acc:  0.6736111111111112\n",
      "\n",
      "========== Train epoch 60 ==========\n"
     ]
    },
    {
     "name": "stderr",
     "output_type": "stream",
     "text": [
      "100%|████████████████████████████████████████████████████████████████████████████████| 719/719 [00:15<00:00, 47.10it/s]\n"
     ]
    },
    {
     "name": "stdout",
     "output_type": "stream",
     "text": [
      "0.8252331507592999\n",
      "========== Evaluate Valid set ==========\n"
     ]
    },
    {
     "name": "stderr",
     "output_type": "stream",
     "text": [
      "100%|████████████████████████████████████████████████████████████████████████████████| 144/144 [00:02<00:00, 59.61it/s]\n"
     ]
    },
    {
     "name": "stdout",
     "output_type": "stream",
     "text": [
      "0.8623872426235013\n",
      "Valid binary acc:  0.6736111111111112\n",
      "\n",
      "========== Train epoch 61 ==========\n"
     ]
    },
    {
     "name": "stderr",
     "output_type": "stream",
     "text": [
      "100%|████████████████████████████████████████████████████████████████████████████████| 719/719 [00:15<00:00, 46.39it/s]\n"
     ]
    },
    {
     "name": "stdout",
     "output_type": "stream",
     "text": [
      "0.8162058413570153\n",
      "========== Evaluate Valid set ==========\n"
     ]
    },
    {
     "name": "stderr",
     "output_type": "stream",
     "text": [
      "100%|████████████████████████████████████████████████████████████████████████████████| 144/144 [00:02<00:00, 61.17it/s]\n"
     ]
    },
    {
     "name": "stdout",
     "output_type": "stream",
     "text": [
      "0.877590132256349\n",
      "Valid binary acc:  0.6666666666666666\n",
      "\n",
      "========== Train epoch 62 ==========\n"
     ]
    },
    {
     "name": "stderr",
     "output_type": "stream",
     "text": [
      "100%|████████████████████████████████████████████████████████████████████████████████| 719/719 [00:15<00:00, 46.70it/s]\n"
     ]
    },
    {
     "name": "stdout",
     "output_type": "stream",
     "text": [
      "0.8008506953449446\n",
      "========== Evaluate Valid set ==========\n"
     ]
    },
    {
     "name": "stderr",
     "output_type": "stream",
     "text": [
      "100%|████████████████████████████████████████████████████████████████████████████████| 144/144 [00:02<00:00, 60.79it/s]\n"
     ]
    },
    {
     "name": "stdout",
     "output_type": "stream",
     "text": [
      "0.8704031105929365\n",
      "Valid binary acc:  0.6527777777777778\n",
      "\n",
      "========== Train epoch 63 ==========\n"
     ]
    },
    {
     "name": "stderr",
     "output_type": "stream",
     "text": [
      "100%|████████████████████████████████████████████████████████████████████████████████| 719/719 [00:15<00:00, 46.82it/s]\n"
     ]
    },
    {
     "name": "stdout",
     "output_type": "stream",
     "text": [
      "0.7882377493631753\n",
      "========== Evaluate Valid set ==========\n"
     ]
    },
    {
     "name": "stderr",
     "output_type": "stream",
     "text": [
      "100%|████████████████████████████████████████████████████████████████████████████████| 144/144 [00:02<00:00, 60.92it/s]\n"
     ]
    },
    {
     "name": "stdout",
     "output_type": "stream",
     "text": [
      "0.8252031109295785\n",
      "Valid binary acc:  0.7013888888888888\n",
      "\n",
      "========== Train epoch 64 ==========\n"
     ]
    },
    {
     "name": "stderr",
     "output_type": "stream",
     "text": [
      "100%|████████████████████████████████████████████████████████████████████████████████| 719/719 [00:15<00:00, 46.91it/s]\n"
     ]
    },
    {
     "name": "stdout",
     "output_type": "stream",
     "text": [
      "0.7768569557703462\n",
      "========== Evaluate Valid set ==========\n"
     ]
    },
    {
     "name": "stderr",
     "output_type": "stream",
     "text": [
      "100%|████████████████████████████████████████████████████████████████████████████████| 144/144 [00:02<00:00, 60.73it/s]\n"
     ]
    },
    {
     "name": "stdout",
     "output_type": "stream",
     "text": [
      "0.8109856172361307\n",
      "Valid binary acc:  0.7083333333333334\n",
      "\n",
      "========== Train epoch 65 ==========\n"
     ]
    },
    {
     "name": "stderr",
     "output_type": "stream",
     "text": [
      "100%|████████████████████████████████████████████████████████████████████████████████| 719/719 [00:15<00:00, 46.56it/s]\n"
     ]
    },
    {
     "name": "stdout",
     "output_type": "stream",
     "text": [
      "0.7581460714088921\n",
      "========== Evaluate Valid set ==========\n"
     ]
    },
    {
     "name": "stderr",
     "output_type": "stream",
     "text": [
      "100%|████████████████████████████████████████████████████████████████████████████████| 144/144 [00:02<00:00, 60.22it/s]\n"
     ]
    },
    {
     "name": "stdout",
     "output_type": "stream",
     "text": [
      "0.8148631747139411\n",
      "Valid binary acc:  0.6736111111111112\n",
      "\n",
      "========== Train epoch 66 ==========\n"
     ]
    },
    {
     "name": "stderr",
     "output_type": "stream",
     "text": [
      "100%|████████████████████████████████████████████████████████████████████████████████| 719/719 [00:15<00:00, 46.93it/s]\n"
     ]
    },
    {
     "name": "stdout",
     "output_type": "stream",
     "text": [
      "0.7504429716904426\n",
      "========== Evaluate Valid set ==========\n"
     ]
    },
    {
     "name": "stderr",
     "output_type": "stream",
     "text": [
      "100%|████████████████████████████████████████████████████████████████████████████████| 144/144 [00:02<00:00, 60.64it/s]\n"
     ]
    },
    {
     "name": "stdout",
     "output_type": "stream",
     "text": [
      "0.8023622610425163\n",
      "Valid binary acc:  0.7013888888888888\n",
      "\n",
      "========== Train epoch 67 ==========\n"
     ]
    },
    {
     "name": "stderr",
     "output_type": "stream",
     "text": [
      "100%|████████████████████████████████████████████████████████████████████████████████| 719/719 [00:15<00:00, 46.84it/s]\n"
     ]
    },
    {
     "name": "stdout",
     "output_type": "stream",
     "text": [
      "0.7369832380607424\n",
      "========== Evaluate Valid set ==========\n"
     ]
    },
    {
     "name": "stderr",
     "output_type": "stream",
     "text": [
      "100%|████████████████████████████████████████████████████████████████████████████████| 144/144 [00:02<00:00, 58.61it/s]\n"
     ]
    },
    {
     "name": "stdout",
     "output_type": "stream",
     "text": [
      "0.7719692818484165\n",
      "Valid binary acc:  0.7083333333333334\n",
      "\n",
      "========== Train epoch 68 ==========\n"
     ]
    },
    {
     "name": "stderr",
     "output_type": "stream",
     "text": [
      "100%|████████████████████████████████████████████████████████████████████████████████| 719/719 [00:15<00:00, 46.52it/s]\n"
     ]
    },
    {
     "name": "stdout",
     "output_type": "stream",
     "text": [
      "0.7220393655613138\n",
      "========== Evaluate Valid set ==========\n"
     ]
    },
    {
     "name": "stderr",
     "output_type": "stream",
     "text": [
      "100%|████████████████████████████████████████████████████████████████████████████████| 144/144 [00:02<00:00, 59.77it/s]\n"
     ]
    },
    {
     "name": "stdout",
     "output_type": "stream",
     "text": [
      "0.7517442323797796\n",
      "Valid binary acc:  0.7222222222222222\n",
      "\n",
      "========== Train epoch 69 ==========\n"
     ]
    },
    {
     "name": "stderr",
     "output_type": "stream",
     "text": [
      "100%|████████████████████████████████████████████████████████████████████████████████| 719/719 [00:15<00:00, 47.08it/s]\n"
     ]
    },
    {
     "name": "stdout",
     "output_type": "stream",
     "text": [
      "0.7097253194810649\n",
      "========== Evaluate Valid set ==========\n"
     ]
    },
    {
     "name": "stderr",
     "output_type": "stream",
     "text": [
      "100%|████████████████████████████████████████████████████████████████████████████████| 144/144 [00:02<00:00, 61.56it/s]\n"
     ]
    },
    {
     "name": "stdout",
     "output_type": "stream",
     "text": [
      "0.7513854241115041\n",
      "Valid binary acc:  0.7083333333333334\n",
      "\n",
      "========== Train epoch 70 ==========\n"
     ]
    },
    {
     "name": "stderr",
     "output_type": "stream",
     "text": [
      "100%|████████████████████████████████████████████████████████████████████████████████| 719/719 [00:15<00:00, 47.74it/s]\n"
     ]
    },
    {
     "name": "stdout",
     "output_type": "stream",
     "text": [
      "0.7005441965410935\n",
      "========== Evaluate Valid set ==========\n"
     ]
    },
    {
     "name": "stderr",
     "output_type": "stream",
     "text": [
      "100%|████████████████████████████████████████████████████████████████████████████████| 144/144 [00:02<00:00, 62.70it/s]\n"
     ]
    },
    {
     "name": "stdout",
     "output_type": "stream",
     "text": [
      "0.7276080222347647\n",
      "Valid binary acc:  0.7152777777777778\n",
      "\n",
      "========== Train epoch 71 ==========\n"
     ]
    },
    {
     "name": "stderr",
     "output_type": "stream",
     "text": [
      "100%|████████████████████████████████████████████████████████████████████████████████| 719/719 [00:15<00:00, 47.45it/s]\n"
     ]
    },
    {
     "name": "stdout",
     "output_type": "stream",
     "text": [
      "0.6858761947017852\n",
      "========== Evaluate Valid set ==========\n"
     ]
    },
    {
     "name": "stderr",
     "output_type": "stream",
     "text": [
      "100%|████████████████████████████████████████████████████████████████████████████████| 144/144 [00:02<00:00, 60.98it/s]\n"
     ]
    },
    {
     "name": "stdout",
     "output_type": "stream",
     "text": [
      "0.7144027945469134\n",
      "Valid binary acc:  0.7222222222222222\n",
      "\n",
      "========== Train epoch 72 ==========\n"
     ]
    },
    {
     "name": "stderr",
     "output_type": "stream",
     "text": [
      "100%|████████████████████████████████████████████████████████████████████████████████| 719/719 [00:15<00:00, 47.47it/s]\n"
     ]
    },
    {
     "name": "stdout",
     "output_type": "stream",
     "text": [
      "0.673371616726021\n",
      "========== Evaluate Valid set ==========\n"
     ]
    },
    {
     "name": "stderr",
     "output_type": "stream",
     "text": [
      "100%|████████████████████████████████████████████████████████████████████████████████| 144/144 [00:02<00:00, 61.98it/s]\n"
     ]
    },
    {
     "name": "stdout",
     "output_type": "stream",
     "text": [
      "0.7112208496546373\n",
      "Valid binary acc:  0.7430555555555556\n",
      "\n",
      "========== Train epoch 73 ==========\n"
     ]
    },
    {
     "name": "stderr",
     "output_type": "stream",
     "text": [
      "100%|████████████████████████████████████████████████████████████████████████████████| 719/719 [00:15<00:00, 47.30it/s]\n"
     ]
    },
    {
     "name": "stdout",
     "output_type": "stream",
     "text": [
      "0.657050923551517\n",
      "========== Evaluate Valid set ==========\n"
     ]
    },
    {
     "name": "stderr",
     "output_type": "stream",
     "text": [
      "100%|████████████████████████████████████████████████████████████████████████████████| 144/144 [00:02<00:00, 61.42it/s]\n"
     ]
    },
    {
     "name": "stdout",
     "output_type": "stream",
     "text": [
      "0.6976182717739398\n",
      "Valid binary acc:  0.7430555555555556\n",
      "\n",
      "========== Train epoch 74 ==========\n"
     ]
    },
    {
     "name": "stderr",
     "output_type": "stream",
     "text": [
      "100%|████████████████████████████████████████████████████████████████████████████████| 719/719 [00:15<00:00, 47.43it/s]\n"
     ]
    },
    {
     "name": "stdout",
     "output_type": "stream",
     "text": [
      "0.6497431949097715\n",
      "========== Evaluate Valid set ==========\n"
     ]
    },
    {
     "name": "stderr",
     "output_type": "stream",
     "text": [
      "100%|████████████████████████████████████████████████████████████████████████████████| 144/144 [00:02<00:00, 60.35it/s]\n"
     ]
    },
    {
     "name": "stdout",
     "output_type": "stream",
     "text": [
      "0.6911367073189467\n",
      "Valid binary acc:  0.7361111111111112\n",
      "\n",
      "========== Train epoch 75 ==========\n"
     ]
    },
    {
     "name": "stderr",
     "output_type": "stream",
     "text": [
      "100%|████████████████████████████████████████████████████████████████████████████████| 719/719 [00:15<00:00, 47.48it/s]\n"
     ]
    },
    {
     "name": "stdout",
     "output_type": "stream",
     "text": [
      "0.6319617195678577\n",
      "========== Evaluate Valid set ==========\n"
     ]
    },
    {
     "name": "stderr",
     "output_type": "stream",
     "text": [
      "100%|████████████████████████████████████████████████████████████████████████████████| 144/144 [00:02<00:00, 59.09it/s]\n"
     ]
    },
    {
     "name": "stdout",
     "output_type": "stream",
     "text": [
      "0.6861215832694951\n",
      "Valid binary acc:  0.7291666666666666\n",
      "\n",
      "========== Fold 5 ==========\n",
      "Training on 576 examples, Validation on 143 examples\n",
      "\n",
      "========== Train epoch 1 ==========\n"
     ]
    },
    {
     "name": "stderr",
     "output_type": "stream",
     "text": [
      "100%|████████████████████████████████████████████████████████████████████████████████| 719/719 [00:15<00:00, 47.29it/s]\n"
     ]
    },
    {
     "name": "stdout",
     "output_type": "stream",
     "text": [
      "1.4907520058589452\n",
      "========== Evaluate Valid set ==========\n"
     ]
    },
    {
     "name": "stderr",
     "output_type": "stream",
     "text": [
      "100%|████████████████████████████████████████████████████████████████████████████████| 143/143 [00:02<00:00, 61.20it/s]\n"
     ]
    },
    {
     "name": "stdout",
     "output_type": "stream",
     "text": [
      "1.417454581577461\n",
      "Valid binary acc:  0.4405594405594406\n",
      "\n",
      "========== Train epoch 2 ==========\n"
     ]
    },
    {
     "name": "stderr",
     "output_type": "stream",
     "text": [
      "100%|████████████████████████████████████████████████████████████████████████████████| 719/719 [00:15<00:00, 47.23it/s]\n"
     ]
    },
    {
     "name": "stdout",
     "output_type": "stream",
     "text": [
      "1.4403664401741452\n",
      "========== Evaluate Valid set ==========\n"
     ]
    },
    {
     "name": "stderr",
     "output_type": "stream",
     "text": [
      "100%|████████████████████████████████████████████████████████████████████████████████| 143/143 [00:02<00:00, 55.58it/s]\n"
     ]
    },
    {
     "name": "stdout",
     "output_type": "stream",
     "text": [
      "1.3935688671532211\n",
      "Valid binary acc:  0.44755244755244755\n",
      "\n",
      "========== Train epoch 3 ==========\n"
     ]
    },
    {
     "name": "stderr",
     "output_type": "stream",
     "text": [
      "100%|████████████████████████████████████████████████████████████████████████████████| 719/719 [00:17<00:00, 41.59it/s]\n"
     ]
    },
    {
     "name": "stdout",
     "output_type": "stream",
     "text": [
      "1.409426454294043\n",
      "========== Evaluate Valid set ==========\n"
     ]
    },
    {
     "name": "stderr",
     "output_type": "stream",
     "text": [
      "100%|████████████████████████████████████████████████████████████████████████████████| 143/143 [00:02<00:00, 59.80it/s]\n"
     ]
    },
    {
     "name": "stdout",
     "output_type": "stream",
     "text": [
      "1.3588968294483799\n",
      "Valid binary acc:  0.45454545454545453\n",
      "\n",
      "========== Train epoch 4 ==========\n"
     ]
    },
    {
     "name": "stderr",
     "output_type": "stream",
     "text": [
      "100%|████████████████████████████████████████████████████████████████████████████████| 719/719 [00:15<00:00, 47.84it/s]\n"
     ]
    },
    {
     "name": "stdout",
     "output_type": "stream",
     "text": [
      "1.3787062650595654\n",
      "========== Evaluate Valid set ==========\n"
     ]
    },
    {
     "name": "stderr",
     "output_type": "stream",
     "text": [
      "100%|████████████████████████████████████████████████████████████████████████████████| 143/143 [00:02<00:00, 60.26it/s]\n"
     ]
    },
    {
     "name": "stdout",
     "output_type": "stream",
     "text": [
      "1.335753771391782\n",
      "Valid binary acc:  0.5034965034965035\n",
      "\n",
      "========== Train epoch 5 ==========\n"
     ]
    },
    {
     "name": "stderr",
     "output_type": "stream",
     "text": [
      "100%|████████████████████████████████████████████████████████████████████████████████| 719/719 [00:15<00:00, 47.47it/s]\n"
     ]
    },
    {
     "name": "stdout",
     "output_type": "stream",
     "text": [
      "1.3567556972629669\n",
      "========== Evaluate Valid set ==========\n"
     ]
    },
    {
     "name": "stderr",
     "output_type": "stream",
     "text": [
      "100%|████████████████████████████████████████████████████████████████████████████████| 143/143 [00:02<00:00, 61.38it/s]\n"
     ]
    },
    {
     "name": "stdout",
     "output_type": "stream",
     "text": [
      "1.3129945122278655\n",
      "Valid binary acc:  0.5104895104895105\n",
      "\n",
      "========== Train epoch 6 ==========\n"
     ]
    },
    {
     "name": "stderr",
     "output_type": "stream",
     "text": [
      "100%|████████████████████████████████████████████████████████████████████████████████| 719/719 [00:15<00:00, 47.42it/s]\n"
     ]
    },
    {
     "name": "stdout",
     "output_type": "stream",
     "text": [
      "1.3368140327250675\n",
      "========== Evaluate Valid set ==========\n"
     ]
    },
    {
     "name": "stderr",
     "output_type": "stream",
     "text": [
      "100%|████████████████████████████████████████████████████████████████████████████████| 143/143 [00:02<00:00, 61.89it/s]\n"
     ]
    },
    {
     "name": "stdout",
     "output_type": "stream",
     "text": [
      "1.27473044082835\n",
      "Valid binary acc:  0.4965034965034965\n",
      "\n",
      "========== Train epoch 7 ==========\n"
     ]
    },
    {
     "name": "stderr",
     "output_type": "stream",
     "text": [
      "100%|████████████████████████████████████████████████████████████████████████████████| 719/719 [00:15<00:00, 47.14it/s]\n"
     ]
    },
    {
     "name": "stdout",
     "output_type": "stream",
     "text": [
      "1.3140129175902409\n",
      "========== Evaluate Valid set ==========\n"
     ]
    },
    {
     "name": "stderr",
     "output_type": "stream",
     "text": [
      "100%|████████████████████████████████████████████████████████████████████████████████| 143/143 [00:02<00:00, 59.40it/s]\n"
     ]
    },
    {
     "name": "stdout",
     "output_type": "stream",
     "text": [
      "1.2689257366257114\n",
      "Valid binary acc:  0.4965034965034965\n",
      "\n",
      "========== Train epoch 8 ==========\n"
     ]
    },
    {
     "name": "stderr",
     "output_type": "stream",
     "text": [
      "100%|████████████████████████████████████████████████████████████████████████████████| 719/719 [00:14<00:00, 48.08it/s]\n"
     ]
    },
    {
     "name": "stdout",
     "output_type": "stream",
     "text": [
      "1.301479973779766\n",
      "========== Evaluate Valid set ==========\n"
     ]
    },
    {
     "name": "stderr",
     "output_type": "stream",
     "text": [
      "100%|████████████████████████████████████████████████████████████████████████████████| 143/143 [00:02<00:00, 62.84it/s]\n"
     ]
    },
    {
     "name": "stdout",
     "output_type": "stream",
     "text": [
      "1.2503631788117069\n",
      "Valid binary acc:  0.5104895104895105\n",
      "\n",
      "========== Train epoch 9 ==========\n"
     ]
    },
    {
     "name": "stderr",
     "output_type": "stream",
     "text": [
      "100%|████████████████████████████████████████████████████████████████████████████████| 719/719 [00:14<00:00, 48.30it/s]\n"
     ]
    },
    {
     "name": "stdout",
     "output_type": "stream",
     "text": [
      "1.2863766874739788\n",
      "========== Evaluate Valid set ==========\n"
     ]
    },
    {
     "name": "stderr",
     "output_type": "stream",
     "text": [
      "100%|████████████████████████████████████████████████████████████████████████████████| 143/143 [00:02<00:00, 61.45it/s]\n"
     ]
    },
    {
     "name": "stdout",
     "output_type": "stream",
     "text": [
      "1.23935924001507\n",
      "Valid binary acc:  0.5314685314685315\n",
      "\n",
      "========== Train epoch 10 ==========\n"
     ]
    },
    {
     "name": "stderr",
     "output_type": "stream",
     "text": [
      "100%|████████████████████████████████████████████████████████████████████████████████| 719/719 [00:15<00:00, 47.78it/s]\n"
     ]
    },
    {
     "name": "stdout",
     "output_type": "stream",
     "text": [
      "1.273146160205979\n",
      "========== Evaluate Valid set ==========\n"
     ]
    },
    {
     "name": "stderr",
     "output_type": "stream",
     "text": [
      "100%|████████████████████████████████████████████████████████████████████████████████| 143/143 [00:02<00:00, 61.40it/s]\n"
     ]
    },
    {
     "name": "stdout",
     "output_type": "stream",
     "text": [
      "1.2534588539933824\n",
      "Valid binary acc:  0.5384615384615384\n",
      "\n",
      "========== Train epoch 11 ==========\n"
     ]
    },
    {
     "name": "stderr",
     "output_type": "stream",
     "text": [
      "100%|████████████████████████████████████████████████████████████████████████████████| 719/719 [00:15<00:00, 47.42it/s]\n"
     ]
    },
    {
     "name": "stdout",
     "output_type": "stream",
     "text": [
      "1.2641062656098845\n",
      "========== Evaluate Valid set ==========\n"
     ]
    },
    {
     "name": "stderr",
     "output_type": "stream",
     "text": [
      "100%|████████████████████████████████████████████████████████████████████████████████| 143/143 [00:02<00:00, 62.29it/s]\n"
     ]
    },
    {
     "name": "stdout",
     "output_type": "stream",
     "text": [
      "1.2193784162506356\n",
      "Valid binary acc:  0.5174825174825175\n",
      "\n",
      "========== Train epoch 12 ==========\n"
     ]
    },
    {
     "name": "stderr",
     "output_type": "stream",
     "text": [
      "100%|████████████████████████████████████████████████████████████████████████████████| 719/719 [00:15<00:00, 47.57it/s]\n"
     ]
    },
    {
     "name": "stdout",
     "output_type": "stream",
     "text": [
      "1.251007899849239\n",
      "========== Evaluate Valid set ==========\n"
     ]
    },
    {
     "name": "stderr",
     "output_type": "stream",
     "text": [
      "100%|████████████████████████████████████████████████████████████████████████████████| 143/143 [00:02<00:00, 61.98it/s]\n"
     ]
    },
    {
     "name": "stdout",
     "output_type": "stream",
     "text": [
      "1.2136065115878631\n",
      "Valid binary acc:  0.5384615384615384\n",
      "\n",
      "========== Train epoch 13 ==========\n"
     ]
    },
    {
     "name": "stderr",
     "output_type": "stream",
     "text": [
      "100%|████████████████████████████████████████████████████████████████████████████████| 719/719 [00:15<00:00, 47.89it/s]\n"
     ]
    },
    {
     "name": "stdout",
     "output_type": "stream",
     "text": [
      "1.2461078681766737\n",
      "========== Evaluate Valid set ==========\n"
     ]
    },
    {
     "name": "stderr",
     "output_type": "stream",
     "text": [
      "100%|████████████████████████████████████████████████████████████████████████████████| 143/143 [00:02<00:00, 60.30it/s]\n"
     ]
    },
    {
     "name": "stdout",
     "output_type": "stream",
     "text": [
      "1.1986740618110536\n",
      "Valid binary acc:  0.5384615384615384\n",
      "\n",
      "========== Train epoch 14 ==========\n"
     ]
    },
    {
     "name": "stderr",
     "output_type": "stream",
     "text": [
      "100%|████████████████████████████████████████████████████████████████████████████████| 719/719 [00:15<00:00, 47.59it/s]\n"
     ]
    },
    {
     "name": "stdout",
     "output_type": "stream",
     "text": [
      "1.2344387714985514\n",
      "========== Evaluate Valid set ==========\n"
     ]
    },
    {
     "name": "stderr",
     "output_type": "stream",
     "text": [
      "100%|████████████████████████████████████████████████████████████████████████████████| 143/143 [00:02<00:00, 60.41it/s]\n"
     ]
    },
    {
     "name": "stdout",
     "output_type": "stream",
     "text": [
      "1.2017761072912416\n",
      "Valid binary acc:  0.5524475524475524\n",
      "\n",
      "========== Train epoch 15 ==========\n"
     ]
    },
    {
     "name": "stderr",
     "output_type": "stream",
     "text": [
      "100%|████████████████████████████████████████████████████████████████████████████████| 719/719 [00:15<00:00, 47.12it/s]\n"
     ]
    },
    {
     "name": "stdout",
     "output_type": "stream",
     "text": [
      "1.2204753764916694\n",
      "========== Evaluate Valid set ==========\n"
     ]
    },
    {
     "name": "stderr",
     "output_type": "stream",
     "text": [
      "100%|████████████████████████████████████████████████████████████████████████████████| 143/143 [00:02<00:00, 59.80it/s]\n"
     ]
    },
    {
     "name": "stdout",
     "output_type": "stream",
     "text": [
      "1.197082628528555\n",
      "Valid binary acc:  0.5244755244755245\n",
      "\n",
      "========== Train epoch 16 ==========\n"
     ]
    },
    {
     "name": "stderr",
     "output_type": "stream",
     "text": [
      "100%|████████████████████████████████████████████████████████████████████████████████| 719/719 [00:15<00:00, 47.30it/s]\n"
     ]
    },
    {
     "name": "stdout",
     "output_type": "stream",
     "text": [
      "1.2160981412308605\n",
      "========== Evaluate Valid set ==========\n"
     ]
    },
    {
     "name": "stderr",
     "output_type": "stream",
     "text": [
      "100%|████████████████████████████████████████████████████████████████████████████████| 143/143 [00:02<00:00, 60.70it/s]\n"
     ]
    },
    {
     "name": "stdout",
     "output_type": "stream",
     "text": [
      "1.18644474061219\n",
      "Valid binary acc:  0.5384615384615384\n",
      "\n",
      "========== Train epoch 17 ==========\n"
     ]
    },
    {
     "name": "stderr",
     "output_type": "stream",
     "text": [
      "100%|████████████████████████████████████████████████████████████████████████████████| 719/719 [00:15<00:00, 47.36it/s]\n"
     ]
    },
    {
     "name": "stdout",
     "output_type": "stream",
     "text": [
      "1.211117426039695\n",
      "========== Evaluate Valid set ==========\n"
     ]
    },
    {
     "name": "stderr",
     "output_type": "stream",
     "text": [
      "100%|████████████████████████████████████████████████████████████████████████████████| 143/143 [00:02<00:00, 61.78it/s]\n"
     ]
    },
    {
     "name": "stdout",
     "output_type": "stream",
     "text": [
      "1.1751954262698447\n",
      "Valid binary acc:  0.5314685314685315\n",
      "\n",
      "========== Train epoch 18 ==========\n"
     ]
    },
    {
     "name": "stderr",
     "output_type": "stream",
     "text": [
      "100%|████████████████████████████████████████████████████████████████████████████████| 719/719 [00:15<00:00, 47.36it/s]\n"
     ]
    },
    {
     "name": "stdout",
     "output_type": "stream",
     "text": [
      "1.2034980908492179\n",
      "========== Evaluate Valid set ==========\n"
     ]
    },
    {
     "name": "stderr",
     "output_type": "stream",
     "text": [
      "100%|████████████████████████████████████████████████████████████████████████████████| 143/143 [00:02<00:00, 60.29it/s]\n"
     ]
    },
    {
     "name": "stdout",
     "output_type": "stream",
     "text": [
      "1.1795853594174752\n",
      "Valid binary acc:  0.5244755244755245\n",
      "\n",
      "========== Train epoch 19 ==========\n"
     ]
    },
    {
     "name": "stderr",
     "output_type": "stream",
     "text": [
      "100%|████████████████████████████████████████████████████████████████████████████████| 719/719 [00:15<00:00, 47.65it/s]\n"
     ]
    },
    {
     "name": "stdout",
     "output_type": "stream",
     "text": [
      "1.1934275101139749\n",
      "========== Evaluate Valid set ==========\n"
     ]
    },
    {
     "name": "stderr",
     "output_type": "stream",
     "text": [
      "100%|████████████████████████████████████████████████████████████████████████████████| 143/143 [00:02<00:00, 60.75it/s]\n"
     ]
    },
    {
     "name": "stdout",
     "output_type": "stream",
     "text": [
      "1.1704694023290714\n",
      "Valid binary acc:  0.5594405594405595\n",
      "\n",
      "========== Train epoch 20 ==========\n"
     ]
    },
    {
     "name": "stderr",
     "output_type": "stream",
     "text": [
      "100%|████████████████████████████████████████████████████████████████████████████████| 719/719 [00:15<00:00, 47.09it/s]\n"
     ]
    },
    {
     "name": "stdout",
     "output_type": "stream",
     "text": [
      "1.1842067090791852\n",
      "========== Evaluate Valid set ==========\n"
     ]
    },
    {
     "name": "stderr",
     "output_type": "stream",
     "text": [
      "100%|████████████████████████████████████████████████████████████████████████████████| 143/143 [00:02<00:00, 61.26it/s]\n"
     ]
    },
    {
     "name": "stdout",
     "output_type": "stream",
     "text": [
      "1.1858655357069068\n",
      "Valid binary acc:  0.5524475524475524\n",
      "\n",
      "========== Train epoch 21 ==========\n"
     ]
    },
    {
     "name": "stderr",
     "output_type": "stream",
     "text": [
      "100%|████████████████████████████████████████████████████████████████████████████████| 719/719 [00:14<00:00, 48.04it/s]\n"
     ]
    },
    {
     "name": "stdout",
     "output_type": "stream",
     "text": [
      "1.1819868124555148\n",
      "========== Evaluate Valid set ==========\n"
     ]
    },
    {
     "name": "stderr",
     "output_type": "stream",
     "text": [
      "100%|████████████████████████████████████████████████████████████████████████████████| 143/143 [00:02<00:00, 60.43it/s]\n"
     ]
    },
    {
     "name": "stdout",
     "output_type": "stream",
     "text": [
      "1.1553421780154423\n",
      "Valid binary acc:  0.5524475524475524\n",
      "\n",
      "========== Train epoch 22 ==========\n"
     ]
    },
    {
     "name": "stderr",
     "output_type": "stream",
     "text": [
      "100%|████████████████████████████████████████████████████████████████████████████████| 719/719 [00:15<00:00, 47.69it/s]\n"
     ]
    },
    {
     "name": "stdout",
     "output_type": "stream",
     "text": [
      "1.1747837573476394\n",
      "========== Evaluate Valid set ==========\n"
     ]
    },
    {
     "name": "stderr",
     "output_type": "stream",
     "text": [
      "100%|████████████████████████████████████████████████████████████████████████████████| 143/143 [00:02<00:00, 62.41it/s]\n"
     ]
    },
    {
     "name": "stdout",
     "output_type": "stream",
     "text": [
      "1.1521997759183804\n",
      "Valid binary acc:  0.5384615384615384\n",
      "\n",
      "========== Train epoch 23 ==========\n"
     ]
    },
    {
     "name": "stderr",
     "output_type": "stream",
     "text": [
      "100%|████████████████████████████████████████████████████████████████████████████████| 719/719 [00:15<00:00, 47.67it/s]\n"
     ]
    },
    {
     "name": "stdout",
     "output_type": "stream",
     "text": [
      "1.1646549384082474\n",
      "========== Evaluate Valid set ==========\n"
     ]
    },
    {
     "name": "stderr",
     "output_type": "stream",
     "text": [
      "100%|████████████████████████████████████████████████████████████████████████████████| 143/143 [00:02<00:00, 59.92it/s]\n"
     ]
    },
    {
     "name": "stdout",
     "output_type": "stream",
     "text": [
      "1.1671783074840798\n",
      "Valid binary acc:  0.5734265734265734\n",
      "\n",
      "========== Train epoch 24 ==========\n"
     ]
    },
    {
     "name": "stderr",
     "output_type": "stream",
     "text": [
      "100%|████████████████████████████████████████████████████████████████████████████████| 719/719 [00:14<00:00, 48.20it/s]\n"
     ]
    },
    {
     "name": "stdout",
     "output_type": "stream",
     "text": [
      "1.1586145533557064\n",
      "========== Evaluate Valid set ==========\n"
     ]
    },
    {
     "name": "stderr",
     "output_type": "stream",
     "text": [
      "100%|████████████████████████████████████████████████████████████████████████████████| 143/143 [00:02<00:00, 62.28it/s]\n"
     ]
    },
    {
     "name": "stdout",
     "output_type": "stream",
     "text": [
      "1.1604895061337865\n",
      "Valid binary acc:  0.5594405594405595\n",
      "\n",
      "========== Train epoch 25 ==========\n"
     ]
    },
    {
     "name": "stderr",
     "output_type": "stream",
     "text": [
      "100%|████████████████████████████████████████████████████████████████████████████████| 719/719 [00:15<00:00, 47.84it/s]\n"
     ]
    },
    {
     "name": "stdout",
     "output_type": "stream",
     "text": [
      "1.1489857063111908\n",
      "========== Evaluate Valid set ==========\n"
     ]
    },
    {
     "name": "stderr",
     "output_type": "stream",
     "text": [
      "100%|████████████████████████████████████████████████████████████████████████████████| 143/143 [00:02<00:00, 60.90it/s]\n"
     ]
    },
    {
     "name": "stdout",
     "output_type": "stream",
     "text": [
      "1.1478118261882475\n",
      "Valid binary acc:  0.5664335664335665\n",
      "\n",
      "========== Train epoch 26 ==========\n"
     ]
    },
    {
     "name": "stderr",
     "output_type": "stream",
     "text": [
      "100%|████████████████████████████████████████████████████████████████████████████████| 719/719 [00:14<00:00, 48.21it/s]\n"
     ]
    },
    {
     "name": "stdout",
     "output_type": "stream",
     "text": [
      "1.141809190181764\n",
      "========== Evaluate Valid set ==========\n"
     ]
    },
    {
     "name": "stderr",
     "output_type": "stream",
     "text": [
      "100%|████████████████████████████████████████████████████████████████████████████████| 143/143 [00:02<00:00, 61.52it/s]\n"
     ]
    },
    {
     "name": "stdout",
     "output_type": "stream",
     "text": [
      "1.127923391186274\n",
      "Valid binary acc:  0.5524475524475524\n",
      "\n",
      "========== Train epoch 27 ==========\n"
     ]
    },
    {
     "name": "stderr",
     "output_type": "stream",
     "text": [
      "100%|████████████████████████████████████████████████████████████████████████████████| 719/719 [00:15<00:00, 47.04it/s]\n"
     ]
    },
    {
     "name": "stdout",
     "output_type": "stream",
     "text": [
      "1.1335104242412786\n",
      "========== Evaluate Valid set ==========\n"
     ]
    },
    {
     "name": "stderr",
     "output_type": "stream",
     "text": [
      "100%|████████████████████████████████████████████████████████████████████████████████| 143/143 [00:02<00:00, 61.82it/s]\n"
     ]
    },
    {
     "name": "stdout",
     "output_type": "stream",
     "text": [
      "1.128923739169861\n",
      "Valid binary acc:  0.5594405594405595\n",
      "\n",
      "========== Train epoch 28 ==========\n"
     ]
    },
    {
     "name": "stderr",
     "output_type": "stream",
     "text": [
      "100%|████████████████████████████████████████████████████████████████████████████████| 719/719 [00:14<00:00, 48.14it/s]\n"
     ]
    },
    {
     "name": "stdout",
     "output_type": "stream",
     "text": [
      "1.1264231467570316\n",
      "========== Evaluate Valid set ==========\n"
     ]
    },
    {
     "name": "stderr",
     "output_type": "stream",
     "text": [
      "100%|████████████████████████████████████████████████████████████████████████████████| 143/143 [00:02<00:00, 62.79it/s]\n"
     ]
    },
    {
     "name": "stdout",
     "output_type": "stream",
     "text": [
      "1.117317456465501\n",
      "Valid binary acc:  0.5594405594405595\n",
      "\n",
      "========== Train epoch 29 ==========\n"
     ]
    },
    {
     "name": "stderr",
     "output_type": "stream",
     "text": [
      "100%|████████████████████████████████████████████████████████████████████████████████| 719/719 [00:15<00:00, 47.81it/s]\n"
     ]
    },
    {
     "name": "stdout",
     "output_type": "stream",
     "text": [
      "1.1157740064908301\n",
      "========== Evaluate Valid set ==========\n"
     ]
    },
    {
     "name": "stderr",
     "output_type": "stream",
     "text": [
      "100%|████████████████████████████████████████████████████████████████████████████████| 143/143 [00:02<00:00, 61.31it/s]\n"
     ]
    },
    {
     "name": "stdout",
     "output_type": "stream",
     "text": [
      "1.1168466639685464\n",
      "Valid binary acc:  0.5804195804195804\n",
      "\n",
      "========== Train epoch 30 ==========\n"
     ]
    },
    {
     "name": "stderr",
     "output_type": "stream",
     "text": [
      "100%|████████████████████████████████████████████████████████████████████████████████| 719/719 [00:14<00:00, 47.99it/s]\n"
     ]
    },
    {
     "name": "stdout",
     "output_type": "stream",
     "text": [
      "1.108183798490297\n",
      "========== Evaluate Valid set ==========\n"
     ]
    },
    {
     "name": "stderr",
     "output_type": "stream",
     "text": [
      "100%|████████████████████████████████████████████████████████████████████████████████| 143/143 [00:02<00:00, 61.83it/s]\n"
     ]
    },
    {
     "name": "stdout",
     "output_type": "stream",
     "text": [
      "1.105217983568465\n",
      "Valid binary acc:  0.5594405594405595\n",
      "\n",
      "========== Train epoch 31 ==========\n"
     ]
    },
    {
     "name": "stderr",
     "output_type": "stream",
     "text": [
      "100%|████████████████████████████████████████████████████████████████████████████████| 719/719 [00:14<00:00, 48.15it/s]\n"
     ]
    },
    {
     "name": "stdout",
     "output_type": "stream",
     "text": [
      "1.10600496918191\n",
      "========== Evaluate Valid set ==========\n"
     ]
    },
    {
     "name": "stderr",
     "output_type": "stream",
     "text": [
      "100%|████████████████████████████████████████████████████████████████████████████████| 143/143 [00:02<00:00, 60.87it/s]\n"
     ]
    },
    {
     "name": "stdout",
     "output_type": "stream",
     "text": [
      "1.0984801746435933\n",
      "Valid binary acc:  0.5944055944055944\n",
      "\n",
      "========== Train epoch 32 ==========\n"
     ]
    },
    {
     "name": "stderr",
     "output_type": "stream",
     "text": [
      "100%|████████████████████████████████████████████████████████████████████████████████| 719/719 [00:14<00:00, 48.12it/s]\n"
     ]
    },
    {
     "name": "stdout",
     "output_type": "stream",
     "text": [
      "1.095455051307801\n",
      "========== Evaluate Valid set ==========\n"
     ]
    },
    {
     "name": "stderr",
     "output_type": "stream",
     "text": [
      "100%|████████████████████████████████████████████████████████████████████████████████| 143/143 [00:02<00:00, 60.90it/s]\n"
     ]
    },
    {
     "name": "stdout",
     "output_type": "stream",
     "text": [
      "1.094476092450477\n",
      "Valid binary acc:  0.5664335664335665\n",
      "\n",
      "========== Train epoch 33 ==========\n"
     ]
    },
    {
     "name": "stderr",
     "output_type": "stream",
     "text": [
      "100%|████████████████████████████████████████████████████████████████████████████████| 719/719 [00:14<00:00, 48.49it/s]\n"
     ]
    },
    {
     "name": "stdout",
     "output_type": "stream",
     "text": [
      "1.083562802409388\n",
      "========== Evaluate Valid set ==========\n"
     ]
    },
    {
     "name": "stderr",
     "output_type": "stream",
     "text": [
      "100%|████████████████████████████████████████████████████████████████████████████████| 143/143 [00:02<00:00, 62.73it/s]\n"
     ]
    },
    {
     "name": "stdout",
     "output_type": "stream",
     "text": [
      "1.0958875145737108\n",
      "Valid binary acc:  0.6013986013986014\n",
      "\n",
      "========== Train epoch 34 ==========\n"
     ]
    },
    {
     "name": "stderr",
     "output_type": "stream",
     "text": [
      "100%|████████████████████████████████████████████████████████████████████████████████| 719/719 [00:14<00:00, 48.06it/s]\n"
     ]
    },
    {
     "name": "stdout",
     "output_type": "stream",
     "text": [
      "1.076877310550843\n",
      "========== Evaluate Valid set ==========\n"
     ]
    },
    {
     "name": "stderr",
     "output_type": "stream",
     "text": [
      "100%|████████████████████████████████████████████████████████████████████████████████| 143/143 [00:02<00:00, 60.83it/s]\n"
     ]
    },
    {
     "name": "stdout",
     "output_type": "stream",
     "text": [
      "1.0767495382603232\n",
      "Valid binary acc:  0.5804195804195804\n",
      "\n",
      "========== Train epoch 35 ==========\n"
     ]
    },
    {
     "name": "stderr",
     "output_type": "stream",
     "text": [
      "100%|████████████████████████████████████████████████████████████████████████████████| 719/719 [00:15<00:00, 47.12it/s]\n"
     ]
    },
    {
     "name": "stdout",
     "output_type": "stream",
     "text": [
      "1.0709140807783986\n",
      "========== Evaluate Valid set ==========\n"
     ]
    },
    {
     "name": "stderr",
     "output_type": "stream",
     "text": [
      "100%|████████████████████████████████████████████████████████████████████████████████| 143/143 [00:02<00:00, 59.14it/s]\n"
     ]
    },
    {
     "name": "stdout",
     "output_type": "stream",
     "text": [
      "1.0741878776075122\n",
      "Valid binary acc:  0.6223776223776224\n",
      "\n",
      "========== Train epoch 36 ==========\n"
     ]
    },
    {
     "name": "stderr",
     "output_type": "stream",
     "text": [
      "100%|████████████████████████████████████████████████████████████████████████████████| 719/719 [00:17<00:00, 40.14it/s]\n"
     ]
    },
    {
     "name": "stdout",
     "output_type": "stream",
     "text": [
      "1.0590132238169787\n",
      "========== Evaluate Valid set ==========\n"
     ]
    },
    {
     "name": "stderr",
     "output_type": "stream",
     "text": [
      "100%|████████████████████████████████████████████████████████████████████████████████| 143/143 [00:02<00:00, 61.60it/s]\n"
     ]
    },
    {
     "name": "stdout",
     "output_type": "stream",
     "text": [
      "1.0615301311432899\n",
      "Valid binary acc:  0.5734265734265734\n",
      "\n",
      "========== Train epoch 37 ==========\n"
     ]
    },
    {
     "name": "stderr",
     "output_type": "stream",
     "text": [
      "100%|████████████████████████████████████████████████████████████████████████████████| 719/719 [00:15<00:00, 47.70it/s]\n"
     ]
    },
    {
     "name": "stdout",
     "output_type": "stream",
     "text": [
      "1.0511928549935323\n",
      "========== Evaluate Valid set ==========\n"
     ]
    },
    {
     "name": "stderr",
     "output_type": "stream",
     "text": [
      "100%|████████████████████████████████████████████████████████████████████████████████| 143/143 [00:02<00:00, 60.76it/s]\n"
     ]
    },
    {
     "name": "stdout",
     "output_type": "stream",
     "text": [
      "1.059021136795099\n",
      "Valid binary acc:  0.6013986013986014\n",
      "\n",
      "========== Train epoch 38 ==========\n"
     ]
    },
    {
     "name": "stderr",
     "output_type": "stream",
     "text": [
      "100%|████████████████████████████████████████████████████████████████████████████████| 719/719 [00:15<00:00, 47.31it/s]\n"
     ]
    },
    {
     "name": "stdout",
     "output_type": "stream",
     "text": [
      "1.0435100378564486\n",
      "========== Evaluate Valid set ==========\n"
     ]
    },
    {
     "name": "stderr",
     "output_type": "stream",
     "text": [
      "100%|████████████████████████████████████████████████████████████████████████████████| 143/143 [00:02<00:00, 61.45it/s]\n"
     ]
    },
    {
     "name": "stdout",
     "output_type": "stream",
     "text": [
      "1.044828318684668\n",
      "Valid binary acc:  0.6083916083916084\n",
      "\n",
      "========== Train epoch 39 ==========\n"
     ]
    },
    {
     "name": "stderr",
     "output_type": "stream",
     "text": [
      "100%|████████████████████████████████████████████████████████████████████████████████| 719/719 [00:15<00:00, 47.27it/s]\n"
     ]
    },
    {
     "name": "stdout",
     "output_type": "stream",
     "text": [
      "1.0413103240007153\n",
      "========== Evaluate Valid set ==========\n"
     ]
    },
    {
     "name": "stderr",
     "output_type": "stream",
     "text": [
      "100%|████████████████████████████████████████████████████████████████████████████████| 143/143 [00:02<00:00, 59.86it/s]\n"
     ]
    },
    {
     "name": "stdout",
     "output_type": "stream",
     "text": [
      "1.0367040671668686\n",
      "Valid binary acc:  0.6083916083916084\n",
      "\n",
      "========== Train epoch 40 ==========\n"
     ]
    },
    {
     "name": "stderr",
     "output_type": "stream",
     "text": [
      "100%|████████████████████████████████████████████████████████████████████████████████| 719/719 [00:15<00:00, 47.90it/s]\n"
     ]
    },
    {
     "name": "stdout",
     "output_type": "stream",
     "text": [
      "1.0245732250306057\n",
      "========== Evaluate Valid set ==========\n"
     ]
    },
    {
     "name": "stderr",
     "output_type": "stream",
     "text": [
      "100%|████████████████████████████████████████████████████████████████████████████████| 143/143 [00:02<00:00, 61.90it/s]\n"
     ]
    },
    {
     "name": "stdout",
     "output_type": "stream",
     "text": [
      "1.027953685059414\n",
      "Valid binary acc:  0.5874125874125874\n",
      "\n",
      "========== Train epoch 41 ==========\n"
     ]
    },
    {
     "name": "stderr",
     "output_type": "stream",
     "text": [
      "100%|████████████████████████████████████████████████████████████████████████████████| 719/719 [00:14<00:00, 48.07it/s]\n"
     ]
    },
    {
     "name": "stdout",
     "output_type": "stream",
     "text": [
      "1.0191946475506244\n",
      "========== Evaluate Valid set ==========\n"
     ]
    },
    {
     "name": "stderr",
     "output_type": "stream",
     "text": [
      "100%|████████████████████████████████████████████████████████████████████████████████| 143/143 [00:02<00:00, 60.84it/s]\n"
     ]
    },
    {
     "name": "stdout",
     "output_type": "stream",
     "text": [
      "1.0162155105621664\n",
      "Valid binary acc:  0.6293706293706294\n",
      "\n",
      "========== Train epoch 42 ==========\n"
     ]
    },
    {
     "name": "stderr",
     "output_type": "stream",
     "text": [
      "100%|████████████████████████████████████████████████████████████████████████████████| 719/719 [00:15<00:00, 47.67it/s]\n"
     ]
    },
    {
     "name": "stdout",
     "output_type": "stream",
     "text": [
      "1.0094495359315991\n",
      "========== Evaluate Valid set ==========\n"
     ]
    },
    {
     "name": "stderr",
     "output_type": "stream",
     "text": [
      "100%|████████████████████████████████████████████████████████████████████████████████| 143/143 [00:02<00:00, 61.63it/s]\n"
     ]
    },
    {
     "name": "stdout",
     "output_type": "stream",
     "text": [
      "1.0107315922533715\n",
      "Valid binary acc:  0.6223776223776224\n",
      "\n",
      "========== Train epoch 43 ==========\n"
     ]
    },
    {
     "name": "stderr",
     "output_type": "stream",
     "text": [
      "100%|████████████████████████████████████████████████████████████████████████████████| 719/719 [00:15<00:00, 47.87it/s]\n"
     ]
    },
    {
     "name": "stdout",
     "output_type": "stream",
     "text": [
      "0.9952540302931516\n",
      "========== Evaluate Valid set ==========\n"
     ]
    },
    {
     "name": "stderr",
     "output_type": "stream",
     "text": [
      "100%|████████████████████████████████████████████████████████████████████████████████| 143/143 [00:02<00:00, 56.84it/s]\n"
     ]
    },
    {
     "name": "stdout",
     "output_type": "stream",
     "text": [
      "1.0188899208250997\n",
      "Valid binary acc:  0.6573426573426573\n",
      "\n",
      "========== Train epoch 44 ==========\n"
     ]
    },
    {
     "name": "stderr",
     "output_type": "stream",
     "text": [
      "100%|████████████████████████████████████████████████████████████████████████████████| 719/719 [00:15<00:00, 47.14it/s]\n"
     ]
    },
    {
     "name": "stdout",
     "output_type": "stream",
     "text": [
      "0.988899853940592\n",
      "========== Evaluate Valid set ==========\n"
     ]
    },
    {
     "name": "stderr",
     "output_type": "stream",
     "text": [
      "100%|████████████████████████████████████████████████████████████████████████████████| 143/143 [00:02<00:00, 60.99it/s]\n"
     ]
    },
    {
     "name": "stdout",
     "output_type": "stream",
     "text": [
      "0.9826818416220742\n",
      "Valid binary acc:  0.6083916083916084\n",
      "\n",
      "========== Train epoch 45 ==========\n"
     ]
    },
    {
     "name": "stderr",
     "output_type": "stream",
     "text": [
      "100%|████████████████████████████████████████████████████████████████████████████████| 719/719 [00:15<00:00, 47.69it/s]\n"
     ]
    },
    {
     "name": "stdout",
     "output_type": "stream",
     "text": [
      "0.9766220553766454\n",
      "========== Evaluate Valid set ==========\n"
     ]
    },
    {
     "name": "stderr",
     "output_type": "stream",
     "text": [
      "100%|████████████████████████████████████████████████████████████████████████████████| 143/143 [00:02<00:00, 60.68it/s]\n"
     ]
    },
    {
     "name": "stdout",
     "output_type": "stream",
     "text": [
      "0.9685849881359747\n",
      "Valid binary acc:  0.6433566433566433\n",
      "\n",
      "========== Train epoch 46 ==========\n"
     ]
    },
    {
     "name": "stderr",
     "output_type": "stream",
     "text": [
      "100%|████████████████████████████████████████████████████████████████████████████████| 719/719 [00:15<00:00, 47.64it/s]\n"
     ]
    },
    {
     "name": "stdout",
     "output_type": "stream",
     "text": [
      "0.9664863499531701\n",
      "========== Evaluate Valid set ==========\n"
     ]
    },
    {
     "name": "stderr",
     "output_type": "stream",
     "text": [
      "100%|████████████████████████████████████████████████████████████████████████████████| 143/143 [00:02<00:00, 62.30it/s]\n"
     ]
    },
    {
     "name": "stdout",
     "output_type": "stream",
     "text": [
      "0.9714705195356083\n",
      "Valid binary acc:  0.6713286713286714\n",
      "\n",
      "========== Train epoch 47 ==========\n"
     ]
    },
    {
     "name": "stderr",
     "output_type": "stream",
     "text": [
      "100%|████████████████████████████████████████████████████████████████████████████████| 719/719 [00:15<00:00, 47.58it/s]\n"
     ]
    },
    {
     "name": "stdout",
     "output_type": "stream",
     "text": [
      "0.9566667400072529\n",
      "========== Evaluate Valid set ==========\n"
     ]
    },
    {
     "name": "stderr",
     "output_type": "stream",
     "text": [
      "100%|████████████████████████████████████████████████████████████████████████████████| 143/143 [00:02<00:00, 59.45it/s]\n"
     ]
    },
    {
     "name": "stdout",
     "output_type": "stream",
     "text": [
      "0.9585746473313629\n",
      "Valid binary acc:  0.6713286713286714\n",
      "\n",
      "========== Train epoch 48 ==========\n"
     ]
    },
    {
     "name": "stderr",
     "output_type": "stream",
     "text": [
      "100%|████████████████████████████████████████████████████████████████████████████████| 719/719 [00:15<00:00, 47.43it/s]\n"
     ]
    },
    {
     "name": "stdout",
     "output_type": "stream",
     "text": [
      "0.942912261850189\n",
      "========== Evaluate Valid set ==========\n"
     ]
    },
    {
     "name": "stderr",
     "output_type": "stream",
     "text": [
      "100%|████████████████████████████████████████████████████████████████████████████████| 143/143 [00:02<00:00, 60.94it/s]\n"
     ]
    },
    {
     "name": "stdout",
     "output_type": "stream",
     "text": [
      "0.9351929997751763\n",
      "Valid binary acc:  0.6643356643356644\n",
      "\n",
      "========== Train epoch 49 ==========\n"
     ]
    },
    {
     "name": "stderr",
     "output_type": "stream",
     "text": [
      "100%|████████████████████████████████████████████████████████████████████████████████| 719/719 [00:15<00:00, 45.67it/s]\n"
     ]
    },
    {
     "name": "stdout",
     "output_type": "stream",
     "text": [
      "0.9341577618941147\n",
      "========== Evaluate Valid set ==========\n"
     ]
    },
    {
     "name": "stderr",
     "output_type": "stream",
     "text": [
      "100%|████████████████████████████████████████████████████████████████████████████████| 143/143 [00:02<00:00, 52.88it/s]\n"
     ]
    },
    {
     "name": "stdout",
     "output_type": "stream",
     "text": [
      "0.9214982418538807\n",
      "Valid binary acc:  0.6643356643356644\n",
      "\n",
      "========== Train epoch 50 ==========\n"
     ]
    },
    {
     "name": "stderr",
     "output_type": "stream",
     "text": [
      "100%|████████████████████████████████████████████████████████████████████████████████| 719/719 [00:15<00:00, 45.40it/s]\n"
     ]
    },
    {
     "name": "stdout",
     "output_type": "stream",
     "text": [
      "0.9192615690847058\n",
      "========== Evaluate Valid set ==========\n"
     ]
    },
    {
     "name": "stderr",
     "output_type": "stream",
     "text": [
      "100%|████████████████████████████████████████████████████████████████████████████████| 143/143 [00:02<00:00, 60.57it/s]\n"
     ]
    },
    {
     "name": "stdout",
     "output_type": "stream",
     "text": [
      "0.9205328878666554\n",
      "Valid binary acc:  0.6573426573426573\n",
      "\n",
      "========== Train epoch 51 ==========\n"
     ]
    },
    {
     "name": "stderr",
     "output_type": "stream",
     "text": [
      "100%|████████████████████████████████████████████████████████████████████████████████| 719/719 [00:15<00:00, 47.04it/s]\n"
     ]
    },
    {
     "name": "stdout",
     "output_type": "stream",
     "text": [
      "0.9131992943818074\n",
      "========== Evaluate Valid set ==========\n"
     ]
    },
    {
     "name": "stderr",
     "output_type": "stream",
     "text": [
      "100%|████████████████████████████████████████████████████████████████████████████████| 143/143 [00:02<00:00, 63.22it/s]\n"
     ]
    },
    {
     "name": "stdout",
     "output_type": "stream",
     "text": [
      "0.8992379113276313\n",
      "Valid binary acc:  0.6853146853146853\n",
      "\n",
      "========== Train epoch 52 ==========\n"
     ]
    },
    {
     "name": "stderr",
     "output_type": "stream",
     "text": [
      "100%|████████████████████████████████████████████████████████████████████████████████| 719/719 [00:14<00:00, 48.59it/s]\n"
     ]
    },
    {
     "name": "stdout",
     "output_type": "stream",
     "text": [
      "0.9001000124173594\n",
      "========== Evaluate Valid set ==========\n"
     ]
    },
    {
     "name": "stderr",
     "output_type": "stream",
     "text": [
      "100%|████████████████████████████████████████████████████████████████████████████████| 143/143 [00:02<00:00, 62.32it/s]\n"
     ]
    },
    {
     "name": "stdout",
     "output_type": "stream",
     "text": [
      "0.8699073643534334\n",
      "Valid binary acc:  0.7132867132867133\n",
      "\n",
      "========== Train epoch 53 ==========\n"
     ]
    },
    {
     "name": "stderr",
     "output_type": "stream",
     "text": [
      "100%|████████████████████████████████████████████████████████████████████████████████| 719/719 [00:15<00:00, 47.19it/s]\n"
     ]
    },
    {
     "name": "stdout",
     "output_type": "stream",
     "text": [
      "0.8832363538490673\n",
      "========== Evaluate Valid set ==========\n"
     ]
    },
    {
     "name": "stderr",
     "output_type": "stream",
     "text": [
      "100%|████████████████████████████████████████████████████████████████████████████████| 143/143 [00:02<00:00, 60.54it/s]\n"
     ]
    },
    {
     "name": "stdout",
     "output_type": "stream",
     "text": [
      "0.8831724859513603\n",
      "Valid binary acc:  0.6853146853146853\n",
      "\n",
      "========== Train epoch 54 ==========\n"
     ]
    },
    {
     "name": "stderr",
     "output_type": "stream",
     "text": [
      "100%|████████████████████████████████████████████████████████████████████████████████| 719/719 [00:14<00:00, 50.56it/s]\n"
     ]
    },
    {
     "name": "stdout",
     "output_type": "stream",
     "text": [
      "0.876519994846492\n",
      "========== Evaluate Valid set ==========\n"
     ]
    },
    {
     "name": "stderr",
     "output_type": "stream",
     "text": [
      "100%|████████████████████████████████████████████████████████████████████████████████| 143/143 [00:02<00:00, 69.41it/s]\n"
     ]
    },
    {
     "name": "stdout",
     "output_type": "stream",
     "text": [
      "0.8395764432144124\n",
      "Valid binary acc:  0.7132867132867133\n",
      "\n",
      "========== Train epoch 55 ==========\n"
     ]
    },
    {
     "name": "stderr",
     "output_type": "stream",
     "text": [
      "100%|████████████████████████████████████████████████████████████████████████████████| 719/719 [00:13<00:00, 52.95it/s]\n"
     ]
    },
    {
     "name": "stdout",
     "output_type": "stream",
     "text": [
      "0.8662554489756948\n",
      "========== Evaluate Valid set ==========\n"
     ]
    },
    {
     "name": "stderr",
     "output_type": "stream",
     "text": [
      "100%|████████████████████████████████████████████████████████████████████████████████| 143/143 [00:02<00:00, 69.33it/s]\n"
     ]
    },
    {
     "name": "stdout",
     "output_type": "stream",
     "text": [
      "0.8249537368285489\n",
      "Valid binary acc:  0.7062937062937062\n",
      "\n",
      "========== Train epoch 56 ==========\n"
     ]
    },
    {
     "name": "stderr",
     "output_type": "stream",
     "text": [
      "100%|████████████████████████████████████████████████████████████████████████████████| 719/719 [00:14<00:00, 49.91it/s]\n"
     ]
    },
    {
     "name": "stdout",
     "output_type": "stream",
     "text": [
      "0.8486530175056926\n",
      "========== Evaluate Valid set ==========\n"
     ]
    },
    {
     "name": "stderr",
     "output_type": "stream",
     "text": [
      "100%|████████████████████████████████████████████████████████████████████████████████| 143/143 [00:02<00:00, 58.76it/s]\n"
     ]
    },
    {
     "name": "stdout",
     "output_type": "stream",
     "text": [
      "0.8289293435669237\n",
      "Valid binary acc:  0.6923076923076923\n",
      "\n",
      "========== Train epoch 57 ==========\n"
     ]
    },
    {
     "name": "stderr",
     "output_type": "stream",
     "text": [
      "100%|████████████████████████████████████████████████████████████████████████████████| 719/719 [00:14<00:00, 47.99it/s]\n"
     ]
    },
    {
     "name": "stdout",
     "output_type": "stream",
     "text": [
      "0.8399776281136113\n",
      "========== Evaluate Valid set ==========\n"
     ]
    },
    {
     "name": "stderr",
     "output_type": "stream",
     "text": [
      "100%|████████████████████████████████████████████████████████████████████████████████| 143/143 [00:02<00:00, 62.04it/s]\n"
     ]
    },
    {
     "name": "stdout",
     "output_type": "stream",
     "text": [
      "0.7979235799162538\n",
      "Valid binary acc:  0.7272727272727273\n",
      "\n",
      "========== Train epoch 58 ==========\n"
     ]
    },
    {
     "name": "stderr",
     "output_type": "stream",
     "text": [
      "100%|████████████████████████████████████████████████████████████████████████████████| 719/719 [00:14<00:00, 48.14it/s]\n"
     ]
    },
    {
     "name": "stdout",
     "output_type": "stream",
     "text": [
      "0.8299360313855619\n",
      "========== Evaluate Valid set ==========\n"
     ]
    },
    {
     "name": "stderr",
     "output_type": "stream",
     "text": [
      "100%|████████████████████████████████████████████████████████████████████████████████| 143/143 [00:02<00:00, 61.71it/s]\n"
     ]
    },
    {
     "name": "stdout",
     "output_type": "stream",
     "text": [
      "0.7905827528972934\n",
      "Valid binary acc:  0.7342657342657343\n",
      "\n",
      "========== Train epoch 59 ==========\n"
     ]
    },
    {
     "name": "stderr",
     "output_type": "stream",
     "text": [
      "100%|████████████████████████████████████████████████████████████████████████████████| 719/719 [00:14<00:00, 48.61it/s]\n"
     ]
    },
    {
     "name": "stdout",
     "output_type": "stream",
     "text": [
      "0.8131010709861514\n",
      "========== Evaluate Valid set ==========\n"
     ]
    },
    {
     "name": "stderr",
     "output_type": "stream",
     "text": [
      "100%|████████████████████████████████████████████████████████████████████████████████| 143/143 [00:02<00:00, 62.09it/s]\n"
     ]
    },
    {
     "name": "stdout",
     "output_type": "stream",
     "text": [
      "0.7772667851246946\n",
      "Valid binary acc:  0.7342657342657343\n",
      "\n",
      "========== Train epoch 60 ==========\n"
     ]
    },
    {
     "name": "stderr",
     "output_type": "stream",
     "text": [
      "100%|████████████████████████████████████████████████████████████████████████████████| 719/719 [00:14<00:00, 48.29it/s]\n"
     ]
    },
    {
     "name": "stdout",
     "output_type": "stream",
     "text": [
      "0.8028683628477622\n",
      "========== Evaluate Valid set ==========\n"
     ]
    },
    {
     "name": "stderr",
     "output_type": "stream",
     "text": [
      "100%|████████████████████████████████████████████████████████████████████████████████| 143/143 [00:02<00:00, 63.12it/s]\n"
     ]
    },
    {
     "name": "stdout",
     "output_type": "stream",
     "text": [
      "0.7589507759320777\n",
      "Valid binary acc:  0.7342657342657343\n",
      "\n",
      "========== Train epoch 61 ==========\n"
     ]
    },
    {
     "name": "stderr",
     "output_type": "stream",
     "text": [
      "100%|████████████████████████████████████████████████████████████████████████████████| 719/719 [00:15<00:00, 47.63it/s]\n"
     ]
    },
    {
     "name": "stdout",
     "output_type": "stream",
     "text": [
      "0.7823703405414921\n",
      "========== Evaluate Valid set ==========\n"
     ]
    },
    {
     "name": "stderr",
     "output_type": "stream",
     "text": [
      "100%|████████████████████████████████████████████████████████████████████████████████| 143/143 [00:02<00:00, 63.16it/s]\n"
     ]
    },
    {
     "name": "stdout",
     "output_type": "stream",
     "text": [
      "0.7617322226035428\n",
      "Valid binary acc:  0.7482517482517482\n",
      "\n",
      "========== Train epoch 62 ==========\n"
     ]
    },
    {
     "name": "stderr",
     "output_type": "stream",
     "text": [
      "100%|████████████████████████████████████████████████████████████████████████████████| 719/719 [00:14<00:00, 48.38it/s]\n"
     ]
    },
    {
     "name": "stdout",
     "output_type": "stream",
     "text": [
      "0.7762142010836218\n",
      "========== Evaluate Valid set ==========\n"
     ]
    },
    {
     "name": "stderr",
     "output_type": "stream",
     "text": [
      "100%|████████████████████████████████████████████████████████████████████████████████| 143/143 [00:02<00:00, 58.29it/s]\n"
     ]
    },
    {
     "name": "stdout",
     "output_type": "stream",
     "text": [
      "0.7497558411588514\n",
      "Valid binary acc:  0.7412587412587412\n",
      "\n",
      "========== Train epoch 63 ==========\n"
     ]
    },
    {
     "name": "stderr",
     "output_type": "stream",
     "text": [
      "100%|████████████████████████████████████████████████████████████████████████████████| 719/719 [00:15<00:00, 46.49it/s]\n"
     ]
    },
    {
     "name": "stdout",
     "output_type": "stream",
     "text": [
      "0.761408128744569\n",
      "========== Evaluate Valid set ==========\n"
     ]
    },
    {
     "name": "stderr",
     "output_type": "stream",
     "text": [
      "100%|████████████████████████████████████████████████████████████████████████████████| 143/143 [00:02<00:00, 64.65it/s]\n"
     ]
    },
    {
     "name": "stdout",
     "output_type": "stream",
     "text": [
      "0.7254019211586955\n",
      "Valid binary acc:  0.7552447552447552\n",
      "\n",
      "========== Train epoch 64 ==========\n"
     ]
    },
    {
     "name": "stderr",
     "output_type": "stream",
     "text": [
      "100%|████████████████████████████████████████████████████████████████████████████████| 719/719 [00:14<00:00, 48.63it/s]\n"
     ]
    },
    {
     "name": "stdout",
     "output_type": "stream",
     "text": [
      "0.7477365094224077\n",
      "========== Evaluate Valid set ==========\n"
     ]
    },
    {
     "name": "stderr",
     "output_type": "stream",
     "text": [
      "100%|████████████████████████████████████████████████████████████████████████████████| 143/143 [00:02<00:00, 65.92it/s]\n"
     ]
    },
    {
     "name": "stdout",
     "output_type": "stream",
     "text": [
      "0.7043187088183277\n",
      "Valid binary acc:  0.7622377622377622\n",
      "\n",
      "========== Train epoch 65 ==========\n"
     ]
    },
    {
     "name": "stderr",
     "output_type": "stream",
     "text": [
      "100%|████████████████████████████████████████████████████████████████████████████████| 719/719 [00:14<00:00, 50.74it/s]\n"
     ]
    },
    {
     "name": "stdout",
     "output_type": "stream",
     "text": [
      "0.7289680673233045\n",
      "========== Evaluate Valid set ==========\n"
     ]
    },
    {
     "name": "stderr",
     "output_type": "stream",
     "text": [
      "100%|████████████████████████████████████████████████████████████████████████████████| 143/143 [00:02<00:00, 66.27it/s]\n"
     ]
    },
    {
     "name": "stdout",
     "output_type": "stream",
     "text": [
      "0.6900412793160526\n",
      "Valid binary acc:  0.7692307692307693\n",
      "\n",
      "========== Train epoch 66 ==========\n"
     ]
    },
    {
     "name": "stderr",
     "output_type": "stream",
     "text": [
      "100%|████████████████████████████████████████████████████████████████████████████████| 719/719 [00:14<00:00, 49.43it/s]\n"
     ]
    },
    {
     "name": "stdout",
     "output_type": "stream",
     "text": [
      "0.7152378944516886\n",
      "========== Evaluate Valid set ==========\n"
     ]
    },
    {
     "name": "stderr",
     "output_type": "stream",
     "text": [
      "100%|████████████████████████████████████████████████████████████████████████████████| 143/143 [00:02<00:00, 55.57it/s]\n"
     ]
    },
    {
     "name": "stdout",
     "output_type": "stream",
     "text": [
      "0.6989660800623518\n",
      "Valid binary acc:  0.7692307692307693\n",
      "\n",
      "========== Train epoch 67 ==========\n"
     ]
    },
    {
     "name": "stderr",
     "output_type": "stream",
     "text": [
      "100%|████████████████████████████████████████████████████████████████████████████████| 719/719 [00:15<00:00, 45.21it/s]\n"
     ]
    },
    {
     "name": "stdout",
     "output_type": "stream",
     "text": [
      "0.7043371448466251\n",
      "========== Evaluate Valid set ==========\n"
     ]
    },
    {
     "name": "stderr",
     "output_type": "stream",
     "text": [
      "100%|████████████████████████████████████████████████████████████████████████████████| 143/143 [00:02<00:00, 68.01it/s]\n"
     ]
    },
    {
     "name": "stdout",
     "output_type": "stream",
     "text": [
      "0.6590010390447621\n",
      "Valid binary acc:  0.7832167832167832\n",
      "\n",
      "========== Train epoch 68 ==========\n"
     ]
    },
    {
     "name": "stderr",
     "output_type": "stream",
     "text": [
      "100%|████████████████████████████████████████████████████████████████████████████████| 719/719 [00:13<00:00, 52.74it/s]\n"
     ]
    },
    {
     "name": "stdout",
     "output_type": "stream",
     "text": [
      "0.6894827631047327\n",
      "========== Evaluate Valid set ==========\n"
     ]
    },
    {
     "name": "stderr",
     "output_type": "stream",
     "text": [
      "100%|████████████████████████████████████████████████████████████████████████████████| 143/143 [00:02<00:00, 68.07it/s]\n"
     ]
    },
    {
     "name": "stdout",
     "output_type": "stream",
     "text": [
      "0.6515230165592597\n",
      "Valid binary acc:  0.7832167832167832\n",
      "\n",
      "========== Train epoch 69 ==========\n"
     ]
    },
    {
     "name": "stderr",
     "output_type": "stream",
     "text": [
      "100%|████████████████████████████████████████████████████████████████████████████████| 719/719 [00:13<00:00, 52.32it/s]\n"
     ]
    },
    {
     "name": "stdout",
     "output_type": "stream",
     "text": [
      "0.6772856285752824\n",
      "========== Evaluate Valid set ==========\n"
     ]
    },
    {
     "name": "stderr",
     "output_type": "stream",
     "text": [
      "100%|████████████████████████████████████████████████████████████████████████████████| 143/143 [00:02<00:00, 70.74it/s]\n"
     ]
    },
    {
     "name": "stdout",
     "output_type": "stream",
     "text": [
      "0.6398523276072595\n",
      "Valid binary acc:  0.7832167832167832\n",
      "\n",
      "========== Train epoch 70 ==========\n"
     ]
    },
    {
     "name": "stderr",
     "output_type": "stream",
     "text": [
      "100%|████████████████████████████████████████████████████████████████████████████████| 719/719 [00:13<00:00, 51.44it/s]\n"
     ]
    },
    {
     "name": "stdout",
     "output_type": "stream",
     "text": [
      "0.6679544622986545\n",
      "========== Evaluate Valid set ==========\n"
     ]
    },
    {
     "name": "stderr",
     "output_type": "stream",
     "text": [
      "100%|████████████████████████████████████████████████████████████████████████████████| 143/143 [00:02<00:00, 69.69it/s]\n"
     ]
    },
    {
     "name": "stdout",
     "output_type": "stream",
     "text": [
      "0.6263293608293666\n",
      "Valid binary acc:  0.7832167832167832\n",
      "\n",
      "========== Train epoch 71 ==========\n"
     ]
    },
    {
     "name": "stderr",
     "output_type": "stream",
     "text": [
      "100%|████████████████████████████████████████████████████████████████████████████████| 719/719 [00:13<00:00, 52.70it/s]\n"
     ]
    },
    {
     "name": "stdout",
     "output_type": "stream",
     "text": [
      "0.6547478424513586\n",
      "========== Evaluate Valid set ==========\n"
     ]
    },
    {
     "name": "stderr",
     "output_type": "stream",
     "text": [
      "100%|████████████████████████████████████████████████████████████████████████████████| 143/143 [00:02<00:00, 68.76it/s]\n"
     ]
    },
    {
     "name": "stdout",
     "output_type": "stream",
     "text": [
      "0.6030167213956975\n",
      "Valid binary acc:  0.7902097902097902\n",
      "\n",
      "========== Train epoch 72 ==========\n"
     ]
    },
    {
     "name": "stderr",
     "output_type": "stream",
     "text": [
      "100%|████████████████████████████████████████████████████████████████████████████████| 719/719 [00:13<00:00, 52.19it/s]\n"
     ]
    },
    {
     "name": "stdout",
     "output_type": "stream",
     "text": [
      "0.6423290134134757\n",
      "========== Evaluate Valid set ==========\n"
     ]
    },
    {
     "name": "stderr",
     "output_type": "stream",
     "text": [
      "100%|████████████████████████████████████████████████████████████████████████████████| 143/143 [00:02<00:00, 66.85it/s]\n"
     ]
    },
    {
     "name": "stdout",
     "output_type": "stream",
     "text": [
      "0.5946713722069988\n",
      "Valid binary acc:  0.7902097902097902\n",
      "\n",
      "========== Train epoch 73 ==========\n"
     ]
    },
    {
     "name": "stderr",
     "output_type": "stream",
     "text": [
      "100%|████████████████████████████████████████████████████████████████████████████████| 719/719 [00:13<00:00, 52.04it/s]\n"
     ]
    },
    {
     "name": "stdout",
     "output_type": "stream",
     "text": [
      "0.6291371990433701\n",
      "========== Evaluate Valid set ==========\n"
     ]
    },
    {
     "name": "stderr",
     "output_type": "stream",
     "text": [
      "100%|████████████████████████████████████████████████████████████████████████████████| 143/143 [00:02<00:00, 65.21it/s]\n"
     ]
    },
    {
     "name": "stdout",
     "output_type": "stream",
     "text": [
      "0.5885892182969573\n",
      "Valid binary acc:  0.7972027972027972\n",
      "\n",
      "========== Train epoch 74 ==========\n"
     ]
    },
    {
     "name": "stderr",
     "output_type": "stream",
     "text": [
      "100%|████████████████████████████████████████████████████████████████████████████████| 719/719 [00:14<00:00, 51.26it/s]\n"
     ]
    },
    {
     "name": "stdout",
     "output_type": "stream",
     "text": [
      "0.6206939869099012\n",
      "========== Evaluate Valid set ==========\n"
     ]
    },
    {
     "name": "stderr",
     "output_type": "stream",
     "text": [
      "100%|████████████████████████████████████████████████████████████████████████████████| 143/143 [00:02<00:00, 69.79it/s]\n"
     ]
    },
    {
     "name": "stdout",
     "output_type": "stream",
     "text": [
      "0.5711946435072427\n",
      "Valid binary acc:  0.8181818181818182\n",
      "\n",
      "========== Train epoch 75 ==========\n"
     ]
    },
    {
     "name": "stderr",
     "output_type": "stream",
     "text": [
      "100%|████████████████████████████████████████████████████████████████████████████████| 719/719 [00:13<00:00, 52.09it/s]\n"
     ]
    },
    {
     "name": "stdout",
     "output_type": "stream",
     "text": [
      "0.6107135688594927\n",
      "========== Evaluate Valid set ==========\n"
     ]
    },
    {
     "name": "stderr",
     "output_type": "stream",
     "text": [
      "100%|████████████████████████████████████████████████████████████████████████████████| 143/143 [00:02<00:00, 67.03it/s]"
     ]
    },
    {
     "name": "stdout",
     "output_type": "stream",
     "text": [
      "0.555907157942542\n",
      "Valid binary acc:  0.8251748251748252\n"
     ]
    },
    {
     "name": "stderr",
     "output_type": "stream",
     "text": [
      "\n"
     ]
    }
   ],
   "source": [
    "cross_validation(ds,fold_number=5)"
   ]
  },
  {
   "cell_type": "code",
   "execution_count": null,
   "id": "43341e10",
   "metadata": {},
   "outputs": [],
   "source": []
  },
  {
   "cell_type": "code",
   "execution_count": 33,
   "id": "004563b4",
   "metadata": {},
   "outputs": [],
   "source": [
    "device = torch.device('cuda' if torch.cuda.is_available() else 'cpu')"
   ]
  },
  {
   "cell_type": "code",
   "execution_count": 85,
   "id": "bc34b1d4",
   "metadata": {},
   "outputs": [
    {
     "data": {
      "text/plain": [
       "array([2, 1, 1, 1, 2, 2, 4, 2, 3, 2, 3, 1, 2, 1, 3, 1, 1, 1, 1, 1, 2, 3,\n",
       "       3, 2, 0, 0, 4, 1, 3, 4, 2, 2, 0, 0, 1, 4, 4, 4, 2, 4, 1, 0, 3, 4,\n",
       "       2, 1, 1, 4, 4, 4, 3, 1, 4, 1, 4, 4, 1, 2, 1, 2, 4, 1, 2, 1, 0, 0,\n",
       "       4, 2, 1, 4, 4, 2, 4, 1, 1, 3, 1, 1, 4, 2, 4, 1, 1, 2, 1, 3, 2, 3,\n",
       "       1, 1, 2, 2, 1, 4, 4, 0, 2, 1, 3, 1, 1, 2, 2, 0, 1, 1, 2, 2, 2, 4,\n",
       "       2, 4, 3, 2, 1, 2, 1, 4, 1, 0, 1, 4, 1, 1, 4, 2, 1, 2, 1, 1, 4, 1,\n",
       "       1, 1, 1, 1, 4, 3, 2, 2, 4, 4, 4, 1, 2, 3, 3, 2, 1, 1, 1, 1, 1, 4,\n",
       "       4, 0, 2, 4, 1, 3, 2, 4, 4, 2, 4, 4, 0, 2, 3, 2, 2, 4, 1, 4, 4, 2,\n",
       "       2, 2, 1, 1, 2, 1, 0, 0, 2, 1, 2, 1, 1, 2, 0, 2, 0, 4, 0, 1, 2, 2,\n",
       "       2, 2, 2, 1, 1, 1, 3, 3, 4, 2, 0, 0, 3, 4, 1, 0, 4, 4, 1, 3, 1, 1,\n",
       "       0, 1, 3, 3, 0, 1, 1, 3, 0, 0, 1, 1, 3, 4, 4, 4, 4, 2, 4, 4, 1, 2,\n",
       "       4, 1, 2, 2, 1, 3, 1, 2, 4, 4, 3, 4, 4, 1, 4, 4, 3, 4, 2, 3, 1, 2,\n",
       "       1, 0, 2, 4, 1, 1, 4, 1, 1, 1, 1, 1, 3, 3, 1, 1, 2, 2, 2, 4, 4, 1,\n",
       "       2, 1, 2, 4, 2, 1, 1, 2, 4, 2, 1, 2, 3, 2, 2, 4, 3, 4, 4, 2, 4, 1,\n",
       "       4, 4, 3, 4, 4, 4, 1, 2, 2, 2, 3, 0, 3, 1, 4, 1, 0, 1, 1, 2, 2, 4,\n",
       "       1, 2, 4, 4, 1, 4, 1, 4, 3, 1, 4, 1, 4, 0, 4, 4, 2, 1, 4, 1, 2, 3,\n",
       "       1, 4, 2, 4, 3, 4, 1, 4, 2, 4, 4, 3, 1, 4, 3, 4, 2, 2, 2, 4, 0, 1,\n",
       "       1, 2, 1, 1, 4, 2, 1, 4, 4, 4, 4, 1, 4, 3, 2, 2, 3, 0, 2, 4, 4, 1,\n",
       "       3, 0, 4, 1, 1, 4, 4, 4, 2, 4, 2, 4, 1, 2, 1, 4, 1, 2, 4, 4, 0, 0,\n",
       "       3, 1, 2, 2, 4, 0, 2, 2, 2, 2, 4, 3, 2, 1, 1, 2, 1, 1, 1, 4, 4, 1,\n",
       "       2, 4, 4, 3, 4, 3, 3, 2, 1, 4, 0, 1, 4, 0, 2, 3, 4, 1, 0, 4, 3, 2,\n",
       "       4, 3, 4, 2, 3, 1, 1, 0, 1, 1, 4, 4, 2, 4, 1, 1, 1, 2, 4, 2, 2, 3,\n",
       "       3, 4, 1, 4, 2, 4, 2, 1, 4, 1, 1, 2, 2, 1, 2, 1, 0, 2, 2, 0, 4, 3,\n",
       "       1, 1, 1, 2, 4, 4, 1, 1, 1, 4, 4, 2, 4, 0, 3, 1, 4, 1, 2, 3, 2, 0,\n",
       "       3, 3, 4, 3, 1, 2, 1, 2, 1, 4, 2, 2, 4, 2, 2, 1, 4, 2, 1, 1, 4, 4,\n",
       "       3, 1, 1, 2, 2, 4, 3, 1, 1, 1, 1, 3, 2, 3, 3, 2, 3, 1, 2, 1, 4, 2,\n",
       "       4, 1, 4, 2, 4, 1, 2, 1, 4, 2, 0, 4, 4, 1, 1, 2, 4, 1, 4, 1, 0, 1,\n",
       "       4, 3, 1, 1, 1, 0, 4, 1, 1, 1, 3, 4, 2, 1, 1, 1, 1, 1, 0, 0, 4, 1,\n",
       "       4, 3, 1, 1, 0, 1, 2, 3, 1, 3, 4, 3, 3, 1, 1, 4, 2, 4, 2, 1, 4, 2,\n",
       "       4, 1, 1, 2, 4, 0, 1, 3, 3, 4, 4, 4, 3, 2, 0, 4, 1, 2, 4, 4, 0, 1,\n",
       "       1, 0, 2, 1, 1, 1, 1, 1, 3, 4, 1, 2, 1, 4, 0, 2, 4, 1, 0, 4, 1, 1,\n",
       "       4, 1, 2, 4, 4, 1, 1, 4, 4, 1, 2, 4, 4, 2, 1, 2, 4, 1, 4, 1, 2, 4,\n",
       "       1, 1, 1, 4, 4, 1, 0, 0, 0, 4, 2, 1, 3, 4, 1])"
      ]
     },
     "execution_count": 85,
     "metadata": {},
     "output_type": "execute_result"
    }
   ],
   "source": [
    "labels"
   ]
  },
  {
   "cell_type": "code",
   "execution_count": 93,
   "id": "cae0036c",
   "metadata": {},
   "outputs": [
    {
     "data": {
      "text/plain": [
       "193"
      ]
     },
     "execution_count": 93,
     "metadata": {},
     "output_type": "execute_result"
    }
   ],
   "source": [
    "np.count_nonzero(labels == 4)"
   ]
  },
  {
   "cell_type": "code",
   "execution_count": null,
   "id": "451b9340",
   "metadata": {},
   "outputs": [],
   "source": []
  },
  {
   "cell_type": "code",
   "execution_count": 20,
   "id": "9b121934",
   "metadata": {},
   "outputs": [
    {
     "ename": "RuntimeError",
     "evalue": "CUDA error: invalid device ordinal\nCUDA kernel errors might be asynchronously reported at some other API call,so the stacktrace below might be incorrect.\nFor debugging consider passing CUDA_LAUNCH_BLOCKING=1.",
     "output_type": "error",
     "traceback": [
      "\u001b[1;31m---------------------------------------------------------------------------\u001b[0m",
      "\u001b[1;31mRuntimeError\u001b[0m                              Traceback (most recent call last)",
      "Input \u001b[1;32mIn [20]\u001b[0m, in \u001b[0;36m<cell line: 4>\u001b[1;34m()\u001b[0m\n\u001b[0;32m      3\u001b[0m torch\u001b[38;5;241m.\u001b[39mmanual_seed(SEED)\n\u001b[0;32m      4\u001b[0m \u001b[38;5;28;01mif\u001b[39;00m torch\u001b[38;5;241m.\u001b[39mcuda\u001b[38;5;241m.\u001b[39mis_available():\n\u001b[1;32m----> 5\u001b[0m     \u001b[43mtorch\u001b[49m\u001b[38;5;241;43m.\u001b[39;49m\u001b[43mcuda\u001b[49m\u001b[38;5;241;43m.\u001b[39;49m\u001b[43mset_device\u001b[49m\u001b[43m(\u001b[49m\u001b[38;5;241;43m1\u001b[39;49m\u001b[43m)\u001b[49m\n\u001b[0;32m      6\u001b[0m     torch\u001b[38;5;241m.\u001b[39mcuda\u001b[38;5;241m.\u001b[39mmanual_seed(SEED)\n",
      "File \u001b[1;32m~\\anaconda3\\envs\\pytorch\\lib\\site-packages\\torch\\cuda\\__init__.py:313\u001b[0m, in \u001b[0;36mset_device\u001b[1;34m(device)\u001b[0m\n\u001b[0;32m    311\u001b[0m device \u001b[38;5;241m=\u001b[39m _get_device_index(device)\n\u001b[0;32m    312\u001b[0m \u001b[38;5;28;01mif\u001b[39;00m device \u001b[38;5;241m>\u001b[39m\u001b[38;5;241m=\u001b[39m \u001b[38;5;241m0\u001b[39m:\n\u001b[1;32m--> 313\u001b[0m     \u001b[43mtorch\u001b[49m\u001b[38;5;241;43m.\u001b[39;49m\u001b[43m_C\u001b[49m\u001b[38;5;241;43m.\u001b[39;49m\u001b[43m_cuda_setDevice\u001b[49m\u001b[43m(\u001b[49m\u001b[43mdevice\u001b[49m\u001b[43m)\u001b[49m\n",
      "\u001b[1;31mRuntimeError\u001b[0m: CUDA error: invalid device ordinal\nCUDA kernel errors might be asynchronously reported at some other API call,so the stacktrace below might be incorrect.\nFor debugging consider passing CUDA_LAUNCH_BLOCKING=1."
     ]
    }
   ],
   "source": [
    "SEED = 2333\n",
    "np.random.seed(SEED)\n",
    "torch.manual_seed(SEED)\n",
    "if torch.cuda.is_available():\n",
    "    torch.cuda.set_device(1)\n",
    "    torch.cuda.manual_seed(SEED)"
   ]
  },
  {
   "cell_type": "code",
   "execution_count": 195,
   "id": "2d111351",
   "metadata": {},
   "outputs": [
    {
     "ename": "NameError",
     "evalue": "name 'binary_pred' is not defined",
     "output_type": "error",
     "traceback": [
      "\u001b[1;31m---------------------------------------------------------------------------\u001b[0m",
      "\u001b[1;31mNameError\u001b[0m                                 Traceback (most recent call last)",
      "\u001b[1;32m~\\AppData\\Local\\Temp/ipykernel_24420/3088862441.py\u001b[0m in \u001b[0;36m<module>\u001b[1;34m\u001b[0m\n\u001b[1;32m----> 1\u001b[1;33m \u001b[0mbinary_pred\u001b[0m\u001b[1;33m\u001b[0m\u001b[1;33m\u001b[0m\u001b[0m\n\u001b[0m",
      "\u001b[1;31mNameError\u001b[0m: name 'binary_pred' is not defined"
     ]
    }
   ],
   "source": [
    "binary_pred"
   ]
  },
  {
   "cell_type": "code",
   "execution_count": 56,
   "id": "3af054f2",
   "metadata": {},
   "outputs": [],
   "source": [
    "def get_simple_loader(dataset, batch_size=1):\n",
    "\tkwargs = {'num_workers': 0} if device.type == \"cuda\" else {}\n",
    "\tloader = DataLoader(dataset, batch_size=batch_size, sampler = sampler.SequentialSampler(dataset), collate_fn = collate_MIL, **kwargs)\n",
    "\treturn loader "
   ]
  },
  {
   "cell_type": "code",
   "execution_count": 21,
   "id": "954ee6b2",
   "metadata": {},
   "outputs": [],
   "source": [
    "import pickle\n",
    "import torch\n",
    "import numpy as np\n",
    "import torch.nn as nn\n",
    "import pdb\n",
    "\n",
    "import torch\n",
    "import numpy as np\n",
    "import torch.nn as nn\n",
    "from torchvision import transforms\n",
    "from torch.utils.data import DataLoader, Sampler, WeightedRandomSampler, RandomSampler, SequentialSampler, sampler\n",
    "import torch.optim as optim\n",
    "import pdb\n",
    "import torch.nn.functional as F\n",
    "import math\n",
    "from itertools import islice\n",
    "import collections\n",
    "device=torch.device(\"cpu\")\n",
    "\n",
    "class SubsetSequentialSampler(Sampler):\n",
    "\t\"\"\"Samples elements sequentially from a given list of indices, without replacement.\n",
    "\tArguments:\n",
    "\t\tindices (sequence): a sequence of indices\n",
    "\t\"\"\"\n",
    "\tdef __init__(self, indices):\n",
    "\t\tself.indices = indices\n",
    "\n",
    "\tdef __iter__(self):\n",
    "\t\treturn iter(self.indices)\n",
    "\n",
    "\tdef __len__(self):\n",
    "\t\treturn len(self.indices)"
   ]
  },
  {
   "cell_type": "code",
   "execution_count": 63,
   "id": "75d0edf9",
   "metadata": {},
   "outputs": [],
   "source": [
    "a = torch.Tensor([[1]])"
   ]
  },
  {
   "cell_type": "code",
   "execution_count": 69,
   "id": "f1ec937d",
   "metadata": {},
   "outputs": [
    {
     "data": {
      "text/plain": [
       "tensor(1.)"
      ]
     },
     "execution_count": 69,
     "metadata": {},
     "output_type": "execute_result"
    }
   ],
   "source": [
    "a.squeeze()"
   ]
  },
  {
   "cell_type": "code",
   "execution_count": 72,
   "id": "38c426b4",
   "metadata": {},
   "outputs": [
    {
     "name": "stdout",
     "output_type": "stream",
     "text": [
      "Fold1_best_model.pkl\n",
      "Fold2_best_model.pkl\n",
      "Fold3_best_model.pkl\n",
      "Fold4_best_model.pkl\n",
      "Fold5_best_model.pkl\n"
     ]
    }
   ],
   "source": [
    "for model_name in sorted(os.listdir(Model_Path)):\n",
    "        print(model_name)\n",
    "        model = Model()\n",
    "        if torch.cuda.is_available():\n",
    "            model.cuda()\n",
    "        model.load_state_dict(torch.load(Model_Path + model_name,map_location='cpu'))\n",
    "\n",
    "        #epoch_loss_test_avg, test_true, test_pred, test_name = evaluate(model, train_loader)"
   ]
  },
  {
   "cell_type": "code",
   "execution_count": 75,
   "id": "5382d20f",
   "metadata": {},
   "outputs": [],
   "source": [
    "def test(test_dataframe):\n",
    "    test_loader = DataLoader(dataset=Dataset(ds) ,batch_size=1, shuffle=False, num_workers=0,collate_fn=collate_fn)\n",
    "    test_result = {}\n",
    "\n",
    "    for model_name in sorted(os.listdir(Model_Path)):\n",
    "        print(model_name)\n",
    "        model = Model()\n",
    "        if torch.cuda.is_available():\n",
    "            model.cuda()\n",
    "        model.load_state_dict(torch.load(Model_Path + model_name,map_location='cpu'))\n",
    "\n",
    "        epoch_loss_valid_avg, valid_true, valid_pred, valid_name, valid_score = evaluate(model, test_loader)\n",
    "        #test_detail_dataframe = pd.DataFrame({'names': valid_name.cpu(), 'target': valid_true.cpu(), 'prediction': valid_pred.cpu(), 'Attention': valid_score.cpu()})\n",
    "        \n",
    "        return valid_score\n"
   ]
  },
  {
   "cell_type": "code",
   "execution_count": 76,
   "id": "f0685db2",
   "metadata": {},
   "outputs": [
    {
     "name": "stdout",
     "output_type": "stream",
     "text": [
      "Fold5_best_model.pkl\n"
     ]
    },
    {
     "name": "stderr",
     "output_type": "stream",
     "text": [
      "100%|████████████████████████████████████████████████████████████████████████████████| 719/719 [00:11<00:00, 64.73it/s]"
     ]
    },
    {
     "name": "stdout",
     "output_type": "stream",
     "text": [
      "0.5805949252531916\n"
     ]
    },
    {
     "name": "stderr",
     "output_type": "stream",
     "text": [
      "\n"
     ]
    }
   ],
   "source": [
    "a = test(ds)"
   ]
  },
  {
   "cell_type": "code",
   "execution_count": 84,
   "id": "426c8694",
   "metadata": {},
   "outputs": [
    {
     "data": {
      "text/plain": [
       "['0096f71c-7777-417c-8d95-6fa1699879ec',\n",
       " '00be20a3-6ec8-44dd-afac-9085c6a03da9',\n",
       " '00ca6d3f-b495-4711-8ac3-d24175f5ee9f',\n",
       " '00f836a8-9b94-4413-95eb-fd127ee723b2',\n",
       " '01000de7-d0e8-4bb4-9918-4cbcd5bbfa3d',\n",
       " '0108fa63-6200-4896-8da9-0dbbd20998de',\n",
       " '011db747-84f4-4e3e-b446-1b667bef0ea9',\n",
       " '018aaaa8-78db-4341-8811-7356a871a2fe',\n",
       " '0222e12c-539f-4640-8007-fbd625fc0ea8',\n",
       " '024c0ec6-2e01-4640-a71c-6116e3a275ff',\n",
       " '029972c6-45c3-4a08-baf2-82a3b377fb71',\n",
       " '02b9de3a-c7ee-46ff-b0b7-e0561e6b3101',\n",
       " '0309db59-8d00-4c20-b816-015a3576f059',\n",
       " '039256d5-14c1-4057-b535-01416d2ba5ac',\n",
       " '0492d6eb-5192-45ca-949f-958e9f22c29d',\n",
       " '05042790-054b-43ea-a8bc-a8dd524c4627',\n",
       " '05792b42-0953-48ea-a4b1-3e9a1691677b',\n",
       " '0592845a-01d7-4d42-8149-72af28b83c53',\n",
       " '068e7a7f-7db9-4769-8052-33c03e1f7f32',\n",
       " '06a5cbd5-f9f4-466f-9f5a-a3fdea74f270',\n",
       " '07cee6c6-be65-47dd-b1d3-7a3311dec0a6',\n",
       " '07d54db2-b54b-4f87-a281-68f0de5328bb',\n",
       " '0834dfbb-1b2b-4125-a95b-d43a829c6fc7',\n",
       " '084893ca-b836-4824-a9b1-590980679155',\n",
       " '087647cd-4f1c-4ad5-9eea-255fbe9d155e',\n",
       " '08a9f43f-56af-4b9d-92ef-ab84d1da3c2d',\n",
       " '08bdb55b-1452-43d5-a0dd-17bf6ed1f20d',\n",
       " '08dcf6ba-93e5-4268-a640-e100d0ed809d',\n",
       " '08e47f17-7dbc-4ed9-acff-3f350425fcaf',\n",
       " '095967e5-f815-4f3e-8465-ff22f281fa45',\n",
       " '09f585aa-6b44-4de6-bbcc-6e00d464b097',\n",
       " '0b85c908-1b3a-4ba8-9b43-e8720d5a8153',\n",
       " '0c369370-92cc-4537-86aa-6f5b308e67a9',\n",
       " '0d3d6a5f-b438-40d5-981a-e8806b93d4f8',\n",
       " '0e0c4b88-12c2-49ed-985b-b72c73802435',\n",
       " '0eb16a1a-3188-4a91-b6d0-d5ceefe534bb',\n",
       " '0f7de070-ad59-4590-bd05-7ae424c7d288',\n",
       " '0f927cfe-0652-4407-a7b5-159d34683de0',\n",
       " '103aeb15-0017-4dd9-92e9-188b21d86ede',\n",
       " '10da09cf-c6f4-4218-9bf0-0fa8efff343b',\n",
       " '111ab160-35f3-4785-953e-069cf8bfb5fc',\n",
       " '11694a5b-1d87-4429-9f2b-d94de9e1945d',\n",
       " '12f60a5a-3e62-484e-b747-8f22bd54dc87',\n",
       " '131644de-7c52-4ebd-aba6-73876f3c9310',\n",
       " '13b3cd78-1dee-4bda-99e0-f85ca5b9c4d1',\n",
       " '13b4c3f8-e981-422c-a9b9-a5d74bf9abf8',\n",
       " '14a6108c-fa90-49f7-bcc9-0ce4e10c7e35',\n",
       " '14df42e7-338a-46c2-b2c6-fa0fd9434f32',\n",
       " '15b79f4c-24a4-47ce-8bdc-1e813a35f725',\n",
       " '15b9588c-c288-4fce-bc7f-c621214931e6',\n",
       " '15e26b08-d1e2-4c54-9175-32ecb6ff316c',\n",
       " '168506f0-8554-4d80-bb77-bf0d8f90048e',\n",
       " '17389e4d-435f-4a2c-b067-d4caa0be0310',\n",
       " '1827d7c3-3c52-43d9-a4f7-4100c2f4ef54',\n",
       " '18a04933-10fb-4fcd-afef-a8ccc55c0cd5',\n",
       " '18a31fce-4d6d-4cde-8967-eff674e53671',\n",
       " '18d80f57-3862-49b4-9707-b0fc3ab0d65e',\n",
       " '193de45b-ac36-4ae4-8bf2-6c7c67679113',\n",
       " '1944bc00-7a9d-4cb7-a079-0cf43b552358',\n",
       " '1974ab21-1abe-4779-b4b3-d59c31319ac1',\n",
       " '198ad4ee-7387-4ad3-8968-4462de1605be',\n",
       " '1a137762-d63a-4eea-bdbe-3fa70a4d4f78',\n",
       " '1a20fc9b-975e-4ba2-9d79-85ad55fcab5f',\n",
       " '1abf528d-33ff-4096-8122-6ea8b0e76016',\n",
       " '1b4d5fd1-87f5-461a-9634-5b8e8cf6feb0',\n",
       " '1ba53906-55fc-41ba-8356-f71835108305',\n",
       " '1bc2766c-7064-43c7-97cb-5962d3894671',\n",
       " '1bd2eefd-09a2-4706-bfaf-f52f0871a237',\n",
       " '1c919459-65bb-42df-b3b8-6dfeba7baf30',\n",
       " '1d29a715-400c-4bba-b9cc-fea0febd6111',\n",
       " '1d4cd3af-238b-4455-a623-96e4d0d2561f',\n",
       " '1d747cec-d7f8-4f39-9b95-319e5b4b1fe4',\n",
       " '1e410b30-4308-4274-ad9d-32ad1a3a1acd',\n",
       " '1e67507b-d832-4e69-bc0f-71596888f17e',\n",
       " '1e9e1458-3949-4353-b807-9db2d2fbef0a',\n",
       " '1efc27a1-5148-4fa3-bf35-b201c4bfbcaa',\n",
       " '1f7ce88c-64a9-40a1-b004-0d36db42f3d2',\n",
       " '203ea848-7529-46aa-8c39-74f7179331ae',\n",
       " '2084ac0d-2e3c-4752-aef0-1dcb5c21bf60',\n",
       " '2091c896-82af-4bb7-8f52-b4c2ad18247c',\n",
       " '20fee762-b432-4986-8f09-130f714f4410',\n",
       " '21955b93-20cc-4c34-b361-1307e9382911',\n",
       " '21a7767a-89fd-4721-a15d-d489d1f31660',\n",
       " '21f3c2e9-0702-4cd0-a09e-a77e391f2fcc',\n",
       " '226bc945-5ed6-4e55-baad-6bc14bbbc5b2',\n",
       " '22f13f09-3270-46dd-b049-7270efa0a6e9',\n",
       " '23d0aa4d-a72f-4bd0-ab2e-41880fae8c6b',\n",
       " '23dfb0c5-b1ce-4b41-bd10-77eda9168d5f',\n",
       " '2446e604-9e6e-4159-b152-bdce575fe341',\n",
       " '2494142f-9928-4bd3-a49f-3f048c872edf',\n",
       " '24aa0c4d-712b-4fba-931f-1374515f30c7',\n",
       " '25d439ee-e64f-4a87-b9a5-4072df378bbd',\n",
       " '25e12905-06be-418a-9af6-a7cb09662774',\n",
       " '25e1c4f7-7908-4e34-907e-02c87fdb07a8',\n",
       " '267f55dc-1b11-48fc-8a46-9e1a709d4d21',\n",
       " '273fe42d-968e-43d5-b910-a397d7dfa58e',\n",
       " '27466f8d-26d5-4912-8411-392f499f31be',\n",
       " '27bc8380-1dfe-4cfb-84cd-eb57c52ee0df',\n",
       " '29616b16-43b8-4413-b1d8-3fef02fa3b27',\n",
       " '29d9f50f-f2f5-44d1-8b18-fe23d06ce86b',\n",
       " '2a554fc1-c8bf-488a-9bc2-6cf46fec484d',\n",
       " '2a722e06-936a-45cf-9634-c301ec78f02a',\n",
       " '2b064962-e664-4c38-b277-06e61bebe700',\n",
       " '2b321b58-acc4-47ba-8b11-d5670c6a2982',\n",
       " '2b5ffc42-c933-436d-a0f1-5f158e6e2560',\n",
       " '2bcc9b80-a5ed-4769-b17d-3f3a30bae701',\n",
       " '2bd4fbe3-5dee-460c-9d80-ca2fde35d96c',\n",
       " '2c0da224-f199-499f-8c36-8c50f52b03c7',\n",
       " '2c0f6db9-c195-4aa8-b862-7d07f8b55520',\n",
       " '2cd2cd10-f34c-4687-bb76-b4102454e870',\n",
       " '2d5a698e-c9d4-42b0-a9ad-ca5f6ad4b9c8',\n",
       " '2d5c3f16-d3be-4580-a288-d61db7839607',\n",
       " '2d74619d-5660-435c-874e-7461f50a9c88',\n",
       " '2e1f0b99-4fec-4476-a334-e3a9aa8f6071',\n",
       " '2e731124-2cb6-4b1a-82f5-bb04f2730f1d',\n",
       " '2ebb9cac-fcc5-4faa-8bd9-cdda95a742de',\n",
       " '2ec7135c-0707-4a2d-b377-efdf0ba1167c',\n",
       " '2eca1396-71df-4698-a2e9-aa2586fde850',\n",
       " '2f751442-8364-491e-92b1-f575d61e81b7',\n",
       " '2fd6b939-1636-4615-b42c-a145280d5ecf',\n",
       " '2fde03f9-03fe-4b39-a408-a8a3d41a53f1',\n",
       " '303882d0-8104-4c89-9b76-e99ea8437df0',\n",
       " '30514029-105c-4a21-8b66-899a5945666f',\n",
       " '305e4f0c-e30c-4937-a4b1-9c2714c45f28',\n",
       " '30d69d48-4aab-4371-b75f-1c1a93690267',\n",
       " '312fe358-1806-4c32-bdb3-5e3bdc4b6432',\n",
       " '31d4d7d8-7171-466f-b5da-2630025665ad',\n",
       " '31fa2c04-531f-41de-b9cb-4752004c8feb',\n",
       " '32f1b7d4-7c0f-4bda-ad87-0a4cd58ec554',\n",
       " '3364b59e-05f6-4570-a4fc-31da5f1e7a70',\n",
       " '33d9d997-bf3c-4284-9f85-d43a3a422a9c',\n",
       " '33f374b9-6d0c-4af4-92d9-5cdc44ef0bfc',\n",
       " '3404c93c-6af5-4637-a19d-ba4d09774f45',\n",
       " '344c94f5-830b-46bf-a1f4-06f340ec8389',\n",
       " '3598284d-8dae-42d9-98fc-a4046fd81a25',\n",
       " '35ac77cc-3015-4786-a24c-e95a88b26b48',\n",
       " '35ebddcf-c9b4-44c7-9851-74aea1ecd9d6',\n",
       " '3602c7ae-9a0a-470a-8f47-475b51073f00',\n",
       " '360ee0e9-1081-4231-84ff-dc051bbdc681',\n",
       " '3644ede2-bb37-4465-b594-2f7d34e2c591',\n",
       " '3696b764-8743-4a91-a31d-5b8fe44468cc',\n",
       " '37191778-6d34-44bc-af59-60a4abaed6e3',\n",
       " '37386f57-b55e-435e-b900-de4368af9330',\n",
       " '37d6ad76-7ca1-4862-9243-84b2affc24d3',\n",
       " '37eb62a5-9e49-42dc-8d74-ffc4336efe96',\n",
       " '385434ed-b4bb-4c93-8bd0-b14ce5ccfe64',\n",
       " '3868f29a-cb36-4bd7-b6f9-0f4cb1b0081a',\n",
       " '38c7d66a-4990-4b0b-b9c8-b25bedb93ff5',\n",
       " '38d7a823-1ce0-44d9-8444-f9e047e13af9',\n",
       " '39f62761-c854-40d2-b444-6e4da270dc93',\n",
       " '3a485ed7-663b-490e-83e7-c9852794b654',\n",
       " '3a7e6ab1-b5a4-4c50-8f93-50d7129b079a',\n",
       " '3af1e455-cc6a-4a6a-9355-78a5325f1fa3',\n",
       " '3b2bd8a9-9952-40a3-ae4a-be957b21a8b8',\n",
       " '3b365e99-2ceb-4d07-b0ae-38bbde00fcf0',\n",
       " '3b3cf680-3168-4c2b-911c-5551767cbb65',\n",
       " '3bdec4b8-04e7-4d0a-a5d5-0c61fffcc2df',\n",
       " '3c2f95be-9f0a-4565-9543-33fe19ac51e3',\n",
       " '3c6ad57d-b81e-43cd-89bd-b85af70feadc',\n",
       " '3c78ad97-4677-4785-b4a7-421153a2437b',\n",
       " '3ce104f8-e37f-4818-9746-d2de0c1dcb52',\n",
       " '3d781d36-3402-4c13-8e3d-be40673ff335',\n",
       " '3dc6c7d6-6b89-4383-8d66-cad6397c0731',\n",
       " '3e54e24d-dbbc-4bc4-a929-63229b95df89',\n",
       " '3ea2e1a5-00dc-4e36-b347-44a495241cdf',\n",
       " '3ed6d0c8-a032-43f3-8bd6-ab5542401659',\n",
       " '3ee44b69-28af-4097-b74a-3dfc92380b34',\n",
       " '3f5379cf-f2dd-44ce-81d4-c8b0a9cb9498',\n",
       " '3f72edf6-f8ea-4cd1-b355-d671595c8e6d',\n",
       " '3f8d02df-7f3a-48d0-a107-8e30eb70a16d',\n",
       " '3f99f8d1-e352-4efd-b41f-595f8b734b54',\n",
       " '3fc559c2-43e5-4bb5-bd5a-748c5479d6c1',\n",
       " '4013f7ce-1b6d-4ab6-8ef3-340f7f97c8a4',\n",
       " '404a2e21-9a13-4a34-9fc7-19cee7d283e3',\n",
       " '406b7d78-6a78-4d0b-99a4-756fdf4430ad',\n",
       " '40fedaa3-e193-47bb-a7d7-c5debcfd27c4',\n",
       " '4112ee34-a251-4894-9e7c-9ff93f0189ec',\n",
       " '41bf40e9-f1fe-4650-88bd-c47ff442d62d',\n",
       " '42023af6-fa68-40d3-a834-82b91a791814',\n",
       " '442b562c-492a-40ca-be2d-bb5031f6d1b1',\n",
       " '44588f3f-1623-4f08-b076-a876efb85fb5',\n",
       " '45352720-2f67-407b-b34b-125d740cbe7d',\n",
       " '453644f8-e0c5-4971-85f3-f9c7f00d5eb1',\n",
       " '453f0342-5b92-434c-939d-f12d872d7821',\n",
       " '45c0fb01-9245-4dfe-ad74-d2dab064edc3',\n",
       " '46b7306b-a480-4527-9181-78652dba4f16',\n",
       " '46cff727-fedf-4441-9fe5-88e6c525c8dd',\n",
       " '46f14c3c-645b-4c5e-871f-b057c7622444',\n",
       " '470f351d-6b48-49a2-a939-18f46592e4db',\n",
       " '4722bcbd-0a36-475e-9e08-d61986c8dd96',\n",
       " '4792191a-0fee-4c70-b39a-b4c7a184bb31',\n",
       " '47e080ae-126f-4bf4-b321-2137dcec0c49',\n",
       " '47e9ea06-e3e5-45a6-a350-acaa5aa16f39',\n",
       " '480ae16f-a490-4c5f-aaa0-40dedd5fe76c',\n",
       " '4873068c-f041-4fe2-be4a-c54b5c490730',\n",
       " '491205dd-2463-47ee-a1cd-764cedf59f2f',\n",
       " '493fc11a-88dc-427f-a480-700fea867ba3',\n",
       " '4a119c17-bddb-4378-a725-cff5b678bd01',\n",
       " '4acd78a0-61c7-45ee-a6ab-08c7613a7dd4',\n",
       " '4ae5ab7e-d2cf-4136-85d9-7d7b92fc01b0',\n",
       " '4ae94cb2-d0f5-4f3a-b9c9-94e3fc07231c',\n",
       " '4b362200-59b6-4dc3-baa0-0cd1530c4d67',\n",
       " '4b7c0835-7552-4e64-a5e0-c7a7cf9f3a70',\n",
       " '4c8b6653-3ed7-4b32-a70e-beb371951ad0',\n",
       " '4cc92707-f27b-455d-8af1-b7f0837a39f0',\n",
       " '4dfdf0e8-20fc-4ad6-b143-238dd5203e33',\n",
       " '4e25087b-7098-4f5d-8e4f-2cca862a5b9f',\n",
       " '4e955ee5-3c29-4ae4-9b28-12eb490fb02b',\n",
       " '4ecb28e7-5ae2-42a8-ace8-272af13542c1',\n",
       " '4f19e5b7-7104-472d-b40c-08f03d581c8b',\n",
       " '4fb9364c-949e-499c-a7f2-ba1b036ce9e3',\n",
       " '4fc5230c-259b-413d-81e6-379ff6309037',\n",
       " '4ff5e741-3dff-4f1d-93c0-82c15174f4bd',\n",
       " '506c6353-4f87-49a1-8b5d-210ba1d0d845',\n",
       " '5124073a-d3bb-4a86-8e8e-1a7498f41afe',\n",
       " '51799792-9488-458e-9155-8dbe58715f6d',\n",
       " '518731c0-afee-489e-9bf5-d81d1bbe23f5',\n",
       " '51e02e02-ec7f-43e4-b792-8edce31e3bb5',\n",
       " '52355d14-b5b5-4b4e-8c2a-b421166565ee',\n",
       " '5267506d-9d4c-4f24-8600-0547c9bbb2fd',\n",
       " '52f67256-ed28-41ed-8bd6-fbce689ad508',\n",
       " '537780b9-6b50-401a-b820-b650ffbf98c3',\n",
       " '53936b8e-8aea-4f36-94a4-274c4c0064c0',\n",
       " '53ed7161-8d17-486d-b60e-acce5876376e',\n",
       " '5437e91e-1ef4-4d81-a90e-3e6fa9b76e64',\n",
       " '5493ee74-42bb-4aa9-9c7a-7aacb84fbac2',\n",
       " '54b4ac72-67d3-4844-8dd2-f0ed81896291',\n",
       " '55ff8b25-39e9-41df-90e4-15eb028fc768',\n",
       " '56c8b100-b9f0-416a-8056-1a32671a98cc',\n",
       " '56ef22c5-26c1-4f69-b1f6-1c0030dd1adc',\n",
       " '571bf9ae-b5f4-410d-a9da-91c5b6970fbc',\n",
       " '575289a9-644c-4558-9bf9-bae23887e3a5',\n",
       " '57633cf4-3549-4c37-a1fa-381a21d8b705',\n",
       " '5784c08e-e2c6-4422-89dd-9f86384153f5',\n",
       " '5799926c-3a38-476c-959f-f8802c0c4c5f',\n",
       " '57dc87b2-9bc9-4fcb-ba52-c3ac236b6836',\n",
       " '57f5bb58-88fc-4de2-b2f6-58677d097d05',\n",
       " '580ba4d7-654f-484b-8e07-7f1f793c2d13',\n",
       " '58176723-1797-48c5-bbef-fde17ae6e49d',\n",
       " '5840e180-ebe3-462c-8140-13767d1ae223',\n",
       " '584d841c-491a-40b1-9374-2acff391fd31',\n",
       " '58a6f101-2389-43ea-933d-8a85cd352b30',\n",
       " '592821eb-2e41-45d2-a1c8-8b0695c5800b',\n",
       " '5a292ecb-bd2c-4364-858f-27f6f6b25d4c',\n",
       " '5a64c131-01f2-4b87-b8de-084b7287ffc5',\n",
       " '5a8ce04a-0178-49e2-904c-30e21fb4e41e',\n",
       " '5ab550b5-6e91-4c4a-a788-8af633c7a182',\n",
       " '5af6523b-86d5-465b-8639-352b543fa8cf',\n",
       " '5b048d8c-ec88-4bf0-90ee-65743e726b6d',\n",
       " '5b0e4e42-c138-4115-8e5a-1c943c874007',\n",
       " '5b5a68e6-ee11-4310-b1dd-5041f3d5ddf0',\n",
       " '5b698086-a375-40ad-b3e7-4b922de232a2',\n",
       " '5bb98872-4936-488f-9089-6e23bc3b682e',\n",
       " '5bd26fd1-3798-4c31-a9eb-112158fd7bd3',\n",
       " '5bde3e02-2e71-4334-b4ae-d9af78fd2804',\n",
       " '5cb1333c-cba2-4408-98b2-e6dc4f7b2dd0',\n",
       " '5d512764-16db-4b91-8e15-33bb64fa4836',\n",
       " '5d88dfdb-cdea-4812-9214-c73e596c3844',\n",
       " '5db999e4-c084-4d26-9d96-26aa71b0fcce',\n",
       " '5e2f25f0-d4fb-4403-9af5-ca51b9b581a2',\n",
       " '5e425561-711c-4235-a4c9-2668877aacd8',\n",
       " '5e44da1e-8cc7-4aa3-940c-60dfa516e06b',\n",
       " '5f0bbf3d-5b6a-4f19-8c07-a317f34ce114',\n",
       " '5f234ce0-2241-4005-be93-cdc8c55fc100',\n",
       " '5f70570e-4246-4dfb-9eef-51ab0062b9c7',\n",
       " '6004c125-25be-47b8-a240-5c61c6babb8b',\n",
       " '6016b97a-6f5d-4770-aa2f-6811dfaa9d04',\n",
       " '60364f9a-233e-46af-9fcb-9dca99dfbc6a',\n",
       " '617333f1-fe8a-4fd8-b18f-7df60741883e',\n",
       " '61c6191d-2d38-48d5-b4aa-201e5c193d45',\n",
       " '6201da57-3142-4d34-b22f-62012142c7de',\n",
       " '625c143c-40c9-400e-8363-e268a60205b3',\n",
       " '6318e1f2-87b0-4b9f-9162-23fb837d419b',\n",
       " '640e11a8-ef7b-4fb2-a3fe-b91a592302ae',\n",
       " '6440c1d3-dd7f-4992-b0c9-9bb2c3bfcd53',\n",
       " '648172c2-dd11-48d5-a137-89a0fabe752c',\n",
       " '64f1d015-46e2-4ea8-8c6b-0dd7cd64f71a',\n",
       " '64fb0e37-942b-4573-8f11-4e08705fc502',\n",
       " '658b4e3f-5c3b-473a-8070-822aaa2db27e',\n",
       " '65f26a9a-43b7-4afd-98ae-e82b9d1af470',\n",
       " '666a2efe-6ba0-4a71-a97c-c8e5b6db6539',\n",
       " '66eb1877-56ad-49ab-9f63-5c410ae8ea36',\n",
       " '67fc5e5c-bddf-4f51-8675-19def7e901e2',\n",
       " '68129f6f-8538-429b-aeef-7540604dd0a5',\n",
       " '6882d29d-d067-4cf9-9f97-2cfc2f182f64',\n",
       " '695cea0d-de75-4be3-9793-31082612e83d',\n",
       " '69e918e0-b368-48a0-a6da-e19246f45a05',\n",
       " '6a43f45f-5359-4f92-8c5d-d3df50240949',\n",
       " '6c22a955-5df2-4675-856e-80f8385de454',\n",
       " '6d4a2e9d-166d-4289-aaf9-cb1e368a0138',\n",
       " '6db9a1ee-a11b-4ed4-b1d3-35150ac993a8',\n",
       " '6df9a90e-3a1d-4f69-99b1-58fd51540499',\n",
       " '6e5784a1-9352-4300-97ae-04ee9e94b26d',\n",
       " '6e63eb4f-3f90-49e5-8934-2f24a01edba0',\n",
       " '6edcfc22-f67d-4088-8b78-05a9f80f93ce',\n",
       " '6f30df6c-fedf-484e-8a10-e3b320856c57',\n",
       " '700fca9a-cf58-497d-afa9-5fcbe93a7072',\n",
       " '70296299-2188-43e3-a9d3-7b98f6577293',\n",
       " '7080e2db-3555-4ee0-9e81-223ede3eb3f4',\n",
       " '70a2e6d0-dc1e-4bfd-a811-1ccb1ef4ade8',\n",
       " '70b59902-29a0-457a-a317-b07594e64da8',\n",
       " '721b801b-bcae-4ab1-8a1d-a37786b8a0ab',\n",
       " '7243386e-049f-4e1f-8200-d6d03e5cd585',\n",
       " '724d587e-0a52-44a0-b99f-18c6de4ad490',\n",
       " '72c12ccf-b587-4f05-90a0-3d84fc97cebc',\n",
       " '72d8ca6a-8870-41ed-baec-7eb7f70414d4',\n",
       " '730e62c9-9848-4160-aff5-3afe6fc7879f',\n",
       " '734a729d-98fc-47e3-89c3-a8bfc0dbc5d8',\n",
       " '73a6de59-8dfe-4ff7-9faa-f15878c430b4',\n",
       " '748ab742-d96f-4e23-9735-4af1950dd11c',\n",
       " '74e949c2-5dc3-4f4f-bbaa-20bec3d31cca',\n",
       " '75072757-c819-4bf6-b0d0-c61fb015cd27',\n",
       " '755794e9-ea4c-406b-a824-ed394ca6bef9',\n",
       " '75808def-92fe-4ab4-b79f-6676971afef7',\n",
       " '75e5fb4a-c860-4e27-83ac-e6a890f26697',\n",
       " '75edca7a-6c4e-49b8-bd1f-b722a7c48a86',\n",
       " '762b82e2-c222-4f4d-88e8-a2cbbdd090bf',\n",
       " '764713f9-4951-4fb2-a16d-92f0bd3ecd90',\n",
       " '7710be26-5f8c-4774-80bd-65202d3981c4',\n",
       " '7776de6a-b69b-4b8a-82e1-2f522ed43321',\n",
       " '7792df0f-ea3f-458f-b6b0-8e981f23002e',\n",
       " '77e30592-8d6c-4a40-977f-b9ce19257be3',\n",
       " '77fcf91a-0d4a-48b2-a000-874c28342711',\n",
       " '78603e7a-0a09-4dc1-98e4-d7d985c9ca84',\n",
       " '78a96030-cff4-42fd-a3b0-4ff06b2c1eac',\n",
       " '796d9772-ed67-4735-8d3a-e694c1510b00',\n",
       " '797accfd-f67e-44dd-85b7-e0dfa0c74183',\n",
       " '79897401-15c9-4190-b32b-0daeefac19db',\n",
       " '79925de9-86ec-4780-abfd-3d479da56a3d',\n",
       " '79cc35ae-e087-43e4-bf29-fabc905801b5',\n",
       " '7a2f1cc7-aa5d-41b5-a0b5-75da10881eb4',\n",
       " '7a45f920-13c8-407b-891f-ab1fc45fac89',\n",
       " '7a7ac168-af14-4ee6-bcf9-d2aae8bedec5',\n",
       " '7b0c54ed-810a-4732-82e2-154b18b17ae3',\n",
       " '7b867216-1f86-4355-b1f0-026794b68b32',\n",
       " '7c02e4b8-412c-4c04-a1b3-137eeb922553',\n",
       " '7c4cfada-b44a-4b07-9a15-4dcd27b81b8e',\n",
       " '7d175ecf-11a3-46cf-9258-ce1b62ddc3e6',\n",
       " '7d3cc381-0eb8-4fc7-8c94-bcd391c26859',\n",
       " '7dc8ba73-6a13-4bc2-b842-d8ea22d59d7d',\n",
       " '7df1ea4e-a1d7-4af5-8435-e9dd2fad1ee7',\n",
       " '7df986bd-876b-4608-8612-30c04ca0005a',\n",
       " '7e8aeb48-c936-43ab-8d97-1f4254b79259',\n",
       " '7eb4380f-20a3-4861-a932-e7de88e9335e',\n",
       " '7efbd793-bca9-4656-908a-384e7678b47e',\n",
       " '7f5beb6c-d10b-4496-8cc0-21ff50842af3',\n",
       " '7fd228e0-cd62-45fa-933c-7aeaf1bba52e',\n",
       " '7fd6a737-d701-4a6e-801e-d07ae973bead',\n",
       " '7ff710e4-2651-40bb-a083-4f6709e1c0a3',\n",
       " '80a707aa-7c40-458e-8bf3-0e57adad469b',\n",
       " '80b4855e-6b5d-49c9-b14b-25d84dc10631',\n",
       " '80b5b517-a3b2-4d41-b6bc-9541631309b6',\n",
       " '80bcd951-c137-46a5-ba84-28ea26ee52c9',\n",
       " '80d32492-e5f4-4cef-9441-b8043beb54dd',\n",
       " '81037cf1-7fc7-4a10-a0b9-d67a63cf4e4f',\n",
       " '81360f65-80bb-45aa-b747-25b4eb218d47',\n",
       " '8181030a-7203-4ec0-9d01-c18a2f4f8788',\n",
       " '828608cd-3bad-489d-99b0-a4a24623654e',\n",
       " '82f4cbfa-1010-436c-a078-662274a61be4',\n",
       " '82fbb24f-2eb2-4448-8a1a-b93f5433a5a8',\n",
       " '830de919-e691-4f2d-8a75-48edc4e0ed22',\n",
       " '837770b0-e407-4993-b111-02ba5f5a80d1',\n",
       " '8387149a-7061-4321-8d19-ae9a81ba7438',\n",
       " '839ba623-1fbc-4966-8728-66af2838249e',\n",
       " '853ec5b1-da8a-4c36-80f9-e2c9a078477f',\n",
       " '85d6608d-3d5a-4e65-acf1-a2061c25ed6d',\n",
       " '86175210-b878-48e3-b72c-61ea5600e07f',\n",
       " '86c7c5c9-d6d6-4903-8328-94e06699d3b8',\n",
       " '86cee5e7-7e7f-4cc6-aff8-e462318f31eb',\n",
       " '8743cb7e-f73c-434d-956b-5b4dbe38042a',\n",
       " '87a523f0-89c6-4a00-bf7e-773fbc5635e0',\n",
       " '886ea3fa-1d17-4baf-83c2-96160778e9f4',\n",
       " '8879c006-58d6-448a-8c9e-80ee695bb99f',\n",
       " '88c4a214-66ea-4799-a401-39296fac72d9',\n",
       " '892bf401-10dc-4058-9507-4b698f5b44b6',\n",
       " '892ea73e-049d-43ef-93db-38655d10b6d5',\n",
       " '8a121643-3c86-4c58-8a4d-d3eb6efaf0c0',\n",
       " '8a24ff0d-6ba0-42cb-991a-290c09bba035',\n",
       " '8a4eecaf-da52-4183-b687-85a335ca8254',\n",
       " '8b83a8fd-961e-49de-9386-2ee425b1bf8f',\n",
       " '8bca2a22-9f6e-441c-8f2f-76f1dd96cf3e',\n",
       " '8c171c38-f8b3-4e6a-8614-a13eed669aed',\n",
       " '8c1ba26c-35ad-49a1-b870-90b6e94afcd7',\n",
       " '8c855a84-5df0-4d16-9b95-abf4c9c982b2',\n",
       " '8cb72a3e-f849-4f48-8e9f-6ab1bc724852',\n",
       " '8ce72e4c-4343-4652-b8b7-0993e7df653c',\n",
       " '8d28e4b5-e7b9-4ebf-a503-1a3230ab2b4c',\n",
       " '8dc140c3-7a27-4b8f-a02b-4f4d7b9b47f8',\n",
       " '8defcf26-d7f6-4f2a-a2e0-dcbfe9479bd9',\n",
       " '8e3c672a-057a-4377-a9df-ebad6c93a6b2',\n",
       " '8e478661-4668-4109-901b-21b599055ee0',\n",
       " '8e7eac46-ce9a-4c33-9222-d11e099037b5',\n",
       " '8ec70cbe-ac55-47d6-8921-f23ea4a0162c',\n",
       " '8eccc535-5112-4653-9f96-100826892d63',\n",
       " '8ece8d55-0a8d-4262-85d7-e9cfac67e345',\n",
       " '8f2f71d6-1192-4fa4-86e6-f9f1b9cb90cf',\n",
       " '8fbb82b1-fd3f-466e-81f6-70805f5f70f4',\n",
       " '8fc41210-057e-4df9-80e9-4f6852fad027',\n",
       " '90ef6cda-97c3-4862-ab63-273a2f79412f',\n",
       " '9136cefb-6c5c-47d8-95c3-4451170be628',\n",
       " '9147c3ab-9792-4386-a978-debcc3a7e031',\n",
       " '91833fba-48e5-45f6-aba5-2a46f3e626c7',\n",
       " '91d05e47-e105-4347-88b1-ae6879a4ce8e',\n",
       " '925a3b7b-5b2e-45e6-86fa-66f9e0b789d1',\n",
       " '934ab23d-45ed-4123-9661-2df1eb9e31ef',\n",
       " '9413caab-462f-481c-8fcb-73c6c826445e',\n",
       " '943c9cba-add1-46ff-ab67-04b638fee4e7',\n",
       " '944697d1-bcc6-4266-9358-ca11d0bcee93',\n",
       " '946890f8-7cf4-41ba-ac70-f6782c6aeb1d',\n",
       " '94cf4417-41d5-4787-9025-8e0ca9a9b9c2',\n",
       " '9577aed4-9d4e-434d-9cce-9fd4a7b35de3',\n",
       " '95f4308e-bcd6-4866-8ee6-36cd79f9c2a3',\n",
       " '95fca450-77a6-4c72-994a-ab3857354888',\n",
       " '961c3202-0867-4f12-9855-c799e9d4cb3e',\n",
       " '965ed086-9783-493f-a57c-3dfaa18a6530',\n",
       " '96d2b110-28e0-4c2c-b729-326b6f2cbe65',\n",
       " '96e5a5e8-4bd5-4e62-8184-e7f0d44cbbe3',\n",
       " '96f211c4-2a90-46a0-8c34-e025e212b229',\n",
       " '97b3bcf5-6a96-464a-a5ae-fe92872e48ef',\n",
       " '97bef2b6-d6b6-4b21-9a67-33e810959d71',\n",
       " '986b2072-19e6-435e-b0b0-760d5531ca75',\n",
       " '990ccd2c-c2c1-4bc2-8a69-4fc745ea6d26',\n",
       " '99733ebe-6632-49a8-98af-31c0ed37c5d2',\n",
       " '9987362b-02bb-4df7-a187-45ab9c1440ed',\n",
       " '9ad87dca-a98d-45e3-a45f-8ec43ee5539d',\n",
       " '9b0d517c-772c-467a-973f-5b30201e63f3',\n",
       " '9b95fef0-85ea-4cb8-8011-1eeb81e65394',\n",
       " '9c569052-fac0-4896-8198-96bc9d6ffc00',\n",
       " '9cc983a1-27b2-4857-8c3a-371ffc446d6c',\n",
       " '9d612323-0a8f-43a7-b109-2795d00eef1f',\n",
       " '9e3edde9-5675-4177-892e-9e58fd0ad029',\n",
       " '9f3c5cae-38ec-4344-883d-a1cbd7014939',\n",
       " '9f85229c-6cf7-41b0-9769-0bd608fcc5b4',\n",
       " '9fa3e820-f7cb-4602-b53c-956414de3b61',\n",
       " '9ffd72ed-83ed-440e-a6fd-8021a51fec5c',\n",
       " 'a009c8b0-79fc-43cf-838f-c3e9c97ac637',\n",
       " 'a07a55c2-60b6-4f5c-8a30-e4385f930e04',\n",
       " 'a0a42738-fa44-4fae-8db3-0112925690a7',\n",
       " 'a15d16dc-ec94-4f6b-af7b-4f2bd0a49f14',\n",
       " 'a1b49218-3789-497e-a5d0-f8a9d812e81f',\n",
       " 'a1ddeb33-8496-4bf4-b0e5-8e54365adaa2',\n",
       " 'a1f56025-91a6-4458-84ef-f265ba90d1ae',\n",
       " 'a25a44a9-26b3-472a-8ec4-a8aecbc09880',\n",
       " 'a25c9414-be17-43d0-900f-e49aae28b932',\n",
       " 'a27c4a3a-2980-4d22-bd2a-9d543b848b21',\n",
       " 'a2822d02-ed20-4ff7-845b-3d12d3ab22fe',\n",
       " 'a2aac1c3-4e3a-478e-9780-aa3de99498e6',\n",
       " 'a34d2caa-d90f-4d35-ac33-c49ab20cff86',\n",
       " 'a38b051b-48a5-4506-9581-d3bc7d7d4958',\n",
       " 'a3d6e55c-4791-43d8-91c7-99d1e9b360f8',\n",
       " 'a42b51f9-1d39-49ca-9eb7-cf5b75888991',\n",
       " 'a44caa21-57d9-48a9-96b3-5a7d85db5135',\n",
       " 'a46373ca-e3e5-4e7b-b9ad-8bfaac1078d6',\n",
       " 'a4c60c89-64e0-45b3-924b-2485a89a0385',\n",
       " 'a4d16daf-5f30-42bb-8ad7-5b3e02d0c7c4',\n",
       " 'a4e428e4-f6f0-4a3f-86aa-b08efa15b289',\n",
       " 'a50460be-ec11-4d86-aa14-491cc21fe0ab',\n",
       " 'a5a82371-2fc7-47fb-a594-6952ecec1e22',\n",
       " 'a6064f85-52df-4fa0-b709-718a3e7e0953',\n",
       " 'a635d33b-9d28-485d-a06f-690f55fe1262',\n",
       " 'a63ef3c0-3896-47ef-95a9-11bd58a11cf5',\n",
       " 'a6d98c7c-6081-466c-a7c2-442cf47e928c',\n",
       " 'a723abe7-aaf8-41e9-89d9-813221d3f1ce',\n",
       " 'a7b82bb0-f4b3-409c-a31c-23252d0e16f6',\n",
       " 'a880f578-b579-4473-8d14-67e6a1070e9a',\n",
       " 'a9985dc5-5a98-4d10-927e-f1566be70289',\n",
       " 'a9dfd503-aae2-4611-9517-0a5a166d4fc6',\n",
       " 'a9ff1479-62b1-44e9-90ce-098c9f6200c4',\n",
       " 'a9ffd66c-14b0-4b2e-97d2-f0ded9308c7b',\n",
       " 'aa1f93ea-8f6e-4dca-9ca0-96dc157968e0',\n",
       " 'aa548ee3-3bdf-4049-b70e-be4a55303cd1',\n",
       " 'aa7bc432-1eaf-4b59-8f5d-9753cce96849',\n",
       " 'aadf19fb-7ea5-4b6d-aa61-44f0516f4377',\n",
       " 'ab1324fa-c952-46b4-977c-4fe63e773375',\n",
       " 'ac1649cd-7172-4050-841d-e4f674edf0c0',\n",
       " 'ac2bd751-b99b-452f-a900-66c16977d572',\n",
       " 'ac450438-a304-4364-9407-e398ccdbcf66',\n",
       " 'ac9866df-ebc1-4bad-895a-d4c9647e4e05',\n",
       " 'ac9b4786-003d-479c-ae3e-d788c64afaff',\n",
       " 'ac9d66f3-d348-4e61-81af-4931f60dc28b',\n",
       " 'acb2d138-90ad-4c8a-adf4-9e699dcb466e',\n",
       " 'acf8a345-7e5a-416d-b40e-01054cea00d1',\n",
       " 'ad3ec441-ab39-4aa2-821a-a174f137f765',\n",
       " 'ad493d4a-bdcd-4de8-be37-b732c2b29b56',\n",
       " 'add0af8d-d3f5-417e-85c0-b94f66e56879',\n",
       " 'adeb68cb-44c3-4233-b3dc-dc6362f8ad05',\n",
       " 'adee7e6f-8137-477d-8c50-5c07099ef1bc',\n",
       " 'ae543e4c-bcd5-4465-b2f7-54045fe8c340',\n",
       " 'ae5ef389-c1ae-492e-aeea-ce7975490f32',\n",
       " 'ae631744-5862-4e72-b34a-e99f638b738a',\n",
       " 'ae8ac68a-1377-4e44-adfa-cdb3b3de6cdf',\n",
       " 'b0812e03-45e4-4b14-a36d-23da0d09036c',\n",
       " 'b0e5faa5-02bc-409c-ae4d-f945481a1d30',\n",
       " 'b2055d3b-e409-41f9-a04a-3939832e2a28',\n",
       " 'b2271203-813d-4ed9-b682-ab3449bb15ba',\n",
       " 'b28d73cf-1e38-4baa-973b-c3da2a4b33a8',\n",
       " 'b2bb0bd8-b864-4b88-937b-038266f80616',\n",
       " 'b2bd3e1d-11b6-4ec6-8dba-491faa4b094f',\n",
       " 'b2e4a8ec-aa7f-4843-8c43-1fbd5a91712c',\n",
       " 'b38c5cb7-a39f-4935-975a-84e7c66c148a',\n",
       " 'b3b66fd6-1901-472e-8d64-4a7a37dc2358',\n",
       " 'b42dc93d-9f35-40db-ad05-3e185db1ed38',\n",
       " 'b46c03d1-2a1b-4c26-9d6d-fa076e1faf43',\n",
       " 'b4a895b6-9283-4f05-86bd-691ac1392f40',\n",
       " 'b56bd518-abfd-4b16-80a9-ab25e24b4326',\n",
       " 'b5d6a002-2a77-4cda-8067-e709b0484b77',\n",
       " 'b6affdc7-2d6b-465a-841d-dc6bbb33b90d',\n",
       " 'b7ac3374-c548-4a00-9f7c-fed41d0f7476',\n",
       " 'b7dd2562-7653-466e-b007-ff90241d9d28',\n",
       " 'b7fa33a0-f97b-458c-b9c9-191ffbcd815b',\n",
       " 'b8725079-453e-47c9-b477-c5398cc27664',\n",
       " 'b8d43358-c861-44d1-85d1-d3f918e64675',\n",
       " 'b981660b-4ca7-412c-bad9-d248c975d5f7',\n",
       " 'b9e7a6c3-f75b-4843-a425-ed0c0e942155',\n",
       " 'ba2b63cf-fbb0-45d1-9da8-3196f190b354',\n",
       " 'ba48034b-aaa2-495c-9319-870827f4309d',\n",
       " 'bbe1a553-856c-4059-a00d-14a2f3815d69',\n",
       " 'bc00d7cd-c2fc-40ca-8dea-fdcfb02bbd3f',\n",
       " 'bc4df087-9856-42b1-a430-31520fb24b6e',\n",
       " 'bc528a08-9418-4c38-ae3b-26738f340bcf',\n",
       " 'bca88ece-5498-4f5a-b008-c9aa781b6b33',\n",
       " 'bcec85f8-54e0-4e67-8cfc-b63f29edd8de',\n",
       " 'bd38e626-4d65-4814-813e-354e6353d0e9',\n",
       " 'bd5ed28a-8702-4969-8540-4afa0b39ebcf',\n",
       " 'bdc28684-e4ce-4fdb-9833-632cb9bfb5aa',\n",
       " 'bddd7c91-ef7c-4d55-bf12-493e12eb20a2',\n",
       " 'bde7324f-dc3d-4982-b272-431e68cf5a31',\n",
       " 'be4e6971-c667-4210-909b-bf0fc46fc1a2',\n",
       " 'be533f3a-45ed-4d16-a548-9ac2f1524536',\n",
       " 'be8289aa-8e95-446a-830b-92324ef69317',\n",
       " 'bea87754-845a-4935-87e8-6c0764865877',\n",
       " 'c047c418-41ca-48f7-b284-2f9398139a6b',\n",
       " 'c06ead1c-9b7d-47d4-972e-0cbbb0c1e5f6',\n",
       " 'c18aa775-1663-4abf-b76d-286695cf3cfd',\n",
       " 'c1ca61ae-c98f-4422-8cf7-162aa4730304',\n",
       " 'c1d143e9-a5aa-4d22-baf7-2353600e56be',\n",
       " 'c1d25aef-6e59-4dbd-9c68-fe6e31863d81',\n",
       " 'c1d4ada2-478b-408e-bc34-3f9cef25445d',\n",
       " 'c1ec752b-8668-4422-b33e-68215896deb3',\n",
       " 'c2412543-6d12-4c30-823f-f38024d00582',\n",
       " 'c25e9aa8-8024-48cd-9d25-3eb730195bab',\n",
       " 'c2fc0a17-191b-41b8-9520-68543700f082',\n",
       " 'c3295860-6b75-4f0e-9ad4-8f7cc2cf9a84',\n",
       " 'c4199b28-fa39-47ac-916f-74be102b3ad1',\n",
       " 'c4809689-17fc-48b3-9c10-322f1e294803',\n",
       " 'c48c7852-f275-41ee-96fd-80880d43bfef',\n",
       " 'c4bc3b13-d507-4294-a1a8-3028a9ad79ab',\n",
       " 'c4c54d1a-b420-4a1f-837e-69850d62625e',\n",
       " 'c4f0f5d2-1b3c-4bbb-b5bf-1744bdb044d4',\n",
       " 'c551668c-4338-447c-9932-014f0e4a8eb3',\n",
       " 'c58466db-c494-46be-8ca3-ba78a591ec91',\n",
       " 'c5a7de12-8887-41fc-b0fb-4d2435dec8b9',\n",
       " 'c611b8b7-0079-4897-a281-0eccf04a03f4',\n",
       " 'c6f00f97-7949-42ba-bb66-170011047d67',\n",
       " 'c72c7876-faa9-431d-92eb-f5c3f764a038',\n",
       " 'c73d2e70-2641-4e77-9dba-fc1300b6ff4d',\n",
       " 'c75be01b-2007-405e-9cc4-aa6a3f1822bf',\n",
       " 'c7bec9a4-be7f-4d70-a377-8ab5e00fde89',\n",
       " 'c80ae5fd-d7a7-4353-895e-a725d98bf734',\n",
       " 'c8ef3f3f-0b8f-4c63-9149-f0764b84b767',\n",
       " 'c9063dd8-ed95-4e6f-b4f0-a77cc5e8233e',\n",
       " 'ca34bcea-f041-4f56-b851-15a605c26b28',\n",
       " 'ca3e23c8-cda3-4f0a-ad69-f0c98374e4a4',\n",
       " 'cb0a7105-c1b1-45af-9ee3-01c3a91282e1',\n",
       " 'cbc4929e-0e9f-4003-b078-8d7cd6457fad',\n",
       " 'cbf5cda5-b409-4dee-8af3-993c6e284b80',\n",
       " 'cc48fce5-4aa3-4e17-bc3b-6f0b81f03233',\n",
       " 'cc68786b-0f3b-4dcb-9bf2-10aa7cd95737',\n",
       " 'cce048c0-858a-403e-a9bd-5d941b937e41',\n",
       " 'cce34372-5ebe-4ec9-ad6f-b62576ccdf9d',\n",
       " 'cd19da97-bd62-4f3d-89d5-abdd948452d3',\n",
       " 'cd4d1b6d-78e3-41fd-93e1-8db7ea5c020d',\n",
       " 'cd62becc-5ee8-4e45-b83e-740d885d65b0',\n",
       " 'cdad13d3-b62a-4504-a7f8-2997e41eb79a',\n",
       " 'cdd9f52b-7fee-4224-a931-3b993dd59381',\n",
       " 'cedb4841-267a-45c9-b61e-b5cfdf624b13',\n",
       " 'cee835fd-51e7-4d6f-9aa6-904323a439a6',\n",
       " 'cf0c85c8-4eeb-4cae-9ebf-86db6efa4c1f',\n",
       " 'cf841286-0a2a-4bb8-89ff-58178ae88908',\n",
       " 'cfb427fe-fd59-48c1-a001-2bf8bca05f1d',\n",
       " 'd00c896d-60cc-410c-b855-662871d197a5',\n",
       " 'd02336bb-0065-47b4-91b2-1c07baaa992b',\n",
       " 'd024184b-9a14-42ed-9031-179814cbe3b4',\n",
       " 'd057ce40-e950-419d-b2d9-0aad6e0d3a90',\n",
       " 'd09519c1-0794-4838-8300-fcabf9b6b26d',\n",
       " 'd0b095f2-d6d5-4d25-86da-0d94c625f186',\n",
       " 'd1c34e6f-71a9-4674-989b-5d029bd100eb',\n",
       " 'd1ec2457-beae-4793-9256-b7ee45522140',\n",
       " 'd20227e2-228f-40d9-97da-1f7bef83db44',\n",
       " 'd313f1ce-dd7e-4102-867c-e3798989c7a7',\n",
       " 'd383e96e-4738-4d2e-91a0-13caa4e992a7',\n",
       " 'd39d571b-68a4-45c5-89e6-87e3d9c7902d',\n",
       " 'd3cb2af4-9402-4fbb-940e-1ccf578f91c3',\n",
       " 'd3cbf4dd-ae0c-456a-b104-77c7732159a1',\n",
       " 'd446edf4-be60-489d-8028-aff76948d64f',\n",
       " 'd497bcc6-8a1b-4357-b247-cab442823ed9',\n",
       " 'd49b71f8-ad39-4c21-a53e-8c25052cda3d',\n",
       " 'd55daa4d-1f50-4f31-9bc5-77779204f5c2',\n",
       " 'd58d40fd-ba42-463d-a758-ceef637e30b6',\n",
       " 'd6868861-681d-4ac4-a45f-e9a1e652600e',\n",
       " 'd6c2edea-eb80-4c67-9e3f-7342bd6da18a',\n",
       " 'd73e58a0-9617-4813-840f-03c06d4513e3',\n",
       " 'd7e327ae-e92e-40ad-b28c-3cd72512806a',\n",
       " 'd8440272-1e87-4301-b88c-01ff3fc74291',\n",
       " 'd8ac21d0-8b23-4b9b-ac24-e5ba593742d8',\n",
       " 'd9757f78-5083-4992-801f-2cb5b9037d8b',\n",
       " 'd986cfc5-8096-4aaf-b52d-f665e7ea996f',\n",
       " 'da95cba7-02ca-4141-9f31-ae77edb2c6ab',\n",
       " 'dae680cf-fc39-4da7-8326-ffbb82af9f35',\n",
       " 'daf1ea6d-f4cf-47ac-805c-1d54ac1cca5e',\n",
       " 'daf5ebc2-6cbf-4b60-b86c-dfe18c7d9fc3',\n",
       " 'db91dcdd-94e1-4290-946f-7de400ce2fa4',\n",
       " 'dbc5a01f-5676-4e8b-948f-ed6647f4f059',\n",
       " 'dc1f8ada-4177-4afe-bb4a-c4d8e834131d',\n",
       " 'dc3abb2f-f4ff-46a8-8b25-3b240dae328b',\n",
       " 'dc58c907-6ee9-4332-be3e-0f0ccddeae52',\n",
       " 'dd4c3d1c-4489-4602-ab48-d40e5dc470a8',\n",
       " 'dd5cd3d0-cb62-4b51-ba80-6344fd955be5',\n",
       " 'dd7aee43-98c3-4a5a-8da8-539c568f5beb',\n",
       " 'ddae048c-6af7-43bf-b21d-f7e1c3acb5a7',\n",
       " 'de41fabf-5657-4312-9a98-570abfb4091b',\n",
       " 'de6e5644-448d-4527-8898-8028282a3f76',\n",
       " 'de8977c7-45a2-4366-845b-58e49850a685',\n",
       " 'e022026e-0a33-49f0-ad64-b90922a70750',\n",
       " 'e0985343-0bfa-4be2-97a1-1b1166d68426',\n",
       " 'e09bbbd9-c9c0-41a3-93aa-9aa5d141ab6e',\n",
       " 'e0ce1ec7-d82a-4f31-9d32-e84d991131c3',\n",
       " 'e112bd64-a599-4bd0-8837-651f14a9c3f6',\n",
       " 'e120d713-a2ec-4d04-aa2b-e8a69bfa6391',\n",
       " 'e1c9ce50-b6a5-40bc-90cc-7d932ffc7cd6',\n",
       " 'e23e13b3-efae-42d1-be6e-aa88fc89ad0f',\n",
       " 'e246da47-7241-44f9-a700-d499728129a5',\n",
       " 'e28cd727-00ca-4598-98ae-a48fe9d8e4c6',\n",
       " 'e3181ef6-103a-4834-b695-fd3abd30c26c',\n",
       " 'e398f10b-b541-4e7b-84c2-775f02149dfc',\n",
       " 'e3fe4349-3a6d-4e75-8c69-6f9a74b0c4c5',\n",
       " 'e4361c64-690d-40e8-aef9-484c1f9ef820',\n",
       " 'e43a9df2-8c3e-4730-baf0-f2373f6b0849',\n",
       " 'e5b8521f-13f3-4faa-a920-1d2396ddda4d',\n",
       " 'e5be62ab-1842-4bb5-bef5-621e157e6a7f',\n",
       " 'e5f1235f-1d95-492f-84e5-2b4971c41446',\n",
       " 'e6438ae2-2b57-4905-8218-9af447c997a8',\n",
       " 'e67529d9-33e9-4baf-acb2-919a1de1a7c4',\n",
       " 'e693c8c1-c81e-45e9-ab46-6ede3f38e428',\n",
       " 'e6e4dcbe-5550-4000-a0f7-1581d8c97092',\n",
       " 'e738ed58-1025-4e5b-9c76-ddb2fa3556e2',\n",
       " 'e7a61b26-b169-4db4-8648-6364b95b172f',\n",
       " 'e7ac2bad-7075-48a7-a363-1b03d1e40078',\n",
       " 'e850376c-f9c1-4402-b386-19330587c3ce',\n",
       " 'e8c751a1-1612-49db-b1e8-3aacc1a04dbf',\n",
       " 'e9b7f8d4-0f73-4509-a707-ce39378337cf',\n",
       " 'ea0aca3b-7773-48f9-9590-e2924d0f8545',\n",
       " 'ea6be6bd-844f-4cec-8bbe-cdb01781cd8a',\n",
       " 'eaaf1f1f-aaa5-4329-b24f-54f1d51575d9',\n",
       " 'eace5e20-0b62-4c54-b4d6-58e3b8d37c1c',\n",
       " 'eb48f75e-8ae9-446a-a763-6c591924deb6',\n",
       " 'eb4f9c08-c640-4299-8d52-416a81f5c74f',\n",
       " 'eb7199e4-71a7-4c35-8b56-4cba372ce2e9',\n",
       " 'eba0493c-8beb-4b81-8769-5ccc204bd968',\n",
       " 'ebab3e8a-5267-4177-952f-0de47c7002e9',\n",
       " 'ebadd6f9-79b9-4dad-a892-f8546fe07c23',\n",
       " 'ec0650e6-1e9a-42b1-b6fa-6fc3e67eb291',\n",
       " 'ec550b9e-1f6e-4b1b-a703-caefb9b77bdd',\n",
       " 'ec7aebcc-b812-4c44-93d7-3368eba60914',\n",
       " 'ecb7bae8-5721-4507-80ce-5c0c4b68189a',\n",
       " 'ececedcf-77e3-4ad0-bb29-4e4e15896a2d',\n",
       " 'ed550131-0471-412d-bcb8-1e7bbc4ba145',\n",
       " 'edab5a26-b204-4d07-aea6-b1af4af20ac0',\n",
       " 'edb32ec3-59aa-4a23-b482-2e282d71f1cf',\n",
       " 'edbf2d25-142a-4fd9-ac08-6e99ecf03292',\n",
       " 'eecaab44-2aad-460b-81c2-39f282017f38',\n",
       " 'ef26d9d1-bd25-4e59-b3e7-a2fd418cba96',\n",
       " 'ef364848-449f-470e-a32c-cc365119c930',\n",
       " 'ef45bc15-b997-4bc7-8180-70fbd754de2b',\n",
       " 'f00d3aff-cd83-4f4d-911b-eb737c98de50',\n",
       " 'f0736756-fc5d-477c-80ae-120b448bf7e1',\n",
       " 'f0a834d2-5139-4768-8fe5-2a333895fe2c',\n",
       " 'f0c3012b-dedf-4ce0-8e53-8c7bf94017e5',\n",
       " 'f1ab3657-c34a-42ad-939a-51959d58fe60',\n",
       " 'f1c82c90-7fd8-4e14-b5b3-7066a37324cd',\n",
       " 'f1d8b2a6-3f69-4594-b4a3-b10fff1bd9b4',\n",
       " 'f1fa5467-ab8e-4fe3-93a3-fd6cbf3aef00',\n",
       " 'f2086605-6bce-4d77-8790-9a519dcfda89',\n",
       " 'f3923346-88b0-4a0a-af19-885be9918104',\n",
       " 'f3bc898a-39f6-4a23-bc15-6ecea90c9849',\n",
       " 'f3f80541-0bf8-4c9f-bee9-ee04215ecc21',\n",
       " 'f402610e-eede-40b1-91ff-ba46131c0539',\n",
       " 'f4180a6f-cdfc-4723-8478-ba251d90fefd',\n",
       " 'f42b26dd-969c-4db6-be2b-d53994f0dca7',\n",
       " 'f48b0929-54f4-4079-8106-0fc5235f8f19',\n",
       " 'f4bc643e-68c7-4ea4-b2c3-c07753905cb1',\n",
       " 'f4be59c7-9ecf-4784-aac5-b997f6dbf592',\n",
       " 'f4d5aa42-5b91-4fdd-9a9b-0e6372facff2',\n",
       " 'f528748a-fa00-4607-b740-bd13e9017239',\n",
       " 'f567e05e-e889-45ef-bdaa-cc27f1220572',\n",
       " 'f57abb39-eab2-45b2-90b5-4c591095ee78',\n",
       " 'f57b8be6-fcff-49de-89da-28ddac3f3f3a',\n",
       " 'f5a6a917-1f87-472b-861f-0df0d057c5c5',\n",
       " 'f5c69c96-ba5a-400d-9852-d6e9be5da318',\n",
       " 'f688f3fe-00de-424b-b2f6-7f388a76c916',\n",
       " 'f6b57281-b423-4e81-ab42-7d7a795771d1',\n",
       " 'f716f129-c3ae-47ed-93be-9034c160f7a1',\n",
       " 'f74194c0-7726-4eb6-95b1-782b7c3d47c8',\n",
       " 'f7683b8a-3bb0-4b47-a680-f331d65d2dfe',\n",
       " 'f95d9294-cb04-4aa7-9034-9b269b10e85c',\n",
       " 'f9e96ce9-7834-47a8-b1de-67ed62d595d0',\n",
       " 'fa588d5a-997a-4b8a-ad6d-cb22a00043cc',\n",
       " 'fa82e558-60ed-4c56-9a81-6a51b61990e6',\n",
       " 'faf9c156-16dc-48ab-bf39-a3c131cc9c93',\n",
       " 'fbef1dcf-33b1-4888-8592-a2ba18570b66',\n",
       " 'fc031b18-2cac-44b1-aff5-f5b56aecd6a9',\n",
       " 'fc2e10e8-4cae-4f93-a2de-65cd25d4f965',\n",
       " 'fc4df4a2-de21-41c3-825d-67e68316503e',\n",
       " 'fc4fd7cb-7866-48f7-95f0-0c229903570e',\n",
       " 'fd342488-d662-43a9-8fe5-61cbb07418cb',\n",
       " 'fd6c39ce-e25e-4099-b9fc-b69831c33ca8',\n",
       " 'fe6acd3f-6e1a-4f1e-8f31-1f27b0026aae',\n",
       " 'fefe556a-5ede-4d25-a4dd-a4d0cb03ed89',\n",
       " 'ff41ac15-5623-4bcc-b611-ac4df7e9890b']"
      ]
     },
     "execution_count": 84,
     "metadata": {},
     "output_type": "execute_result"
    }
   ],
   "source": [
    "folders"
   ]
  },
  {
   "cell_type": "code",
   "execution_count": 49,
   "id": "6f10495f",
   "metadata": {},
   "outputs": [
    {
     "data": {
      "text/plain": [
       "604"
      ]
     },
     "execution_count": 49,
     "metadata": {},
     "output_type": "execute_result"
    }
   ],
   "source": [
    "len(a[100][0])"
   ]
  },
  {
   "cell_type": "code",
   "execution_count": 60,
   "id": "c08f6fb6",
   "metadata": {},
   "outputs": [
    {
     "data": {
      "text/plain": [
       "2241"
      ]
     },
     "execution_count": 60,
     "metadata": {},
     "output_type": "execute_result"
    }
   ],
   "source": [
    "len(Atomic_wild[10])"
   ]
  },
  {
   "cell_type": "code",
   "execution_count": 83,
   "id": "57c33423",
   "metadata": {},
   "outputs": [
    {
     "name": "stderr",
     "output_type": "stream",
     "text": [
      "C:\\Users\\moham\\anaconda3\\envs\\pytorch\\lib\\site-packages\\numpy\\lib\\npyio.py:501: VisibleDeprecationWarning: Creating an ndarray from ragged nested sequences (which is a list-or-tuple of lists-or-tuples-or ndarrays with different lengths or shapes) is deprecated. If you meant to do this, you must specify 'dtype=object' when creating the ndarray.\n",
      "  arr = np.asanyarray(arr)\n"
     ]
    }
   ],
   "source": [
    "np.save('attnetion score.npy',k)"
   ]
  },
  {
   "cell_type": "code",
   "execution_count": 64,
   "id": "af8dbf9d",
   "metadata": {},
   "outputs": [],
   "source": [
    "test_images = a[0].detach ().cpu ().numpy ()"
   ]
  },
  {
   "cell_type": "code",
   "execution_count": 85,
   "id": "1ebffa21",
   "metadata": {},
   "outputs": [],
   "source": [
    "np.save('name.npy',folders)"
   ]
  },
  {
   "cell_type": "code",
   "execution_count": 77,
   "id": "c0af5171",
   "metadata": {},
   "outputs": [],
   "source": [
    "v=[]\n",
    "for i in range(len(a)):\n",
    "    v.append(a[i].detach ().cpu ().numpy ())"
   ]
  },
  {
   "cell_type": "code",
   "execution_count": 78,
   "id": "4650057c",
   "metadata": {},
   "outputs": [],
   "source": [
    "k = []\n",
    "for i in range(len(a)):\n",
    "    k.append(v[i][0])"
   ]
  },
  {
   "cell_type": "code",
   "execution_count": 89,
   "id": "1a25e677",
   "metadata": {},
   "outputs": [],
   "source": [
    "score_dir = 'scores//'\n",
    "\n",
    "for i in range(len(folders)):\n",
    "    os.makedirs(score_dir + folders[i])\n",
    "    with open(score_dir + folders[i] + '//score.pkl', 'wb') as f:\n",
    "        pickle.dump(k[i], f) "
   ]
  },
  {
   "cell_type": "code",
   "execution_count": 82,
   "id": "552a805d",
   "metadata": {},
   "outputs": [
    {
     "data": {
      "text/plain": [
       "11900"
      ]
     },
     "execution_count": 82,
     "metadata": {},
     "output_type": "execute_result"
    }
   ],
   "source": [
    "len(Atomic_wild[632])"
   ]
  },
  {
   "cell_type": "code",
   "execution_count": null,
   "id": "4cf2915c",
   "metadata": {},
   "outputs": [],
   "source": []
  }
 ],
 "metadata": {
  "kernelspec": {
   "display_name": "Python 3 (ipykernel)",
   "language": "python",
   "name": "python3"
  },
  "language_info": {
   "codemirror_mode": {
    "name": "ipython",
    "version": 3
   },
   "file_extension": ".py",
   "mimetype": "text/x-python",
   "name": "python",
   "nbconvert_exporter": "python",
   "pygments_lexer": "ipython3",
   "version": "3.8.13"
  }
 },
 "nbformat": 4,
 "nbformat_minor": 5
}
